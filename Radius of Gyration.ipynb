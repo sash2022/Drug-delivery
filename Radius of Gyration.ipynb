{
 "cells": [
  {
   "cell_type": "code",
   "execution_count": null,
   "metadata": {
    "executionInfo": {
     "elapsed": 114,
     "status": "ok",
     "timestamp": 1634848373731,
     "user": {
      "displayName": "Saeed Akbari Shandiz",
      "photoUrl": "https://lh3.googleusercontent.com/a-/AOh14Gj_ltTfyzFcj-EidKK-RDh3G-RSeGnX-lq1mmA5=s64",
      "userId": "18254360833802486461"
     },
     "user_tz": 240
    },
    "id": "LBbvJSNvgDMY"
   },
   "outputs": [],
   "source": [
    "import math\n",
    "import collections\n",
    "\n",
    "import numpy as np\n",
    "import pandas as pd\n",
    "import matplotlib.pyplot as pp\n",
    "\n",
    "%matplotlib inline"
   ]
  },
  {
   "cell_type": "code",
   "execution_count": null,
   "metadata": {
    "executionInfo": {
     "elapsed": 4673,
     "status": "ok",
     "timestamp": 1634835398489,
     "user": {
      "displayName": "Saeed Akbari Shandiz",
      "photoUrl": "https://lh3.googleusercontent.com/a-/AOh14Gj_ltTfyzFcj-EidKK-RDh3G-RSeGnX-lq1mmA5=s64",
      "userId": "18254360833802486461"
     },
     "user_tz": 240
    },
    "id": "uNfoCyVUmHct"
   },
   "outputs": [],
   "source": [
    "#read all parameters of header\n",
    "timeSteps=[]\n",
    "boxDim=[]\n",
    "num_frame=0\n",
    "#with open(r'C:\\bloodProject\\NP\\5937beads\\np2.dat') as fp:   # to read lines if atomlist after \"Atoms\"\n",
    "#with open('/content/drive/My Drive/Case/nanoBloodProject/MSD/16rc/janus8rcNp/EG-lig118.1/nvt2') as fp:\n",
    "#with open('/content/drive/My Drive/Case/nanoBloodProject/MSD/sphere/8rc/152lig(correct)/8rcNp152homoLig/aijEG_N_lig1=26/nvt') as fp:\n",
    "#with open('/content/drive/My Drive/Case/nanoBloodProject/MSD/disc/8rc/152lig/homo/secPos/correctNpTypeAij/aijEG_N_lig1=24/nvt') as fp:\n",
    "#with open('/content/drive/My Drive/Case/nanoBloodProject/MSD/rod/12rc/170lig/homo/corNpAij/nvt') as fp:  \n",
    "with open(r'C:\\vmd\\nvt') as fp:\n",
    "    \n",
    "        for line in fp:\n",
    "            if 'ITEM: TIMESTEP' in line:                                         \n",
    "                for line in fp: # now you are at the lines you want\n",
    "                    if 'ITEM: NUMBER OF ATOMS' in line: \n",
    "                     break \n",
    "                   \n",
    "                    line=line.rstrip()# to remove any white spaces at the end of the string                  \n",
    "                    #\n",
    "                    timeSteps.append(line)# add the string in to the list\n",
    "                    num_frame+=1\n",
    "                    \n",
    "\n",
    "            if 'ITEM: NUMBER OF ATOMS' in line:                                         \n",
    "                for line in fp: # now you are at the lines you want\n",
    "                    if 'ITEM: BOX BOUNDS' in line: \n",
    "                     break \n",
    "                   \n",
    "                    line=line.rstrip()# to remove any white spaces at the end of the string                  \n",
    "                    #\n",
    "                    num_atom=int(line)  \n",
    "\n",
    "            if 'ITEM: BOX BOUNDS' in line:                                         \n",
    "                for line in fp: # now you are at the lines you want\n",
    "                    if 'ITEM: ATOMS' in line: \n",
    "                     break \n",
    "                   \n",
    "                    line=line.rstrip()# to remove any white spaces at the end of the string                  \n",
    "                    \n",
    "                    boxDim.append(line)               \n",
    "                    "
   ]
  },
  {
   "cell_type": "code",
   "execution_count": null,
   "metadata": {
    "executionInfo": {
     "elapsed": 2260,
     "status": "ok",
     "timestamp": 1634835414082,
     "user": {
      "displayName": "Saeed Akbari Shandiz",
      "photoUrl": "https://lh3.googleusercontent.com/a-/AOh14Gj_ltTfyzFcj-EidKK-RDh3G-RSeGnX-lq1mmA5=s64",
      "userId": "18254360833802486461"
     },
     "user_tz": 240
    },
    "id": "DFePr1AT_-EV"
   },
   "outputs": [],
   "source": [
    "#read coordinate part\n",
    "time_counter=0\n",
    "lines=[]\n",
    "\n",
    "#df.loc[:,'x'] = df.loc[:,'x'].astype(float)\n",
    "#with open('/content/drive/My Drive/Case/nanoBloodProject/MSD/16rc/janus8rcNp/EG-lig118.1/nvt2') as fp:\n",
    "#with open('/content/drive/My Drive/Case/nanoBloodProject/MSD/16rc/homo8rcNp/nvt') as fp:\n",
    "#with open('/content/drive/My Drive/Case/nanoBloodProject/MSD/sphere/8rc/152lig(correct)/8rcNp152homoLig/aijEG_N_lig1=26/nvt') as fp:\n",
    "#with open('/content/drive/My Drive/Case/nanoBloodProject/MSD/disc/8rc/152lig/homo/secPos/correctNpTypeAij/aijEG_N_lig1=24/nvt') as fp:\n",
    "with open(r'C:\\vmd\\nvt') as fp:      \n",
    "       for line in fp:\n",
    "            atom_counter=0\n",
    "            \n",
    "            if 'ITEM: ATOMS' in line:\n",
    "                time_counter+=1                                         \n",
    "                \n",
    "                for line in fp: # now you are at the lines you want\n",
    "                    atom_counter+=1\n",
    "\n",
    "                    #x(time_counter,atom_counter)=df.loc[line,'x'] \n",
    "                                        \n",
    "                    if 'ITEM: TIMESTEP' in line: \n",
    "                     break \n",
    "                    \n",
    "                    \n",
    "                    line=line.rstrip()# to remove any white spaces at the end of the string                  \n",
    "                    lines.append(line)# add the string in to the list\n",
    "                    #lines[time_counter][atom_counter]=line# add the string in to the list\n",
    "                    \n",
    "                    "
   ]
  },
  {
   "cell_type": "code",
   "execution_count": null,
   "metadata": {
    "colab": {
     "base_uri": "https://localhost:8080/"
    },
    "executionInfo": {
     "elapsed": 148,
     "status": "ok",
     "timestamp": 1634835416501,
     "user": {
      "displayName": "Saeed Akbari Shandiz",
      "photoUrl": "https://lh3.googleusercontent.com/a-/AOh14Gj_ltTfyzFcj-EidKK-RDh3G-RSeGnX-lq1mmA5=s64",
      "userId": "18254360833802486461"
     },
     "user_tz": 240
    },
    "id": "0v56IC4B1a8e",
    "outputId": "2913621c-4f9d-4804-fcf9-f1ccf98d8091"
   },
   "outputs": [],
   "source": [
    "\n",
    "num_frame\n",
    "num_atom\n",
    "#boxDim #i have to modify the code to get x max x min and so on for box dimensionpr\n"
   ]
  },
  {
   "cell_type": "code",
   "execution_count": null,
   "metadata": {
    "executionInfo": {
     "elapsed": 155,
     "status": "ok",
     "timestamp": 1634835417869,
     "user": {
      "displayName": "Saeed Akbari Shandiz",
      "photoUrl": "https://lh3.googleusercontent.com/a-/AOh14Gj_ltTfyzFcj-EidKK-RDh3G-RSeGnX-lq1mmA5=s64",
      "userId": "18254360833802486461"
     },
     "user_tz": 240
    },
    "id": "_aX5E6IByokd"
   },
   "outputs": [],
   "source": [
    "#remove empty lines from the list\n",
    "while(\"\" in lines) : \n",
    "    lines.remove(\"\") "
   ]
  },
  {
   "cell_type": "code",
   "execution_count": null,
   "metadata": {
    "executionInfo": {
     "elapsed": 11603,
     "status": "ok",
     "timestamp": 1634835431788,
     "user": {
      "displayName": "Saeed Akbari Shandiz",
      "photoUrl": "https://lh3.googleusercontent.com/a-/AOh14Gj_ltTfyzFcj-EidKK-RDh3G-RSeGnX-lq1mmA5=s64",
      "userId": "18254360833802486461"
     },
     "user_tz": 240
    },
    "id": "aukijjUEyrAB"
   },
   "outputs": [],
   "source": [
    "#data frame for the whole dump file without separating by frame\n",
    "df=pd.DataFrame(lines, columns=['atomID']) # to make a data frame of pandas from the list and put atomID name on the column\n",
    "df[['atomID','atomType','x','y','z']] = df.atomID.str.split(expand=True,) # to split one column to multiple columns and allocate name for each column\n",
    "#df"
   ]
  },
  {
   "cell_type": "code",
   "execution_count": null,
   "metadata": {
    "colab": {
     "base_uri": "https://localhost:8080/"
    },
    "executionInfo": {
     "elapsed": 170,
     "status": "ok",
     "timestamp": 1634835448777,
     "user": {
      "displayName": "Saeed Akbari Shandiz",
      "photoUrl": "https://lh3.googleusercontent.com/a-/AOh14Gj_ltTfyzFcj-EidKK-RDh3G-RSeGnX-lq1mmA5=s64",
      "userId": "18254360833802486461"
     },
     "user_tz": 240
    },
    "id": "TuhdJNBIBita",
    "outputId": "8a28db13-6073-4784-a21f-40fbecf65d10"
   },
   "outputs": [],
   "source": [
    "df.iloc[1]"
   ]
  },
  {
   "cell_type": "markdown",
   "metadata": {
    "id": "qh9lWrqb5uMC"
   },
   "source": [
    "**read the center of mass of NP**"
   ]
  },
  {
   "cell_type": "code",
   "execution_count": null,
   "metadata": {
    "executionInfo": {
     "elapsed": 148,
     "status": "ok",
     "timestamp": 1634835451706,
     "user": {
      "displayName": "Saeed Akbari Shandiz",
      "photoUrl": "https://lh3.googleusercontent.com/a-/AOh14Gj_ltTfyzFcj-EidKK-RDh3G-RSeGnX-lq1mmA5=s64",
      "userId": "18254360833802486461"
     },
     "user_tz": 240
    },
    "id": "pR_5ZyEw9jAl"
   },
   "outputs": [],
   "source": [
    "type_Frame=np.zeros((num_frame,num_atom))\n"
   ]
  },
  {
   "cell_type": "code",
   "execution_count": null,
   "metadata": {
    "executionInfo": {
     "elapsed": 382,
     "status": "ok",
     "timestamp": 1634835453208,
     "user": {
      "displayName": "Saeed Akbari Shandiz",
      "photoUrl": "https://lh3.googleusercontent.com/a-/AOh14Gj_ltTfyzFcj-EidKK-RDh3G-RSeGnX-lq1mmA5=s64",
      "userId": "18254360833802486461"
     },
     "user_tz": 240
    },
    "id": "D_royAIWjeeg"
   },
   "outputs": [],
   "source": [
    "for i in range (0, num_frame):\n",
    "   \n",
    "   type_Frame[i,:]=df.atomType.values[(i*num_atom):((i*num_atom)+num_atom)] #thankGOD! to read x values for each frame and put in an array"
   ]
  },
  {
   "cell_type": "code",
   "execution_count": null,
   "metadata": {
    "colab": {
     "base_uri": "https://localhost:8080/"
    },
    "executionInfo": {
     "elapsed": 7,
     "status": "ok",
     "timestamp": 1634835454337,
     "user": {
      "displayName": "Saeed Akbari Shandiz",
      "photoUrl": "https://lh3.googleusercontent.com/a-/AOh14Gj_ltTfyzFcj-EidKK-RDh3G-RSeGnX-lq1mmA5=s64",
      "userId": "18254360833802486461"
     },
     "user_tz": 240
    },
    "id": "DNTOcZJcjHZw",
    "outputId": "95f61b9c-0bb7-4379-87e9-99243200aca8"
   },
   "outputs": [],
   "source": [
    "type_Frame[:,:]"
   ]
  },
  {
   "cell_type": "code",
   "execution_count": null,
   "metadata": {
    "executionInfo": {
     "elapsed": 1829,
     "status": "ok",
     "timestamp": 1634835458392,
     "user": {
      "displayName": "Saeed Akbari Shandiz",
      "photoUrl": "https://lh3.googleusercontent.com/a-/AOh14Gj_ltTfyzFcj-EidKK-RDh3G-RSeGnX-lq1mmA5=s64",
      "userId": "18254360833802486461"
     },
     "user_tz": 240
    },
    "id": "vNBOWatFjzAD"
   },
   "outputs": [],
   "source": [
    "for i in range (0, num_frame):\n",
    "  num_atom_type=0\n",
    "  for k in range (0, num_atom):\n",
    "     if type_Frame[i,k]==1: #we only read atoms of EG layer with atom type 1\n",
    "       num_atom_type+=1"
   ]
  },
  {
   "cell_type": "code",
   "execution_count": null,
   "metadata": {
    "colab": {
     "base_uri": "https://localhost:8080/"
    },
    "executionInfo": {
     "elapsed": 165,
     "status": "ok",
     "timestamp": 1634835459419,
     "user": {
      "displayName": "Saeed Akbari Shandiz",
      "photoUrl": "https://lh3.googleusercontent.com/a-/AOh14Gj_ltTfyzFcj-EidKK-RDh3G-RSeGnX-lq1mmA5=s64",
      "userId": "18254360833802486461"
     },
     "user_tz": 240
    },
    "id": "jxaoMGOIquUV",
    "outputId": "883fddac-ec85-4d64-c82e-580427bb30b6"
   },
   "outputs": [],
   "source": [
    "num_atom_type"
   ]
  },
  {
   "cell_type": "code",
   "execution_count": null,
   "metadata": {
    "executionInfo": {
     "elapsed": 158,
     "status": "ok",
     "timestamp": 1634835461483,
     "user": {
      "displayName": "Saeed Akbari Shandiz",
      "photoUrl": "https://lh3.googleusercontent.com/a-/AOh14Gj_ltTfyzFcj-EidKK-RDh3G-RSeGnX-lq1mmA5=s64",
      "userId": "18254360833802486461"
     },
     "user_tz": 240
    },
    "id": "zqlGrottqkDM"
   },
   "outputs": [],
   "source": [
    "ID_X_Frame=np.zeros ((num_frame+1,num_atom_type+1))\n",
    "ID_Y_Frame=np.zeros ((num_frame+1,num_atom_type+1))\n",
    "ID_Z_Frame=np.zeros ((num_frame+1,num_atom_type+1))\n",
    "\n",
    "X_Frame=np.zeros (num_frame+1)\n",
    "Y_Frame=np.zeros (num_frame+1)\n",
    "Z_Frame=np.zeros (num_frame+1)"
   ]
  },
  {
   "cell_type": "code",
   "execution_count": null,
   "metadata": {
    "executionInfo": {
     "elapsed": 3525,
     "status": "ok",
     "timestamp": 1634835466902,
     "user": {
      "displayName": "Saeed Akbari Shandiz",
      "photoUrl": "https://lh3.googleusercontent.com/a-/AOh14Gj_ltTfyzFcj-EidKK-RDh3G-RSeGnX-lq1mmA5=s64",
      "userId": "18254360833802486461"
     },
     "user_tz": 240
    },
    "id": "xpI6-fPCrL2t"
   },
   "outputs": [],
   "source": [
    "time_counter=0\n",
    "for i in range (0, num_frame):\n",
    "  atom_counter=0\n",
    "  time_counter+=1\n",
    "  for k in range (0, num_atom):\n",
    "     if type_Frame[i,k]==1: #atom type of EG layer\n",
    "       atom_counter+=1\n",
    "       \n",
    " #print(time_counter,\"\",atom_counter)\n",
    "       ID_X_Frame[time_counter,atom_counter]=df.x.values[k]"
   ]
  },
  {
   "cell_type": "markdown",
   "metadata": {
    "id": "BuwgNdt21oaV"
   },
   "source": [
    "should we consider image flages as we did for catenane in MD???\n",
    " here in dump of DPD I did not save image flages!"
   ]
  },
  {
   "cell_type": "code",
   "execution_count": null,
   "metadata": {
    "executionInfo": {
     "elapsed": 6872,
     "status": "ok",
     "timestamp": 1634835504238,
     "user": {
      "displayName": "Saeed Akbari Shandiz",
      "photoUrl": "https://lh3.googleusercontent.com/a-/AOh14Gj_ltTfyzFcj-EidKK-RDh3G-RSeGnX-lq1mmA5=s64",
      "userId": "18254360833802486461"
     },
     "user_tz": 240
    },
    "id": "mtriLm0m7-hs"
   },
   "outputs": [],
   "source": [
    "\n",
    "\n",
    "Xave=np.zeros(num_frame+1) #average of x values for all beads of EG\n",
    "Yave=np.zeros(num_frame+1)\n",
    "Zave=np.zeros(num_frame+1)\n",
    "\n",
    "\n",
    "\n",
    "time_counter=0\n",
    "for i in range (0, num_frame):\n",
    "  atom_counter=0\n",
    "  time_counter+=1\n",
    "  Xoverall=0 # after each frame this will be zero so count from begining for next frame\n",
    "  Yoverall=0\n",
    "  Zoverall=0\n",
    "  for k in range (0, num_atom):\n",
    "     \n",
    "     if type_Frame[i,k]==1: # beads of EG layer\n",
    "       atom_counter+=1\n",
    "  \n",
    "       ID_X_Frame[time_counter,atom_counter]=df.x.values[k]\n",
    "       ID_Y_Frame[time_counter,atom_counter]=df.y.values[k]\n",
    "       ID_Z_Frame[time_counter,atom_counter]=df.z.values[k]\n",
    "\n",
    "       Xoverall = Xoverall + ID_X_Frame[time_counter,atom_counter]\n",
    "       Yoverall = Yoverall + ID_Y_Frame[time_counter,atom_counter]\n",
    "       Zoverall = Zoverall + ID_Z_Frame[time_counter,atom_counter]\n",
    "\n",
    "       Xave[time_counter] = Xoverall/num_atom_type\n",
    "       Yave[time_counter] = Yoverall/num_atom_type\n",
    "       Zave[time_counter] = Zoverall/num_atom_type     \n",
    "       \n",
    "       X_Frame[time_counter]=ID_X_Frame[time_counter,atom_counter]\n",
    "       Y_Frame[time_counter]=ID_Y_Frame[time_counter,atom_counter]\n",
    "       Z_Frame[time_counter]=ID_Z_Frame[time_counter,atom_counter]\n",
    "\n",
    "       "
   ]
  },
  {
   "cell_type": "code",
   "execution_count": null,
   "metadata": {
    "colab": {
     "base_uri": "https://localhost:8080/"
    },
    "executionInfo": {
     "elapsed": 282,
     "status": "ok",
     "timestamp": 1634835506193,
     "user": {
      "displayName": "Saeed Akbari Shandiz",
      "photoUrl": "https://lh3.googleusercontent.com/a-/AOh14Gj_ltTfyzFcj-EidKK-RDh3G-RSeGnX-lq1mmA5=s64",
      "userId": "18254360833802486461"
     },
     "user_tz": 240
    },
    "id": "zHQgNf4I8pOS",
    "outputId": "8624bcd2-f60a-4d22-ea16-d7d8e8413260"
   },
   "outputs": [],
   "source": [
    "for i in range (0, num_frame):\n",
    "  print(i,'',Zave[i],'',Z_Frame[i],'',num_atom) #here the center of box is in wall so Np is located above EG with distsnce around 14.9 nm so Zcm starts from 14.9 and when np go inside EG and be closer to wall the Zcm also decreases.\n",
    "#Xoverall"
   ]
  },
  {
   "cell_type": "markdown",
   "metadata": {
    "id": "mH6N7DmK9_Cc"
   },
   "source": [
    "**calculate Rg** (new method)"
   ]
  },
  {
   "cell_type": "code",
   "execution_count": null,
   "metadata": {
    "executionInfo": {
     "elapsed": 6690,
     "status": "ok",
     "timestamp": 1634835515963,
     "user": {
      "displayName": "Saeed Akbari Shandiz",
      "photoUrl": "https://lh3.googleusercontent.com/a-/AOh14Gj_ltTfyzFcj-EidKK-RDh3G-RSeGnX-lq1mmA5=s64",
      "userId": "18254360833802486461"
     },
     "user_tz": 240
    },
    "id": "FL8tnZa5gssf"
   },
   "outputs": [],
   "source": [
    "\n",
    "Xave=0 #average of x values for all beads of EG\n",
    "Yave=0\n",
    "Zave=0\n",
    "\n",
    "\n",
    "\n",
    "time_counter=0\n",
    "for i in range (0, num_frame):\n",
    "  atom_counter=0\n",
    "  time_counter+=1\n",
    "  Xoverall=0 # after each frame this will be zero so count from begining for next frame\n",
    "  Yoverall=0\n",
    "  Zoverall=0\n",
    "  for k in range (0, num_atom):\n",
    "     \n",
    "     if type_Frame[i,k]==1: # beads of EG layer\n",
    "       atom_counter+=1\n",
    "  \n",
    "       ID_X_Frame[time_counter,atom_counter]=df.x.values[k]\n",
    "       ID_Y_Frame[time_counter,atom_counter]=df.y.values[k]\n",
    "       ID_Z_Frame[time_counter,atom_counter]=df.z.values[k]\n",
    "\n",
    "       Xoverall = Xoverall + ID_X_Frame[time_counter,atom_counter]\n",
    "       Yoverall = Yoverall + ID_Y_Frame[time_counter,atom_counter]\n",
    "       Zoverall = Zoverall + ID_Z_Frame[time_counter,atom_counter]\n",
    "\n",
    "       Xave = Xoverall/num_atom_type\n",
    "       Yave = Yoverall/num_atom_type\n",
    "       Zave = Zoverall/num_atom_type     \n",
    "       \n",
    "     "
   ]
  },
  {
   "cell_type": "code",
   "execution_count": null,
   "metadata": {
    "executionInfo": {
     "elapsed": 2668,
     "status": "ok",
     "timestamp": 1634835520037,
     "user": {
      "displayName": "Saeed Akbari Shandiz",
      "photoUrl": "https://lh3.googleusercontent.com/a-/AOh14Gj_ltTfyzFcj-EidKK-RDh3G-RSeGnX-lq1mmA5=s64",
      "userId": "18254360833802486461"
     },
     "user_tz": 240
    },
    "id": "b_mGrtfqi-oN"
   },
   "outputs": [],
   "source": [
    "#non time average msd of center of mass of NP\n",
    "# make 1D arrays\n",
    "sumDeltaR=0\n",
    "sumDeltaRz=0\n",
    "DeltaR=np.zeros (num_frame)\n",
    "DeltaRz=np.zeros (num_frame)\n",
    "\n",
    "dx=np.zeros (num_frame)\n",
    "dy=np.zeros (num_frame)\n",
    "dz=np.zeros (num_frame)\n",
    "\n",
    "\n",
    "\n",
    "for k in range (0, num_atom_type):#thank god \n",
    "   Xrg=np.zeros (num_frame)\n",
    "   Yrg=np.zeros (num_frame)\n",
    "   Zrg=np.zeros (num_frame)\n",
    "   sumDeltaR=0\n",
    "   sumDeltaRz=0\n",
    "   for t in range (1, num_frame):\n",
    "   \n",
    "       \n",
    "         \n",
    "                     \n",
    "        dx[t]=ID_X_Frame[t,k]-Xave\n",
    "        dy[t]=ID_Y_Frame[t,k]-Yave\n",
    "        dz[t]=ID_Z_Frame[t,k]-Zave       \n",
    "        \n",
    "        Xrg[t]+=np.power(dx[t],2)\n",
    "        Yrg[t]+=np.power(dy[t],2)\n",
    "        Zrg[t]+=np.power(dz[t],2)\n",
    "        \n",
    "        DeltaR[t]= Xrg[t]+Yrg[t]+ Zrg[t];\n",
    "        DeltaRz[t]= Zrg[t];\n",
    "        sumDeltaR=sumDeltaR+DeltaR\n",
    "        sumDeltaRz=sumDeltaRz+DeltaRz\n",
    "   #print(t,'',dz,'',DeltaR)\n",
    "        #print(t,'',Rmsd[t])"
   ]
  },
  {
   "cell_type": "code",
   "execution_count": null,
   "metadata": {
    "colab": {
     "base_uri": "https://localhost:8080/"
    },
    "executionInfo": {
     "elapsed": 177,
     "status": "ok",
     "timestamp": 1634835523636,
     "user": {
      "displayName": "Saeed Akbari Shandiz",
      "photoUrl": "https://lh3.googleusercontent.com/a-/AOh14Gj_ltTfyzFcj-EidKK-RDh3G-RSeGnX-lq1mmA5=s64",
      "userId": "18254360833802486461"
     },
     "user_tz": 240
    },
    "id": "U5x29kwckm8U",
    "outputId": "dd6844b1-d2ed-4d52-c9fb-aeea33027abf"
   },
   "outputs": [],
   "source": [
    "Rg2=sumDeltaR/num_atom_type\n",
    "print(Rg2)"
   ]
  },
  {
   "cell_type": "code",
   "execution_count": null,
   "metadata": {
    "executionInfo": {
     "elapsed": 713,
     "status": "ok",
     "timestamp": 1634835533050,
     "user": {
      "displayName": "Saeed Akbari Shandiz",
      "photoUrl": "https://lh3.googleusercontent.com/a-/AOh14Gj_ltTfyzFcj-EidKK-RDh3G-RSeGnX-lq1mmA5=s64",
      "userId": "18254360833802486461"
     },
     "user_tz": 240
    },
    "id": "p6po3GePb5Aj"
   },
   "outputs": [],
   "source": [
    "df = pd.DataFrame(Rg2)\n",
    "df.to_excel(r'C:\\vmd\\Rg.xlsx')"
   ]
  },
  {
   "cell_type": "markdown",
   "metadata": {},
   "source": [
    "# * Rg in Z direction *"
   ]
  },
  {
   "cell_type": "code",
   "execution_count": null,
   "metadata": {},
   "outputs": [],
   "source": [
    "Rg2z=sumDeltaRz/num_atom_type\n",
    "print(Rg2z)"
   ]
  },
  {
   "cell_type": "code",
   "execution_count": null,
   "metadata": {},
   "outputs": [],
   "source": [
    "df = pd.DataFrame(Rg2z)\n",
    "df.to_excel(r'C:\\vmd\\Rgz.xlsx')"
   ]
  },
  {
   "cell_type": "code",
   "execution_count": null,
   "metadata": {
    "colab": {
     "base_uri": "https://localhost:8080/",
     "height": 290
    },
    "executionInfo": {
     "elapsed": 457,
     "status": "ok",
     "timestamp": 1634848607876,
     "user": {
      "displayName": "Saeed Akbari Shandiz",
      "photoUrl": "https://lh3.googleusercontent.com/a-/AOh14Gj_ltTfyzFcj-EidKK-RDh3G-RSeGnX-lq1mmA5=s64",
      "userId": "18254360833802486461"
     },
     "user_tz": 240
    },
    "id": "KM6OnaZAZAak",
    "outputId": "7bbed53d-2fcb-40c0-ad96-99cf086d42c6"
   },
   "outputs": [],
   "source": [
    "import numpy as np\n",
    "from matplotlib import pyplot as plt\n",
    "import pandas as pd\n",
    "import pylab \n",
    "from matplotlib import rcParams\n",
    "\n",
    "#df =pd.ExcelFile('/content/drive/My Drive/Case/nanoBloodProject/rg/homo/152lig/lig/RgLigWhole.xlsx')# the name of execl file should start with capital word. Rdf is correct but not rdf \n",
    "df =pd.ExcelFile(r'C:\\vmd\\rc1.0_RgZ_8,12,16rc.xlsx')\n",
    "Sheet1 =pd.read_excel(df,header=0)\n",
    "\n",
    "ax=Sheet1.plot(kind='line', y= '8rc', color='blue', linewidth=1.5, label='8rc')\n",
    "ax.legend()\n",
    "Sheet1.plot(kind='line',  y= '12rc', color='red', linewidth=1.5, label='12rc', ax=ax)\n",
    "ax=Sheet1.plot(kind='line', y= '16rc', color='green', linewidth=1.5, label='16rc', ax=ax)\n",
    "#ax.legend()\n",
    "#Sheet1.plot(kind='line',  x='a', y= 'd', color='green', linewidth=0.7, label='veryRigid', ax=ax)\n",
    "ax.legend()\n",
    "\n",
    "\n",
    "##########################################\n",
    "ax.set_xlabel('time (100ps)')\n",
    "ax.set_ylabel('Rg^2 (1.0nm)') \n",
    "#ax.set_yscale('log') #to plot in log scale\n",
    "\n",
    "pylab.xlim([1,30])\n",
    "plt.xticks(np.arange(10,31,10)) #the distance of units to be shown in x axis. it starts from 10 to 30 with idistance of 10.thankGOD!\n",
    "pylab.ylim([0.0,0.5])# define the range of y coordinate\n",
    "plt.yticks(np.arange(0,0.51,0.1))\n",
    "\n",
    "rcParams['font.family'] = 'serif'\n",
    "rcParams['font.sans-serif'] = ['Bitstream Vera Sans']\n",
    "rcParams['font.serif'] = ['Bitstream Vera Sans']\n",
    "rcParams[\"font.size\"] = \"17\"\n",
    "\n",
    "#ax.get_legend().remove()\n",
    "\n",
    "plt.rcParams[\"figure.figsize\"] = [5.50, 4.0]\n",
    "plt.rcParams[\"figure.autolayout\"] = True\n",
    "\n",
    "plt.ticklabel_format(axis=\"both\", style=\"plain\", scilimits=(0,0))#show the x and y axis in scientific \n",
    "###########################################\n",
    "\n",
    "plt.savefig(r'C:\\vmd\\rc1.0_RgZ_8,12,16rc.png')"
   ]
  },
  {
   "cell_type": "code",
   "execution_count": null,
   "metadata": {},
   "outputs": [],
   "source": [
    "import numpy as np\n",
    "from matplotlib import pyplot as plt\n",
    "import pandas as pd\n",
    "import pylab \n",
    "from matplotlib import rcParams\n",
    "\n",
    "#df =pd.ExcelFile('/content/drive/My Drive/Case/nanoBloodProject/rg/homo/152lig/lig/RgLigWhole.xlsx')# the name of execl file should start with capital word. Rdf is correct but not rdf \n",
    "df =pd.ExcelFile(r'C:\\vmd\\rc1.0_rg_z_bare,170,340lig.xlsx')\n",
    "Sheet1 =pd.read_excel(df,header=0)\n",
    "\n",
    "ax=Sheet1.plot(kind='line', y= 'bare', color='blue', linewidth=1.5, label='bare')\n",
    "ax.legend()\n",
    "Sheet1.plot(kind='line',  y= '170lig', color='red', linewidth=1.5, label='170lig', ax=ax)\n",
    "ax=Sheet1.plot(kind='line', y= '340lig', color='green', linewidth=1.5, label='340lig', ax=ax)\n",
    "#ax.legend()\n",
    "#Sheet1.plot(kind='line',  x='a', y= 'd', color='green', linewidth=0.7, label='veryRigid', ax=ax)\n",
    "ax.legend()\n",
    "\n",
    "##########################################\n",
    "ax.set_xlabel('time (100ps)')\n",
    "ax.set_ylabel('Rg^2 (1.0nm)') \n",
    "#ax.set_yscale('log') #to plot in log scale\n",
    "\n",
    "pylab.xlim([1,30])\n",
    "plt.xticks(np.arange(10,31,10)) #the distance of units to be shown in x axis. it starts from 10 to 30 with idistance of 10.thankGOD!\n",
    "pylab.ylim([0.0,0.5])# define the range of y coordinate\n",
    "plt.yticks(np.arange(0,0.51,0.1))\n",
    "\n",
    "rcParams['font.family'] = 'serif'\n",
    "rcParams['font.sans-serif'] = ['Bitstream Vera Sans']\n",
    "rcParams['font.serif'] = ['Bitstream Vera Sans']\n",
    "rcParams[\"font.size\"] = \"17\"\n",
    "\n",
    "#ax.get_legend().remove()\n",
    "\n",
    "plt.rcParams[\"figure.figsize\"] = [5.50, 4.0]\n",
    "plt.rcParams[\"figure.autolayout\"] = True\n",
    "\n",
    "plt.ticklabel_format(axis=\"both\", style=\"plain\", scilimits=(0,0))#show the x and y axis in scientific \n",
    "###########################################\n",
    "\n",
    "#plt.savefig('/content/drive/My Drive/Case/nanoBloodProject/rg/homo/152lig/lig/RgLigWhole.png')\n",
    "plt.savefig(r'C:\\vmd\\rc1.0_rg_z_bare,170,340lig.png')"
   ]
  },
  {
   "cell_type": "code",
   "execution_count": null,
   "metadata": {},
   "outputs": [],
   "source": [
    "import numpy as np\n",
    "from matplotlib import pyplot as plt\n",
    "import pandas as pd\n",
    "import pylab \n",
    "\n",
    "#df =pd.ExcelFile('/content/drive/My Drive/Case/nanoBloodProject/rg/homo/152lig/lig/RgLigWhole.xlsx')# the name of execl file should start with capital word. Rdf is correct but not rdf \n",
    "df =pd.ExcelFile(r'C:\\vmd\\rc1.0_rg_z_parallel_perpend.xlsx')\n",
    "Sheet1 =pd.read_excel(df,header=0)\n",
    "\n",
    "ax=Sheet1.plot(kind='line',  y= 'parallel', color='green', linewidth=1.5, label='parallel')\n",
    "ax.legend()\n",
    "Sheet1.plot(kind='line',  y= 'perpend', color='red', linewidth=1.5, label='perpendicular', ax=ax)\n",
    "ax.legend()\n",
    "#ax=Sheet1.plot(kind='line',  x='a', y= 'd', color='green', linewidth=0.5, label='135', ax=ax)\n",
    "#ax.legend()\n",
    "\n",
    "##########################################\n",
    "ax.set_xlabel('time (100ps)')\n",
    "ax.set_ylabel('Rg^2 (1.0nm)') \n",
    "#ax.set_yscale('log') #to plot in log scale\n",
    "\n",
    "pylab.xlim([1,30])\n",
    "plt.xticks(np.arange(10,31,10)) #the distance of units to be shown in x axis. it starts from 10 to 30 with idistance of 10.thankGOD!\n",
    "pylab.ylim([0.0,0.5])# define the range of y coordinate\n",
    "plt.yticks(np.arange(0,0.51,0.1))\n",
    "\n",
    "rcParams['font.family'] = 'serif'\n",
    "rcParams['font.sans-serif'] = ['Bitstream Vera Sans']\n",
    "rcParams['font.serif'] = ['Bitstream Vera Sans']\n",
    "rcParams[\"font.size\"] = \"17\"\n",
    "\n",
    "#ax.get_legend().remove()\n",
    "\n",
    "plt.rcParams[\"figure.figsize\"] = [5.50, 4.0]\n",
    "plt.rcParams[\"figure.autolayout\"] = True\n",
    "\n",
    "plt.ticklabel_format(axis=\"both\", style=\"plain\", scilimits=(0,0))#show the x and y axis in scientific \n",
    "###########################################\n",
    "\n",
    "plt.savefig(r'C:\\vmd\\rc1.0_rg_z_parallel_perpend(2).png')\n"
   ]
  },
  {
   "cell_type": "code",
   "execution_count": null,
   "metadata": {},
   "outputs": [],
   "source": [
    "import numpy as np\n",
    "from matplotlib import pyplot as plt\n",
    "import pandas as pd\n",
    "import pylab \n",
    "\n",
    "#df =pd.ExcelFile('/content/drive/My Drive/Case/nanoBloodProject/rg/homo/152lig/lig/RgLigWhole.xlsx')# the name of execl file should start with capital word. Rdf is correct but not rdf \n",
    "df =pd.ExcelFile(r'C:\\vmd\\rc1.0_rg_z, rod,disc,sphere,.xlsx')\n",
    "Sheet1 =pd.read_excel(df,header=0)\n",
    "\n",
    "ax=Sheet1.plot(kind='line', y= 'rod', color='blue', linewidth=1.5, label='rod')\n",
    "ax.legend()\n",
    "Sheet1.plot(kind='line',  y= 'disc', color='red', linewidth=1.5, label='disc', ax=ax)\n",
    "ax=Sheet1.plot(kind='line', y= 'sphere', color='green', linewidth=1.5, label='sphere', ax=ax)\n",
    "#ax.legend()\n",
    "#Sheet1.plot(kind='line',  x='a', y= 'd', color='green', linewidth=0.7, label='veryRigid', ax=ax)\n",
    "ax.legend()\n",
    "\n",
    "##########################################\n",
    "ax.set_xlabel('time (100ps)')\n",
    "ax.set_ylabel('Rg^2 (1.0nm)') \n",
    "#ax.set_yscale('log') #to plot in log scale\n",
    "\n",
    "pylab.xlim([1,30])\n",
    "plt.xticks(np.arange(10,31,10)) #the distance of units to be shown in x axis. it starts from 10 to 30 with idistance of 10.thankGOD!\n",
    "pylab.ylim([0.0,0.5])# define the range of y coordinate\n",
    "plt.yticks(np.arange(0,0.51,0.1))\n",
    "\n",
    "rcParams['font.family'] = 'serif'\n",
    "rcParams['font.sans-serif'] = ['Bitstream Vera Sans']\n",
    "rcParams['font.serif'] = ['Bitstream Vera Sans']\n",
    "rcParams[\"font.size\"] = \"17\"\n",
    "\n",
    "#ax.get_legend().remove()\n",
    "\n",
    "plt.rcParams[\"figure.figsize\"] = [5.50, 4.0]\n",
    "plt.rcParams[\"figure.autolayout\"] = True\n",
    "\n",
    "plt.ticklabel_format(axis=\"both\", style=\"plain\", scilimits=(0,0))#show the x and y axis in scientific \n",
    "###########################################\n",
    "\n",
    "plt.savefig(r'C:\\vmd\\rc1.0_rg_z, rod,disc,sphere,(2).png')"
   ]
  },
  {
   "cell_type": "code",
   "execution_count": null,
   "metadata": {
    "colab": {
     "base_uri": "https://localhost:8080/",
     "height": 283
    },
    "executionInfo": {
     "elapsed": 720,
     "status": "ok",
     "timestamp": 1633471449968,
     "user": {
      "displayName": "Saeed Akbari Shandiz",
      "photoUrl": "https://lh3.googleusercontent.com/a-/AOh14Gj_ltTfyzFcj-EidKK-RDh3G-RSeGnX-lq1mmA5=s64",
      "userId": "18254360833802486461"
     },
     "user_tz": 240
    },
    "id": "D5o_Rsvcd4Ub",
    "outputId": "c06fc022-979d-4b66-e8ea-2dd57f09adbf"
   },
   "outputs": [],
   "source": [
    "import numpy as np\n",
    "from matplotlib import pyplot as plt\n",
    "import pandas as pd\n",
    "import pylab \n",
    "\n",
    "#df =pd.ExcelFile('/content/drive/My Drive/Case/nanoBloodProject/rg/homo/152lig/lig/RgLigWhole.xlsx')# the name of execl file should start with capital word. Rdf is correct but not rdf \n",
    "df =pd.ExcelFile('/content/drive/My Drive/Case/nanoBloodProject/rg/rgAij24...27.xlsx')\n",
    "Sheet1 =pd.read_excel(df,header=0)\n",
    "\n",
    "ax=Sheet1.plot(kind='line',  x='a', y= 'b', color='blue', linewidth=0.5, label='aij24')\n",
    "ax.legend()\n",
    "Sheet1.plot(kind='line',  x='a', y= 'c', color='red', linewidth=0.5, label='aij25', ax=ax)\n",
    "Sheet1.plot(kind='line',  x='a', y= 'd', color='green', linewidth=0.5, label='aij26', ax=ax)\n",
    "Sheet1.plot(kind='line',  x='a', y= 'e', color='orange', linewidth=0.5, label='aij27', ax=ax)\n",
    "ax.legend()\n",
    "ax.set_xlabel('time (100ps)')\n",
    "ax.set_ylabel('Rg^2 (0.71nm)') \n",
    "pylab.xlim([0,30])\n",
    "pylab.ylim([0,2])# define the range of y coordinate\n",
    "plt.ticklabel_format(axis=\"both\", style=\"sci\", scilimits=(0,0))#show the x and y axis in scientific mode\n",
    "#plt.savefig('/content/drive/My Drive/Case/nanoBloodProject/rg/homo/152lig/lig/RgLigWhole.png')\n",
    "plt.savefig('/content/drive/My Drive/Case/nanoBloodProject/rg/rgAij24...27.png')"
   ]
  },
  {
   "cell_type": "code",
   "execution_count": null,
   "metadata": {
    "colab": {
     "base_uri": "https://localhost:8080/",
     "height": 283
    },
    "executionInfo": {
     "elapsed": 681,
     "status": "ok",
     "timestamp": 1634836088479,
     "user": {
      "displayName": "Saeed Akbari Shandiz",
      "photoUrl": "https://lh3.googleusercontent.com/a-/AOh14Gj_ltTfyzFcj-EidKK-RDh3G-RSeGnX-lq1mmA5=s64",
      "userId": "18254360833802486461"
     },
     "user_tz": 240
    },
    "id": "g39EwRdubUQQ",
    "outputId": "5a36863a-fb83-49a9-b277-3418e77ca5d7"
   },
   "outputs": [],
   "source": [
    "import numpy as np\n",
    "from matplotlib import pyplot as plt\n",
    "import pandas as pd\n",
    "import pylab \n",
    "\n",
    "#df =pd.ExcelFile('/content/drive/My Drive/Case/nanoBloodProject/rg/homo/152lig/lig/RgLigWhole.xlsx')# the name of execl file should start with capital word. Rdf is correct but not rdf \n",
    "df =pd.ExcelFile('/content/drive/My Drive/Case/nanoBloodProject/rg/12rcRodBare170,340lig.xlsx')\n",
    "Sheet1 =pd.read_excel(df,header=0)\n",
    "\n",
    "ax=Sheet1.plot(kind='line',  x='a', y= 'b', color='blue', linewidth=0.5, label='bare')\n",
    "ax.legend()\n",
    "Sheet1.plot(kind='line',  x='a', y= 'c', color='red', linewidth=0.5, label='76lig', ax=ax)\n",
    "Sheet1.plot(kind='line',  x='a', y= 'd', color='green', linewidth=0.5, label='152lig', ax=ax)\n",
    "ax.legend()\n",
    "ax.set_xlabel('time (100ps)')\n",
    "ax.set_ylabel('Rg^2 (0.71nm)') \n",
    "pylab.xlim([10,300])\n",
    "pylab.ylim([0,2])# define the range of y coordinate\n",
    "plt.ticklabel_format(axis=\"both\", style=\"sci\", scilimits=(0,0))#show the x and y axis in scientific mode\n",
    "#plt.savefig('/content/drive/My Drive/Case/nanoBloodProject/rg/homo/152lig/lig/RgLigWhole.png')\n",
    "plt.savefig('/content/drive/My Drive/Case/nanoBloodProject/rg/12rcRodBare170,340lig.png')"
   ]
  },
  {
   "cell_type": "code",
   "execution_count": null,
   "metadata": {},
   "outputs": [],
   "source": [
    "df = pd.DataFrame(Rg2)\n",
    "df.to_excel(r'C:\\vmd\\Rg.xlsx')"
   ]
  },
  {
   "cell_type": "code",
   "execution_count": null,
   "metadata": {
    "id": "tmdgYec_hrU2"
   },
   "outputs": [],
   "source": []
  }
 ],
 "metadata": {
  "colab": {
   "collapsed_sections": [],
   "name": "ThankGOD!Rg_EGlayer3.ipynb",
   "provenance": [
    {
     "file_id": "1vczxt1JSZ75tCmb-dXaLHvIXwpDjZ7-i",
     "timestamp": 1625137486716
    },
    {
     "file_id": "1D-tAt_s_iH4kJv18vCXR4nbSVZGZ6Pt5",
     "timestamp": 1624973267556
    },
    {
     "file_id": "1lh37hZiIRUd4OSnAzVAa-y-fL3dZZBQV",
     "timestamp": 1620340094080
    },
    {
     "file_id": "1NgCKRs5X76dRlarMCNrHl8cFkCNAGR28",
     "timestamp": 1617376116817
    },
    {
     "file_id": "1FSFFjQchSKycVxGzh3u3LBN-ysRd_8Nb",
     "timestamp": 1617367979702
    },
    {
     "file_id": "1Q4nPGdnz3-Nro9mJOuphLdkpAvyty8ZV",
     "timestamp": 1617288048839
    },
    {
     "file_id": "1RoCPNZiqdxjjn0EiUkWkfaxT6pxKo7cN",
     "timestamp": 1617223710437
    },
    {
     "file_id": "1KtU1uGIIrVVwzJntxnUVpXZiPOibdYSb",
     "timestamp": 1615943484388
    }
   ]
  },
  "kernelspec": {
   "display_name": "Python 3",
   "language": "python",
   "name": "python3"
  },
  "language_info": {
   "codemirror_mode": {
    "name": "ipython",
    "version": 3
   },
   "file_extension": ".py",
   "mimetype": "text/x-python",
   "name": "python",
   "nbconvert_exporter": "python",
   "pygments_lexer": "ipython3",
   "version": "3.7.3"
  }
 },
 "nbformat": 4,
 "nbformat_minor": 1
}
