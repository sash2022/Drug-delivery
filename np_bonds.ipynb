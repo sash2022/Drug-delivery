{
 "cells": [
  {
   "cell_type": "code",
   "execution_count": null,
   "metadata": {
    "executionInfo": {
     "elapsed": 1788,
     "status": "ok",
     "timestamp": 1674338701009,
     "user": {
      "displayName": "Saeed Akbari Shandiz",
      "userId": "18254360833802486461"
     },
     "user_tz": 300
    },
    "id": "08EYEm2fdg0b"
   },
   "outputs": [],
   "source": [
    "import math\n",
    "import collections\n",
    "import sys\n",
    "import numpy as np\n",
    "import pandas as pd\n",
    "import matplotlib.pyplot as pp\n",
    "\n",
    "%matplotlib inline"
   ]
  },
  {
   "cell_type": "code",
   "execution_count": null,
   "metadata": {
    "colab": {
     "base_uri": "https://localhost:8080/"
    },
    "executionInfo": {
     "elapsed": 1096,
     "status": "ok",
     "timestamp": 1674339777305,
     "user": {
      "displayName": "Saeed Akbari Shandiz",
      "userId": "18254360833802486461"
     },
     "user_tz": 300
    },
    "id": "19Q-2_yXdpIA",
    "outputId": "30aef977-5055-484a-da36-ce851ac52a8c"
   },
   "outputs": [],
   "source": [
    "\n",
    "from google.colab import drive#to open the google drive in colab\n",
    "drive.mount('/content/drive')"
   ]
  },
  {
   "cell_type": "code",
   "execution_count": null,
   "metadata": {
    "executionInfo": {
     "elapsed": 1154,
     "status": "ok",
     "timestamp": 1674339940484,
     "user": {
      "displayName": "Saeed Akbari Shandiz",
      "userId": "18254360833802486461"
     },
     "user_tz": 300
    },
    "id": "Z5xiteWFdujf"
   },
   "outputs": [],
   "source": [
    "lines=[]\n",
    "with open('/content/drive/My Drive/Case/nanoBloodProject/brushBox/NP/NPbonds/new_for_ML_project/np_bonds/rod.dat') as fp:   # to read lines if atomlist after \"Atoms\"\n",
    "         for line in fp:\n",
    "            if 'Atoms' in line:                                         \n",
    "                for line in fp: # now you are at the lines you want\n",
    "                    if 'Velocities' in line: \n",
    "                     break \n",
    "                   \n",
    "                    line=line.rstrip()# to remove any white spaces at the end of the string                  \n",
    "                    #\n",
    "                    lines.append(line)# add the string in to the list\n",
    "                    #lines= line.split(\"space\")# for line in a pandas data frame. here it can not read our lines separetely. it reads all lines as a line so does not split it into different indexs"
   ]
  },
  {
   "cell_type": "code",
   "execution_count": null,
   "metadata": {
    "executionInfo": {
     "elapsed": 182,
     "status": "ok",
     "timestamp": 1674339975207,
     "user": {
      "displayName": "Saeed Akbari Shandiz",
      "userId": "18254360833802486461"
     },
     "user_tz": 300
    },
    "id": "cokDO_9wg3ab"
   },
   "outputs": [],
   "source": [
    "#remove empty lines from the list\n",
    "while(\"\" in lines) : \n",
    "    lines.remove(\"\") "
   ]
  },
  {
   "cell_type": "code",
   "execution_count": null,
   "metadata": {
    "colab": {
     "base_uri": "https://localhost:8080/",
     "height": 424
    },
    "executionInfo": {
     "elapsed": 206,
     "status": "ok",
     "timestamp": 1674339976569,
     "user": {
      "displayName": "Saeed Akbari Shandiz",
      "userId": "18254360833802486461"
     },
     "user_tz": 300
    },
    "id": "RjFazOvyg6ph",
    "outputId": "97b4c716-9946-4135-c469-d63a25ac8988"
   },
   "outputs": [],
   "source": [
    "df=pd.DataFrame(lines, columns=['atomID']) # to make a data frame of pandas from the list and put atomID name on the column\n",
    "df[['atomID','molID','x','y','z','mx','my','mz']] = df.atomID.str.split(expand=True,) # to split one column to multiple columns and allocate name for each column\n",
    "df"
   ]
  },
  {
   "cell_type": "code",
   "execution_count": null,
   "metadata": {
    "colab": {
     "base_uri": "https://localhost:8080/"
    },
    "executionInfo": {
     "elapsed": 170,
     "status": "ok",
     "timestamp": 1674339983964,
     "user": {
      "displayName": "Saeed Akbari Shandiz",
      "userId": "18254360833802486461"
     },
     "user_tz": 300
    },
    "id": "fYaedmYUjxIG",
    "outputId": "221dca95-b0fd-4748-ead9-bbc5cfb4e7f2"
   },
   "outputs": [],
   "source": [
    "atom_counter=len(df)\n",
    "atom_counter"
   ]
  },
  {
   "cell_type": "code",
   "execution_count": null,
   "metadata": {
    "executionInfo": {
     "elapsed": 17262,
     "status": "ok",
     "timestamp": 1674340003046,
     "user": {
      "displayName": "Saeed Akbari Shandiz",
      "userId": "18254360833802486461"
     },
     "user_tz": 300
    },
    "id": "PU4jXe2IPg5V"
   },
   "outputs": [],
   "source": [
    "Xmsd=np.zeros ((atom_counter,atom_counter))# make 2D arrays\n",
    "Ymsd=np.zeros ((atom_counter,atom_counter))\n",
    "Zmsd=np.zeros ((atom_counter,atom_counter))\n",
    "Rmsd=np.zeros ((atom_counter,atom_counter))\n",
    "# #double array bc we want compare distances for each i and j  with each other\n",
    "min_Rmsd=np.zeros (atom_counter)\n",
    "min_all=np.zeros (atom_counter)\n",
    "\n",
    "df.loc[:,'x'] = df.loc[:,'x'].astype(float) #convert string to foat for x , y , z \n",
    "df.loc[:,'y'] = df.loc[:,'y'].astype(float)\n",
    "df.loc[:,'z'] = df.loc[:,'z'].astype(float)\n",
    "\n",
    "#smallest = float(\"inf\") # infinity\n",
    "\n",
    "\n",
    "for i in range(0, atom_counter-1):\n",
    "  smallest = float(\"inf\") # infinity. to renew after each i to just find min of each i not min of the whole.\n",
    "  for j in range(i+1, atom_counter):\n",
    "  \n",
    "    dx=df.loc[j,'x']-df.loc[i,'x']\n",
    "    dy=df.loc[j,'y']-df.loc[i,'y']\n",
    "    dz=df.loc[j,'z']-df.loc[i,'z']\n",
    "\n",
    "    Xmsd[i,j]+=np.power(dx,2)\n",
    "    Ymsd[i,j]+=np.power(dy,2)\n",
    "    Zmsd[i,j]+=np.power(dz,2)\n",
    "        \n",
    "    #distance of all beads from each other without repeating 2-1 after calc distance of 1-2. it is distance of 3 and 4 and is not distance 3 ordistance of 4. Rmsd[3,4] and not Rmsd[3] or Rmsd[4]\n",
    "    Rmsd[i,j]=math.sqrt(Xmsd[i,j]+Ymsd[i,j]+ Zmsd[i,j]);\n",
    "    \n",
    "    #find the min of Rmsd array\n",
    "    num= float(Rmsd[i,j])    \n",
    "    smallest = min(smallest,num)\n",
    "    min_Rmsd[i]=smallest\n",
    "    #print (j,\"  \",i,\"  \",Rmsd[i,j],\"   \",min_Rmsd[i])\n",
    "      \n",
    "\n",
    "   "
   ]
  },
  {
   "cell_type": "code",
   "execution_count": null,
   "metadata": {
    "colab": {
     "base_uri": "https://localhost:8080/"
    },
    "executionInfo": {
     "elapsed": 312,
     "status": "ok",
     "timestamp": 1674000731081,
     "user": {
      "displayName": "Saeed Akbari Shandiz",
      "userId": "18254360833802486461"
     },
     "user_tz": 300
    },
    "id": "wfpJkCl0zP7T",
    "outputId": "2b883458-9d82-4f16-c6b3-7425b786f424"
   },
   "outputs": [],
   "source": [
    "#to find min of all min_Rmsd\n",
    "smallest = float(\"inf\") # infinity\n",
    "for i in range(0, atom_counter-1): # we have five bond (distance) between 6 beads\n",
    "    num= float(min_Rmsd[i])    \n",
    "    smallest = min(smallest,num)\n",
    "    min_all[i]=smallest\n",
    "    smallest_bead_distance= round(min_all[i],4)# round the float to 4 decimal\n",
    "print (i,\"    \",smallest_bead_distance)"
   ]
  },
  {
   "cell_type": "code",
   "execution_count": null,
   "metadata": {
    "executionInfo": {
     "elapsed": 67927,
     "status": "ok",
     "timestamp": 1674000814340,
     "user": {
      "displayName": "Saeed Akbari Shandiz",
      "userId": "18254360833802486461"
     },
     "user_tz": 300
    },
    "id": "tiv7uBvUJyIc"
   },
   "outputs": [],
   "source": [
    "#here we combine two tasks above to make the code faster and so we do:\n",
    "#1) find beads that have the min of distances and then count number of bonds with that size( distance) each bead has \n",
    "#2)show the beads with the least distance with each bead in front of that bead and print in a file\n",
    "counter_bond=0 # to count total number of  bonds\n",
    "bonded_beads=np.zeros((atom_counter,atom_counter))\n",
    "bonded_beads_4=np.zeros((atom_counter,atom_counter))\n",
    "count_bonded=np.zeros(atom_counter)\n",
    "with open('/content/drive/My Drive/Case/nanoBloodProject/brushBox/NP/hexagonal_np/one_atom_type/simple_lattice_structure/very_simple_lattice/new_for_ML_project/np_bonds/bonds.dat', 'w') as f:\n",
    "\n",
    "\n",
    "\n",
    " for i in range(0, atom_counter-1):\n",
    "   counter=0  \n",
    "   for j in range(i+1, atom_counter):\n",
    "\n",
    "    if round(Rmsd[i,j],4) == smallest_bead_distance:\n",
    "       counter+=1   # thank GOD instead of making another for loop to go through the 4 bonded beads we used this counter annd it will only save bonded beads in the array\n",
    "       counter_bond+=1\n",
    "       count_bonded[i]+=1\n",
    "\n",
    "       bonded_beads [i][j]= df.loc[j,'atomID']  # to save the beads that have least distance with a bead in an array for that bead\n",
    "       bonded_beads_4[i][counter]=bonded_beads[i][j]\n",
    "       #print(i,\"   \",j,\"   \",df.loc[i,'atomID'],\"  \",count_bonded[i])\n",
    "       # to print in a file\n",
    "       original_stdout = sys.stdout # Save a reference to the original standard output\n",
    "       sys.stdout = f # Change the standard output to the file we created.\n",
    "       print( counter_bond,\"   \", 1,\"   \",df.loc[i,'atomID'],\"    \",int(bonded_beads_4[i][counter]))\n",
    "       sys.stdout = original_stdout # Reset the standard output to its original value"
   ]
  }
 ],
 "metadata": {
  "celltoolbar": "Raw Cell Format",
  "colab": {
   "authorship_tag": "ABX9TyMhbNo/0clKzLKWPJtzAO4W",
   "provenance": [
    {
     "file_id": "1qf8_Lh9ShmTwQRWC-sQychLzXRm_O2Lq",
     "timestamp": 1673991508024
    },
    {
     "file_id": "16kxYMWh3IfwkLwaonypmdXueAIeuC1hd",
     "timestamp": 1602172102675
    },
    {
     "file_id": "1KDbaRCq9FNO7Qk8pF1oRYTPcA8QHDoen",
     "timestamp": 1602031980529
    },
    {
     "file_id": "16E-mdP9LlvTDWI3vssaR2hZRIrlTEGSl",
     "timestamp": 1601649715833
    },
    {
     "file_id": "1NHKY6N82F_SDx7EQEGXyok8QgEykJniw",
     "timestamp": 1601645834817
    },
    {
     "file_id": "1rhp4B3g57vWhXEzeEsdIofOPaCJI7s8w",
     "timestamp": 1601592019289
    },
    {
     "file_id": "1YGsKtV42WwRHpVbQvKHyEK_th6kst1LW",
     "timestamp": 1601575018109
    },
    {
     "file_id": "1eHN9afSwtksvmcefJMF5QF8OYI_hVams",
     "timestamp": 1601497309779
    }
   ]
  },
  "kernelspec": {
   "display_name": "Python 3",
   "language": "python",
   "name": "python3"
  },
  "language_info": {
   "codemirror_mode": {
    "name": "ipython",
    "version": 3
   },
   "file_extension": ".py",
   "mimetype": "text/x-python",
   "name": "python",
   "nbconvert_exporter": "python",
   "pygments_lexer": "ipython3",
   "version": "3.7.3"
  }
 },
 "nbformat": 4,
 "nbformat_minor": 1
}
