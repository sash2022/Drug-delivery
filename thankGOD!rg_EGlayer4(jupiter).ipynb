{
 "cells": [
  {
   "cell_type": "code",
   "execution_count": 2,
   "metadata": {
    "executionInfo": {
     "elapsed": 114,
     "status": "ok",
     "timestamp": 1634848373731,
     "user": {
      "displayName": "Saeed Akbari Shandiz",
      "photoUrl": "https://lh3.googleusercontent.com/a-/AOh14Gj_ltTfyzFcj-EidKK-RDh3G-RSeGnX-lq1mmA5=s64",
      "userId": "18254360833802486461"
     },
     "user_tz": 240
    },
    "id": "LBbvJSNvgDMY"
   },
   "outputs": [],
   "source": [
    "import math\n",
    "import collections\n",
    "\n",
    "import numpy as np\n",
    "import pandas as pd\n",
    "import matplotlib.pyplot as pp\n",
    "\n",
    "%matplotlib inline"
   ]
  },
  {
   "cell_type": "code",
   "execution_count": 3,
   "metadata": {
    "colab": {
     "base_uri": "https://localhost:8080/"
    },
    "executionInfo": {
     "elapsed": 59922,
     "status": "ok",
     "timestamp": 1634848436261,
     "user": {
      "displayName": "Saeed Akbari Shandiz",
      "photoUrl": "https://lh3.googleusercontent.com/a-/AOh14Gj_ltTfyzFcj-EidKK-RDh3G-RSeGnX-lq1mmA5=s64",
      "userId": "18254360833802486461"
     },
     "user_tz": 240
    },
    "id": "Y6Pd8uD8hVJD",
    "outputId": "ea428569-f4b2-4d4d-b97d-fc08cdc2c034"
   },
   "outputs": [
    {
     "ename": "ModuleNotFoundError",
     "evalue": "No module named 'google'",
     "output_type": "error",
     "traceback": [
      "\u001b[1;31m---------------------------------------------------------------------------\u001b[0m",
      "\u001b[1;31mModuleNotFoundError\u001b[0m                       Traceback (most recent call last)",
      "\u001b[1;32m<ipython-input-3-1708e276968d>\u001b[0m in \u001b[0;36m<module>\u001b[1;34m\u001b[0m\n\u001b[1;32m----> 1\u001b[1;33m \u001b[1;32mfrom\u001b[0m \u001b[0mgoogle\u001b[0m\u001b[1;33m.\u001b[0m\u001b[0mcolab\u001b[0m \u001b[1;32mimport\u001b[0m \u001b[0mdrive\u001b[0m\u001b[1;31m#to open the google drive in colab\u001b[0m\u001b[1;33m\u001b[0m\u001b[1;33m\u001b[0m\u001b[0m\n\u001b[0m\u001b[0;32m      2\u001b[0m \u001b[0mdrive\u001b[0m\u001b[1;33m.\u001b[0m\u001b[0mmount\u001b[0m\u001b[1;33m(\u001b[0m\u001b[1;34m'/content/drive'\u001b[0m\u001b[1;33m)\u001b[0m\u001b[1;33m\u001b[0m\u001b[1;33m\u001b[0m\u001b[0m\n",
      "\u001b[1;31mModuleNotFoundError\u001b[0m: No module named 'google'"
     ]
    }
   ],
   "source": [
    "#from google.colab import drive#to open the google drive in colab\n",
    "#drive.mount('/content/drive')\n"
   ]
  },
  {
   "cell_type": "code",
   "execution_count": 271,
   "metadata": {
    "executionInfo": {
     "elapsed": 4673,
     "status": "ok",
     "timestamp": 1634835398489,
     "user": {
      "displayName": "Saeed Akbari Shandiz",
      "photoUrl": "https://lh3.googleusercontent.com/a-/AOh14Gj_ltTfyzFcj-EidKK-RDh3G-RSeGnX-lq1mmA5=s64",
      "userId": "18254360833802486461"
     },
     "user_tz": 240
    },
    "id": "uNfoCyVUmHct"
   },
   "outputs": [],
   "source": [
    "#read all parameters of header\n",
    "timeSteps=[]\n",
    "boxDim=[]\n",
    "num_frame=0\n",
    "#with open(r'C:\\bloodProject\\NP\\5937beads\\np2.dat') as fp:   # to read lines if atomlist after \"Atoms\"\n",
    "#with open('/content/drive/My Drive/Case/nanoBloodProject/MSD/16rc/janus8rcNp/EG-lig118.1/nvt2') as fp:\n",
    "#with open('/content/drive/My Drive/Case/nanoBloodProject/MSD/sphere/8rc/152lig(correct)/8rcNp152homoLig/aijEG_N_lig1=26/nvt') as fp:\n",
    "#with open('/content/drive/My Drive/Case/nanoBloodProject/MSD/disc/8rc/152lig/homo/secPos/correctNpTypeAij/aijEG_N_lig1=24/nvt') as fp:\n",
    "#with open('/content/drive/My Drive/Case/nanoBloodProject/MSD/rod/12rc/170lig/homo/corNpAij/nvt') as fp:  \n",
    "with open(r'C:\\vmd\\nvt') as fp:\n",
    "    \n",
    "        for line in fp:\n",
    "            if 'ITEM: TIMESTEP' in line:                                         \n",
    "                for line in fp: # now you are at the lines you want\n",
    "                    if 'ITEM: NUMBER OF ATOMS' in line: \n",
    "                     break \n",
    "                   \n",
    "                    line=line.rstrip()# to remove any white spaces at the end of the string                  \n",
    "                    #\n",
    "                    timeSteps.append(line)# add the string in to the list\n",
    "                    num_frame+=1\n",
    "                    \n",
    "\n",
    "            if 'ITEM: NUMBER OF ATOMS' in line:                                         \n",
    "                for line in fp: # now you are at the lines you want\n",
    "                    if 'ITEM: BOX BOUNDS' in line: \n",
    "                     break \n",
    "                   \n",
    "                    line=line.rstrip()# to remove any white spaces at the end of the string                  \n",
    "                    #\n",
    "                    num_atom=int(line)  \n",
    "\n",
    "            if 'ITEM: BOX BOUNDS' in line:                                         \n",
    "                for line in fp: # now you are at the lines you want\n",
    "                    if 'ITEM: ATOMS' in line: \n",
    "                     break \n",
    "                   \n",
    "                    line=line.rstrip()# to remove any white spaces at the end of the string                  \n",
    "                    \n",
    "                    boxDim.append(line)               \n",
    "                    "
   ]
  },
  {
   "cell_type": "code",
   "execution_count": 272,
   "metadata": {
    "executionInfo": {
     "elapsed": 2260,
     "status": "ok",
     "timestamp": 1634835414082,
     "user": {
      "displayName": "Saeed Akbari Shandiz",
      "photoUrl": "https://lh3.googleusercontent.com/a-/AOh14Gj_ltTfyzFcj-EidKK-RDh3G-RSeGnX-lq1mmA5=s64",
      "userId": "18254360833802486461"
     },
     "user_tz": 240
    },
    "id": "DFePr1AT_-EV"
   },
   "outputs": [],
   "source": [
    "#read coordinate part\n",
    "time_counter=0\n",
    "lines=[]\n",
    "\n",
    "#df.loc[:,'x'] = df.loc[:,'x'].astype(float)\n",
    "#with open('/content/drive/My Drive/Case/nanoBloodProject/MSD/16rc/janus8rcNp/EG-lig118.1/nvt2') as fp:\n",
    "#with open('/content/drive/My Drive/Case/nanoBloodProject/MSD/16rc/homo8rcNp/nvt') as fp:\n",
    "#with open('/content/drive/My Drive/Case/nanoBloodProject/MSD/sphere/8rc/152lig(correct)/8rcNp152homoLig/aijEG_N_lig1=26/nvt') as fp:\n",
    "#with open('/content/drive/My Drive/Case/nanoBloodProject/MSD/disc/8rc/152lig/homo/secPos/correctNpTypeAij/aijEG_N_lig1=24/nvt') as fp:\n",
    "with open(r'C:\\vmd\\nvt') as fp:      \n",
    "       for line in fp:\n",
    "            atom_counter=0\n",
    "            \n",
    "            if 'ITEM: ATOMS' in line:\n",
    "                time_counter+=1                                         \n",
    "                \n",
    "                for line in fp: # now you are at the lines you want\n",
    "                    atom_counter+=1\n",
    "\n",
    "                    #x(time_counter,atom_counter)=df.loc[line,'x'] \n",
    "                                        \n",
    "                    if 'ITEM: TIMESTEP' in line: \n",
    "                     break \n",
    "                    \n",
    "                    \n",
    "                    line=line.rstrip()# to remove any white spaces at the end of the string                  \n",
    "                    lines.append(line)# add the string in to the list\n",
    "                    #lines[time_counter][atom_counter]=line# add the string in to the list\n",
    "                    \n",
    "                    "
   ]
  },
  {
   "cell_type": "code",
   "execution_count": 273,
   "metadata": {
    "colab": {
     "base_uri": "https://localhost:8080/"
    },
    "executionInfo": {
     "elapsed": 148,
     "status": "ok",
     "timestamp": 1634835416501,
     "user": {
      "displayName": "Saeed Akbari Shandiz",
      "photoUrl": "https://lh3.googleusercontent.com/a-/AOh14Gj_ltTfyzFcj-EidKK-RDh3G-RSeGnX-lq1mmA5=s64",
      "userId": "18254360833802486461"
     },
     "user_tz": 240
    },
    "id": "0v56IC4B1a8e",
    "outputId": "2913621c-4f9d-4804-fcf9-f1ccf98d8091"
   },
   "outputs": [
    {
     "data": {
      "text/plain": [
       "157950"
      ]
     },
     "execution_count": 273,
     "metadata": {},
     "output_type": "execute_result"
    }
   ],
   "source": [
    "\n",
    "num_frame\n",
    "num_atom\n",
    "#boxDim #i have to modify the code to get x max x min and so on for box dimensionpr\n"
   ]
  },
  {
   "cell_type": "code",
   "execution_count": 274,
   "metadata": {
    "executionInfo": {
     "elapsed": 155,
     "status": "ok",
     "timestamp": 1634835417869,
     "user": {
      "displayName": "Saeed Akbari Shandiz",
      "photoUrl": "https://lh3.googleusercontent.com/a-/AOh14Gj_ltTfyzFcj-EidKK-RDh3G-RSeGnX-lq1mmA5=s64",
      "userId": "18254360833802486461"
     },
     "user_tz": 240
    },
    "id": "_aX5E6IByokd"
   },
   "outputs": [],
   "source": [
    "#remove empty lines from the list\n",
    "while(\"\" in lines) : \n",
    "    lines.remove(\"\") "
   ]
  },
  {
   "cell_type": "code",
   "execution_count": 275,
   "metadata": {
    "executionInfo": {
     "elapsed": 11603,
     "status": "ok",
     "timestamp": 1634835431788,
     "user": {
      "displayName": "Saeed Akbari Shandiz",
      "photoUrl": "https://lh3.googleusercontent.com/a-/AOh14Gj_ltTfyzFcj-EidKK-RDh3G-RSeGnX-lq1mmA5=s64",
      "userId": "18254360833802486461"
     },
     "user_tz": 240
    },
    "id": "aukijjUEyrAB"
   },
   "outputs": [],
   "source": [
    "#data frame for the whole dump file without separating by frame\n",
    "df=pd.DataFrame(lines, columns=['atomID']) # to make a data frame of pandas from the list and put atomID name on the column\n",
    "df[['atomID','atomType','x','y','z']] = df.atomID.str.split(expand=True,) # to split one column to multiple columns and allocate name for each column\n",
    "#df"
   ]
  },
  {
   "cell_type": "code",
   "execution_count": 276,
   "metadata": {
    "colab": {
     "base_uri": "https://localhost:8080/"
    },
    "executionInfo": {
     "elapsed": 170,
     "status": "ok",
     "timestamp": 1634835448777,
     "user": {
      "displayName": "Saeed Akbari Shandiz",
      "photoUrl": "https://lh3.googleusercontent.com/a-/AOh14Gj_ltTfyzFcj-EidKK-RDh3G-RSeGnX-lq1mmA5=s64",
      "userId": "18254360833802486461"
     },
     "user_tz": 240
    },
    "id": "TuhdJNBIBita",
    "outputId": "8a28db13-6073-4784-a21f-40fbecf65d10"
   },
   "outputs": [
    {
     "data": {
      "text/plain": [
       "atomID       7699\n",
       "atomType        3\n",
       "x           0.549\n",
       "y           0.550\n",
       "z           0.000\n",
       "Name: 1, dtype: object"
      ]
     },
     "execution_count": 276,
     "metadata": {},
     "output_type": "execute_result"
    }
   ],
   "source": [
    "df.iloc[1]"
   ]
  },
  {
   "cell_type": "markdown",
   "metadata": {
    "id": "qh9lWrqb5uMC"
   },
   "source": [
    "**read the center of mass of NP**"
   ]
  },
  {
   "cell_type": "code",
   "execution_count": 277,
   "metadata": {
    "executionInfo": {
     "elapsed": 148,
     "status": "ok",
     "timestamp": 1634835451706,
     "user": {
      "displayName": "Saeed Akbari Shandiz",
      "photoUrl": "https://lh3.googleusercontent.com/a-/AOh14Gj_ltTfyzFcj-EidKK-RDh3G-RSeGnX-lq1mmA5=s64",
      "userId": "18254360833802486461"
     },
     "user_tz": 240
    },
    "id": "pR_5ZyEw9jAl"
   },
   "outputs": [],
   "source": [
    "type_Frame=np.zeros((num_frame,num_atom))\n"
   ]
  },
  {
   "cell_type": "code",
   "execution_count": 278,
   "metadata": {
    "executionInfo": {
     "elapsed": 382,
     "status": "ok",
     "timestamp": 1634835453208,
     "user": {
      "displayName": "Saeed Akbari Shandiz",
      "photoUrl": "https://lh3.googleusercontent.com/a-/AOh14Gj_ltTfyzFcj-EidKK-RDh3G-RSeGnX-lq1mmA5=s64",
      "userId": "18254360833802486461"
     },
     "user_tz": 240
    },
    "id": "D_royAIWjeeg"
   },
   "outputs": [],
   "source": [
    "for i in range (0, num_frame):\n",
    "   \n",
    "   type_Frame[i,:]=df.atomType.values[(i*num_atom):((i*num_atom)+num_atom)] #thankGOD! to read x values for each frame and put in an array"
   ]
  },
  {
   "cell_type": "code",
   "execution_count": 279,
   "metadata": {
    "colab": {
     "base_uri": "https://localhost:8080/"
    },
    "executionInfo": {
     "elapsed": 7,
     "status": "ok",
     "timestamp": 1634835454337,
     "user": {
      "displayName": "Saeed Akbari Shandiz",
      "photoUrl": "https://lh3.googleusercontent.com/a-/AOh14Gj_ltTfyzFcj-EidKK-RDh3G-RSeGnX-lq1mmA5=s64",
      "userId": "18254360833802486461"
     },
     "user_tz": 240
    },
    "id": "DNTOcZJcjHZw",
    "outputId": "95f61b9c-0bb7-4379-87e9-99243200aca8"
   },
   "outputs": [
    {
     "data": {
      "text/plain": [
       "array([[3., 3., 3., ..., 4., 4., 4.],\n",
       "       [3., 3., 3., ..., 4., 4., 4.],\n",
       "       [3., 3., 3., ..., 4., 4., 4.],\n",
       "       ...,\n",
       "       [3., 3., 3., ..., 4., 4., 4.],\n",
       "       [3., 3., 3., ..., 4., 4., 4.],\n",
       "       [3., 3., 3., ..., 4., 4., 4.]])"
      ]
     },
     "execution_count": 279,
     "metadata": {},
     "output_type": "execute_result"
    }
   ],
   "source": [
    "type_Frame[:,:]"
   ]
  },
  {
   "cell_type": "code",
   "execution_count": 280,
   "metadata": {
    "executionInfo": {
     "elapsed": 1829,
     "status": "ok",
     "timestamp": 1634835458392,
     "user": {
      "displayName": "Saeed Akbari Shandiz",
      "photoUrl": "https://lh3.googleusercontent.com/a-/AOh14Gj_ltTfyzFcj-EidKK-RDh3G-RSeGnX-lq1mmA5=s64",
      "userId": "18254360833802486461"
     },
     "user_tz": 240
    },
    "id": "vNBOWatFjzAD"
   },
   "outputs": [],
   "source": [
    "for i in range (0, num_frame):\n",
    "  num_atom_type=0\n",
    "  for k in range (0, num_atom):\n",
    "     if type_Frame[i,k]==1: #we only read atoms of EG layer with atom type 1\n",
    "       num_atom_type+=1"
   ]
  },
  {
   "cell_type": "code",
   "execution_count": 281,
   "metadata": {
    "colab": {
     "base_uri": "https://localhost:8080/"
    },
    "executionInfo": {
     "elapsed": 165,
     "status": "ok",
     "timestamp": 1634835459419,
     "user": {
      "displayName": "Saeed Akbari Shandiz",
      "photoUrl": "https://lh3.googleusercontent.com/a-/AOh14Gj_ltTfyzFcj-EidKK-RDh3G-RSeGnX-lq1mmA5=s64",
      "userId": "18254360833802486461"
     },
     "user_tz": 240
    },
    "id": "jxaoMGOIquUV",
    "outputId": "883fddac-ec85-4d64-c82e-580427bb30b6"
   },
   "outputs": [
    {
     "data": {
      "text/plain": [
       "6860"
      ]
     },
     "execution_count": 281,
     "metadata": {},
     "output_type": "execute_result"
    }
   ],
   "source": [
    "num_atom_type"
   ]
  },
  {
   "cell_type": "code",
   "execution_count": 282,
   "metadata": {
    "executionInfo": {
     "elapsed": 158,
     "status": "ok",
     "timestamp": 1634835461483,
     "user": {
      "displayName": "Saeed Akbari Shandiz",
      "photoUrl": "https://lh3.googleusercontent.com/a-/AOh14Gj_ltTfyzFcj-EidKK-RDh3G-RSeGnX-lq1mmA5=s64",
      "userId": "18254360833802486461"
     },
     "user_tz": 240
    },
    "id": "zqlGrottqkDM"
   },
   "outputs": [],
   "source": [
    "ID_X_Frame=np.zeros ((num_frame+1,num_atom_type+1))\n",
    "ID_Y_Frame=np.zeros ((num_frame+1,num_atom_type+1))\n",
    "ID_Z_Frame=np.zeros ((num_frame+1,num_atom_type+1))\n",
    "\n",
    "X_Frame=np.zeros (num_frame+1)\n",
    "Y_Frame=np.zeros (num_frame+1)\n",
    "Z_Frame=np.zeros (num_frame+1)"
   ]
  },
  {
   "cell_type": "code",
   "execution_count": 283,
   "metadata": {
    "executionInfo": {
     "elapsed": 3525,
     "status": "ok",
     "timestamp": 1634835466902,
     "user": {
      "displayName": "Saeed Akbari Shandiz",
      "photoUrl": "https://lh3.googleusercontent.com/a-/AOh14Gj_ltTfyzFcj-EidKK-RDh3G-RSeGnX-lq1mmA5=s64",
      "userId": "18254360833802486461"
     },
     "user_tz": 240
    },
    "id": "xpI6-fPCrL2t"
   },
   "outputs": [],
   "source": [
    "time_counter=0\n",
    "for i in range (0, num_frame):\n",
    "  atom_counter=0\n",
    "  time_counter+=1\n",
    "  for k in range (0, num_atom):\n",
    "     if type_Frame[i,k]==1: #atom type of EG layer\n",
    "       atom_counter+=1\n",
    "       \n",
    " #print(time_counter,\"\",atom_counter)\n",
    "       ID_X_Frame[time_counter,atom_counter]=df.x.values[k]"
   ]
  },
  {
   "cell_type": "markdown",
   "metadata": {
    "id": "BuwgNdt21oaV"
   },
   "source": [
    "should we consider image flages as we did for catenane in MD???\n",
    " here in dump of DPD I did not save image flages!"
   ]
  },
  {
   "cell_type": "code",
   "execution_count": 284,
   "metadata": {
    "executionInfo": {
     "elapsed": 6872,
     "status": "ok",
     "timestamp": 1634835504238,
     "user": {
      "displayName": "Saeed Akbari Shandiz",
      "photoUrl": "https://lh3.googleusercontent.com/a-/AOh14Gj_ltTfyzFcj-EidKK-RDh3G-RSeGnX-lq1mmA5=s64",
      "userId": "18254360833802486461"
     },
     "user_tz": 240
    },
    "id": "mtriLm0m7-hs"
   },
   "outputs": [],
   "source": [
    "\n",
    "\n",
    "Xave=np.zeros(num_frame+1) #average of x values for all beads of EG\n",
    "Yave=np.zeros(num_frame+1)\n",
    "Zave=np.zeros(num_frame+1)\n",
    "\n",
    "\n",
    "\n",
    "time_counter=0\n",
    "for i in range (0, num_frame):\n",
    "  atom_counter=0\n",
    "  time_counter+=1\n",
    "  Xoverall=0 # after each frame this will be zero so count from begining for next frame\n",
    "  Yoverall=0\n",
    "  Zoverall=0\n",
    "  for k in range (0, num_atom):\n",
    "     \n",
    "     if type_Frame[i,k]==1: # beads of EG layer\n",
    "       atom_counter+=1\n",
    "  \n",
    "       ID_X_Frame[time_counter,atom_counter]=df.x.values[k]\n",
    "       ID_Y_Frame[time_counter,atom_counter]=df.y.values[k]\n",
    "       ID_Z_Frame[time_counter,atom_counter]=df.z.values[k]\n",
    "\n",
    "       Xoverall = Xoverall + ID_X_Frame[time_counter,atom_counter]\n",
    "       Yoverall = Yoverall + ID_Y_Frame[time_counter,atom_counter]\n",
    "       Zoverall = Zoverall + ID_Z_Frame[time_counter,atom_counter]\n",
    "\n",
    "       Xave[time_counter] = Xoverall/num_atom_type\n",
    "       Yave[time_counter] = Yoverall/num_atom_type\n",
    "       Zave[time_counter] = Zoverall/num_atom_type     \n",
    "       \n",
    "       X_Frame[time_counter]=ID_X_Frame[time_counter,atom_counter]\n",
    "       Y_Frame[time_counter]=ID_Y_Frame[time_counter,atom_counter]\n",
    "       Z_Frame[time_counter]=ID_Z_Frame[time_counter,atom_counter]\n",
    "\n",
    "       "
   ]
  },
  {
   "cell_type": "code",
   "execution_count": 285,
   "metadata": {
    "colab": {
     "base_uri": "https://localhost:8080/"
    },
    "executionInfo": {
     "elapsed": 282,
     "status": "ok",
     "timestamp": 1634835506193,
     "user": {
      "displayName": "Saeed Akbari Shandiz",
      "photoUrl": "https://lh3.googleusercontent.com/a-/AOh14Gj_ltTfyzFcj-EidKK-RDh3G-RSeGnX-lq1mmA5=s64",
      "userId": "18254360833802486461"
     },
     "user_tz": 240
    },
    "id": "zHQgNf4I8pOS",
    "outputId": "8624bcd2-f60a-4d22-ea16-d7d8e8413260"
   },
   "outputs": [
    {
     "name": "stdout",
     "output_type": "stream",
     "text": [
      "0  0.0  0.0  157950\n",
      "1  7.262762390670543  15.3  157950\n",
      "2  6.99724548104957  15.69  157950\n",
      "3  7.044741836734687  16.127  157950\n",
      "4  7.017595189504367  16.434  157950\n",
      "5  7.017587172011643  15.9  157950\n",
      "6  6.996996938775507  15.1  157950\n",
      "7  7.006189941690979  15.2  157950\n",
      "8  7.014970845481041  15.7  157950\n",
      "9  7.009508454810507  15.9  157950\n",
      "10  7.026507434402322  15.2  157950\n",
      "11  7.034485714285724  16.0  157950\n",
      "12  7.033920845481058  16.1  157950\n",
      "13  7.040690524781343  16.0  157950\n",
      "14  7.060184839650141  15.3  157950\n",
      "15  7.043744023323615  16.2  157950\n",
      "16  7.033554810495629  15.516  157950\n",
      "17  7.0232928571428666  15.8  157950\n",
      "18  7.020297813411081  13.8  157950\n",
      "19  6.9940599125364376  15.8  157950\n",
      "20  6.99701166180758  15.47  157950\n",
      "21  7.004396938775512  15.01  157950\n",
      "22  7.023106268221587  16.0  157950\n",
      "23  7.0149938775510225  16.2  157950\n",
      "24  7.006779591836721  15.8  157950\n",
      "25  7.021507142857119  15.0  157950\n",
      "26  7.027475072886301  15.5  157950\n",
      "27  7.018154227405283  13.6  157950\n",
      "28  7.018606122448989  15.9  157950\n",
      "29  7.005975655976684  15.1  157950\n",
      "30  7.002921865889198  15.2  157950\n"
     ]
    }
   ],
   "source": [
    "for i in range (0, num_frame):\n",
    "  print(i,'',Zave[i],'',Z_Frame[i],'',num_atom) #here the center of box is in wall so Np is located above EG with distsnce around 14.9 nm so Zcm starts from 14.9 and when np go inside EG and be closer to wall the Zcm also decreases.\n",
    "#Xoverall"
   ]
  },
  {
   "cell_type": "markdown",
   "metadata": {
    "id": "mH6N7DmK9_Cc"
   },
   "source": [
    "**calculate Rg** (new method)"
   ]
  },
  {
   "cell_type": "code",
   "execution_count": 286,
   "metadata": {
    "executionInfo": {
     "elapsed": 6690,
     "status": "ok",
     "timestamp": 1634835515963,
     "user": {
      "displayName": "Saeed Akbari Shandiz",
      "photoUrl": "https://lh3.googleusercontent.com/a-/AOh14Gj_ltTfyzFcj-EidKK-RDh3G-RSeGnX-lq1mmA5=s64",
      "userId": "18254360833802486461"
     },
     "user_tz": 240
    },
    "id": "FL8tnZa5gssf"
   },
   "outputs": [],
   "source": [
    "\n",
    "Xave=0 #average of x values for all beads of EG\n",
    "Yave=0\n",
    "Zave=0\n",
    "\n",
    "\n",
    "\n",
    "time_counter=0\n",
    "for i in range (0, num_frame):\n",
    "  atom_counter=0\n",
    "  time_counter+=1\n",
    "  Xoverall=0 # after each frame this will be zero so count from begining for next frame\n",
    "  Yoverall=0\n",
    "  Zoverall=0\n",
    "  for k in range (0, num_atom):\n",
    "     \n",
    "     if type_Frame[i,k]==1: # beads of EG layer\n",
    "       atom_counter+=1\n",
    "  \n",
    "       ID_X_Frame[time_counter,atom_counter]=df.x.values[k]\n",
    "       ID_Y_Frame[time_counter,atom_counter]=df.y.values[k]\n",
    "       ID_Z_Frame[time_counter,atom_counter]=df.z.values[k]\n",
    "\n",
    "       Xoverall = Xoverall + ID_X_Frame[time_counter,atom_counter]\n",
    "       Yoverall = Yoverall + ID_Y_Frame[time_counter,atom_counter]\n",
    "       Zoverall = Zoverall + ID_Z_Frame[time_counter,atom_counter]\n",
    "\n",
    "       Xave = Xoverall/num_atom_type\n",
    "       Yave = Yoverall/num_atom_type\n",
    "       Zave = Zoverall/num_atom_type     \n",
    "       \n",
    "     "
   ]
  },
  {
   "cell_type": "code",
   "execution_count": 287,
   "metadata": {
    "executionInfo": {
     "elapsed": 2668,
     "status": "ok",
     "timestamp": 1634835520037,
     "user": {
      "displayName": "Saeed Akbari Shandiz",
      "photoUrl": "https://lh3.googleusercontent.com/a-/AOh14Gj_ltTfyzFcj-EidKK-RDh3G-RSeGnX-lq1mmA5=s64",
      "userId": "18254360833802486461"
     },
     "user_tz": 240
    },
    "id": "b_mGrtfqi-oN"
   },
   "outputs": [],
   "source": [
    "#non time average msd of center of mass of NP\n",
    "# make 1D arrays\n",
    "sumDeltaR=0\n",
    "sumDeltaRz=0\n",
    "DeltaR=np.zeros (num_frame)\n",
    "DeltaRz=np.zeros (num_frame)\n",
    "\n",
    "dx=np.zeros (num_frame)\n",
    "dy=np.zeros (num_frame)\n",
    "dz=np.zeros (num_frame)\n",
    "\n",
    "\n",
    "\n",
    "for k in range (0, num_atom_type):#thank god \n",
    "   Xrg=np.zeros (num_frame)\n",
    "   Yrg=np.zeros (num_frame)\n",
    "   Zrg=np.zeros (num_frame)\n",
    "   sumDeltaR=0\n",
    "   sumDeltaRz=0\n",
    "   for t in range (1, num_frame):\n",
    "   \n",
    "       \n",
    "         \n",
    "                     \n",
    "        dx[t]=ID_X_Frame[t,k]-Xave\n",
    "        dy[t]=ID_Y_Frame[t,k]-Yave\n",
    "        dz[t]=ID_Z_Frame[t,k]-Zave       \n",
    "        \n",
    "        Xrg[t]+=np.power(dx[t],2)\n",
    "        Yrg[t]+=np.power(dy[t],2)\n",
    "        Zrg[t]+=np.power(dz[t],2)\n",
    "        \n",
    "        DeltaR[t]= Xrg[t]+Yrg[t]+ Zrg[t];\n",
    "        DeltaRz[t]= Zrg[t];\n",
    "        sumDeltaR=sumDeltaR+DeltaR\n",
    "        sumDeltaRz=sumDeltaRz+DeltaRz\n",
    "   #print(t,'',dz,'',DeltaR)\n",
    "        #print(t,'',Rmsd[t])"
   ]
  },
  {
   "cell_type": "code",
   "execution_count": 288,
   "metadata": {
    "colab": {
     "base_uri": "https://localhost:8080/"
    },
    "executionInfo": {
     "elapsed": 177,
     "status": "ok",
     "timestamp": 1634835523636,
     "user": {
      "displayName": "Saeed Akbari Shandiz",
      "photoUrl": "https://lh3.googleusercontent.com/a-/AOh14Gj_ltTfyzFcj-EidKK-RDh3G-RSeGnX-lq1mmA5=s64",
      "userId": "18254360833802486461"
     },
     "user_tz": 240
    },
    "id": "U5x29kwckm8U",
    "outputId": "dd6844b1-d2ed-4d52-c9fb-aeea33027abf"
   },
   "outputs": [
    {
     "name": "stdout",
     "output_type": "stream",
     "text": [
      "[0.         0.56364542 0.36396154 1.24791198 1.53901805 1.26493578\n",
      " 0.35686373 0.89085613 1.67517751 1.9638494  0.77113829 1.21520959\n",
      " 1.67711982 1.47311491 1.28250681 1.01131812 1.07959362 1.12002548\n",
      " 1.16862154 1.12418643 1.09231625 1.51506743 2.04301472 0.56772637\n",
      " 0.72594617 0.57323626 1.07448939 1.07769208 1.12138308 1.3284551\n",
      " 1.2739432 ]\n"
     ]
    }
   ],
   "source": [
    "Rg2=sumDeltaR/num_atom_type\n",
    "print(Rg2)"
   ]
  },
  {
   "cell_type": "code",
   "execution_count": 289,
   "metadata": {
    "executionInfo": {
     "elapsed": 713,
     "status": "ok",
     "timestamp": 1634835533050,
     "user": {
      "displayName": "Saeed Akbari Shandiz",
      "photoUrl": "https://lh3.googleusercontent.com/a-/AOh14Gj_ltTfyzFcj-EidKK-RDh3G-RSeGnX-lq1mmA5=s64",
      "userId": "18254360833802486461"
     },
     "user_tz": 240
    },
    "id": "p6po3GePb5Aj"
   },
   "outputs": [],
   "source": [
    "df = pd.DataFrame(Rg2)\n",
    "df.to_excel(r'C:\\vmd\\Rg.xlsx')"
   ]
  },
  {
   "cell_type": "markdown",
   "metadata": {},
   "source": [
    "# * Rg in Z direction *"
   ]
  },
  {
   "cell_type": "code",
   "execution_count": 290,
   "metadata": {},
   "outputs": [
    {
     "name": "stdout",
     "output_type": "stream",
     "text": [
      "[0.         0.28689966 0.33340784 0.3149568  0.33205962 0.2347504\n",
      " 0.29644736 0.33502898 0.2218895  0.33020123 0.3668117  0.22882648\n",
      " 0.21955581 0.31263059 0.22357897 0.32706139 0.27102096 0.22906266\n",
      " 0.23670078 0.22418239 0.20514252 0.33622709 0.30722534 0.34018032\n",
      " 0.31557781 0.30679683 0.29644736 0.20980411 0.24183615 0.2184334\n",
      " 0.20838871]\n"
     ]
    }
   ],
   "source": [
    "Rg2z=sumDeltaRz/num_atom_type\n",
    "print(Rg2z)"
   ]
  },
  {
   "cell_type": "code",
   "execution_count": 291,
   "metadata": {},
   "outputs": [],
   "source": [
    "df = pd.DataFrame(Rg2z)\n",
    "df.to_excel(r'C:\\vmd\\Rgz.xlsx')"
   ]
  },
  {
   "cell_type": "code",
   "execution_count": 2,
   "metadata": {
    "colab": {
     "base_uri": "https://localhost:8080/",
     "height": 290
    },
    "executionInfo": {
     "elapsed": 457,
     "status": "ok",
     "timestamp": 1634848607876,
     "user": {
      "displayName": "Saeed Akbari Shandiz",
      "photoUrl": "https://lh3.googleusercontent.com/a-/AOh14Gj_ltTfyzFcj-EidKK-RDh3G-RSeGnX-lq1mmA5=s64",
      "userId": "18254360833802486461"
     },
     "user_tz": 240
    },
    "id": "KM6OnaZAZAak",
    "outputId": "7bbed53d-2fcb-40c0-ad96-99cf086d42c6"
   },
   "outputs": [
    {
     "name": "stderr",
     "output_type": "stream",
     "text": [
      "findfont: Font family ['serif'] not found. Falling back to DejaVu Sans.\n"
     ]
    },
    {
     "data": {
      "image/png": "[encoded data removed]",
      "text/plain": [
       "<Figure size 396x288 with 1 Axes>"
      ]
     },
     "metadata": {
      "needs_background": "light"
     },
     "output_type": "display_data"
    }
   ],
   "source": [
    "import numpy as np\n",
    "from matplotlib import pyplot as plt\n",
    "import pandas as pd\n",
    "import pylab \n",
    "from matplotlib import rcParams\n",
    "\n",
    "#df =pd.ExcelFile('/content/drive/My Drive/Case/nanoBloodProject/rg/homo/152lig/lig/RgLigWhole.xlsx')# the name of execl file should start with capital word. Rdf is correct but not rdf \n",
    "df =pd.ExcelFile(r'C:\\vmd\\rc1.0_RgZ_8,12,16rc.xlsx')\n",
    "Sheet1 =pd.read_excel(df,header=0)\n",
    "\n",
    "ax=Sheet1.plot(kind='line', y= '8rc', color='blue', linewidth=1.5, label='8rc')\n",
    "ax.legend()\n",
    "Sheet1.plot(kind='line',  y= '12rc', color='red', linewidth=1.5, label='12rc', ax=ax)\n",
    "ax=Sheet1.plot(kind='line', y= '16rc', color='green', linewidth=1.5, label='16rc', ax=ax)\n",
    "#ax.legend()\n",
    "#Sheet1.plot(kind='line',  x='a', y= 'd', color='green', linewidth=0.7, label='veryRigid', ax=ax)\n",
    "ax.legend()\n",
    "\n",
    "\n",
    "##########################################\n",
    "ax.set_xlabel('time (100ps)')\n",
    "ax.set_ylabel('Rg^2 (1.0nm)') \n",
    "#ax.set_yscale('log') #to plot in log scale\n",
    "\n",
    "pylab.xlim([1,30])\n",
    "plt.xticks(np.arange(10,31,10)) #the distance of units to be shown in x axis. it starts from 10 to 30 with idistance of 10.thankGOD!\n",
    "pylab.ylim([0.0,0.5])# define the range of y coordinate\n",
    "plt.yticks(np.arange(0,0.51,0.1))\n",
    "\n",
    "rcParams['font.family'] = 'serif'\n",
    "rcParams['font.sans-serif'] = ['Bitstream Vera Sans']\n",
    "rcParams['font.serif'] = ['Bitstream Vera Sans']\n",
    "rcParams[\"font.size\"] = \"17\"\n",
    "\n",
    "#ax.get_legend().remove()\n",
    "\n",
    "plt.rcParams[\"figure.figsize\"] = [5.50, 4.0]\n",
    "plt.rcParams[\"figure.autolayout\"] = True\n",
    "\n",
    "plt.ticklabel_format(axis=\"both\", style=\"plain\", scilimits=(0,0))#show the x and y axis in scientific \n",
    "###########################################\n",
    "\n",
    "plt.savefig(r'C:\\vmd\\rc1.0_RgZ_8,12,16rc.png')"
   ]
  },
  {
   "cell_type": "code",
   "execution_count": null,
   "metadata": {},
   "outputs": [
    {
     "data": {
      "image/png": "[encoded data removed]",
      "text/plain": [
       "<Figure size 396x288 with 1 Axes>"
      ]
     },
     "metadata": {
      "needs_background": "light"
     },
     "output_type": "display_data"
    }
   ],
   "source": [
    "import numpy as np\n",
    "from matplotlib import pyplot as plt\n",
    "import pandas as pd\n",
    "import pylab \n",
    "from matplotlib import rcParams\n",
    "\n",
    "#df =pd.ExcelFile('/content/drive/My Drive/Case/nanoBloodProject/rg/homo/152lig/lig/RgLigWhole.xlsx')# the name of execl file should start with capital word. Rdf is correct but not rdf \n",
    "df =pd.ExcelFile(r'C:\\vmd\\rc1.0_rg_z_bare,170,340lig.xlsx')\n",
    "Sheet1 =pd.read_excel(df,header=0)\n",
    "\n",
    "ax=Sheet1.plot(kind='line', y= 'bare', color='blue', linewidth=1.5, label='bare')\n",
    "ax.legend()\n",
    "Sheet1.plot(kind='line',  y= '170lig', color='red', linewidth=1.5, label='170lig', ax=ax)\n",
    "ax=Sheet1.plot(kind='line', y= '340lig', color='green', linewidth=1.5, label='340lig', ax=ax)\n",
    "#ax.legend()\n",
    "#Sheet1.plot(kind='line',  x='a', y= 'd', color='green', linewidth=0.7, label='veryRigid', ax=ax)\n",
    "ax.legend()\n",
    "\n",
    "##########################################\n",
    "ax.set_xlabel('time (100ps)')\n",
    "ax.set_ylabel('Rg^2 (1.0nm)') \n",
    "#ax.set_yscale('log') #to plot in log scale\n",
    "\n",
    "pylab.xlim([1,30])\n",
    "plt.xticks(np.arange(10,31,10)) #the distance of units to be shown in x axis. it starts from 10 to 30 with idistance of 10.thankGOD!\n",
    "pylab.ylim([0.0,0.5])# define the range of y coordinate\n",
    "plt.yticks(np.arange(0,0.51,0.1))\n",
    "\n",
    "rcParams['font.family'] = 'serif'\n",
    "rcParams['font.sans-serif'] = ['Bitstream Vera Sans']\n",
    "rcParams['font.serif'] = ['Bitstream Vera Sans']\n",
    "rcParams[\"font.size\"] = \"17\"\n",
    "\n",
    "#ax.get_legend().remove()\n",
    "\n",
    "plt.rcParams[\"figure.figsize\"] = [5.50, 4.0]\n",
    "plt.rcParams[\"figure.autolayout\"] = True\n",
    "\n",
    "plt.ticklabel_format(axis=\"both\", style=\"plain\", scilimits=(0,0))#show the x and y axis in scientific \n",
    "###########################################\n",
    "\n",
    "#plt.savefig('/content/drive/My Drive/Case/nanoBloodProject/rg/homo/152lig/lig/RgLigWhole.png')\n",
    "plt.savefig(r'C:\\vmd\\rc1.0_rg_z_bare,170,340lig.png')"
   ]
  },
  {
   "cell_type": "code",
   "execution_count": 6,
   "metadata": {},
   "outputs": [
    {
     "data": {
      "image/png": "[encoded data removed]",
      "text/plain": [
       "<Figure size 396x288 with 1 Axes>"
      ]
     },
     "metadata": {
      "needs_background": "light"
     },
     "output_type": "display_data"
    }
   ],
   "source": [
    "import numpy as np\n",
    "from matplotlib import pyplot as plt\n",
    "import pandas as pd\n",
    "import pylab \n",
    "\n",
    "#df =pd.ExcelFile('/content/drive/My Drive/Case/nanoBloodProject/rg/homo/152lig/lig/RgLigWhole.xlsx')# the name of execl file should start with capital word. Rdf is correct but not rdf \n",
    "df =pd.ExcelFile(r'C:\\vmd\\rc1.0_rg_z_parallel_perpend.xlsx')\n",
    "Sheet1 =pd.read_excel(df,header=0)\n",
    "\n",
    "ax=Sheet1.plot(kind='line',  y= 'parallel', color='green', linewidth=1.5, label='parallel')\n",
    "ax.legend()\n",
    "Sheet1.plot(kind='line',  y= 'perpend', color='red', linewidth=1.5, label='perpendicular', ax=ax)\n",
    "ax.legend()\n",
    "#ax=Sheet1.plot(kind='line',  x='a', y= 'd', color='green', linewidth=0.5, label='135', ax=ax)\n",
    "#ax.legend()\n",
    "\n",
    "##########################################\n",
    "ax.set_xlabel('time (100ps)')\n",
    "ax.set_ylabel('Rg^2 (1.0nm)') \n",
    "#ax.set_yscale('log') #to plot in log scale\n",
    "\n",
    "pylab.xlim([1,30])\n",
    "plt.xticks(np.arange(10,31,10)) #the distance of units to be shown in x axis. it starts from 10 to 30 with idistance of 10.thankGOD!\n",
    "pylab.ylim([0.0,0.5])# define the range of y coordinate\n",
    "plt.yticks(np.arange(0,0.51,0.1))\n",
    "\n",
    "rcParams['font.family'] = 'serif'\n",
    "rcParams['font.sans-serif'] = ['Bitstream Vera Sans']\n",
    "rcParams['font.serif'] = ['Bitstream Vera Sans']\n",
    "rcParams[\"font.size\"] = \"17\"\n",
    "\n",
    "#ax.get_legend().remove()\n",
    "\n",
    "plt.rcParams[\"figure.figsize\"] = [5.50, 4.0]\n",
    "plt.rcParams[\"figure.autolayout\"] = True\n",
    "\n",
    "plt.ticklabel_format(axis=\"both\", style=\"plain\", scilimits=(0,0))#show the x and y axis in scientific \n",
    "###########################################\n",
    "\n",
    "plt.savefig(r'C:\\vmd\\rc1.0_rg_z_parallel_perpend(2).png')\n"
   ]
  },
  {
   "cell_type": "code",
   "execution_count": 4,
   "metadata": {},
   "outputs": [
    {
     "data": {
      "image/png": "[encoded data removed]",
      "text/plain": [
       "<Figure size 396x288 with 1 Axes>"
      ]
     },
     "metadata": {
      "needs_background": "light"
     },
     "output_type": "display_data"
    }
   ],
   "source": [
    "import numpy as np\n",
    "from matplotlib import pyplot as plt\n",
    "import pandas as pd\n",
    "import pylab \n",
    "\n",
    "#df =pd.ExcelFile('/content/drive/My Drive/Case/nanoBloodProject/rg/homo/152lig/lig/RgLigWhole.xlsx')# the name of execl file should start with capital word. Rdf is correct but not rdf \n",
    "df =pd.ExcelFile(r'C:\\vmd\\rc1.0_rg_z, rod,disc,sphere,.xlsx')\n",
    "Sheet1 =pd.read_excel(df,header=0)\n",
    "\n",
    "ax=Sheet1.plot(kind='line', y= 'rod', color='blue', linewidth=1.5, label='rod')\n",
    "ax.legend()\n",
    "Sheet1.plot(kind='line',  y= 'disc', color='red', linewidth=1.5, label='disc', ax=ax)\n",
    "ax=Sheet1.plot(kind='line', y= 'sphere', color='green', linewidth=1.5, label='sphere', ax=ax)\n",
    "#ax.legend()\n",
    "#Sheet1.plot(kind='line',  x='a', y= 'd', color='green', linewidth=0.7, label='veryRigid', ax=ax)\n",
    "ax.legend()\n",
    "\n",
    "##########################################\n",
    "ax.set_xlabel('time (100ps)')\n",
    "ax.set_ylabel('Rg^2 (1.0nm)') \n",
    "#ax.set_yscale('log') #to plot in log scale\n",
    "\n",
    "pylab.xlim([1,30])\n",
    "plt.xticks(np.arange(10,31,10)) #the distance of units to be shown in x axis. it starts from 10 to 30 with idistance of 10.thankGOD!\n",
    "pylab.ylim([0.0,0.5])# define the range of y coordinate\n",
    "plt.yticks(np.arange(0,0.51,0.1))\n",
    "\n",
    "rcParams['font.family'] = 'serif'\n",
    "rcParams['font.sans-serif'] = ['Bitstream Vera Sans']\n",
    "rcParams['font.serif'] = ['Bitstream Vera Sans']\n",
    "rcParams[\"font.size\"] = \"17\"\n",
    "\n",
    "#ax.get_legend().remove()\n",
    "\n",
    "plt.rcParams[\"figure.figsize\"] = [5.50, 4.0]\n",
    "plt.rcParams[\"figure.autolayout\"] = True\n",
    "\n",
    "plt.ticklabel_format(axis=\"both\", style=\"plain\", scilimits=(0,0))#show the x and y axis in scientific \n",
    "###########################################\n",
    "\n",
    "plt.savefig(r'C:\\vmd\\rc1.0_rg_z, rod,disc,sphere,(2).png')"
   ]
  },
  {
   "cell_type": "code",
   "execution_count": null,
   "metadata": {
    "colab": {
     "base_uri": "https://localhost:8080/",
     "height": 283
    },
    "executionInfo": {
     "elapsed": 720,
     "status": "ok",
     "timestamp": 1633471449968,
     "user": {
      "displayName": "Saeed Akbari Shandiz",
      "photoUrl": "https://lh3.googleusercontent.com/a-/AOh14Gj_ltTfyzFcj-EidKK-RDh3G-RSeGnX-lq1mmA5=s64",
      "userId": "18254360833802486461"
     },
     "user_tz": 240
    },
    "id": "D5o_Rsvcd4Ub",
    "outputId": "c06fc022-979d-4b66-e8ea-2dd57f09adbf"
   },
   "outputs": [
    {
     "data": {
      "image/png": "[encoded data removed]",
      "text/plain": [
       "<Figure size 432x288 with 1 Axes>"
      ]
     },
     "metadata": {
      "needs_background": "light"
     },
     "output_type": "display_data"
    }
   ],
   "source": [
    "import numpy as np\n",
    "from matplotlib import pyplot as plt\n",
    "import pandas as pd\n",
    "import pylab \n",
    "\n",
    "#df =pd.ExcelFile('/content/drive/My Drive/Case/nanoBloodProject/rg/homo/152lig/lig/RgLigWhole.xlsx')# the name of execl file should start with capital word. Rdf is correct but not rdf \n",
    "df =pd.ExcelFile('/content/drive/My Drive/Case/nanoBloodProject/rg/rgAij24...27.xlsx')\n",
    "Sheet1 =pd.read_excel(df,header=0)\n",
    "\n",
    "ax=Sheet1.plot(kind='line',  x='a', y= 'b', color='blue', linewidth=0.5, label='aij24')\n",
    "ax.legend()\n",
    "Sheet1.plot(kind='line',  x='a', y= 'c', color='red', linewidth=0.5, label='aij25', ax=ax)\n",
    "Sheet1.plot(kind='line',  x='a', y= 'd', color='green', linewidth=0.5, label='aij26', ax=ax)\n",
    "Sheet1.plot(kind='line',  x='a', y= 'e', color='orange', linewidth=0.5, label='aij27', ax=ax)\n",
    "ax.legend()\n",
    "ax.set_xlabel('time (100ps)')\n",
    "ax.set_ylabel('Rg^2 (0.71nm)') \n",
    "pylab.xlim([0,30])\n",
    "pylab.ylim([0,2])# define the range of y coordinate\n",
    "plt.ticklabel_format(axis=\"both\", style=\"sci\", scilimits=(0,0))#show the x and y axis in scientific mode\n",
    "#plt.savefig('/content/drive/My Drive/Case/nanoBloodProject/rg/homo/152lig/lig/RgLigWhole.png')\n",
    "plt.savefig('/content/drive/My Drive/Case/nanoBloodProject/rg/rgAij24...27.png')"
   ]
  },
  {
   "cell_type": "code",
   "execution_count": 29,
   "metadata": {
    "colab": {
     "base_uri": "https://localhost:8080/",
     "height": 283
    },
    "executionInfo": {
     "elapsed": 681,
     "status": "ok",
     "timestamp": 1634836088479,
     "user": {
      "displayName": "Saeed Akbari Shandiz",
      "photoUrl": "https://lh3.googleusercontent.com/a-/AOh14Gj_ltTfyzFcj-EidKK-RDh3G-RSeGnX-lq1mmA5=s64",
      "userId": "18254360833802486461"
     },
     "user_tz": 240
    },
    "id": "g39EwRdubUQQ",
    "outputId": "5a36863a-fb83-49a9-b277-3418e77ca5d7"
   },
   "outputs": [
    {
     "data": {
      "image/png": "[encoded data removed]",
      "text/plain": [
       "<Figure size 432x288 with 1 Axes>"
      ]
     },
     "metadata": {
      "needs_background": "light"
     },
     "output_type": "display_data"
    }
   ],
   "source": [
    "import numpy as np\n",
    "from matplotlib import pyplot as plt\n",
    "import pandas as pd\n",
    "import pylab \n",
    "\n",
    "#df =pd.ExcelFile('/content/drive/My Drive/Case/nanoBloodProject/rg/homo/152lig/lig/RgLigWhole.xlsx')# the name of execl file should start with capital word. Rdf is correct but not rdf \n",
    "df =pd.ExcelFile('/content/drive/My Drive/Case/nanoBloodProject/rg/12rcRodBare170,340lig.xlsx')\n",
    "Sheet1 =pd.read_excel(df,header=0)\n",
    "\n",
    "ax=Sheet1.plot(kind='line',  x='a', y= 'b', color='blue', linewidth=0.5, label='bare')\n",
    "ax.legend()\n",
    "Sheet1.plot(kind='line',  x='a', y= 'c', color='red', linewidth=0.5, label='76lig', ax=ax)\n",
    "Sheet1.plot(kind='line',  x='a', y= 'd', color='green', linewidth=0.5, label='152lig', ax=ax)\n",
    "ax.legend()\n",
    "ax.set_xlabel('time (100ps)')\n",
    "ax.set_ylabel('Rg^2 (0.71nm)') \n",
    "pylab.xlim([10,300])\n",
    "pylab.ylim([0,2])# define the range of y coordinate\n",
    "plt.ticklabel_format(axis=\"both\", style=\"sci\", scilimits=(0,0))#show the x and y axis in scientific mode\n",
    "#plt.savefig('/content/drive/My Drive/Case/nanoBloodProject/rg/homo/152lig/lig/RgLigWhole.png')\n",
    "plt.savefig('/content/drive/My Drive/Case/nanoBloodProject/rg/12rcRodBare170,340lig.png')"
   ]
  },
  {
   "cell_type": "code",
   "execution_count": null,
   "metadata": {},
   "outputs": [],
   "source": [
    "df = pd.DataFrame(Rg2)\n",
    "df.to_excel(r'C:\\vmd\\Rg.xlsx')"
   ]
  },
  {
   "cell_type": "markdown",
   "metadata": {
    "id": "xEUqE7gzo8UM"
   },
   "source": [
    "**Zmsd only the motion in z direction**"
   ]
  },
  {
   "cell_type": "code",
   "execution_count": null,
   "metadata": {
    "id": "t-DL6oZenehH"
   },
   "outputs": [],
   "source": [
    "df = pd.DataFrame(Zmsd).T\n",
    "df.to_excel('/content/drive/My Drive/Case/nanoBloodProject/MSD/ZMSDnonTimAve.xlsx')"
   ]
  },
  {
   "cell_type": "code",
   "execution_count": null,
   "metadata": {
    "colab": {
     "base_uri": "https://localhost:8080/",
     "height": 283
    },
    "executionInfo": {
     "elapsed": 1002,
     "status": "ok",
     "timestamp": 1622046840146,
     "user": {
      "displayName": "Saeed Akbari Shandiz",
      "photoUrl": "https://lh3.googleusercontent.com/a-/AOh14Gj_ltTfyzFcj-EidKK-RDh3G-RSeGnX-lq1mmA5=s64",
      "userId": "18254360833802486461"
     },
     "user_tz": 240
    },
    "id": "Cvr9O68gniFQ",
    "outputId": "3da77a04-ae95-4f05-9466-e40cbecfd71c"
   },
   "outputs": [
    {
     "data": {
      "image/png": "[encoded data removed]",
      "text/plain": [
       "<Figure size 432x288 with 1 Axes>"
      ]
     },
     "metadata": {
      "needs_background": "light",
      "tags": []
     },
     "output_type": "display_data"
    }
   ],
   "source": [
    "import numpy as np\n",
    "from matplotlib import pyplot as plt\n",
    "import pandas as pd\n",
    "import pylab \n",
    "\n",
    "df =pd.ExcelFile('/content/drive/My Drive/Case/nanoBloodProject/MSD/ZMSDnonTimAve.xlsx')# the name of execl file should start with capital word. Rdf is correct but not rdf \n",
    "Sheet1 =pd.read_excel(df,header=0)\n",
    "\n",
    "ax=Sheet1.plot(kind='line',  x='a', y= 'b', color='blue', linewidth=0.5, label='Z coordinate')\n",
    "ax.legend()\n",
    "#Sheet1.plot(kind='line',  x='a', y= 'c', color='red', linewidth=0.5, label='toluene', ax=ax)\n",
    "#Sheet1.plot(kind='line',  x='a', y= 'd', color='green', linewidth=0.5, label='interface', ax=ax)\n",
    "ax.legend()\n",
    "ax.set_xlabel('time (100ps)')\n",
    "ax.set_ylabel('Distance (0.71nm)') \n",
    "pylab.xlim([0,30])\n",
    "pylab.ylim([0,1])# define the range of y coordinate\n",
    "plt.ticklabel_format(axis=\"both\", style=\"sci\", scilimits=(0,0))#show the x and y axis in scientific mode\n",
    "plt.savefig('/content/drive/My Drive/Case/nanoBloodProject/MSD/ZMSDnonTimAve.png')"
   ]
  },
  {
   "cell_type": "code",
   "execution_count": null,
   "metadata": {
    "id": "bDKl2Uf7Z5_0"
   },
   "outputs": [],
   "source": [
    "df = pd.DataFrame(Xmsd).T\n",
    "df.to_excel('/content/drive/My Drive/Case/nanoBloodProject/MSD/XMSDnonTimAve.xlsx')"
   ]
  },
  {
   "cell_type": "code",
   "execution_count": null,
   "metadata": {
    "colab": {
     "base_uri": "https://localhost:8080/",
     "height": 290
    },
    "executionInfo": {
     "elapsed": 485,
     "status": "ok",
     "timestamp": 1622157225038,
     "user": {
      "displayName": "Saeed Akbari Shandiz",
      "photoUrl": "https://lh3.googleusercontent.com/a-/AOh14Gj_ltTfyzFcj-EidKK-RDh3G-RSeGnX-lq1mmA5=s64",
      "userId": "18254360833802486461"
     },
     "user_tz": 240
    },
    "id": "2lOoMkp0Z23q",
    "outputId": "12d59efe-ba9d-4728-e7c3-2c3dd03ab9ea"
   },
   "outputs": [
    {
     "data": {
      "image/png": "[encoded data removed]",
      "text/plain": [
       "<Figure size 432x288 with 1 Axes>"
      ]
     },
     "metadata": {
      "needs_background": "light",
      "tags": []
     },
     "output_type": "display_data"
    }
   ],
   "source": [
    "import numpy as np\n",
    "from matplotlib import pyplot as plt\n",
    "import pandas as pd\n",
    "import pylab \n",
    "\n",
    "df =pd.ExcelFile('/content/drive/My Drive/Case/nanoBloodProject/MSD/XMSDnonTimAve.xlsx')# the name of execl file should start with capital word. Rdf is correct but not rdf \n",
    "Sheet1 =pd.read_excel(df,header=0)\n",
    "\n",
    "ax=Sheet1.plot(kind='line',  x='a', y= 'b', color='blue', linewidth=0.5, label='X coordinate')\n",
    "ax.legend()\n",
    "#Sheet1.plot(kind='line',  x='a', y= 'c', color='red', linewidth=0.5, label='toluene', ax=ax)\n",
    "#Sheet1.plot(kind='line',  x='a', y= 'd', color='green', linewidth=0.5, label='interface', ax=ax)\n",
    "ax.legend()\n",
    "ax.set_xlabel('time (100ps)')\n",
    "ax.set_ylabel('Distance (0.71nm)') \n",
    "pylab.xlim([0,30])\n",
    "pylab.ylim([0,120])# define the range of y coordinate\n",
    "plt.ticklabel_format(axis=\"both\", style=\"sci\", scilimits=(0,0))#show the x and y axis in scientific mode\n",
    "plt.savefig('/content/drive/My Drive/Case/nanoBloodProject/MSD/XMSDnonTimAve.png')"
   ]
  },
  {
   "cell_type": "code",
   "execution_count": null,
   "metadata": {
    "id": "neDXPc8WaANx"
   },
   "outputs": [],
   "source": [
    "df = pd.DataFrame(Ymsd).T\n",
    "df.to_excel('/content/drive/My Drive/Case/nanoBloodProject/MSD/YMSDnonTimAve.xlsx')"
   ]
  },
  {
   "cell_type": "code",
   "execution_count": null,
   "metadata": {
    "colab": {
     "base_uri": "https://localhost:8080/",
     "height": 290
    },
    "executionInfo": {
     "elapsed": 876,
     "status": "ok",
     "timestamp": 1621023380496,
     "user": {
      "displayName": "Saeed Akbari Shandiz",
      "photoUrl": "https://lh3.googleusercontent.com/a-/AOh14Gj_ltTfyzFcj-EidKK-RDh3G-RSeGnX-lq1mmA5=s64",
      "userId": "18254360833802486461"
     },
     "user_tz": 240
    },
    "id": "rEY2D7iVaGfJ",
    "outputId": "ff2ce862-714e-4196-96ea-7fdd75dd17a5"
   },
   "outputs": [
    {
     "data": {
      "image/png": "[encoded data removed]",
      "text/plain": [
       "<Figure size 432x288 with 1 Axes>"
      ]
     },
     "metadata": {
      "needs_background": "light",
      "tags": []
     },
     "output_type": "display_data"
    }
   ],
   "source": [
    "import numpy as np\n",
    "from matplotlib import pyplot as plt\n",
    "import pandas as pd\n",
    "import pylab \n",
    "\n",
    "df =pd.ExcelFile('/content/drive/My Drive/Case/nanoBloodProject/MSD/YMSDnonTimAve.xlsx')# the name of execl file should start with capital word. Rdf is correct but not rdf \n",
    "Sheet1 =pd.read_excel(df,header=0)\n",
    "\n",
    "ax=Sheet1.plot(kind='line',  x='a', y= 'b', color='blue', linewidth=0.5, label='Y coordinate')\n",
    "ax.legend()\n",
    "#Sheet1.plot(kind='line',  x='a', y= 'c', color='red', linewidth=0.5, label='toluene', ax=ax)\n",
    "#Sheet1.plot(kind='line',  x='a', y= 'd', color='green', linewidth=0.5, label='interface', ax=ax)\n",
    "ax.legend()\n",
    "ax.set_xlabel('time (100ps)')\n",
    "ax.set_ylabel('Distance (0.71nm)') \n",
    "pylab.xlim([0,30])\n",
    "pylab.ylim([0,60])# define the range of y coordinate\n",
    "plt.ticklabel_format(axis=\"both\", style=\"sci\", scilimits=(0,0))#show the x and y axis in scientific mode\n",
    "plt.savefig('/content/drive/My Drive/Case/nanoBloodProject/MSD/YMSDnonTimAve.png')"
   ]
  },
  {
   "cell_type": "markdown",
   "metadata": {
    "id": "T80TyHwrpcqk"
   },
   "source": [
    "**time ave MSD**"
   ]
  },
  {
   "cell_type": "code",
   "execution_count": null,
   "metadata": {
    "colab": {
     "base_uri": "https://localhost:8080/"
    },
    "executionInfo": {
     "elapsed": 765,
     "status": "ok",
     "timestamp": 1620338716185,
     "user": {
      "displayName": "Saeed Akbari Shandiz",
      "photoUrl": "https://lh3.googleusercontent.com/a-/AOh14Gj_ltTfyzFcj-EidKK-RDh3G-RSeGnX-lq1mmA5=s64",
      "userId": "18254360833802486461"
     },
     "user_tz": 240
    },
    "id": "G4L28wHz4pYp",
    "outputId": "3538e314-f197-4bf7-ac66-af7c331c7749"
   },
   "outputs": [
    {
     "name": "stdout",
     "output_type": "stream",
     "text": [
      "0  0.0\n",
      "1  10.433950616876363\n",
      "2  9.382222679881608\n",
      "3  10.798930937435086\n",
      "4  9.88045448672101\n",
      "5  9.962145457339291\n",
      "6  9.950913959631201\n",
      "7  10.280510887110033\n",
      "8  9.751528089094073\n",
      "9  10.14850925343647\n",
      "10  9.73371179077444\n",
      "11  9.75912791663047\n",
      "12  9.703537302026703\n",
      "13  8.787320634926004\n",
      "14  9.015578145145334\n",
      "15  8.886494012003617\n",
      "16  9.038411194085466\n",
      "17  9.090059760011295\n",
      "18  8.713746390804381\n",
      "19  8.528802699287468\n",
      "20  8.567725431048832\n",
      "21  8.457161414777362\n",
      "22  8.457161414777362\n",
      "23  8.364716870097844\n",
      "24  8.364716870097844\n",
      "25  8.364716870097844\n",
      "26  8.176310842549652\n",
      "27  8.328624394649406\n",
      "28  8.328624394649406\n",
      "29  8.459915018601324\n",
      "30  8.47585830787949\n",
      "31  8.661541286011023\n",
      "32  8.661541286011023\n",
      "33  8.520574248737073\n",
      "34  8.380136237979\n",
      "35  8.380136237979\n",
      "36  8.008803290072485\n",
      "37  8.000968544009265\n",
      "38  7.8857739642984805\n",
      "39  7.8857739642984805\n",
      "40  7.821022855109467\n",
      "41  7.568695989884371\n",
      "42  7.589656842139705\n",
      "43  7.3577536205821\n",
      "44  7.3577536205821\n",
      "45  7.868901204990125\n",
      "46  7.8970488052565235\n",
      "47  7.829624918224537\n",
      "48  7.870190294328229\n",
      "49  7.70809583050321\n",
      "50  7.70809583050321\n",
      "51  7.601466825477342\n"
     ]
    }
   ],
   "source": [
    "#thankGOd! time ave MSD:\n",
    "MSD=np.zeros  (num_frame)\n",
    "\n",
    "for i in range (0,num_frame):\n",
    "  if i==0:\n",
    "    Rmsd[i]=0\n",
    "    \n",
    "  MSD[i]=Rmsd[i]/(num_frame)\n",
    "  print(i,\"\",MSD[i])"
   ]
  },
  {
   "cell_type": "code",
   "execution_count": null,
   "metadata": {
    "id": "L-PQMuUE4pYr"
   },
   "outputs": [],
   "source": [
    "MSDx=np.zeros (num_frame)\n",
    "\n",
    "for i in range (0,num_frame):\n",
    " if i==0:\n",
    "    Xmsd[i]=0\n",
    "    \n",
    " MSDx[i]=Xmsd[i]/((num_frame-i)*num_atom_type)\n",
    " print(MSDx)"
   ]
  },
  {
   "cell_type": "code",
   "execution_count": null,
   "metadata": {
    "id": "UeVxwvp24pYt"
   },
   "outputs": [],
   "source": [
    "MSDy=np.zeros (num_frame)\n",
    "\n",
    "for i in range (0,num_frame):\n",
    " if i==0:\n",
    "    Ymsd[i]=0\n",
    "    \n",
    " MSDy[i]=Ymsd[i]/((num_frame-i)*num_atom_type)\n",
    " print(MSDy)"
   ]
  },
  {
   "cell_type": "code",
   "execution_count": null,
   "metadata": {
    "colab": {
     "base_uri": "https://localhost:8080/"
    },
    "executionInfo": {
     "elapsed": 526,
     "status": "ok",
     "timestamp": 1617809075232,
     "user": {
      "displayName": "Saeed Akbari Shandiz",
      "photoUrl": "https://lh3.googleusercontent.com/a-/AOh14Gj_ltTfyzFcj-EidKK-RDh3G-RSeGnX-lq1mmA5=s64",
      "userId": "18254360833802486461"
     },
     "user_tz": 240
    },
    "id": "JjD4Y5wW4pYv",
    "outputId": "ed9fc561-ece0-4789-f062-678cb895cc71"
   },
   "outputs": [
    {
     "name": "stdout",
     "output_type": "stream",
     "text": [
      "1  4.280895580579744\n",
      "2  4.15719154317714\n",
      "3  4.025338036656669\n",
      "4  3.685404200387202\n",
      "5  3.3802451773348903\n",
      "6  3.1399944862808136\n",
      "7  2.9477191067475306\n",
      "8  2.7354961736760717\n",
      "9  2.643188488990805\n",
      "10  2.5200533700890944\n",
      "11  2.3616579883652458\n",
      "12  2.308761519818239\n",
      "13  2.1831554313504156\n",
      "14  2.133800502310391\n",
      "15  2.0783965068750936\n",
      "16  2.0699968466934955\n",
      "17  2.0691958157025074\n",
      "18  2.0549980205205993\n",
      "19  2.042282818074421\n",
      "20  1.9994314316576376\n",
      "21  1.9845780347499644\n",
      "22  1.9845780347499644\n",
      "23  1.9522544740619243\n",
      "24  1.9522544740619243\n",
      "25  1.9522544740619243\n",
      "26  1.9075162501220495\n",
      "27  1.8939470716720035\n",
      "28  1.8939470716720035\n",
      "29  1.9166564354740971\n",
      "30  1.8752672657949259\n",
      "31  1.884112816323898\n",
      "32  1.884112816323898\n",
      "33  1.8824463601113688\n",
      "34  1.8475279231592152\n",
      "35  1.8475279231592152\n",
      "36  1.8092542741915816\n",
      "37  1.8034063700793592\n",
      "38  1.798792568265071\n",
      "39  1.798792568265071\n",
      "40  1.7830435270747786\n",
      "41  1.740015776923464\n",
      "42  1.7469502036063849\n",
      "43  1.7387515234859552\n",
      "44  1.7387515234859552\n",
      "45  1.7298230715919323\n",
      "46  1.6942031978531964\n",
      "47  1.6809079537701412\n",
      "48  1.678017486268304\n",
      "49  1.662385317816894\n",
      "50  1.662385317816894\n",
      "51  1.6682439159675262\n"
     ]
    }
   ],
   "source": [
    "#non time ave MSD of NP that from far distance reach to wall (at zero Z)\n",
    "MSDz=np.zeros (num_frame)\n",
    "\n",
    "for i in range (1,num_frame):\n",
    " if i==0:\n",
    "    Zmsd[i]=0\n",
    "    \n",
    " MSDz[i]=Zmsd[i]/(num_frame)\n",
    " print(i,\"\",MSDz[i])"
   ]
  },
  {
   "cell_type": "code",
   "execution_count": null,
   "metadata": {
    "id": "a3IBncNIdGCM"
   },
   "outputs": [],
   "source": [
    "df = pd.DataFrame(MSD).T\n",
    "df.to_excel('/content/drive/My Drive/Case/nanoBloodProject/MSD/MSDnonTimAve.xlsx')"
   ]
  },
  {
   "cell_type": "code",
   "execution_count": null,
   "metadata": {
    "id": "QV48cC4-eA3G"
   },
   "outputs": [],
   "source": [
    "df2=pd.read_excel('/content/drive/My Drive/Case/nanoBloodProject/MSD/MSDnonTimAve.xlsx')"
   ]
  },
  {
   "cell_type": "code",
   "execution_count": null,
   "metadata": {
    "colab": {
     "base_uri": "https://localhost:8080/",
     "height": 297
    },
    "executionInfo": {
     "elapsed": 504,
     "status": "ok",
     "timestamp": 1617377861169,
     "user": {
      "displayName": "Saeed Akbari Shandiz",
      "photoUrl": "https://lh3.googleusercontent.com/a-/AOh14Gj_ltTfyzFcj-EidKK-RDh3G-RSeGnX-lq1mmA5=s64",
      "userId": "18254360833802486461"
     },
     "user_tz": 240
    },
    "id": "l1Simr7a4pY0",
    "outputId": "3bfbec25-119d-4482-d367-085c0ab9ef56"
   },
   "outputs": [
    {
     "data": {
      "text/plain": [
       "<matplotlib.axes._subplots.AxesSubplot at 0x7f579b3be310>"
      ]
     },
     "execution_count": 32,
     "metadata": {
      "tags": []
     },
     "output_type": "execute_result"
    },
    {
     "data": {
      "image/png": "[encoded data removed]",
      "text/plain": [
       "<Figure size 432x288 with 1 Axes>"
      ]
     },
     "metadata": {
      "needs_background": "light",
      "tags": []
     },
     "output_type": "display_data"
    }
   ],
   "source": [
    "df2.plot(kind='line', x='a',y='b',color='red')"
   ]
  },
  {
   "cell_type": "code",
   "execution_count": null,
   "metadata": {
    "id": "tmdgYec_hrU2"
   },
   "outputs": [],
   "source": [
    "df = pd.DataFrame(MSDx).T\n",
    "df.to_excel('/content/drive/My Drive/Case/Courses/python/MSDx.xlsx')"
   ]
  },
  {
   "cell_type": "code",
   "execution_count": null,
   "metadata": {
    "id": "cjs4J6b-hy-u"
   },
   "outputs": [],
   "source": [
    "df2=pd.read_excel('/content/drive/My Drive/Case/Courses/python/MSDx.xlsx')"
   ]
  },
  {
   "cell_type": "code",
   "execution_count": null,
   "metadata": {
    "id": "zBQIR0TIiNAh"
   },
   "outputs": [],
   "source": [
    "df2.plot(kind='line', x='a',y='b',color='red')"
   ]
  },
  {
   "cell_type": "code",
   "execution_count": null,
   "metadata": {
    "id": "Al29PTErXrQc"
   },
   "outputs": [],
   "source": [
    "df = pd.DataFrame(MSDy).T\n",
    "df.to_excel('/content/drive/My Drive/Case/Courses/python/MSDy.xlsx')"
   ]
  },
  {
   "cell_type": "code",
   "execution_count": null,
   "metadata": {
    "id": "QFGYZ-qTXrgp"
   },
   "outputs": [],
   "source": [
    "df2=pd.read_excel('/content/drive/My Drive/Case/Courses/python/MSDy.xlsx')"
   ]
  },
  {
   "cell_type": "code",
   "execution_count": null,
   "metadata": {
    "id": "UCHeWi2HXrtk"
   },
   "outputs": [],
   "source": [
    "df2.plot(kind='line', x='a',y='b',color='red')"
   ]
  },
  {
   "cell_type": "markdown",
   "metadata": {
    "id": "rQCCyLTHtdai"
   },
   "source": [
    "**MSDz**"
   ]
  },
  {
   "cell_type": "code",
   "execution_count": null,
   "metadata": {
    "id": "8vDW5sxEexPg"
   },
   "outputs": [],
   "source": [
    "df = pd.DataFrame(MSDz).T\n",
    "df.to_excel('/content/drive/My Drive/Case/nanoBloodProject/MSD/MSDzNonTimAve2.xlsx')"
   ]
  },
  {
   "cell_type": "code",
   "execution_count": null,
   "metadata": {
    "id": "XtNENEzee0yG"
   },
   "outputs": [],
   "source": [
    "#df2=pd.read_excel('/content/drive/My Drive/Case/nanoBloodProject/MSD/MSDzNonTimAve.xlsx')"
   ]
  },
  {
   "cell_type": "code",
   "execution_count": null,
   "metadata": {
    "colab": {
     "base_uri": "https://localhost:8080/",
     "height": 297
    },
    "executionInfo": {
     "elapsed": 548,
     "status": "ok",
     "timestamp": 1617380696451,
     "user": {
      "displayName": "Saeed Akbari Shandiz",
      "photoUrl": "https://lh3.googleusercontent.com/a-/AOh14Gj_ltTfyzFcj-EidKK-RDh3G-RSeGnX-lq1mmA5=s64",
      "userId": "18254360833802486461"
     },
     "user_tz": 240
    },
    "id": "FdrhouzIe1Q4",
    "outputId": "3e0c7d23-5163-4943-bf6c-64cefd783d36"
   },
   "outputs": [
    {
     "data": {
      "text/plain": [
       "<matplotlib.axes._subplots.AxesSubplot at 0x7f574bb8de10>"
      ]
     },
     "execution_count": 109,
     "metadata": {
      "tags": []
     },
     "output_type": "execute_result"
    },
    {
     "data": {
      "image/png": "[encoded data removed]",
      "text/plain": [
       "<Figure size 432x288 with 1 Axes>"
      ]
     },
     "metadata": {
      "needs_background": "light",
      "tags": []
     },
     "output_type": "display_data"
    }
   ],
   "source": [
    "#df2.plot(kind='line', x='a',y='b',color='red')"
   ]
  },
  {
   "cell_type": "code",
   "execution_count": null,
   "metadata": {
    "colab": {
     "base_uri": "https://localhost:8080/",
     "height": 283
    },
    "executionInfo": {
     "elapsed": 889,
     "status": "ok",
     "timestamp": 1617809446226,
     "user": {
      "displayName": "Saeed Akbari Shandiz",
      "photoUrl": "https://lh3.googleusercontent.com/a-/AOh14Gj_ltTfyzFcj-EidKK-RDh3G-RSeGnX-lq1mmA5=s64",
      "userId": "18254360833802486461"
     },
     "user_tz": 240
    },
    "id": "PVy8drcpAgBz",
    "outputId": "3abf94f4-70db-4099-a031-dcf7c3774687"
   },
   "outputs": [
    {
     "data": {
      "image/png": "[encoded data removed]",
      "text/plain": [
       "<Figure size 432x288 with 1 Axes>"
      ]
     },
     "metadata": {
      "needs_background": "light",
      "tags": []
     },
     "output_type": "display_data"
    }
   ],
   "source": [
    "import numpy as np\n",
    "from matplotlib import pyplot as plt\n",
    "import pandas as pd\n",
    "import pylab \n",
    "\n",
    "df =pd.ExcelFile('/content/drive/My Drive/Case/nanoBloodProject/MSD/MSDzNonTimAve.xlsx')# the name of execl file should start with capital word. Rdf is correct but not rdf \n",
    "Sheet1 =pd.read_excel(df,header=0)\n",
    "\n",
    "ax=Sheet1.plot(kind='line',  x='a', y= 'b', color='blue', linewidth=0.5, label='MSDz')\n",
    "ax.legend()\n",
    "#Sheet1.plot(kind='line',  x='a', y= 'c', color='red', linewidth=0.5, label='toluene', ax=ax)\n",
    "#Sheet1.plot(kind='line',  x='a', y= 'd', color='green', linewidth=0.5, label='interface', ax=ax)\n",
    "ax.legend()\n",
    "ax.set_xlabel('time (ps)')\n",
    "ax.set_ylabel('Distance(0.71nm)') \n",
    "pylab.xlim([0,60])\n",
    "pylab.ylim([0,8])# define the range of y coordinate\n",
    "plt.ticklabel_format(axis=\"both\", style=\"sci\", scilimits=(0,0))#show the x and y axis in scientific mode\n",
    "plt.savefig('/content/drive/My Drive/Case/nanoBloodProject/MSD/MSDzNonTimAve3.png')"
   ]
  }
 ],
 "metadata": {
  "colab": {
   "collapsed_sections": [],
   "name": "ThankGOD!Rg_EGlayer3.ipynb",
   "provenance": [
    {
     "file_id": "1vczxt1JSZ75tCmb-dXaLHvIXwpDjZ7-i",
     "timestamp": 1625137486716
    },
    {
     "file_id": "1D-tAt_s_iH4kJv18vCXR4nbSVZGZ6Pt5",
     "timestamp": 1624973267556
    },
    {
     "file_id": "1lh37hZiIRUd4OSnAzVAa-y-fL3dZZBQV",
     "timestamp": 1620340094080
    },
    {
     "file_id": "1NgCKRs5X76dRlarMCNrHl8cFkCNAGR28",
     "timestamp": 1617376116817
    },
    {
     "file_id": "1FSFFjQchSKycVxGzh3u3LBN-ysRd_8Nb",
     "timestamp": 1617367979702
    },
    {
     "file_id": "1Q4nPGdnz3-Nro9mJOuphLdkpAvyty8ZV",
     "timestamp": 1617288048839
    },
    {
     "file_id": "1RoCPNZiqdxjjn0EiUkWkfaxT6pxKo7cN",
     "timestamp": 1617223710437
    },
    {
     "file_id": "1KtU1uGIIrVVwzJntxnUVpXZiPOibdYSb",
     "timestamp": 1615943484388
    }
   ]
  },
  "kernelspec": {
   "display_name": "Python 3",
   "language": "python",
   "name": "python3"
  },
  "language_info": {
   "codemirror_mode": {
    "name": "ipython",
    "version": 3
   },
   "file_extension": ".py",
   "mimetype": "text/x-python",
   "name": "python",
   "nbconvert_exporter": "python",
   "pygments_lexer": "ipython3",
   "version": "3.8.8"
  }
 },
 "nbformat": 4,
 "nbformat_minor": 1
}
