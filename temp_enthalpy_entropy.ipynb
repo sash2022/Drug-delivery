{
 "cells": [
  {
   "cell_type": "markdown",
   "metadata": {
    "id": "1OWxVv38iPa-"
   },
   "source": [
    "claculate Temprature from the log file of lammps\n",
    "Thank GOD! "
   ]
  },
  {
   "cell_type": "code",
   "execution_count": null,
   "metadata": {
    "id": "08EYEm2fdg0b"
   },
   "outputs": [],
   "source": [
    "import math\n",
    "import collections\n",
    "import sys\n",
    "import numpy as np\n",
    "import pandas as pd\n",
    "import matplotlib.pyplot as pp\n",
    "import itertools\n",
    "%matplotlib inline"
   ]
  },
  {
   "cell_type": "markdown",
   "metadata": {
    "id": "b9rR6FsTV73X"
   },
   "source": [
    "# Temprature"
   ]
  },
  {
   "cell_type": "code",
   "execution_count": null,
   "metadata": {
    "id": "Z5xiteWFdujf"
   },
   "outputs": [],
   "source": [
    "#Temperature\n",
    "lines=[]\n",
    "with open(r'C:\\vmd\\log.lammps') as fp:   # to read lines if atomlist after \"Atoms\"\n",
    "        for line in fp:\n",
    "            if 'Temp' in line:\n",
    "                #print (line)\n",
    "                line=line.rstrip()# to remove any white spaces at the end of the string    \n",
    "                lines.append(line)# add the string in to the list\n",
    "                \n",
    "                df=pd.DataFrame(lines, columns=['atomID']) \n",
    "                df[['totalEnergy','=','number','kinetic energy','=','number','temperature','=','temp']] = df.atomID.str.split(expand=True,) # to split one column to multiple columns and allocate name for each column\n",
    "                #print(df)\n",
    "            #print(df['temp'] )\n",
    "           "
   ]
  },
  {
   "cell_type": "code",
   "execution_count": null,
   "metadata": {
    "id": "Vx5ni2JyV73Z"
   },
   "outputs": [],
   "source": [
    "#df['temp'].to_csv(r'C:\\vmd\\temp')\n",
    "df['temp'].to_excel(r'C:\\vmd\\temp.xlsx')"
   ]
  },
  {
   "cell_type": "code",
   "execution_count": null,
   "metadata": {
    "id": "kw9gUPxmV73a",
    "outputId": "1b5bf337-fa64-4efb-a2b2-7a6bc1e750b0"
   },
   "outputs": [],
   "source": [
    "import numpy as np\n",
    "from matplotlib import pyplot as plt\n",
    "import pandas as pd\n",
    "import pylab \n",
    "\n",
    "df =pd.ExcelFile(r'C:\\vmd\\temp.xlsx')# the name of execl file should start with capital word. Rdf is correct but not rdf \n",
    "Sheet1 =pd.read_excel(df,header=0)\n",
    "\n",
    "ax=Sheet1.plot(kind='line', y= 'temp', color='blue', linewidth=0.5, label='temp')\n",
    "ax.legend()\n",
    "#Sheet1.plot(kind='line',  x='a', y= 'PotEng', color='red', linewidth=0.5, label='disc', ax=ax)\n",
    "#Sheet1.plot(kind='line',  x='a', y= 'd', color='green', linewidth=0.5, label='rod', ax=ax)\n",
    "#Sheet1.plot(kind='line',  x='a', y= 'e', color='orange', linewidth=0.5, label='random', ax=ax)\n",
    "ax.legend()\n",
    "ax.set_xlabel('time (100ps)')\n",
    "ax.set_ylabel('Temp (K)') \n",
    "#ax.set_yscale('log') #to plot in log scale\n",
    "\n",
    "pylab.xlim([0,300])\n",
    "pylab.ylim([0.0,2.0])# define the range of y coordinate\n",
    "#plt.ticklabel_format(axis=\"x\", style=\"sci\", scilimits=(0,0))#show the x and y axis in scientific mode\n",
    "plt.ticklabel_format(axis=\"both\", style=\"sci\", scilimits=(0,0))#show the x and y axis in scientific mode\n",
    "plt.savefig(r'C:\\vmd\\temp.png')"
   ]
  },
  {
   "cell_type": "markdown",
   "metadata": {
    "id": "JREuJfmLV73c"
   },
   "source": [
    "# pressure"
   ]
  },
  {
   "cell_type": "code",
   "execution_count": null,
   "metadata": {
    "id": "-CduNZJdV73d"
   },
   "outputs": [],
   "source": [
    "#pressure\n",
    "lines=[]\n",
    "with open(r'C:\\vmd\\log.lammps') as fp:   # to read lines if atomlist after \"Atoms\"\n",
    "        for line in fp:\n",
    "            if 'Press' in line:\n",
    "                #print (line)\n",
    "                line=line.rstrip()# to remove any white spaces at the end of the string    \n",
    "                lines.append(line)# add the string in to the list\n",
    "                \n",
    "                df=pd.DataFrame(lines, columns=['atomID']) \n",
    "                df[['coulumbic eng','=','E_coul','long distance energy','=','E_long','pressure','=','Press']] = df.atomID.str.split(expand=True,) # to split one column to multiple columns and allocate name for each column\n",
    "                #print(df)\n",
    "            #print(df['PotEng'] )"
   ]
  },
  {
   "cell_type": "code",
   "execution_count": null,
   "metadata": {
    "id": "k2qay0zZV73f"
   },
   "outputs": [],
   "source": [
    "#df['PotEng'].to_csv(r'C:\\vmd\\PotEng')\n",
    "df['Press'].to_excel(r'C:\\vmd\\Press.xlsx')"
   ]
  },
  {
   "cell_type": "code",
   "execution_count": null,
   "metadata": {
    "id": "QO2sA-y8V73i",
    "outputId": "785a2fed-f8c5-4526-a873-4dd1f3975227"
   },
   "outputs": [],
   "source": [
    "import numpy as np\n",
    "from matplotlib import pyplot as plt\n",
    "import pandas as pd\n",
    "import pylab \n",
    "\n",
    "df =pd.ExcelFile(r'C:\\vmd\\Press.xlsx')# the name of execl file should start with capital word. Rdf is correct but not rdf \n",
    "Sheet1 =pd.read_excel(df,header=0)\n",
    "\n",
    "ax=Sheet1.plot(kind='line', y= 'Press', color='blue', linewidth=0.5, label='Press')\n",
    "ax.legend()\n",
    "#Sheet1.plot(kind='line',  x='a', y= 'PotEng', color='red', linewidth=0.5, label='disc', ax=ax)\n",
    "#Sheet1.plot(kind='line',  x='a', y= 'd', color='green', linewidth=0.5, label='rod', ax=ax)\n",
    "#Sheet1.plot(kind='line',  x='a', y= 'e', color='orange', linewidth=0.5, label='random', ax=ax)\n",
    "ax.legend()\n",
    "ax.set_xlabel('time (100ps)')\n",
    "ax.set_ylabel('energy (KT)') \n",
    "#ax.set_yscale('log') #to plot in log scale\n",
    "\n",
    "pylab.xlim([0,300])\n",
    "pylab.ylim([1371000,1374500])# define the range of y coordinate\n",
    "#plt.ticklabel_format(axis=\"x\", style=\"sci\", scilimits=(0,0))#show the x and y axis in scientific mode\n",
    "plt.ticklabel_format(axis=\"both\", style=\"sci\", scilimits=(0,0))#show the x and y axis in scientific mode\n",
    "plt.savefig(r'C:\\vmd\\Press.png')"
   ]
  },
  {
   "cell_type": "markdown",
   "metadata": {
    "id": "BfMo3BqNV73j"
   },
   "source": [
    "# potential energy"
   ]
  },
  {
   "cell_type": "code",
   "execution_count": null,
   "metadata": {
    "id": "IJLcDbMxV73k"
   },
   "outputs": [],
   "source": [
    "#potential energy\n",
    "lines=[]\n",
    "with open(r'C:\\vmd\\log.lammps') as fp:   # to read lines if atomlist after \"Atoms\"\n",
    "        for line in fp:\n",
    "            if 'PotEng' in line:\n",
    "                #print (line)\n",
    "                line=line.rstrip()# to remove any white spaces at the end of the string    \n",
    "                lines.append(line)# add the string in to the list\n",
    "                \n",
    "                df=pd.DataFrame(lines, columns=['atomID']) \n",
    "                df[['potential Energy','=','PotEng','bond energy','=','E_bond','angle energy','=','E_angle']] = df.atomID.str.split(expand=True,) # to split one column to multiple columns and allocate name for each column\n",
    "                #print(df)\n",
    "            #print(df['PotEng'] )\n",
    "                     "
   ]
  },
  {
   "cell_type": "code",
   "execution_count": null,
   "metadata": {
    "id": "I8AhWI5-V73l"
   },
   "outputs": [],
   "source": [
    "#df['PotEng'].to_csv(r'C:\\vmd\\PotEng')\n",
    "df['PotEng'].to_excel(r'C:\\vmd\\PotEng.xlsx')"
   ]
  },
  {
   "cell_type": "code",
   "execution_count": null,
   "metadata": {
    "id": "sjLKXGK0V73m",
    "outputId": "574ec72d-f04c-4148-9f36-fcbdffeb25db"
   },
   "outputs": [],
   "source": [
    "import numpy as np\n",
    "from matplotlib import pyplot as plt\n",
    "import pandas as pd\n",
    "import pylab \n",
    "\n",
    "df =pd.ExcelFile(r'C:\\vmd\\PotEng.xlsx')# the name of execl file should start with capital word. Rdf is correct but not rdf \n",
    "Sheet1 =pd.read_excel(df,header=0)\n",
    "\n",
    "ax=Sheet1.plot(kind='line', y= 'PotEng', color='blue', linewidth=0.5, label='PotEng')\n",
    "ax.legend()\n",
    "#Sheet1.plot(kind='line',  x='a', y= 'PotEng', color='red', linewidth=0.5, label='disc', ax=ax)\n",
    "#Sheet1.plot(kind='line',  x='a', y= 'd', color='green', linewidth=0.5, label='rod', ax=ax)\n",
    "#Sheet1.plot(kind='line',  x='a', y= 'e', color='orange', linewidth=0.5, label='random', ax=ax)\n",
    "ax.legend()\n",
    "ax.set_xlabel('time (100ps)')\n",
    "ax.set_ylabel('energy (KT)') \n",
    "#ax.set_yscale('log') #to plot in log scale\n",
    "\n",
    "pylab.xlim([0,300])\n",
    "pylab.ylim([352000,445500])# define the range of y coordinate\n",
    "#plt.ticklabel_format(axis=\"x\", style=\"sci\", scilimits=(0,0))#show the x and y axis in scientific mode\n",
    "plt.ticklabel_format(axis=\"both\", style=\"sci\", scilimits=(0,0))#show the x and y axis in scientific mode\n",
    "plt.savefig(r'C:\\vmd\\PotEng.png')"
   ]
  },
  {
   "cell_type": "markdown",
   "metadata": {
    "id": "Y4j0IranV73m"
   },
   "source": [
    "# bonded energy"
   ]
  },
  {
   "cell_type": "code",
   "execution_count": null,
   "metadata": {
    "id": "cuJ-owRMV73m"
   },
   "outputs": [],
   "source": [
    "#bonded energy\n",
    "lines=[]\n",
    "with open(r'C:\\vmd\\log.lammps') as fp:   # to read lines if atomlist after \"Atoms\"\n",
    "#with open(r'C:\\vmd\\slurm-4451580.out') as fp:   # to read lines if atomlist after \"Atoms\"\n",
    "        for line in fp:\n",
    "            if 'PotEng' in line:\n",
    "                #print (line)\n",
    "                line=line.rstrip()# to remove any white spaces at the end of the string    \n",
    "                lines.append(line)# add the string in to the list\n",
    "                \n",
    "                df=pd.DataFrame(lines, columns=['atomID']) \n",
    "                df[['potential Energy','=','PotEng','bond energy','=','E_bond','angle energy','=','E_angle']] = df.atomID.str.split(expand=True,) # to split one column to multiple columns and allocate name for each column\n",
    "                #print(df)\n",
    "            #print(df['PotEng'] )\n",
    "            "
   ]
  },
  {
   "cell_type": "code",
   "execution_count": null,
   "metadata": {
    "id": "eCM6vRHdV73m"
   },
   "outputs": [],
   "source": [
    "#df['PotEng'].to_csv(r'C:\\vmd\\PotEng')\n",
    "df['E_bond'].to_excel(r'C:\\vmd\\E_bond.xlsx')"
   ]
  },
  {
   "cell_type": "code",
   "execution_count": null,
   "metadata": {
    "id": "q-gNmEivV73n",
    "outputId": "8d585212-b72f-4751-9c9f-e8b016494ef2"
   },
   "outputs": [],
   "source": [
    "import numpy as np\n",
    "from matplotlib import pyplot as plt\n",
    "import pandas as pd\n",
    "import pylab \n",
    "\n",
    "df =pd.ExcelFile(r'C:\\vmd\\E_bond.xlsx')# the name of execl file should start with capital word. Rdf is correct but not rdf \n",
    "Sheet1 =pd.read_excel(df,header=0)\n",
    "\n",
    "ax=Sheet1.plot(kind='line', y= 'E_bond', color='blue', linewidth=0.5, label='bondedEng')\n",
    "ax.legend()\n",
    "#Sheet1.plot(kind='line',  x='a', y= 'PotEng', color='red', linewidth=0.5, label='disc', ax=ax)\n",
    "#Sheet1.plot(kind='line',  x='a', y= 'd', color='green', linewidth=0.5, label='rod', ax=ax)\n",
    "#Sheet1.plot(kind='line',  x='a', y= 'e', color='orange', linewidth=0.5, label='random', ax=ax)\n",
    "ax.legend()\n",
    "ax.set_xlabel('time (100ps)')\n",
    "ax.set_ylabel('energy (KT)') \n",
    "#ax.set_yscale('log') #to plot in log scale\n",
    "\n",
    "pylab.xlim([0,300])\n",
    "pylab.ylim([0,1700])# define the range of y coordinate\n",
    "#plt.ticklabel_format(axis=\"x\", style=\"sci\", scilimits=(0,0))#show the x and y axis in scientific mode\n",
    "plt.ticklabel_format(axis=\"both\", style=\"sci\", scilimits=(0,0))#show the x and y axis in scientific mode\n",
    "plt.savefig(r'C:\\vmd\\E_bond.png')"
   ]
  },
  {
   "cell_type": "markdown",
   "metadata": {
    "id": "PTDbA-FuV73n"
   },
   "source": [
    "# vdwl energy"
   ]
  },
  {
   "cell_type": "code",
   "execution_count": null,
   "metadata": {
    "id": "fflii5VXV73o"
   },
   "outputs": [],
   "source": [
    "#vdwl energy (E_vdwl)\n",
    "lines=[]\n",
    "with open(r'C:\\vmd\\log.lammps') as fp:   # to read lines if atomlist after \"Atoms\"\n",
    "#with open(r'C:\\vmd\\slurm-4451580.out') as fp:   # to read lines if atomlist after \"Atoms\"\n",
    "        for line in fp:\n",
    "            if 'E_dihed' in line:\n",
    "                #print (line)\n",
    "                line=line.rstrip()# to remove any white spaces at the end of the string    \n",
    "                lines.append(line)# add the string in to the list\n",
    "                \n",
    "                df=pd.DataFrame(lines, columns=['atomID']) \n",
    "                df[['dihedral energy','=','E_dihed','improper energy','=','E_impro','vdwl energy','=','E_vdwl']] = df.atomID.str.split(expand=True,) # to split one column to multiple columns and allocate name for each column\n",
    "                #print(df)\n",
    "                #print(df['E_vdwl'] )"
   ]
  },
  {
   "cell_type": "code",
   "execution_count": null,
   "metadata": {
    "id": "qzJ0_3IIV73p"
   },
   "outputs": [],
   "source": [
    "#df['PotEng'].to_csv(r'C:\\vmd\\PotEng')\n",
    "df['E_vdwl'].to_excel(r'C:\\vmd\\E_vdwl.xlsx')"
   ]
  },
  {
   "cell_type": "code",
   "execution_count": null,
   "metadata": {
    "id": "37Xup-zvV73p",
    "outputId": "db1b2a1e-9828-4cf6-fe2e-506f5869a2e7"
   },
   "outputs": [],
   "source": [
    "import numpy as np\n",
    "from matplotlib import pyplot as plt\n",
    "import pandas as pd\n",
    "import pylab \n",
    "\n",
    "df =pd.ExcelFile(r'C:\\vmd\\E_vdwl.xlsx')# the name of execl file should start with capital word. Rdf is correct but not rdf \n",
    "Sheet1 =pd.read_excel(df,header=0)\n",
    "\n",
    "ax=Sheet1.plot(kind='line', y= 'E_vdwl', color='blue', linewidth=0.5, label='vdwl_Eng')\n",
    "ax.legend()\n",
    "#Sheet1.plot(kind='line',  x='a', y= 'PotEng', color='red', linewidth=0.5, label='disc', ax=ax)\n",
    "#Sheet1.plot(kind='line',  x='a', y= 'd', color='green', linewidth=0.5, label='rod', ax=ax)\n",
    "#Sheet1.plot(kind='line',  x='a', y= 'e', color='orange', linewidth=0.5, label='random', ax=ax)\n",
    "ax.legend()\n",
    "ax.set_xlabel('time (100ps)')\n",
    "ax.set_ylabel('energy (KT)') \n",
    "#ax.set_yscale('log') #to plot in log scale\n",
    "\n",
    "pylab.xlim([0,300])\n",
    "pylab.ylim([410478,435500])# define the range of y coordinate\n",
    "#plt.ticklabel_format(axis=\"x\", style=\"sci\", scilimits=(0,0))#show the x and y axis in scientific mode\n",
    "plt.ticklabel_format(axis=\"both\", style=\"sci\", scilimits=(0,0))#show the x and y axis in scientific mode\n",
    "plt.savefig(r'C:\\vmd\\E_vdwl.png')"
   ]
  },
  {
   "cell_type": "markdown",
   "metadata": {
    "id": "nxw4KM4uV73q"
   },
   "source": [
    "# Enthalpy"
   ]
  },
  {
   "cell_type": "code",
   "execution_count": null,
   "metadata": {
    "id": "W4dCdzBXV73q",
    "outputId": "b822de20-6489-41d7-ac3b-587710979f4e"
   },
   "outputs": [],
   "source": [
    "#Enthalpy\n",
    "lines=[]\n",
    "with open(r'C:\\vmd\\log.lammps') as fp:   # to read lines if atomlist after \"Atoms\"\n",
    "        for line in fp:\n",
    "            if 'Enthalpy' in line:\n",
    "                for line in fp: # now you are at the lines you want\n",
    "                    if 'Loop time' in line: \n",
    "                     break \n",
    "                    \n",
    "                    #line=line.rstrip()# to remove any white spaces at the end of the string                  \n",
    "                    line = line.split()\n",
    "                    lines.append(line)#    \n",
    "                \n",
    "                    #print (lines)\n",
    "            \n",
    "                \n",
    "                    df=pd.DataFrame(lines, columns=['step','enthalpy']) \n",
    "                    #df[['number of steps','=','Step','enthalpy','=','Enthalpy']] = df.enthalpy.str.split(expand=True,) # to split one column to multiple columns and allocate name for each column\n",
    "                    #print(df)\n",
    "print(df['enthalpy'] )"
   ]
  },
  {
   "cell_type": "code",
   "execution_count": null,
   "metadata": {
    "id": "bGf6IVSvV73r"
   },
   "outputs": [],
   "source": [
    "#df['PotEng'].to_csv(r'C:\\vmd\\PotEng')\n",
    "df['enthalpy'].to_excel(r'C:\\vmd\\enthalpy.xlsx')"
   ]
  },
  {
   "cell_type": "code",
   "execution_count": null,
   "metadata": {
    "id": "mZHuyDBYV73r",
    "outputId": "4aefaf94-8498-495b-ce2f-3021afaf3b95"
   },
   "outputs": [],
   "source": [
    "import numpy as np\n",
    "from matplotlib import pyplot as plt\n",
    "import pandas as pd\n",
    "import pylab \n",
    "\n",
    "df =pd.ExcelFile(r'C:\\vmd\\enthalpy.xlsx')# the name of execl file should start with capital word. Rdf is correct but not rdf \n",
    "Sheet1 =pd.read_excel(df,header=0)\n",
    "\n",
    "ax=Sheet1.plot(kind='line', y= 'enthalpy', color='blue', linewidth=0.5, label='enthalpy')\n",
    "ax.legend()\n",
    "#Sheet1.plot(kind='line',  x='a', y= 'PotEng', color='red', linewidth=0.5, label='disc', ax=ax)\n",
    "#Sheet1.plot(kind='line',  x='a', y= 'd', color='green', linewidth=0.5, label='rod', ax=ax)\n",
    "#Sheet1.plot(kind='line',  x='a', y= 'e', color='orange', linewidth=0.5, label='random', ax=ax)\n",
    "ax.legend()\n",
    "ax.set_xlabel('time (100ps)')\n",
    "ax.set_ylabel('energy (KT)') \n",
    "#ax.set_yscale('log') #to plot in log scale\n",
    "\n",
    "pylab.xlim([0,300])\n",
    "pylab.ylim([1450000,1530090])# define the range of y coordinate\n",
    "#plt.ticklabel_format(axis=\"x\", style=\"sci\", scilimits=(0,0))#show the x and y axis in scientific mode\n",
    "plt.ticklabel_format(axis=\"both\", style=\"sci\", scilimits=(0,0))#show the x and y axis in scientific mode\n",
    "plt.savefig(r'C:\\vmd\\enthalpy.png')"
   ]
  },
  {
   "cell_type": "code",
   "execution_count": null,
   "metadata": {
    "id": "KMk5uBS8V73s",
    "outputId": "6ca1aaf2-4ee2-4bfa-cb03-39f98e662290"
   },
   "outputs": [],
   "source": [
    "import numpy as np\n",
    "from matplotlib import pyplot as plt\n",
    "import pandas as pd\n",
    "import pylab \n",
    "\n",
    "df =pd.ExcelFile(r'C:\\vmd\\enthalpy_rigid_ver_flx.xlsx')# the name of execl file should start with capital word. Rdf is correct but not rdf \n",
    "Sheet1 =pd.read_excel(df,header=0)\n",
    "\n",
    "ax=Sheet1.plot(kind='line', y= 'rigid', color='red', linewidth=0.5, label='rigid')\n",
    "ax.legend()\n",
    "Sheet1.plot(kind='line', y= 'very rigid', color='green', linewidth=0.5, label='very rigid', ax=ax)\n",
    "Sheet1.plot(kind='line', y= 'flexible', color='blue', linewidth=0.5, label='flexible', ax=ax)\n",
    "#Sheet1.plot(kind='line',  x='a', y= 'e', color='orange', linewidth=0.5, label='random', ax=ax)\n",
    "ax.legend()\n",
    "ax.set_xlabel('time (10ps)')\n",
    "ax.set_ylabel('energy (KT)') \n",
    "#ax.set_yscale('log') #to plot in log scale\n",
    "\n",
    "pylab.xlim([0,300])\n",
    "pylab.ylim([1480000,1497500])# define the range of y coordinate\n",
    "#plt.ticklabel_format(axis=\"x\", style=\"sci\", scilimits=(0,0))#show the x and y axis in scientific mode\n",
    "plt.ticklabel_format(axis=\"both\", style=\"sci\", scilimits=(0,0))#show the x and y axis in scientific mode\n",
    "plt.savefig(r'C:\\vmd\\enthalpy_rigid_ver_flx.png')"
   ]
  },
  {
   "cell_type": "code",
   "execution_count": null,
   "metadata": {
    "id": "BwFsADreV73s",
    "outputId": "77469805-3696-435d-db43-072ed435a94a"
   },
   "outputs": [],
   "source": [
    "#logaritmic scale plot\n",
    "\n",
    "import numpy as np\n",
    "from matplotlib import pyplot as plt\n",
    "import pandas as pd\n",
    "import pylab \n",
    "\n",
    "df =pd.ExcelFile(r'C:\\vmd\\enthalpy_rod_disc_sphere.xlsx')# the name of execl file should start with capital word. Rdf is correct but not rdf \n",
    "Sheet1 =pd.read_excel(df,header=0)\n",
    "\n",
    "ax=Sheet1.plot(kind='line', y= 'rod', color='blue', linewidth=0.5, label='rod')\n",
    "ax.legend()\n",
    "Sheet1.plot(kind='line',  y= 'disc', color='red', linewidth=0.5, label='disc', ax=ax)\n",
    "Sheet1.plot(kind='line',  y= 'sphere', color='green', linewidth=0.5, label='sphere', ax=ax)\n",
    "#Sheet1.plot(kind='line',  y= '(-)perpend', color='orange', linewidth=0.5, label='(-)perpend', ax=ax)\n",
    "#Sheet1.plot(kind='line',  y= 'parallel', color='black', linewidth=0.5, label='parallel', ax=ax)\n",
    "\n",
    "ax.legend()\n",
    "ax.set_xlabel('time (10ps)')\n",
    "ax.set_ylabel('energy (KT)') \n",
    "#ax.set_yscale('log') #to plot in log scale\n",
    "\n",
    "pylab.xlim([0,300])\n",
    "pylab.ylim([1470000,1497500])# define the range of y coordinate\n",
    "#plt.ticklabel_format(axis=\"x\", style=\"sci\", scilimits=(0,0))#show only the x axis in scientific mode when Y coordinate is in log scale\n",
    "plt.ticklabel_format(axis=\"both\", style=\"sci\", scilimits=(0,0))#show the x and y axis in scientific mode\n",
    "plt.savefig(r'C:\\vmd\\enthalpy_rod_disc_sphere.png')"
   ]
  },
  {
   "cell_type": "markdown",
   "metadata": {
    "id": "9NAtWqgGV73t"
   },
   "source": [
    "# kinetic energy"
   ]
  },
  {
   "cell_type": "code",
   "execution_count": null,
   "metadata": {
    "id": "UIvSgfBtV73t"
   },
   "outputs": [],
   "source": [
    "#Kinetic energy\n",
    "lines=[]\n",
    "with open(r'C:\\vmd\\log.lammps') as fp:   # to read lines if atomlist after \"Atoms\"\n",
    "        for line in fp:\n",
    "            if 'Temp' in line:\n",
    "                #print (line)\n",
    "                line=line.rstrip()# to remove any white spaces at the end of the string    \n",
    "                lines.append(line)# add the string in to the list\n",
    "                \n",
    "                df=pd.DataFrame(lines, columns=['atomID']) \n",
    "                df[['totalEnergy','=','TotEng','kinetic energy','=','KinEng','temperature','=','temp']] = df.atomID.str.split(expand=True,) # to split one column to multiple columns and allocate name for each column\n",
    "                #print(df)\n",
    "            #print(df['KinEng'] )\n",
    "            #df['KinEng'].to_csv(r'C:\\vmd\\KinEng')\n",
    "            df['KinEng'].to_excel(r'C:\\vmd\\KinEng.xlsx')"
   ]
  },
  {
   "cell_type": "code",
   "execution_count": null,
   "metadata": {
    "id": "vjpBG7ejV73t",
    "outputId": "48555a15-48b8-486c-f66b-584fcb690aaf"
   },
   "outputs": [],
   "source": [
    "#total energy\n",
    "lines=[]\n",
    "with open(r'C:\\vmd\\log.lammps') as fp:   # to read lines if atomlist after \"Atoms\"\n",
    "        for line in fp:\n",
    "            if 'Temp' in line:\n",
    "                #print (line)\n",
    "                line=line.rstrip()# to remove any white spaces at the end of the string    \n",
    "                lines.append(line)# add the string in to the list\n",
    "                \n",
    "                df=pd.DataFrame(lines, columns=['atomID']) \n",
    "                df[['totalEnergy','=','TotEng','kinetic energy','=','KinEng','temperature','=','temp']] = df.atomID.str.split(expand=True,) # to split one column to multiple columns and allocate name for each column\n",
    "                #print(df)\n",
    "            #print(df['TotEng'] )\n",
    "            df['TotEng'].to_csv(r'C:\\vmd\\TotEng')"
   ]
  },
  {
   "cell_type": "code",
   "execution_count": null,
   "metadata": {
    "id": "TYK9z0NVV73u",
    "outputId": "165ef2bc-f36f-451b-8995-be3325176184"
   },
   "outputs": [],
   "source": [
    "import numpy as np\n",
    "from matplotlib import pyplot as plt\n",
    "import pandas as pd\n",
    "import pylab \n",
    "\n",
    "df =pd.ExcelFile(r'C:\\vmd\\bondedEng.xlsx')# the name of execl file should start with capital word. Rdf is correct but not rdf \n",
    "bondedEng =pd.read_excel(df,header=0)\n",
    "\n",
    "ax=bondedEng.plot(kind='line',  x='a', y= 'b', color='blue', linewidth=0.5, label='rigidEG')\n",
    "ax.legend()\n",
    "bondedEng.plot(kind='line',  x='a', y= 'c', color='red', linewidth=0.5, label='rigidEG2', ax=ax)\n",
    "bondedEng.plot(kind='line',  x='a', y= 'd', color='green', linewidth=0.5, label='rigidEG3', ax=ax)\n",
    "#Sheet1.plot(kind='line',  x='a', y= 'e', color='orange', linewidth=0.5, label='aij27', ax=ax)\n",
    "ax.legend()\n",
    "ax.set_label('bonf')\n",
    "ax.set_xlabel('time (100ps)')\n",
    "ax.set_ylabel('energy (KT)')\n",
    "\n",
    "#ax.set_yscale('log') #to plot in log scale\n",
    "\n",
    "pylab.xlim([10,300])\n",
    "pylab.ylim([600,1100])# define the range of y coordinate\n",
    "#plt.ticklabel_format(axis=\"x\", style=\"sci\", scilimits=(0,0))#show the x and y axis in scientific mode\n",
    "plt.ticklabel_format(axis=\"both\", style=\"sci\", scilimits=(0,0))#show the x and y axis in scientific mode\n",
    "plt.savefig(r'C:\\vmd\\bondedEng.png')"
   ]
  },
  {
   "cell_type": "code",
   "execution_count": null,
   "metadata": {
    "id": "-ZpOyCkMV73u",
    "outputId": "ab21f244-3df1-42fe-83ed-9317062c11e7"
   },
   "outputs": [],
   "source": [
    "import numpy as np\n",
    "from matplotlib import pyplot as plt\n",
    "import pandas as pd\n",
    "import pylab \n",
    "\n",
    "df =pd.ExcelFile(r'C:\\vmd\\pairEng12rcSphDisRod.xlsx')# the name of execl file should start with capital word. Rdf is correct but not rdf \n",
    "Sheet1 =pd.read_excel(df,header=0)\n",
    "\n",
    "ax=Sheet1.plot(kind='line',  x='a', y= 'b', color='blue', linewidth=0.5, label='sphere')\n",
    "ax.legend()\n",
    "Sheet1.plot(kind='line',  x='a', y= 'c', color='red', linewidth=0.5, label='disc', ax=ax)\n",
    "Sheet1.plot(kind='line',  x='a', y= 'd', color='green', linewidth=0.5, label='rod', ax=ax)\n",
    "#Sheet1.plot(kind='line',  x='a', y= 'e', color='orange', linewidth=0.5, label='aij27', ax=ax)\n",
    "ax.legend()\n",
    "ax.set_label('bonf')\n",
    "ax.set_xlabel('time (100ps)')\n",
    "ax.set_ylabel('energy (KT)')\n",
    "\n",
    "#ax.set_yscale('log') #to plot in log scale\n",
    "\n",
    "pylab.xlim([10,300])\n",
    "pylab.ylim([46500000,47300000])# define the range of y coordinate\n",
    "#plt.ticklabel_format(axis=\"x\", style=\"sci\", scilimits=(0,0))#show the x and y axis in scientific mode\n",
    "plt.ticklabel_format(axis=\"both\", style=\"sci\", scilimits=(0,0))#show the x and y axis in scientific mode\n",
    "plt.savefig(r'C:\\vmd\\pairEng12rcSphDisRod.png')"
   ]
  },
  {
   "cell_type": "code",
   "execution_count": null,
   "metadata": {
    "id": "Gn2xAIQ_V73v",
    "outputId": "b0dd2f17-84b4-4004-ed9e-cf657c9accac"
   },
   "outputs": [],
   "source": [
    "import numpy as np\n",
    "from matplotlib import pyplot as plt\n",
    "import pandas as pd\n",
    "import pylab \n",
    "\n",
    "df =pd.ExcelFile(r'C:\\vmd\\pairEngAij.xlsx')# the name of execl file should start with capital word. Rdf is correct but not rdf \n",
    "Sheet1 =pd.read_excel(df,header=0)\n",
    "\n",
    "ax=Sheet1.plot(kind='line',  x='a', y= 'b', color='blue', linewidth=0.5, label='aij24')\n",
    "ax.legend()\n",
    "Sheet1.plot(kind='line',  x='a', y= 'c', color='red', linewidth=0.5, label='aij25', ax=ax)\n",
    "Sheet1.plot(kind='line',  x='a', y= 'd', color='green', linewidth=0.5, label='aij26', ax=ax)\n",
    "Sheet1.plot(kind='line',  x='a', y= 'e', color='orange', linewidth=0.5, label='aij27', ax=ax)\n",
    "ax.legend()\n",
    "ax.set_label('bonf')\n",
    "ax.set_xlabel('time (100ps)')\n",
    "ax.set_ylabel('energy (KT)')\n",
    "\n",
    "#ax.set_yscale('log') #to plot in log scale\n",
    "\n",
    "pylab.xlim([10,300])\n",
    "pylab.ylim([47850000,47940000])# define the range of y coordinate\n",
    "#plt.ticklabel_format(axis=\"x\", style=\"sci\", scilimits=(0,0))#show the x and y axis in scientific mode\n",
    "plt.ticklabel_format(axis=\"both\", style=\"sci\", scilimits=(0,0))#show the x and y axis in scientific mode\n",
    "plt.savefig(r'C:\\vmd\\pairEngAij.png')"
   ]
  },
  {
   "cell_type": "code",
   "execution_count": null,
   "metadata": {
    "id": "xxTZT84WV73v",
    "outputId": "a0c6c809-3cee-4630-c08b-9d7f8abe14dd"
   },
   "outputs": [],
   "source": [
    "import numpy as np\n",
    "from matplotlib import pyplot as plt\n",
    "import pandas as pd\n",
    "import pylab \n",
    "\n",
    "df =pd.ExcelFile(r'C:\\vmd\\pair12rcRodBare170.340lig.xlsx')# the name of execl file should start with capital word. Rdf is correct but not rdf \n",
    "Sheet1 =pd.read_excel(df,header=0)\n",
    "\n",
    "ax=Sheet1.plot(kind='line',  x='a', y= 'b', color='blue', linewidth=0.5, label='bare')\n",
    "ax.legend()\n",
    "Sheet1.plot(kind='line',  x='a', y= 'c', color='red', linewidth=0.5, label='170lig', ax=ax)\n",
    "Sheet1.plot(kind='line',  x='a', y= 'd', color='green', linewidth=0.5, label='340lig', ax=ax)\n",
    "#Sheet1.plot(kind='line',  x='a', y= 'e', color='orange', linewidth=0.5, label='aij27', ax=ax)\n",
    "ax.legend()\n",
    "ax.set_label('bonf')\n",
    "ax.set_xlabel('time (100ps)')\n",
    "ax.set_ylabel('energy (KT)')\n",
    "\n",
    "#ax.set_yscale('log') #to plot in log scale\n",
    "\n",
    "pylab.xlim([10,300])\n",
    "pylab.ylim([46700000,47600000])# define the range of y coordinate\n",
    "#plt.ticklabel_format(axis=\"x\", style=\"sci\", scilimits=(0,0))#show the x and y axis in scientific mode\n",
    "plt.ticklabel_format(axis=\"both\", style=\"sci\", scilimits=(0,0))#show the x and y axis in scientific mode\n",
    "plt.savefig(r'C:\\vmd\\pairEng.png')"
   ]
  },
  {
   "cell_type": "code",
   "execution_count": null,
   "metadata": {
    "id": "fY4pNqb4V73w",
    "outputId": "bdd9e8d7-17b7-472b-f72a-dbe181c3de6e"
   },
   "outputs": [],
   "source": [
    "import numpy as np\n",
    "from matplotlib import pyplot as plt\n",
    "import pandas as pd\n",
    "import pylab \n",
    "\n",
    "df =pd.ExcelFile(r'C:\\vmd\\bonded12rcRodBare170.340lig2.xlsx')# the name of execl file should start with capital word. Rdf is correct but not rdf \n",
    "Sheet1 =pd.read_excel(df,header=0)\n",
    "\n",
    "ax=Sheet1.plot(kind='line',  x='a', y= 'b', color='blue', linewidth=0.5, label='bare')\n",
    "ax.legend()\n",
    "Sheet1.plot(kind='line',  x='a', y= 'c', color='red', linewidth=0.5, label='76lig', ax=ax)\n",
    "Sheet1.plot(kind='line',  x='a', y= 'd', color='green', linewidth=0.5, label='152lig', ax=ax)\n",
    "#Sheet1.plot(kind='line',  x='a', y= 'e', color='orange', linewidth=0.5, label='aij27', ax=ax)\n",
    "ax.legend()\n",
    "ax.set_label('bonf')\n",
    "ax.set_xlabel('time (100ps)')\n",
    "ax.set_ylabel('energy (KT)')\n",
    "\n",
    "#ax.set_yscale('log') #to plot in log scale\n",
    "\n",
    "pylab.xlim([10,300])\n",
    "pylab.ylim([35000,45500])# define the range of y coordinate\n",
    "#plt.ticklabel_format(axis=\"x\", style=\"sci\", scilimits=(0,0))#show the x and y axis in scientific mode\n",
    "plt.ticklabel_format(axis=\"both\", style=\"sci\", scilimits=(0,0))#show the x and y axis in scientific mode\n",
    "plt.savefig(r'C:\\vmd\\bondedEng.png')"
   ]
  },
  {
   "cell_type": "code",
   "execution_count": null,
   "metadata": {
    "id": "ogwu841VV73w",
    "outputId": "976aed6d-1bc1-4abf-b378-0c7f995416b8"
   },
   "outputs": [],
   "source": [
    "import numpy as np\n",
    "from matplotlib import pyplot as plt\n",
    "import pandas as pd\n",
    "import pylab \n",
    "\n",
    "df =pd.ExcelFile(r'C:\\vmd\\bondedEng12rcSphDisRod.xlsx')# the name of execl file should start with capital word. Rdf is correct but not rdf \n",
    "Sheet1 =pd.read_excel(df,header=0)\n",
    "\n",
    "ax=Sheet1.plot(kind='line',  x='a', y= 'b', color='blue', linewidth=0.5, label='sphere')\n",
    "ax.legend()\n",
    "Sheet1.plot(kind='line',  x='a', y= 'c', color='red', linewidth=0.5, label='disc', ax=ax)\n",
    "Sheet1.plot(kind='line',  x='a', y= 'd', color='green', linewidth=0.5, label='rod', ax=ax)\n",
    "#Sheet1.plot(kind='line',  x='a', y= 'e', color='orange', linewidth=0.5, label='aij27', ax=ax)\n",
    "ax.legend()\n",
    "ax.set_label('bonf')\n",
    "ax.set_xlabel('time (100ps)')\n",
    "ax.set_ylabel('energy (KT)')\n",
    "\n",
    "#ax.set_yscale('log') #to plot in log scale\n",
    "\n",
    "pylab.xlim([10,300])\n",
    "pylab.ylim([35000,42500])# define the range of y coordinate\n",
    "#plt.ticklabel_format(axis=\"x\", style=\"sci\", scilimits=(0,0))#show the x and y axis in scientific mode\n",
    "plt.ticklabel_format(axis=\"both\", style=\"sci\", scilimits=(0,0))#show the x and y axis in scientific mode\n",
    "plt.savefig(r'C:\\vmd\\bondedEng12rcSphDisRod.png')"
   ]
  },
  {
   "cell_type": "code",
   "execution_count": null,
   "metadata": {
    "id": "D8b9Ub-FV73x",
    "outputId": "7a85a382-9ba3-4941-a6b4-ab9190f9e8ac"
   },
   "outputs": [],
   "source": [
    "import numpy as np\n",
    "from matplotlib import pyplot as plt\n",
    "import pandas as pd\n",
    "import pylab \n",
    "\n",
    "df =pd.ExcelFile(r'C:\\vmd\\enthalpy_5orientations.xlsx')# the name of execl file should start with capital word. Rdf is correct but not rdf \n",
    "pairEng =pd.read_excel(df,header=0)\n",
    "\n",
    "ax=pairEng.plot(kind='line', y= 'perpend', color='blue', linewidth=0.5, label='0˚')\n",
    "ax.legend()\n",
    "pairEng.plot(kind='line', y= '45degree', color='red', linewidth=0.5, label='45˚', ax=ax)\n",
    "pairEng.plot(kind='line', y= '(-)45degree', color='green', linewidth=0.5, label='135˚', ax=ax)\n",
    "pairEng.plot(kind='line', y= '(-)perpend', color='orange', linewidth=0.5, label='180˚', ax=ax)\n",
    "pairEng.plot(kind='line', y= 'parallel', color='black', linewidth=0.5, label='90˚', ax=ax)\n",
    "ax.legend()\n",
    "ax.set_label('bonf')\n",
    "ax.set_xlabel('time (100ps)')\n",
    "ax.set_ylabel('energy (KT)')\n",
    "\n",
    "#ax.set_yscale('log') #to plot in log scale\n",
    "\n",
    "pylab.xlim([0,300])\n",
    "pylab.ylim([1519000,1526000])# define the range of y coordinate\n",
    "#plt.ticklabel_format(axis=\"x\", style=\"sci\", scilimits=(0,0))#show the x and y axis in scientific mode\n",
    "plt.ticklabel_format(axis=\"both\", style=\"sci\", scilimits=(0,0))#show the x and y axis in scientific mode\n",
    "plt.savefig(r'C:\\vmd\\enthalpy_5orientations.png')"
   ]
  },
  {
   "cell_type": "code",
   "execution_count": null,
   "metadata": {
    "id": "ie63pMVvV73x",
    "outputId": "45a560b2-fff4-4358-f981-7be574ec10e5"
   },
   "outputs": [],
   "source": [
    "import numpy as np\n",
    "from matplotlib import pyplot as plt\n",
    "import pandas as pd\n",
    "import pylab \n",
    "\n",
    "df =pd.ExcelFile(r'C:\\vmd\\enthalpy_homo_janus_random.xlsx')# the name of execl file should start with capital word. Rdf is correct but not rdf \n",
    "Sheet1 =pd.read_excel(df,header=0)\n",
    "\n",
    "ax=Sheet1.plot(kind='line', y= 'homo', color='blue', linewidth=0.5, label='homo')\n",
    "ax.legend()\n",
    "Sheet1.plot(kind='line', y= 'janus', color='red', linewidth=0.5, label='janus', ax=ax)\n",
    "Sheet1.plot(kind='line', y= 'random', color='green', linewidth=0.5, label='random', ax=ax)\n",
    "\n",
    "ax.legend()\n",
    "ax.set_label('bonf')\n",
    "ax.set_xlabel('time (100ps)')\n",
    "ax.set_ylabel('bond energy (KT)')\n",
    "\n",
    "#ax.set_yscale('log') #to plot in log scale\n",
    "\n",
    "pylab.xlim([0,300])\n",
    "pylab.ylim([1479000,1510000])# define the range of y coordinate\n",
    "#plt.ticklabel_format(axis=\"x\", style=\"sci\", scilimits=(0,0))#show the x and y axis in scientific mode\n",
    "plt.ticklabel_format(axis=\"both\", style=\"sci\", scilimits=(0,0))#show the x and y axis in scientific mode\n",
    "plt.savefig(r'C:\\vmd\\enthalpy_homo_janus_random.png')"
   ]
  },
  {
   "cell_type": "code",
   "execution_count": null,
   "metadata": {
    "id": "g36iQrkaV73y"
   },
   "outputs": [],
   "source": []
  }
 ],
 "metadata": {
  "colab": {
   "provenance": [
    {
     "file_id": "16IRI-g0OABDjUeYqqsK3HW5RzOmu7arq",
     "timestamp": 1604668881198
    },
    {
     "file_id": "1CGemgS0wpT5j3TUxQxQsk-0LkE5NfKMI",
     "timestamp": 1604613528766
    },
    {
     "file_id": "1R1DkBcKnU0pzi0vpRQREsttYnKPIqTlY",
     "timestamp": 1604608327338
    },
    {
     "file_id": "1Y4DlDfD85z5RuJhjaANGteebq13MFP2O",
     "timestamp": 1604585723273
    },
    {
     "file_id": "1Ue-eNAA2p7fp3SlIPQr6X_nmPOJZsUEE",
     "timestamp": 1604580561103
    },
    {
     "file_id": "1uK685688GQmMZiZIpdpBI1qtKdhyzCci",
     "timestamp": 1604508362382
    },
    {
     "file_id": "1ITWn2fMQ-XYpdG-PqKrL1xQ9O6mGtsPj",
     "timestamp": 1604504666646
    },
    {
     "file_id": "19mIDhsuk4WQ0nwEyUVfYWjov8u0r8nPL",
     "timestamp": 1604441897582
    },
    {
     "file_id": "1TjBEk_PCVtFVdNJilogHPCqPwsIi74Qc",
     "timestamp": 1604425461832
    },
    {
     "file_id": "1UQ_QaZsUMHFfD3scilljPDTFM5snJQ5e",
     "timestamp": 1604409540195
    },
    {
     "file_id": "1o30bzd0qDpIl9Qb2Uj55YDo_doW9iHa3",
     "timestamp": 1604405927270
    },
    {
     "file_id": "1vXESRFkX57HrhVX-IK2VH-I9SkdEDxHS",
     "timestamp": 1604100241356
    },
    {
     "file_id": "1hk7GPkCcZbkmcqU7-9agToFyfX-jh2Pc",
     "timestamp": 1604061875674
    },
    {
     "file_id": "18AiAochvBQtobp_94P9GzsnICRG-_4ov",
     "timestamp": 1603201962431
    },
    {
     "file_id": "1rGcKSTs3-CKZax7XBe2gjC_zN2zTmLjT",
     "timestamp": 1603196723950
    },
    {
     "file_id": "16OK61BPqUz7O6d7zzqGb39awzomrgEi4",
     "timestamp": 1602589890342
    },
    {
     "file_id": "1HeOx6-HlsO8ypYAjmHqOmnyvQRHjuGQk",
     "timestamp": 1602522748351
    },
    {
     "file_id": "1yie1W2kECkqWw5Kd6-g8QJyG0HxwP2fL",
     "timestamp": 1602277923350
    },
    {
     "file_id": "1-bCberbGCNN_3lSWehvykRFgXYE36je1",
     "timestamp": 1602258963028
    },
    {
     "file_id": "1vJbTZ8d-GpUis2ekcGOHkBWxFlJlthJv",
     "timestamp": 1602184820269
    },
    {
     "file_id": "16kxYMWh3IfwkLwaonypmdXueAIeuC1hd",
     "timestamp": 1602172102675
    },
    {
     "file_id": "1KDbaRCq9FNO7Qk8pF1oRYTPcA8QHDoen",
     "timestamp": 1602031980529
    },
    {
     "file_id": "16E-mdP9LlvTDWI3vssaR2hZRIrlTEGSl",
     "timestamp": 1601649715833
    },
    {
     "file_id": "1NHKY6N82F_SDx7EQEGXyok8QgEykJniw",
     "timestamp": 1601645834817
    },
    {
     "file_id": "1rhp4B3g57vWhXEzeEsdIofOPaCJI7s8w",
     "timestamp": 1601592019289
    },
    {
     "file_id": "1YGsKtV42WwRHpVbQvKHyEK_th6kst1LW",
     "timestamp": 1601575018109
    },
    {
     "file_id": "1eHN9afSwtksvmcefJMF5QF8OYI_hVams",
     "timestamp": 1601497309779
    }
   ]
  },
  "kernelspec": {
   "display_name": "Python 3",
   "language": "python",
   "name": "python3"
  },
  "language_info": {
   "codemirror_mode": {
    "name": "ipython",
    "version": 3
   },
   "file_extension": ".py",
   "mimetype": "text/x-python",
   "name": "python",
   "nbconvert_exporter": "python",
   "pygments_lexer": "ipython3",
   "version": "3.7.3"
  }
 },
 "nbformat": 4,
 "nbformat_minor": 1
}
