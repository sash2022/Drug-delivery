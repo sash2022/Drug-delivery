{
 "cells": [
  {
   "cell_type": "code",
   "execution_count": null,
   "metadata": {
    "executionInfo": {
     "elapsed": 4,
     "status": "ok",
     "timestamp": 1639516013802,
     "user": {
      "displayName": "Saeed Akbari Shandiz",
      "photoUrl": "https://lh3.googleusercontent.com/a-/AOh14Gj_ltTfyzFcj-EidKK-RDh3G-RSeGnX-lq1mmA5=s64",
      "userId": "18254360833802486461"
     },
     "user_tz": 300
    },
    "id": "LBbvJSNvgDMY"
   },
   "outputs": [],
   "source": [
    "import math\n",
    "import collections\n",
    "\n",
    "import numpy as np\n",
    "import pandas as pd\n",
    "import matplotlib.pyplot as pp\n",
    "\n",
    "%matplotlib inline"
   ]
  },
  {
   "cell_type": "code",
   "execution_count": null,
   "metadata": {
    "colab": {
     "base_uri": "https://localhost:8080/"
    },
    "executionInfo": {
     "elapsed": 27563,
     "status": "ok",
     "timestamp": 1639516220440,
     "user": {
      "displayName": "Saeed Akbari Shandiz",
      "photoUrl": "https://lh3.googleusercontent.com/a-/AOh14Gj_ltTfyzFcj-EidKK-RDh3G-RSeGnX-lq1mmA5=s64",
      "userId": "18254360833802486461"
     },
     "user_tz": 300
    },
    "id": "Y6Pd8uD8hVJD",
    "outputId": "afd60b32-0999-4ed9-e213-b17878f48c28"
   },
   "outputs": [],
   "source": [
    "#from google.colab import drive#to open the google drive in colab\n",
    "#drive.mount('/content/drive')\n"
   ]
  },
  {
   "cell_type": "code",
   "execution_count": null,
   "metadata": {
    "colab": {
     "background_save": true,
     "base_uri": "https://localhost:8080/",
     "height": 247
    },
    "executionInfo": {
     "elapsed": 364,
     "status": "error",
     "timestamp": 1639517674753,
     "user": {
      "displayName": "Saeed Akbari Shandiz",
      "photoUrl": "https://lh3.googleusercontent.com/a-/AOh14Gj_ltTfyzFcj-EidKK-RDh3G-RSeGnX-lq1mmA5=s64",
      "userId": "18254360833802486461"
     },
     "user_tz": 300
    },
    "id": "uNfoCyVUmHct"
   },
   "outputs": [],
   "source": [
    "#read all parameters of header\n",
    "timeSteps=[]\n",
    "boxDim=[]\n",
    "num_frame=0\n",
    "\n",
    "with open(r'C:\\vmd\\nvt') as fp:\n",
    "#with open('/content/drive/My Drive/Case/nanoBloodProject/MSD/disc/12rc/170lig/bare/rc1.0/nvt') as fp:\n",
    "\n",
    "        for line in fp:\n",
    "            if 'ITEM: TIMESTEP' in line:                                         \n",
    "                for line in fp: # now you are at the lines you want\n",
    "                    if 'ITEM: NUMBER OF ATOMS' in line: \n",
    "                     break \n",
    "                   \n",
    "                    line=line.rstrip()# to remove any white spaces at the end of the string                  \n",
    "                    #\n",
    "                    timeSteps.append(line)# add the string in to the list\n",
    "                    num_frame+=1\n",
    "                    \n",
    "\n",
    "            if 'ITEM: NUMBER OF ATOMS' in line:                                         \n",
    "                for line in fp: # now you are at the lines you want\n",
    "                    if 'ITEM: BOX BOUNDS' in line: \n",
    "                     break \n",
    "                   \n",
    "                    line=line.rstrip()# to remove any white spaces at the end of the string                  \n",
    "                    #\n",
    "                    num_atom=int(line)  \n",
    "\n",
    "            if 'ITEM: BOX BOUNDS' in line:                                         \n",
    "                for line in fp: # now you are at the lines you want\n",
    "                    if 'ITEM: ATOMS' in line: \n",
    "                     break \n",
    "                   \n",
    "                    line=line.rstrip()# to remove any white spaces at the end of the string                  \n",
    "                    \n",
    "                    boxDim.append(line)               \n",
    "                    "
   ]
  },
  {
   "cell_type": "code",
   "execution_count": null,
   "metadata": {
    "id": "DFePr1AT_-EV"
   },
   "outputs": [],
   "source": [
    "#read coordinate part\n",
    "time_counter=0\n",
    "lines=[]\n",
    "\n",
    "#df.loc[:,'x'] = df.loc[:,'x'].astype(float)\n",
    "with open(r'C:\\vmd\\nvt') as fp:\n",
    "#with open('/content/drive/My Drive/Case/nanoBloodProject/MSD/rod/8rc/76lig/homo/corNpAij/nvt') as fp:  \n",
    "       \n",
    "       for line in fp:\n",
    "            atom_counter=0\n",
    "            \n",
    "            if 'ITEM: ATOMS' in line:\n",
    "                time_counter+=1                                         \n",
    "                \n",
    "                for line in fp: # now you are at the lines you want\n",
    "                    atom_counter+=1\n",
    "\n",
    "                    #x(time_counter,atom_counter)=df.loc[line,'x'] \n",
    "                                        \n",
    "                    if 'ITEM: TIMESTEP' in line: \n",
    "                     break \n",
    "                    \n",
    "                    \n",
    "                    line=line.rstrip()# to remove any white spaces at the end of the string                  \n",
    "                    lines.append(line)# add the string in to the list\n",
    "                    #lines[time_counter][atom_counter]=line# add the string in to the list\n",
    "                   \n",
    "                    "
   ]
  },
  {
   "cell_type": "code",
   "execution_count": null,
   "metadata": {
    "colab": {
     "base_uri": "https://localhost:8080/"
    },
    "executionInfo": {
     "elapsed": 83,
     "status": "ok",
     "timestamp": 1632180120106,
     "user": {
      "displayName": "Saeed Akbari Shandiz",
      "photoUrl": "https://lh3.googleusercontent.com/a-/AOh14Gj_ltTfyzFcj-EidKK-RDh3G-RSeGnX-lq1mmA5=s64",
      "userId": "18254360833802486461"
     },
     "user_tz": 240
    },
    "id": "0v56IC4B1a8e",
    "outputId": "d25cec22-7dd3-48b0-c751-806a4a175885"
   },
   "outputs": [],
   "source": [
    "\n",
    "num_frame\n",
    "#num_atom\n",
    "#boxDim #i have to modify the code to get x max x min and so on for box dimensionpr\n"
   ]
  },
  {
   "cell_type": "code",
   "execution_count": null,
   "metadata": {
    "id": "_aX5E6IByokd"
   },
   "outputs": [],
   "source": [
    "#remove empty lines from the list\n",
    "while(\"\" in lines) : \n",
    "    lines.remove(\"\") "
   ]
  },
  {
   "cell_type": "code",
   "execution_count": null,
   "metadata": {
    "id": "aukijjUEyrAB"
   },
   "outputs": [],
   "source": [
    "#data frame for the whole dump file without separating by frame\n",
    "df=pd.DataFrame(lines, columns=['atomID']) # to make a data frame of pandas from the list and put atomID name on the column\n",
    "df[['atomID','atomType','x','y','z']] = df.atomID.str.split(expand=True,) # to split one column to multiple columns and allocate name for each column\n",
    "#df"
   ]
  },
  {
   "cell_type": "code",
   "execution_count": null,
   "metadata": {
    "colab": {
     "base_uri": "https://localhost:8080/"
    },
    "executionInfo": {
     "elapsed": 96,
     "status": "ok",
     "timestamp": 1632180164656,
     "user": {
      "displayName": "Saeed Akbari Shandiz",
      "photoUrl": "https://lh3.googleusercontent.com/a-/AOh14Gj_ltTfyzFcj-EidKK-RDh3G-RSeGnX-lq1mmA5=s64",
      "userId": "18254360833802486461"
     },
     "user_tz": 240
    },
    "id": "TuhdJNBIBita",
    "outputId": "05d31687-4bc8-4532-9a90-261f8847cbcf"
   },
   "outputs": [],
   "source": [
    "df.iloc[1]"
   ]
  },
  {
   "cell_type": "markdown",
   "metadata": {
    "id": "RD_22J145dzp"
   },
   "source": [
    "**lines of data frame is read for each frame**"
   ]
  },
  {
   "cell_type": "markdown",
   "metadata": {
    "id": "qh9lWrqb5uMC"
   },
   "source": [
    "**read the center of mass of NP**"
   ]
  },
  {
   "cell_type": "markdown",
   "metadata": {},
   "source": [
    "#  very important: to read all lines in the entire dump file( all the lines of all the frames)"
   ]
  },
  {
   "cell_type": "code",
   "execution_count": null,
   "metadata": {
    "id": "pR_5ZyEw9jAl"
   },
   "outputs": [],
   "source": [
    "type_Frame=np.zeros((num_frame,num_atom))\n"
   ]
  },
  {
   "cell_type": "code",
   "execution_count": null,
   "metadata": {
    "id": "D_royAIWjeeg"
   },
   "outputs": [],
   "source": [
    "for i in range (0, num_frame):\n",
    "   \n",
    "   type_Frame[i,:]=df.atomType.values[(i*num_atom):((i*num_atom)+num_atom)] #thankGOD! to read x values for each frame and put in an array"
   ]
  },
  {
   "cell_type": "code",
   "execution_count": null,
   "metadata": {
    "id": "vNBOWatFjzAD"
   },
   "outputs": [],
   "source": [
    "for i in range (0, num_frame):\n",
    "  num_atom_type=0\n",
    "  for k in range (0, num_atom):\n",
    "     if type_Frame[i,k]==5: #we only read atoms of core of NP with atom type 5\n",
    "       num_atom_type+=1"
   ]
  },
  {
   "cell_type": "code",
   "execution_count": null,
   "metadata": {
    "colab": {
     "base_uri": "https://localhost:8080/"
    },
    "executionInfo": {
     "elapsed": 84,
     "status": "ok",
     "timestamp": 1632180182271,
     "user": {
      "displayName": "Saeed Akbari Shandiz",
      "photoUrl": "https://lh3.googleusercontent.com/a-/AOh14Gj_ltTfyzFcj-EidKK-RDh3G-RSeGnX-lq1mmA5=s64",
      "userId": "18254360833802486461"
     },
     "user_tz": 240
    },
    "id": "jxaoMGOIquUV",
    "outputId": "ced97c39-961c-4217-f94f-b59abe5716ce"
   },
   "outputs": [],
   "source": [
    "num_atom_type"
   ]
  },
  {
   "cell_type": "code",
   "execution_count": null,
   "metadata": {
    "id": "zqlGrottqkDM"
   },
   "outputs": [],
   "source": [
    "ID_X_Frame=np.zeros ((num_frame+1,num_atom_type+1))\n",
    "ID_Y_Frame=np.zeros ((num_frame+1,num_atom_type+1))\n",
    "ID_Z_Frame=np.zeros ((num_frame+1,num_atom_type+1))"
   ]
  },
  {
   "cell_type": "code",
   "execution_count": null,
   "metadata": {
    "id": "xpI6-fPCrL2t"
   },
   "outputs": [],
   "source": [
    "time_counter=0\n",
    "for i in range (0, num_frame):\n",
    "  atom_counter=0\n",
    "  time_counter+=1\n",
    "  for k in range (0, num_atom):\n",
    "     if type_Frame[i,k]==5:\n",
    "       atom_counter+=1\n",
    "       \n",
    " #print(time_counter,\"\",atom_counter)\n",
    "       ID_X_Frame[time_counter,atom_counter]=df.x.values[k]"
   ]
  },
  {
   "cell_type": "markdown",
   "metadata": {
    "id": "BuwgNdt21oaV"
   },
   "source": [
    "should we consider image flages as we did for catenane in MD???\n",
    " here in dump of DPD I did not save image flages!"
   ]
  },
  {
   "cell_type": "code",
   "execution_count": null,
   "metadata": {
    "id": "mtriLm0m7-hs"
   },
   "outputs": [],
   "source": [
    "#calculate center of mass \n",
    "\n",
    "mass=1 #each bead mass\n",
    "\n",
    "Xcm=np.zeros(num_frame+1)\n",
    "Ycm=np.zeros(num_frame+1)\n",
    "Zcm=np.zeros(num_frame+1)\n",
    "\n",
    "total_mass= num_atom_type * mass\n",
    "\n",
    "time_counter=0\n",
    "for i in range (0, num_frame):\n",
    "  atom_counter=0\n",
    "  time_counter+=1\n",
    "  Xoverall=0 # after each frame this will be zero so count from begining for next frame\n",
    "  Yoverall=0\n",
    "  Zoverall=0\n",
    "  for k in range (0, num_atom):\n",
    "     \n",
    "     if type_Frame[i,k]==5: #core beads of NP\n",
    "       atom_counter+=1\n",
    "  \n",
    "       ID_X_Frame[time_counter,atom_counter]=df.x.values[k]\n",
    "       ID_Y_Frame[time_counter,atom_counter]=df.y.values[k]\n",
    "       ID_Z_Frame[time_counter,atom_counter]=df.z.values[k]\n",
    "\n",
    "       Xoverall = Xoverall + ID_X_Frame[time_counter,atom_counter]\n",
    "       Yoverall = Yoverall + ID_Y_Frame[time_counter,atom_counter]\n",
    "       Zoverall = Zoverall + ID_Z_Frame[time_counter,atom_counter]\n",
    "\n",
    "       Xcm[time_counter] = Xoverall/total_mass\n",
    "       Ycm[time_counter] = Yoverall/total_mass\n",
    "       Zcm[time_counter] = Zoverall/total_mass     \n",
    "       \n"
   ]
  },
  {
   "cell_type": "code",
   "execution_count": null,
   "metadata": {
    "colab": {
     "base_uri": "https://localhost:8080/"
    },
    "executionInfo": {
     "elapsed": 90,
     "status": "ok",
     "timestamp": 1632180206732,
     "user": {
      "displayName": "Saeed Akbari Shandiz",
      "photoUrl": "https://lh3.googleusercontent.com/a-/AOh14Gj_ltTfyzFcj-EidKK-RDh3G-RSeGnX-lq1mmA5=s64",
      "userId": "18254360833802486461"
     },
     "user_tz": 240
    },
    "id": "zHQgNf4I8pOS",
    "outputId": "bc838ae5-a334-48e9-fe58-98966256b3e9"
   },
   "outputs": [],
   "source": [
    "for i in range (0, num_frame):\n",
    "  print(i,'',Zcm[i]) #here the center of box is in wall so Np is located above EG with distsnce around 14.9 nm so Zcm starts from 14.9 and when np go inside EG and be closer to wall the Zcm also decreases.\n",
    "#Xoverall"
   ]
  },
  {
   "cell_type": "markdown",
   "metadata": {
    "id": "W-78vY1h579p"
   },
   "source": [
    "**calculate MSD**"
   ]
  },
  {
   "cell_type": "code",
   "execution_count": null,
   "metadata": {
    "colab": {
     "base_uri": "https://localhost:8080/"
    },
    "executionInfo": {
     "elapsed": 155,
     "status": "ok",
     "timestamp": 1632180212315,
     "user": {
      "displayName": "Saeed Akbari Shandiz",
      "photoUrl": "https://lh3.googleusercontent.com/a-/AOh14Gj_ltTfyzFcj-EidKK-RDh3G-RSeGnX-lq1mmA5=s64",
      "userId": "18254360833802486461"
     },
     "user_tz": 240
    },
    "id": "Wsz3dOtz9Nuv",
    "outputId": "be32380c-a10c-49a4-b0fb-65ec9f4d7f41"
   },
   "outputs": [],
   "source": [
    "#non time average msd of center of mass of NP\n",
    "Xmsd=np.zeros (num_frame)# make 1D arrays\n",
    "Ymsd=np.zeros (num_frame)\n",
    "Zmsd=np.zeros (num_frame)\n",
    "Rmsd=np.zeros (num_frame)\n",
    "\n",
    "for i in range (1, 2):#thank god I should use frame one bc frame zero is zero but in future I shoul fix the frame zero so can have all frames info\n",
    " \n",
    " for t in range (1, num_frame):  \n",
    "\n",
    "        \n",
    "         \n",
    "        dx=Xcm[t]-Xcm[i]\n",
    "        dy=Ycm[t]-Ycm[i]\n",
    "        dz=Zcm[t]-Zcm[i]       \n",
    "        \n",
    "        Xmsd[t]+=np.power(dx,2)\n",
    "        Ymsd[t]+=np.power(dy,2)\n",
    "        Zmsd[t]+=np.power(dz,2)\n",
    "        \n",
    "        Rmsd[t]= Xmsd[t]+Ymsd[t]+ Zmsd[t];\n",
    "       \n",
    "        print(t,'',dz,'',Zmsd[t],'',Rmsd[t])\n",
    "        #print(t,'',Xmsd[t])"
   ]
  },
  {
   "cell_type": "markdown",
   "metadata": {
    "id": "M9mw0qDvpR_Y"
   },
   "source": [
    "**non time ave MSD**"
   ]
  },
  {
   "cell_type": "code",
   "execution_count": null,
   "metadata": {
    "colab": {
     "base_uri": "https://localhost:8080/"
    },
    "executionInfo": {
     "elapsed": 106,
     "status": "ok",
     "timestamp": 1632180216035,
     "user": {
      "displayName": "Saeed Akbari Shandiz",
      "photoUrl": "https://lh3.googleusercontent.com/a-/AOh14Gj_ltTfyzFcj-EidKK-RDh3G-RSeGnX-lq1mmA5=s64",
      "userId": "18254360833802486461"
     },
     "user_tz": 240
    },
    "id": "5k77wj1DVwcU",
    "outputId": "8247a1ae-5c7f-49b9-dd15-1e06e192db37"
   },
   "outputs": [],
   "source": [
    "#thankGOD! non time ave MSD:\n",
    "for t in range (1,num_frame):\n",
    "  print(t,'',Rmsd[t])"
   ]
  },
  {
   "cell_type": "code",
   "execution_count": null,
   "metadata": {
    "id": "p6po3GePb5Aj"
   },
   "outputs": [],
   "source": [
    "df = pd.DataFrame(Rmsd)\n",
    "df.to_excel(r'C:\\vmd\\RMSDnonTimAve.xlsx')"
   ]
  },
  {
   "cell_type": "code",
   "execution_count": null,
   "metadata": {
    "colab": {
     "base_uri": "https://localhost:8080/",
     "height": 290
    },
    "executionInfo": {
     "elapsed": 700,
     "status": "ok",
     "timestamp": 1625832561887,
     "user": {
      "displayName": "Saeed Akbari Shandiz",
      "photoUrl": "https://lh3.googleusercontent.com/a-/AOh14Gj_ltTfyzFcj-EidKK-RDh3G-RSeGnX-lq1mmA5=s64",
      "userId": "18254360833802486461"
     },
     "user_tz": 240
    },
    "id": "KM6OnaZAZAak",
    "outputId": "a35cb9f8-37aa-4175-dfea-15a3d28eb611"
   },
   "outputs": [],
   "source": [
    "import numpy as np\n",
    "from matplotlib import pyplot as plt\n",
    "import pandas as pd\n",
    "import pylab \n",
    "\n",
    "df =pd.ExcelFile(r'C:\\vmd\\RMSDnonTimAve.xlsx')# the name of execl file should start with capital word. Rdf is correct but not rdf \n",
    "Sheet1 =pd.read_excel(df,header=0)\n",
    "\n",
    "ax=Sheet1.plot(kind='line', color='blue', linewidth=0.5, label='MSD')\n",
    "ax.legend()\n",
    "#Sheet1.plot(kind='line',  x='a', y= 'c', color='red', linewidth=0.5, label='toluene', ax=ax)\n",
    "#Sheet1.plot(kind='line',  x='a', y= 'd', color='green', linewidth=0.5, label='interface', ax=ax)\n",
    "ax.legend()\n",
    "ax.set_xlabel('time (100ps)')\n",
    "ax.set_ylabel('Distance (0.71nm)') \n",
    "pylab.xlim([0,30])\n",
    "pylab.ylim([0,150])# define the range of y coordinate\n",
    "plt.ticklabel_format(axis=\"both\", style=\"sci\", scilimits=(0,0))#show the x and y axis in scientific mode\n",
    "plt.savefig(r'C:\\vmd\\RMSDnonTimAve.png')"
   ]
  },
  {
   "cell_type": "markdown",
   "metadata": {
    "id": "xEUqE7gzo8UM"
   },
   "source": [
    "**Zmsd only the motion in z direction**"
   ]
  },
  {
   "cell_type": "code",
   "execution_count": null,
   "metadata": {
    "id": "t-DL6oZenehH"
   },
   "outputs": [],
   "source": [
    "df = pd.DataFrame(Zmsd)\n",
    "df.to_excel(r'C:\\vmd\\ZMSDnonTimAve.xlsx')"
   ]
  },
  {
   "cell_type": "code",
   "execution_count": null,
   "metadata": {
    "colab": {
     "base_uri": "https://localhost:8080/",
     "height": 290
    },
    "executionInfo": {
     "elapsed": 805,
     "status": "ok",
     "timestamp": 1631287565828,
     "user": {
      "displayName": "Saeed Akbari Shandiz",
      "photoUrl": "https://lh3.googleusercontent.com/a-/AOh14Gj_ltTfyzFcj-EidKK-RDh3G-RSeGnX-lq1mmA5=s64",
      "userId": "18254360833802486461"
     },
     "user_tz": 240
    },
    "id": "bd5JL0BNUB4o",
    "outputId": "89e0edd4-6f7d-4d75-f382-f2cdfb3c8909"
   },
   "outputs": [],
   "source": [
    "#logaritmic scale plot\n",
    "\n",
    "import numpy as np\n",
    "from matplotlib import pyplot as plt\n",
    "import pandas as pd\n",
    "import pylab \n",
    "\n",
    "df =pd.ExcelFile(r'C:\\vmd\\ZMSDnonTimAve.xlsx')# the name of execl file should start with capital word. Rdf is correct but not rdf \n",
    "Sheet1 =pd.read_excel(df,header=0)\n",
    "\n",
    "ax=Sheet1.plot(kind='line', color='blue', linewidth=0.5, label='Z coordinate')\n",
    "ax.legend()\n",
    "#Sheet1.plot(kind='line',  x='a', y= 'c', color='red', linewidth=0.5, label='homo', ax=ax)\n",
    "#Sheet1.plot(kind='line',  x='a', y= 'd', color='green', linewidth=0.5, label='janus', ax=ax)\n",
    "#Sheet1.plot(kind='line',  x='a', y= 'e', color='orange', linewidth=0.5, label='random', ax=ax)\n",
    "#Sheet1.plot(kind='line',  x='a', y= 'f', color='blue', linewidth=0.5, label='janusSecPos', ax=ax)\n",
    "ax.legend()\n",
    "ax.set_xlabel('time (100ps)')\n",
    "ax.set_ylabel('Distance (0.71nm)') \n",
    "#ax.set_yscale('log') #to plot in log scale\n",
    "\n",
    "pylab.xlim([0,30])\n",
    "pylab.ylim([0,100])# define the range of y coordinate\n",
    "#plt.ticklabel_format(axis=\"x\", style=\"sci\", scilimits=(0,0))#show only the x axis in scientific mode when Y coordinate is in log scale\n",
    "plt.ticklabel_format(axis=\"both\", style=\"sci\", scilimits=(0,0))#show the x and y axis in scientific mode\n",
    "plt.savefig(r'C:\\vmd\\ZMSDnonTimAve.png')"
   ]
  },
  {
   "cell_type": "code",
   "execution_count": null,
   "metadata": {},
   "outputs": [],
   "source": [
    "#logaritmic scale plot\n",
    "\n",
    "import numpy as np\n",
    "from matplotlib import pyplot as plt\n",
    "import pandas as pd\n",
    "import pylab \n",
    "\n",
    "df =pd.ExcelFile(r'C:\\vmd\\Zmsd_8r,12,16rcDisc.xlsx')# the name of execl file should start with capital word. Rdf is correct but not rdf \n",
    "Sheet1 =pd.read_excel(df,header=0)\n",
    "\n",
    "ax=Sheet1.plot(kind='line', y= '8rc', color='blue', linewidth=0.5, label='8rc')\n",
    "ax.legend()\n",
    "Sheet1.plot(kind='line',  y= '12rc', color='red', linewidth=0.5, label='12rc', ax=ax)\n",
    "Sheet1.plot(kind='line',  y= '16rc', color='green', linewidth=0.5, label='16rc', ax=ax)\n",
    "#Sheet1.plot(kind='line',  y= '(-)perpend', color='orange', linewidth=0.5, label='(-)perpend', ax=ax)\n",
    "#Sheet1.plot(kind='line',  y= 'parallel', color='black', linewidth=0.5, label='parallel', ax=ax)\n",
    "\n",
    "ax.legend()\n",
    "ax.set_xlabel('time (100ps)')\n",
    "ax.set_ylabel('Distance (0.71nm)') \n",
    "#ax.set_yscale('log') #to plot in log scale\n",
    "\n",
    "pylab.xlim([0,30])\n",
    "pylab.ylim([0,100])# define the range of y coordinate\n",
    "#plt.ticklabel_format(axis=\"x\", style=\"sci\", scilimits=(0,0))#show only the x axis in scientific mode when Y coordinate is in log scale\n",
    "plt.ticklabel_format(axis=\"both\", style=\"sci\", scilimits=(0,0))#show the x and y axis in scientific mode\n",
    "plt.savefig(r'C:\\vmd\\Zmsd_8r,12,16rcDisc.png')"
   ]
  },
  {
   "cell_type": "code",
   "execution_count": null,
   "metadata": {},
   "outputs": [],
   "source": [
    "#logaritmic scale plot\n",
    "\n",
    "import numpy as np\n",
    "from matplotlib import pyplot as plt\n",
    "import pandas as pd\n",
    "import pylab \n",
    "\n",
    "df =pd.ExcelFile(r'C:\\vmd\\z_msd_perpend_parallel.xlsx')# the name of execl file should start with capital word. Rdf is correct but not rdf \n",
    "Sheet1 =pd.read_excel(df,header=0)\n",
    "\n",
    "ax=Sheet1.plot(kind='line', y= 'perpend', color='red', linewidth=0.5, label='perpendicular')\n",
    "ax.legend()\n",
    "Sheet1.plot(kind='line',  y= 'parallel', color='green', linewidth=0.5, label='parallel', ax=ax)\n",
    "#Sheet1.plot(kind='line',  y= '16rc', color='green', linewidth=0.5, label='16rc', ax=ax)\n",
    "#Sheet1.plot(kind='line',  y= '(-)perpend', color='orange', linewidth=0.5, label='(-)perpend', ax=ax)\n",
    "#Sheet1.plot(kind='line',  y= 'parallel', color='black', linewidth=0.5, label='parallel', ax=ax)\n",
    "\n",
    "ax.legend()\n",
    "ax.set_xlabel('time (100ps)')\n",
    "ax.set_ylabel('Distance (1nm)') \n",
    "#ax.set_yscale('log') #to plot in log scale\n",
    "\n",
    "pylab.xlim([0,30])\n",
    "pylab.ylim([0,100])# define the range of y coordinate\n",
    "#plt.ticklabel_format(axis=\"x\", style=\"sci\", scilimits=(0,0))#show only the x axis in scientific mode when Y coordinate is in log scale\n",
    "plt.ticklabel_format(axis=\"both\", style=\"sci\", scilimits=(0,0))#show the x and y axis in scientific mode\n",
    "plt.savefig(r'C:\\vmd\\z_msd_perpend_parallel.png')"
   ]
  },
  {
   "cell_type": "code",
   "execution_count": null,
   "metadata": {},
   "outputs": [],
   "source": [
    "#logaritmic scale plot\n",
    "\n",
    "import numpy as np\n",
    "from matplotlib import pyplot as plt\n",
    "import pandas as pd\n",
    "import pylab \n",
    "\n",
    "df =pd.ExcelFile(r'C:\\vmd\\rc1.0_ZMSD_12rc_rod_disc_sphere.xlsx')# the name of execl file should start with capital word. Rdf is correct but not rdf \n",
    "Sheet1 =pd.read_excel(df,header=0)\n",
    "\n",
    "ax=Sheet1.plot(kind='line', y= 'rod', color='blue', linewidth=0.5, label='rod')\n",
    "ax.legend()\n",
    "Sheet1.plot(kind='line',  y= 'disc', color='red', linewidth=0.5, label='disc', ax=ax)\n",
    "Sheet1.plot(kind='line',  y= 'sphere', color='green', linewidth=0.5, label='sphere', ax=ax)\n",
    "#Sheet1.plot(kind='line',  y= '(-)perpend', color='orange', linewidth=0.5, label='(-)perpend', ax=ax)\n",
    "#Sheet1.plot(kind='line',  y= 'parallel', color='black', linewidth=0.5, label='parallel', ax=ax)\n",
    "\n",
    "ax.legend()\n",
    "ax.set_xlabel('time (100ps)')\n",
    "ax.set_ylabel('Distance (0.71nm)') \n",
    "ax.set_yscale('log') #to plot in log scale\n",
    "\n",
    "pylab.xlim([0,30])\n",
    "pylab.ylim([0,100])# define the range of y coordinate\n",
    "plt.ticklabel_format(axis=\"x\", style=\"sci\", scilimits=(0,0))#show only the x axis in scientific mode when Y coordinate is in log scale\n",
    "#plt.ticklabel_format(axis=\"both\", style=\"sci\", scilimits=(0,0))#show the x and y axis in scientific mode\n",
    "plt.savefig(r'C:\\vmd\\rc1.0_ZMSD_12rc_rod_disc_sphere(log).png')"
   ]
  },
  {
   "cell_type": "markdown",
   "metadata": {},
   "source": [
    "# correct plot units"
   ]
  },
  {
   "cell_type": "code",
   "execution_count": null,
   "metadata": {},
   "outputs": [],
   "source": [
    "#ThankGOD correct plot units\n",
    "\n",
    "import numpy as np\n",
    "from matplotlib import pyplot as plt\n",
    "import pandas as pd\n",
    "import pylab \n",
    "from matplotlib import rcParams\n",
    "import matplotlib\n",
    "\n",
    "df =pd.ExcelFile(r'C:\\vmd\\z_msd_bare_170,340lig.xlsx')# the name of execl file should start with capital word. Rdf is correct but not rdf \n",
    "Sheet1 =pd.read_excel(df,header=0)\n",
    "\n",
    "ax=Sheet1.plot(kind='line', y= 'bare', color='blue', linewidth=1.5, label='bare')\n",
    "ax.legend()\n",
    "Sheet1.plot(kind='line',  y= '170 lig', color='red', linewidth=1.5, label='170 lig', ax=ax)\n",
    "Sheet1.plot(kind='line',  y= '340 lig', color='green', linewidth=1.5, label='340 lig', ax=ax)\n",
    "#Sheet1.plot(kind='line',  y= '(-)perpend', color='orange', linewidth=0.5, label='(-)perpend', ax=ax)\n",
    "#Sheet1.plot(kind='line',  y= 'parallel', color='black', linewidth=0.5, label='parallel', ax=ax)\n",
    "\n",
    "ax.legend()\n",
    "\n",
    "##########################################\n",
    "ax.set_xlabel('time (100ps)')\n",
    "ax.set_ylabel('distance (0.1nm)') \n",
    "\n",
    "pylab.xlim([1,30])\n",
    "plt.xticks(np.arange(10,31,10)) #the distance of units to be shown in x axis. it starts from 10 to 30 with idistance of 10.thankGOD!\n",
    "pylab.ylim([0,100])# define the range of y coordinate\n",
    "plt.yticks(np.arange(0,100.1,20))\n",
    "\n",
    "rcParams['font.family'] = 'serif'\n",
    "rcParams['font.sans-serif'] = ['Bitstream Vera Sans']\n",
    "rcParams['font.serif'] = ['Bitstream Vera Sans']\n",
    "rcParams[\"font.size\"] = \"17\"\n",
    "matplotlib.rcParams['legend.fontsize'] = 10\n",
    "\n",
    "plt.rcParams[\"figure.figsize\"] = [5.50, 4.0]\n",
    "plt.rcParams[\"figure.autolayout\"] = True\n",
    "\n",
    "plt.ticklabel_format(axis=\"y\", style=\"sci\", scilimits=(0,0))#show the x and y axis in scientific \n",
    "###########################################\n",
    "\n",
    "\n",
    "plt.savefig(r'C:\\vmd\\z_msd_bare_170,340lig2.png')"
   ]
  },
  {
   "cell_type": "code",
   "execution_count": null,
   "metadata": {
    "colab": {
     "base_uri": "https://localhost:8080/",
     "height": 317
    },
    "executionInfo": {
     "elapsed": 17287,
     "status": "ok",
     "timestamp": 1627138754193,
     "user": {
      "displayName": "Saeed Akbari Shandiz",
      "photoUrl": "https://lh3.googleusercontent.com/a-/AOh14Gj_ltTfyzFcj-EidKK-RDh3G-RSeGnX-lq1mmA5=s64",
      "userId": "18254360833802486461"
     },
     "user_tz": 240
    },
    "id": "Cvr9O68gniFQ",
    "outputId": "f47fefed-9ecc-4186-ebf0-7d79327afa39"
   },
   "outputs": [],
   "source": [
    "#thankGOD! final plot mehtod\n",
    "\n",
    "import numpy as np\n",
    "from matplotlib import pyplot as plt\n",
    "import pandas as pd\n",
    "import pylab \n",
    "from matplotlib import rcParams\n",
    "import matplotlib\n",
    "\n",
    "df =pd.ExcelFile(r'C:\\vmd\\Z_msd_perpend_parallel.xlsx')# the name of execl file should start with capital word. Rdf is correct but not rdf \n",
    "Sheet1 =pd.read_excel(df,header=0)\n",
    "\n",
    "ax=Sheet1.plot(kind='line', y= 'perpend', color='red', linewidth=1.5, label='perpendicular')\n",
    "ax.legend()\n",
    "#Sheet1.plot(kind='line', y= '45degree', color='red', linewidth=1.5, label='45˚', ax=ax)\n",
    "#Sheet1.plot(kind='line', y= '(-)45degree', color='green', linewidth=1.5, label='135˚', ax=ax)\n",
    "#Sheet1.plot(kind='line', y= '(-)perpend', color='orange', linewidth=1.5, label='180˚', ax=ax)\n",
    "Sheet1.plot(kind='line', y= 'parallel', color='green', linewidth=1.5, label='parallel', ax=ax)\n",
    "ax.legend()\n",
    "\n",
    "\n",
    "##########################################\n",
    "ax.set_xlabel('time (100ps)')\n",
    "ax.set_ylabel('distance (0.1nm)') \n",
    "\n",
    "pylab.xlim([1,30])\n",
    "plt.xticks(np.arange(0,31,10)) #the distance of units to be shown in x axis. it starts from 10 to 30 with idistance of 10.thankGOD!\n",
    "pylab.ylim([0,100])# define the range of y coordinate\n",
    "plt.yticks(np.arange(0,100.1,20))\n",
    "\n",
    "rcParams['font.family'] = 'serif'\n",
    "rcParams['font.sans-serif'] = ['Bitstream Vera Sans']\n",
    "rcParams['font.serif'] = ['Bitstream Vera Sans']\n",
    "rcParams[\"font.size\"] = \"17\"\n",
    "matplotlib.rcParams['legend.fontsize'] = 10\n",
    "\n",
    "#plt.rcParams[\"figure.figsize\"] = [5.50, 4.0]\n",
    "plt.rcParams[\"figure.autolayout\"] = True\n",
    "\n",
    "plt.ticklabel_format(axis=\"y\", style=\"sci\", scilimits=(0,0))#show the x and y axis in scientific \n",
    "###########################################\n",
    "\n",
    "\n",
    "plt.savefig(r'C:\\vmd\\Z_msd_perpend_parallel2.png')"
   ]
  },
  {
   "cell_type": "code",
   "execution_count": null,
   "metadata": {},
   "outputs": [],
   "source": [
    "#ThankGOD correct plot units\n",
    "#thankGOD! \n",
    "\n",
    "import numpy as np\n",
    "from matplotlib import pyplot as plt\n",
    "import pandas as pd\n",
    "import pylab \n",
    "from matplotlib import rcParams\n",
    "import matplotlib\n",
    "\n",
    "df =pd.ExcelFile(r'C:\\vmd\\z_msd_rod_disc_sphere.xlsx')# the name of execl file should start with capital word. Rdf is correct but not rdf \n",
    "Sheet1 =pd.read_excel(df,header=0)\n",
    "\n",
    "ax=Sheet1.plot(kind='line', y= 'rod', color='blue', linewidth=1.5, label='rod')\n",
    "ax.legend()\n",
    "Sheet1.plot(kind='line',  y= 'disc', color='red', linewidth=1.5, label='disc', ax=ax)\n",
    "Sheet1.plot(kind='line',  y= 'sphere', color='green', linewidth=1.5, label='sphere', ax=ax)\n",
    "#Sheet1.plot(kind='line',  y= '(-)perpend', color='orange', linewidth=0.5, label='(-)perpend', ax=ax)\n",
    "#Sheet1.plot(kind='line',  y= 'parallel', color='black', linewidth=0.5, label='parallel', ax=ax)\n",
    "ax.legend()\n",
    "\n",
    "\n",
    "##########################################\n",
    "ax.set_xlabel('time (100ps)')\n",
    "ax.set_ylabel('distance (0.1nm)') \n",
    "\n",
    "pylab.xlim([1,30])\n",
    "plt.xticks(np.arange(0,31,10)) #the distance of units to be shown in x axis. it starts from 10 to 30 with idistance of 10.thankGOD!\n",
    "pylab.ylim([0,100])# define the range of y coordinate\n",
    "plt.yticks(np.arange(0,100.1,20))\n",
    "\n",
    "rcParams['font.family'] = 'serif'\n",
    "rcParams['font.sans-serif'] = ['Bitstream Vera Sans']\n",
    "rcParams['font.serif'] = ['Bitstream Vera Sans']\n",
    "rcParams[\"font.size\"] = \"17\"\n",
    "matplotlib.rcParams['legend.fontsize'] = 10\n",
    "\n",
    "plt.rcParams[\"figure.figsize\"] = [5.50, 4.0]\n",
    "plt.rcParams[\"figure.autolayout\"] = True\n",
    "\n",
    "plt.ticklabel_format(axis=\"y\", style=\"sci\", scilimits=(0,0))#show the x and y axis in scientific \n",
    "###########################################\n",
    "\n",
    "\n",
    "plt.savefig(r'C:\\vmd\\z_msd_rod_disc_sphere2.png')"
   ]
  },
  {
   "cell_type": "code",
   "execution_count": null,
   "metadata": {},
   "outputs": [],
   "source": [
    "#logaritmic scale plot\n",
    "\n",
    "import numpy as np\n",
    "from matplotlib import pyplot as plt\n",
    "import pandas as pd\n",
    "import pylab \n",
    "from matplotlib import rcParams\n",
    "import matplotlib\n",
    "\n",
    "df =pd.ExcelFile(r'C:\\vmd\\Zmsd_8r,12,16rcDisc.xlsx')# the name of execl file should start with capital word. Rdf is correct but not rdf \n",
    "Sheet1 =pd.read_excel(df,header=0)\n",
    "\n",
    "ax=Sheet1.plot(kind='line', y= '8rc', color='blue', linewidth=1.5, label='8rc')\n",
    "ax.legend()\n",
    "Sheet1.plot(kind='line',  y= '12rc', color='red', linewidth=1.5, label='12rc', ax=ax)\n",
    "Sheet1.plot(kind='line',  y= '16rc', color='green', linewidth=1.5, label='16rc', ax=ax)\n",
    "#Sheet1.plot(kind='line',  y= '(-)perpend', color='orange', linewidth=0.5, label='(-)perpend', ax=ax)\n",
    "#Sheet1.plot(kind='line',  y= 'parallel', color='black', linewidth=0.5, label='parallel', ax=ax)\n",
    "ax.legend()\n",
    "\n",
    "\n",
    "##########################################\n",
    "ax.set_xlabel('time (100ps)')\n",
    "ax.set_ylabel('distance (0.1nm)') \n",
    "\n",
    "pylab.xlim([1,30])\n",
    "plt.xticks(np.arange(10,31,10)) #the distance of units to be shown in x axis. it starts from 10 to 30 with idistance of 10.thankGOD!\n",
    "pylab.ylim([0,100])# define the range of y coordinate\n",
    "plt.yticks(np.arange(0,100.1,20))\n",
    "\n",
    "rcParams['font.family'] = 'serif'\n",
    "rcParams['font.sans-serif'] = ['Bitstream Vera Sans']\n",
    "rcParams['font.serif'] = ['Bitstream Vera Sans']\n",
    "rcParams[\"font.size\"] = \"17\"\n",
    "matplotlib.rcParams['legend.fontsize'] = 10\n",
    "\n",
    "plt.rcParams[\"figure.figsize\"] = [5.50, 4.0]\n",
    "plt.rcParams[\"figure.autolayout\"] = True\n",
    "\n",
    "plt.ticklabel_format(axis=\"y\", style=\"sci\", scilimits=(0,0))#show the x and y axis in scientific \n",
    "###########################################\n",
    "\n",
    "\n",
    "plt.savefig(r'C:\\vmd\\Zmsd_8r,12,16rcDisc.png')"
   ]
  },
  {
   "cell_type": "markdown",
   "metadata": {},
   "source": [
    "# Xmsd only the motion in x direction\n"
   ]
  },
  {
   "cell_type": "code",
   "execution_count": null,
   "metadata": {
    "id": "bDKl2Uf7Z5_0"
   },
   "outputs": [],
   "source": [
    "df = pd.DataFrame(Xmsd)\n",
    "df.to_excel(r'C:\\vmd\\XMSDnonTimAve.xlsx')"
   ]
  },
  {
   "cell_type": "code",
   "execution_count": null,
   "metadata": {
    "colab": {
     "base_uri": "https://localhost:8080/",
     "height": 417
    },
    "executionInfo": {
     "elapsed": 122,
     "status": "error",
     "timestamp": 1625494656513,
     "user": {
      "displayName": "Saeed Akbari Shandiz",
      "photoUrl": "https://lh3.googleusercontent.com/a-/AOh14Gj_ltTfyzFcj-EidKK-RDh3G-RSeGnX-lq1mmA5=s64",
      "userId": "18254360833802486461"
     },
     "user_tz": 240
    },
    "id": "2lOoMkp0Z23q",
    "outputId": "cfed4dbb-58b3-4d90-d785-116d37d003aa"
   },
   "outputs": [],
   "source": [
    "import numpy as np\n",
    "from matplotlib import pyplot as plt\n",
    "import pandas as pd\n",
    "import pylab \n",
    "\n",
    "df =pd.ExcelFile(r'C:\\vmd\\XMSDnonTimAve.xlsx')# the name of execl file should start with capital word. Rdf is correct but not rdf \n",
    "Sheet1 =pd.read_excel(df,header=0)\n",
    "\n",
    "ax=Sheet1.plot(kind='line', y= 'b', color='blue', linewidth=0.5, label='X coordinate')\n",
    "ax.legend()\n",
    "#Sheet1.plot(kind='line',  x='a', y= 'c', color='red', linewidth=0.5, label='toluene', ax=ax)\n",
    "#Sheet1.plot(kind='line',  x='a', y= 'd', color='green', linewidth=0.5, label='interface', ax=ax)\n",
    "ax.legend()\n",
    "ax.set_xlabel('time (100ps)')\n",
    "ax.set_ylabel('Distance (0.71nm)') \n",
    "pylab.xlim([0,30])\n",
    "pylab.ylim([0,2])# define the range of y coordinate\n",
    "plt.ticklabel_format(axis=\"both\", style=\"sci\", scilimits=(0,0))#show the x and y axis in scientific mode\n",
    "plt.savefig(r'C:\\vmd\\XMSDnonTimAve.png')"
   ]
  },
  {
   "cell_type": "markdown",
   "metadata": {},
   "source": [
    "# Ymsd only the motion in y direction\n"
   ]
  },
  {
   "cell_type": "code",
   "execution_count": null,
   "metadata": {
    "id": "neDXPc8WaANx"
   },
   "outputs": [],
   "source": [
    "df = pd.DataFrame(Ymsd)\n",
    "df.to_excel(r'C:\\vmd\\YMSDnonTimAve.xlsx')"
   ]
  },
  {
   "cell_type": "code",
   "execution_count": null,
   "metadata": {
    "colab": {
     "base_uri": "https://localhost:8080/",
     "height": 290
    },
    "executionInfo": {
     "elapsed": 876,
     "status": "ok",
     "timestamp": 1621023380496,
     "user": {
      "displayName": "Saeed Akbari Shandiz",
      "photoUrl": "https://lh3.googleusercontent.com/a-/AOh14Gj_ltTfyzFcj-EidKK-RDh3G-RSeGnX-lq1mmA5=s64",
      "userId": "18254360833802486461"
     },
     "user_tz": 240
    },
    "id": "rEY2D7iVaGfJ",
    "outputId": "ff2ce862-714e-4196-96ea-7fdd75dd17a5"
   },
   "outputs": [],
   "source": [
    "import numpy as np\n",
    "from matplotlib import pyplot as plt\n",
    "import pandas as pd\n",
    "import pylab \n",
    "\n",
    "df =pd.ExcelFile(r'C:\\vmd\\YMSDnonTimAve.xlsx')# the name of execl file should start with capital word. Rdf is correct but not rdf \n",
    "Sheet1 =pd.read_excel(df,header=0)\n",
    "\n",
    "ax=Sheet1.plot(kind='line', y= 'b', color='blue', linewidth=0.5, label='Y coordinate')\n",
    "ax.legend()\n",
    "#Sheet1.plot(kind='line',  x='a', y= 'c', color='red', linewidth=0.5, label='toluene', ax=ax)\n",
    "#Sheet1.plot(kind='line',  x='a', y= 'd', color='green', linewidth=0.5, label='interface', ax=ax)\n",
    "ax.legend()\n",
    "ax.set_xlabel('time (100ps)')\n",
    "ax.set_ylabel('Distance (0.71nm)') \n",
    "pylab.xlim([0,30])\n",
    "pylab.ylim([0,70])# define the range of y coordinate\n",
    "plt.ticklabel_format(axis=\"both\", style=\"sci\", scilimits=(0,0))#show the x and y axis in scientific mode\n",
    "plt.savefig(r'C:\\vmd\\YMSDnonTimAve.png')"
   ]
  },
  {
   "cell_type": "markdown",
   "metadata": {
    "id": "T80TyHwrpcqk"
   },
   "source": [
    "# **time ave MSD**"
   ]
  },
  {
   "cell_type": "code",
   "execution_count": null,
   "metadata": {
    "colab": {
     "base_uri": "https://localhost:8080/"
    },
    "executionInfo": {
     "elapsed": 765,
     "status": "ok",
     "timestamp": 1620338716185,
     "user": {
      "displayName": "Saeed Akbari Shandiz",
      "photoUrl": "https://lh3.googleusercontent.com/a-/AOh14Gj_ltTfyzFcj-EidKK-RDh3G-RSeGnX-lq1mmA5=s64",
      "userId": "18254360833802486461"
     },
     "user_tz": 240
    },
    "id": "G4L28wHz4pYp",
    "outputId": "3538e314-f197-4bf7-ac66-af7c331c7749"
   },
   "outputs": [],
   "source": [
    "#thankGOd! time ave MSD:\n",
    "MSD=np.zeros  (num_frame)\n",
    "\n",
    "for i in range (0,num_frame):\n",
    "  if i==0:\n",
    "    Rmsd[i]=0\n",
    "    \n",
    "  MSD[i]=Rmsd[i]/(num_frame)\n",
    "  print(i,\"\",MSD[i])"
   ]
  },
  {
   "cell_type": "code",
   "execution_count": null,
   "metadata": {},
   "outputs": [],
   "source": [
    "df = pd.DataFrame(MSD)\n",
    "df.to_excel(r'C:\\vmd\\MSD_TimAve.xlsx')"
   ]
  },
  {
   "cell_type": "code",
   "execution_count": null,
   "metadata": {},
   "outputs": [],
   "source": [
    "import numpy as np\n",
    "from matplotlib import pyplot as plt\n",
    "import pandas as pd\n",
    "import pylab \n",
    "\n",
    "df =pd.ExcelFile(r'C:\\vmd\\MSD_TimAve.xlsx')# the name of execl file should start with capital word. Rdf is correct but not rdf \n",
    "Sheet1 =pd.read_excel(df,header=0)\n",
    "\n",
    "ax=Sheet1.plot(kind='line', y= 'b', color='blue', linewidth=0.5, label='Y coordinate')\n",
    "ax.legend()\n",
    "#Sheet1.plot(kind='line',  x='a', y= 'c', color='red', linewidth=0.5, label='toluene', ax=ax)\n",
    "#Sheet1.plot(kind='line',  x='a', y= 'd', color='green', linewidth=0.5, label='interface', ax=ax)\n",
    "ax.legend()\n",
    "ax.set_xlabel('time (100ps)')\n",
    "ax.set_ylabel('Distance (0.71nm)') \n",
    "pylab.xlim([0,30])\n",
    "pylab.ylim([0,10])# define the range of y coordinate\n",
    "plt.ticklabel_format(axis=\"both\", style=\"sci\", scilimits=(0,0))#show the x and y axis in scientific mode\n",
    "plt.savefig(r'C:\\vmd\\MSD_TimAve.png')"
   ]
  },
  {
   "cell_type": "code",
   "execution_count": null,
   "metadata": {
    "id": "L-PQMuUE4pYr"
   },
   "outputs": [],
   "source": [
    "MSDx=np.zeros (num_frame)\n",
    "\n",
    "for i in range (0,num_frame):\n",
    " if i==0:\n",
    "    Xmsd[i]=0\n",
    "    \n",
    " MSDx[i]=Xmsd[i]/((num_frame-i)*num_atom_type)\n",
    " print(MSDx)"
   ]
  },
  {
   "cell_type": "code",
   "execution_count": null,
   "metadata": {
    "id": "UeVxwvp24pYt"
   },
   "outputs": [],
   "source": [
    "MSDy=np.zeros (num_frame)\n",
    "\n",
    "for i in range (0,num_frame):\n",
    " if i==0:\n",
    "    Ymsd[i]=0\n",
    "    \n",
    " MSDy[i]=Ymsd[i]/((num_frame-i)*num_atom_type)\n",
    " print(MSDy)"
   ]
  },
  {
   "cell_type": "code",
   "execution_count": null,
   "metadata": {
    "colab": {
     "base_uri": "https://localhost:8080/"
    },
    "executionInfo": {
     "elapsed": 526,
     "status": "ok",
     "timestamp": 1617809075232,
     "user": {
      "displayName": "Saeed Akbari Shandiz",
      "photoUrl": "https://lh3.googleusercontent.com/a-/AOh14Gj_ltTfyzFcj-EidKK-RDh3G-RSeGnX-lq1mmA5=s64",
      "userId": "18254360833802486461"
     },
     "user_tz": 240
    },
    "id": "JjD4Y5wW4pYv",
    "outputId": "ed9fc561-ece0-4789-f062-678cb895cc71"
   },
   "outputs": [],
   "source": [
    "#non time ave MSD of NP that from far distance reach to wall (at zero Z)\n",
    "MSDz=np.zeros (num_frame)\n",
    "\n",
    "for i in range (1,num_frame):\n",
    " if i==0:\n",
    "    Zmsd[i]=0\n",
    "    \n",
    " MSDz[i]=Zmsd[i]/(num_frame)\n",
    " print(i,\"\",MSDz[i])"
   ]
  }
 ],
 "metadata": {
  "colab": {
   "collapsed_sections": [],
   "name": "MSDnpDPDEachTimeFinalCorrectDirectionOfPlotThankGOD!ComparativePlot.ipynb",
   "provenance": [
    {
     "file_id": "1D-tAt_s_iH4kJv18vCXR4nbSVZGZ6Pt5",
     "timestamp": 1625398991869
    },
    {
     "file_id": "1lh37hZiIRUd4OSnAzVAa-y-fL3dZZBQV",
     "timestamp": 1620340094080
    },
    {
     "file_id": "1NgCKRs5X76dRlarMCNrHl8cFkCNAGR28",
     "timestamp": 1617376116817
    },
    {
     "file_id": "1FSFFjQchSKycVxGzh3u3LBN-ysRd_8Nb",
     "timestamp": 1617367979702
    },
    {
     "file_id": "1Q4nPGdnz3-Nro9mJOuphLdkpAvyty8ZV",
     "timestamp": 1617288048839
    },
    {
     "file_id": "1RoCPNZiqdxjjn0EiUkWkfaxT6pxKo7cN",
     "timestamp": 1617223710437
    },
    {
     "file_id": "1KtU1uGIIrVVwzJntxnUVpXZiPOibdYSb",
     "timestamp": 1615943484388
    }
   ],
   "version": ""
  },
  "kernelspec": {
   "display_name": "Python 3",
   "language": "python",
   "name": "python3"
  },
  "language_info": {
   "codemirror_mode": {
    "name": "ipython",
    "version": 3
   },
   "file_extension": ".py",
   "mimetype": "text/x-python",
   "name": "python",
   "nbconvert_exporter": "python",
   "pygments_lexer": "ipython3",
   "version": "3.7.3"
  }
 },
 "nbformat": 4,
 "nbformat_minor": 1
}
