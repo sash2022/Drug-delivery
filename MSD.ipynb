{
 "cells": [
  {
   "cell_type": "code",
   "execution_count": 1,
   "metadata": {
    "executionInfo": {
     "elapsed": 4,
     "status": "ok",
     "timestamp": 1639516013802,
     "user": {
      "displayName": "Saeed Akbari Shandiz",
      "photoUrl": "https://lh3.googleusercontent.com/a-/AOh14Gj_ltTfyzFcj-EidKK-RDh3G-RSeGnX-lq1mmA5=s64",
      "userId": "18254360833802486461"
     },
     "user_tz": 300
    },
    "id": "LBbvJSNvgDMY"
   },
   "outputs": [],
   "source": [
    "import math\n",
    "import collections\n",
    "\n",
    "import numpy as np\n",
    "import pandas as pd\n",
    "import matplotlib.pyplot as pp\n",
    "\n",
    "%matplotlib inline"
   ]
  },
  {
   "cell_type": "code",
   "execution_count": 3,
   "metadata": {
    "colab": {
     "base_uri": "https://localhost:8080/"
    },
    "executionInfo": {
     "elapsed": 27563,
     "status": "ok",
     "timestamp": 1639516220440,
     "user": {
      "displayName": "Saeed Akbari Shandiz",
      "photoUrl": "https://lh3.googleusercontent.com/a-/AOh14Gj_ltTfyzFcj-EidKK-RDh3G-RSeGnX-lq1mmA5=s64",
      "userId": "18254360833802486461"
     },
     "user_tz": 300
    },
    "id": "Y6Pd8uD8hVJD",
    "outputId": "afd60b32-0999-4ed9-e213-b17878f48c28"
   },
   "outputs": [],
   "source": [
    "#from google.colab import drive#to open the google drive in colab\n",
    "#drive.mount('/content/drive')\n"
   ]
  },
  {
   "cell_type": "code",
   "execution_count": 28,
   "metadata": {
    "colab": {
     "background_save": true,
     "base_uri": "https://localhost:8080/",
     "height": 247
    },
    "executionInfo": {
     "elapsed": 364,
     "status": "error",
     "timestamp": 1639517674753,
     "user": {
      "displayName": "Saeed Akbari Shandiz",
      "photoUrl": "https://lh3.googleusercontent.com/a-/AOh14Gj_ltTfyzFcj-EidKK-RDh3G-RSeGnX-lq1mmA5=s64",
      "userId": "18254360833802486461"
     },
     "user_tz": 300
    },
    "id": "uNfoCyVUmHct"
   },
   "outputs": [],
   "source": [
    "#read all parameters of header\n",
    "timeSteps=[]\n",
    "boxDim=[]\n",
    "num_frame=0\n",
    "\n",
    "with open(r'C:\\vmd\\nvt') as fp:\n",
    "#with open('/content/drive/My Drive/Case/nanoBloodProject/MSD/disc/12rc/170lig/bare/rc1.0/nvt') as fp:\n",
    "\n",
    "        for line in fp:\n",
    "            if 'ITEM: TIMESTEP' in line:                                         \n",
    "                for line in fp: # now you are at the lines you want\n",
    "                    if 'ITEM: NUMBER OF ATOMS' in line: \n",
    "                     break \n",
    "                   \n",
    "                    line=line.rstrip()# to remove any white spaces at the end of the string                  \n",
    "                    #\n",
    "                    timeSteps.append(line)# add the string in to the list\n",
    "                    num_frame+=1\n",
    "                    \n",
    "\n",
    "            if 'ITEM: NUMBER OF ATOMS' in line:                                         \n",
    "                for line in fp: # now you are at the lines you want\n",
    "                    if 'ITEM: BOX BOUNDS' in line: \n",
    "                     break \n",
    "                   \n",
    "                    line=line.rstrip()# to remove any white spaces at the end of the string                  \n",
    "                    #\n",
    "                    num_atom=int(line)  \n",
    "\n",
    "            if 'ITEM: BOX BOUNDS' in line:                                         \n",
    "                for line in fp: # now you are at the lines you want\n",
    "                    if 'ITEM: ATOMS' in line: \n",
    "                     break \n",
    "                   \n",
    "                    line=line.rstrip()# to remove any white spaces at the end of the string                  \n",
    "                    \n",
    "                    boxDim.append(line)               \n",
    "                    "
   ]
  },
  {
   "cell_type": "code",
   "execution_count": 29,
   "metadata": {
    "id": "DFePr1AT_-EV"
   },
   "outputs": [],
   "source": [
    "#read coordinate part\n",
    "time_counter=0\n",
    "lines=[]\n",
    "\n",
    "#df.loc[:,'x'] = df.loc[:,'x'].astype(float)\n",
    "with open(r'C:\\vmd\\nvt') as fp:\n",
    "#with open('/content/drive/My Drive/Case/nanoBloodProject/MSD/rod/8rc/76lig/homo/corNpAij/nvt') as fp:  \n",
    "       \n",
    "       for line in fp:\n",
    "            atom_counter=0\n",
    "            \n",
    "            if 'ITEM: ATOMS' in line:\n",
    "                time_counter+=1                                         \n",
    "                \n",
    "                for line in fp: # now you are at the lines you want\n",
    "                    atom_counter+=1\n",
    "\n",
    "                    #x(time_counter,atom_counter)=df.loc[line,'x'] \n",
    "                                        \n",
    "                    if 'ITEM: TIMESTEP' in line: \n",
    "                     break \n",
    "                    \n",
    "                    \n",
    "                    line=line.rstrip()# to remove any white spaces at the end of the string                  \n",
    "                    lines.append(line)# add the string in to the list\n",
    "                    #lines[time_counter][atom_counter]=line# add the string in to the list\n",
    "                   \n",
    "                    "
   ]
  },
  {
   "cell_type": "code",
   "execution_count": 30,
   "metadata": {
    "colab": {
     "base_uri": "https://localhost:8080/"
    },
    "executionInfo": {
     "elapsed": 83,
     "status": "ok",
     "timestamp": 1632180120106,
     "user": {
      "displayName": "Saeed Akbari Shandiz",
      "photoUrl": "https://lh3.googleusercontent.com/a-/AOh14Gj_ltTfyzFcj-EidKK-RDh3G-RSeGnX-lq1mmA5=s64",
      "userId": "18254360833802486461"
     },
     "user_tz": 240
    },
    "id": "0v56IC4B1a8e",
    "outputId": "d25cec22-7dd3-48b0-c751-806a4a175885"
   },
   "outputs": [
    {
     "data": {
      "text/plain": [
       "31"
      ]
     },
     "execution_count": 30,
     "metadata": {},
     "output_type": "execute_result"
    }
   ],
   "source": [
    "\n",
    "num_frame\n",
    "#num_atom\n",
    "#boxDim #i have to modify the code to get x max x min and so on for box dimensionpr\n"
   ]
  },
  {
   "cell_type": "code",
   "execution_count": 31,
   "metadata": {
    "id": "_aX5E6IByokd"
   },
   "outputs": [],
   "source": [
    "#remove empty lines from the list\n",
    "while(\"\" in lines) : \n",
    "    lines.remove(\"\") "
   ]
  },
  {
   "cell_type": "code",
   "execution_count": 32,
   "metadata": {
    "id": "aukijjUEyrAB"
   },
   "outputs": [],
   "source": [
    "#data frame for the whole dump file without separating by frame\n",
    "df=pd.DataFrame(lines, columns=['atomID']) # to make a data frame of pandas from the list and put atomID name on the column\n",
    "df[['atomID','atomType','x','y','z']] = df.atomID.str.split(expand=True,) # to split one column to multiple columns and allocate name for each column\n",
    "#df"
   ]
  },
  {
   "cell_type": "code",
   "execution_count": 33,
   "metadata": {
    "colab": {
     "base_uri": "https://localhost:8080/"
    },
    "executionInfo": {
     "elapsed": 96,
     "status": "ok",
     "timestamp": 1632180164656,
     "user": {
      "displayName": "Saeed Akbari Shandiz",
      "photoUrl": "https://lh3.googleusercontent.com/a-/AOh14Gj_ltTfyzFcj-EidKK-RDh3G-RSeGnX-lq1mmA5=s64",
      "userId": "18254360833802486461"
     },
     "user_tz": 240
    },
    "id": "TuhdJNBIBita",
    "outputId": "05d31687-4bc8-4532-9a90-261f8847cbcf"
   },
   "outputs": [
    {
     "data": {
      "text/plain": [
       "atomID       7699\n",
       "atomType        3\n",
       "x           0.549\n",
       "y           0.550\n",
       "z           0.000\n",
       "Name: 1, dtype: object"
      ]
     },
     "execution_count": 33,
     "metadata": {},
     "output_type": "execute_result"
    }
   ],
   "source": [
    "df.iloc[1]"
   ]
  },
  {
   "cell_type": "markdown",
   "metadata": {
    "id": "RD_22J145dzp"
   },
   "source": [
    "**lines of data frame is read for each frame**"
   ]
  },
  {
   "cell_type": "markdown",
   "metadata": {
    "id": "qh9lWrqb5uMC"
   },
   "source": [
    "**read the center of mass of NP**"
   ]
  },
  {
   "cell_type": "markdown",
   "metadata": {},
   "source": [
    "#  very important: to read all lines in the entire dump file( all the lines of all the frames)"
   ]
  },
  {
   "cell_type": "code",
   "execution_count": 34,
   "metadata": {
    "id": "pR_5ZyEw9jAl"
   },
   "outputs": [],
   "source": [
    "type_Frame=np.zeros((num_frame,num_atom))\n"
   ]
  },
  {
   "cell_type": "code",
   "execution_count": 35,
   "metadata": {
    "id": "D_royAIWjeeg"
   },
   "outputs": [],
   "source": [
    "for i in range (0, num_frame):\n",
    "   \n",
    "   type_Frame[i,:]=df.atomType.values[(i*num_atom):((i*num_atom)+num_atom)] #thankGOD! to read x values for each frame and put in an array"
   ]
  },
  {
   "cell_type": "code",
   "execution_count": 36,
   "metadata": {
    "id": "vNBOWatFjzAD"
   },
   "outputs": [],
   "source": [
    "for i in range (0, num_frame):\n",
    "  num_atom_type=0\n",
    "  for k in range (0, num_atom):\n",
    "     if type_Frame[i,k]==5: #we only read atoms of core of NP with atom type 5\n",
    "       num_atom_type+=1"
   ]
  },
  {
   "cell_type": "code",
   "execution_count": 37,
   "metadata": {
    "colab": {
     "base_uri": "https://localhost:8080/"
    },
    "executionInfo": {
     "elapsed": 84,
     "status": "ok",
     "timestamp": 1632180182271,
     "user": {
      "displayName": "Saeed Akbari Shandiz",
      "photoUrl": "https://lh3.googleusercontent.com/a-/AOh14Gj_ltTfyzFcj-EidKK-RDh3G-RSeGnX-lq1mmA5=s64",
      "userId": "18254360833802486461"
     },
     "user_tz": 240
    },
    "id": "jxaoMGOIquUV",
    "outputId": "ced97c39-961c-4217-f94f-b59abe5716ce"
   },
   "outputs": [
    {
     "data": {
      "text/plain": [
       "1749"
      ]
     },
     "execution_count": 37,
     "metadata": {},
     "output_type": "execute_result"
    }
   ],
   "source": [
    "num_atom_type"
   ]
  },
  {
   "cell_type": "code",
   "execution_count": 38,
   "metadata": {
    "id": "zqlGrottqkDM"
   },
   "outputs": [],
   "source": [
    "ID_X_Frame=np.zeros ((num_frame+1,num_atom_type+1))\n",
    "ID_Y_Frame=np.zeros ((num_frame+1,num_atom_type+1))\n",
    "ID_Z_Frame=np.zeros ((num_frame+1,num_atom_type+1))"
   ]
  },
  {
   "cell_type": "code",
   "execution_count": 39,
   "metadata": {
    "id": "xpI6-fPCrL2t"
   },
   "outputs": [],
   "source": [
    "time_counter=0\n",
    "for i in range (0, num_frame):\n",
    "  atom_counter=0\n",
    "  time_counter+=1\n",
    "  for k in range (0, num_atom):\n",
    "     if type_Frame[i,k]==5:\n",
    "       atom_counter+=1\n",
    "       \n",
    " #print(time_counter,\"\",atom_counter)\n",
    "       ID_X_Frame[time_counter,atom_counter]=df.x.values[k]"
   ]
  },
  {
   "cell_type": "markdown",
   "metadata": {
    "id": "BuwgNdt21oaV"
   },
   "source": [
    "should we consider image flages as we did for catenane in MD???\n",
    " here in dump of DPD I did not save image flages!"
   ]
  },
  {
   "cell_type": "code",
   "execution_count": 40,
   "metadata": {
    "id": "mtriLm0m7-hs"
   },
   "outputs": [],
   "source": [
    "#calculate center of mass \n",
    "\n",
    "mass=1 #each bead mass\n",
    "\n",
    "Xcm=np.zeros(num_frame+1)\n",
    "Ycm=np.zeros(num_frame+1)\n",
    "Zcm=np.zeros(num_frame+1)\n",
    "\n",
    "total_mass= num_atom_type * mass\n",
    "\n",
    "time_counter=0\n",
    "for i in range (0, num_frame):\n",
    "  atom_counter=0\n",
    "  time_counter+=1\n",
    "  Xoverall=0 # after each frame this will be zero so count from begining for next frame\n",
    "  Yoverall=0\n",
    "  Zoverall=0\n",
    "  for k in range (0, num_atom):\n",
    "     \n",
    "     if type_Frame[i,k]==5: #core beads of NP\n",
    "       atom_counter+=1\n",
    "  \n",
    "       ID_X_Frame[time_counter,atom_counter]=df.x.values[k]\n",
    "       ID_Y_Frame[time_counter,atom_counter]=df.y.values[k]\n",
    "       ID_Z_Frame[time_counter,atom_counter]=df.z.values[k]\n",
    "\n",
    "       Xoverall = Xoverall + ID_X_Frame[time_counter,atom_counter]\n",
    "       Yoverall = Yoverall + ID_Y_Frame[time_counter,atom_counter]\n",
    "       Zoverall = Zoverall + ID_Z_Frame[time_counter,atom_counter]\n",
    "\n",
    "       Xcm[time_counter] = Xoverall/total_mass\n",
    "       Ycm[time_counter] = Yoverall/total_mass\n",
    "       Zcm[time_counter] = Zoverall/total_mass     \n",
    "       \n"
   ]
  },
  {
   "cell_type": "code",
   "execution_count": 41,
   "metadata": {
    "colab": {
     "base_uri": "https://localhost:8080/"
    },
    "executionInfo": {
     "elapsed": 90,
     "status": "ok",
     "timestamp": 1632180206732,
     "user": {
      "displayName": "Saeed Akbari Shandiz",
      "photoUrl": "https://lh3.googleusercontent.com/a-/AOh14Gj_ltTfyzFcj-EidKK-RDh3G-RSeGnX-lq1mmA5=s64",
      "userId": "18254360833802486461"
     },
     "user_tz": 240
    },
    "id": "zHQgNf4I8pOS",
    "outputId": "bc838ae5-a334-48e9-fe58-98966256b3e9"
   },
   "outputs": [
    {
     "name": "stdout",
     "output_type": "stream",
     "text": [
      "0  0.0\n",
      "1  15.259174385363085\n",
      "2  14.180729559748439\n",
      "3  13.908161806746708\n",
      "4  13.77309891366495\n",
      "5  13.804561463693526\n",
      "6  13.798803316180665\n",
      "7  13.745030303030292\n",
      "8  13.746795311606634\n",
      "9  13.69178101772442\n",
      "10  13.535180674671256\n",
      "11  13.464051457975984\n",
      "12  13.246321898227563\n",
      "13  13.209778730703269\n",
      "14  13.136929674099479\n",
      "15  13.117069754145254\n",
      "16  13.092044596912526\n",
      "17  13.10287478559177\n",
      "18  13.068311606632372\n",
      "19  13.058849628359054\n",
      "20  13.067221841052044\n",
      "21  13.05479016580904\n",
      "22  12.903744425385947\n",
      "23  12.933887935963416\n",
      "24  12.940596340766142\n",
      "25  12.933953116066322\n",
      "26  12.932694110920517\n",
      "27  12.892380217267013\n",
      "28  12.886279588336192\n",
      "29  12.877262435677531\n",
      "30  12.876220697541452\n"
     ]
    }
   ],
   "source": [
    "for i in range (0, num_frame):\n",
    "  print(i,'',Zcm[i]) #here the center of box is in wall so Np is located above EG with distsnce around 14.9 nm so Zcm starts from 14.9 and when np go inside EG and be closer to wall the Zcm also decreases.\n",
    "#Xoverall"
   ]
  },
  {
   "cell_type": "markdown",
   "metadata": {
    "id": "W-78vY1h579p"
   },
   "source": [
    "**calculate MSD**"
   ]
  },
  {
   "cell_type": "code",
   "execution_count": 42,
   "metadata": {
    "colab": {
     "base_uri": "https://localhost:8080/"
    },
    "executionInfo": {
     "elapsed": 155,
     "status": "ok",
     "timestamp": 1632180212315,
     "user": {
      "displayName": "Saeed Akbari Shandiz",
      "photoUrl": "https://lh3.googleusercontent.com/a-/AOh14Gj_ltTfyzFcj-EidKK-RDh3G-RSeGnX-lq1mmA5=s64",
      "userId": "18254360833802486461"
     },
     "user_tz": 240
    },
    "id": "Wsz3dOtz9Nuv",
    "outputId": "be32380c-a10c-49a4-b0fb-65ec9f4d7f41"
   },
   "outputs": [
    {
     "name": "stdout",
     "output_type": "stream",
     "text": [
      "1  0.0  0.0  0.0\n",
      "2  -1.0784448256146462  1.1630432418950045  2.0781625498079292\n",
      "3  -1.351012578616377  1.825234987579672  2.2082814349397655\n",
      "4  -1.4860754716981344  2.2084203075828324  2.5505377626565764\n",
      "5  -1.4546129216695594  2.1158987518880514  2.229592240152022\n",
      "6  -1.46037106918242  2.132683659705005  2.1539094407975936\n",
      "7  -1.514144082332793  2.292632302063416  2.644199093733319\n",
      "8  -1.5123790737564509  2.2872904627364203  2.4370066172590894\n",
      "9  -1.5673933676386653  2.4567219689176762  2.8677540554403462\n",
      "10  -1.723993710691829  2.972154314504982  4.100274897978171\n",
      "11  -1.7951229273871014  3.2224663244308367  3.9876678542326487\n",
      "12  -2.012852487135522  4.051575134967656  5.570664201945241\n",
      "13  -2.0493956546598167  4.200022549338539  5.592554889446102\n",
      "14  -2.1222447112636065  4.503922614486348  6.528633770433196\n",
      "15  -2.1421046312178316  4.588612251084882  6.816133214173335\n",
      "16  -2.167129788450559  4.696451519989766  6.796722576113817\n",
      "17  -2.156299599771316  4.649627963973937  6.308158190302571\n",
      "18  -2.190862778730713  4.799879715227661  7.177350207390748\n",
      "19  -2.200324757004031  4.841429036284849  7.598401335862514\n",
      "20  -2.1919525443110413  4.804655956511647  7.184749359560738\n",
      "21  -2.2043842195540453  4.859309787418898  7.449161243753371\n",
      "22  -2.3554299599771387  5.548050296357905  10.71412270951663\n",
      "23  -2.3252864493996697  5.406957071761722  9.515912363872122\n",
      "24  -2.3185780445969435  5.375804148886986  9.522033563693387\n",
      "25  -2.3252212692967635  5.406653951190052  9.34676261653806\n",
      "26  -2.3264802744425683  5.412510467370368  9.877298956043987\n",
      "27  -2.3667941680960727  5.601714634133581  10.251125997621195\n",
      "28  -2.372894797026893  5.6306297177573  10.149687492189326\n",
      "29  -2.381911949685554  5.673504536054836  10.493131773721329\n",
      "30  -2.382953687821633  5.678468278302721  10.437968035099082\n"
     ]
    }
   ],
   "source": [
    "#non time average msd of center of mass of NP\n",
    "Xmsd=np.zeros (num_frame)# make 1D arrays\n",
    "Ymsd=np.zeros (num_frame)\n",
    "Zmsd=np.zeros (num_frame)\n",
    "Rmsd=np.zeros (num_frame)\n",
    "\n",
    "for i in range (1, 2):#thank god I should use frame one bc frame zero is zero but in future I shoul fix the frame zero so can have all frames info\n",
    " \n",
    " for t in range (1, num_frame):  \n",
    "\n",
    "        \n",
    "         \n",
    "        dx=Xcm[t]-Xcm[i]\n",
    "        dy=Ycm[t]-Ycm[i]\n",
    "        dz=Zcm[t]-Zcm[i]       \n",
    "        \n",
    "        Xmsd[t]+=np.power(dx,2)\n",
    "        Ymsd[t]+=np.power(dy,2)\n",
    "        Zmsd[t]+=np.power(dz,2)\n",
    "        \n",
    "        Rmsd[t]= Xmsd[t]+Ymsd[t]+ Zmsd[t];\n",
    "       \n",
    "        print(t,'',dz,'',Zmsd[t],'',Rmsd[t])\n",
    "        #print(t,'',Xmsd[t])"
   ]
  },
  {
   "cell_type": "markdown",
   "metadata": {
    "id": "M9mw0qDvpR_Y"
   },
   "source": [
    "**non time ave MSD**"
   ]
  },
  {
   "cell_type": "code",
   "execution_count": 43,
   "metadata": {
    "colab": {
     "base_uri": "https://localhost:8080/"
    },
    "executionInfo": {
     "elapsed": 106,
     "status": "ok",
     "timestamp": 1632180216035,
     "user": {
      "displayName": "Saeed Akbari Shandiz",
      "photoUrl": "https://lh3.googleusercontent.com/a-/AOh14Gj_ltTfyzFcj-EidKK-RDh3G-RSeGnX-lq1mmA5=s64",
      "userId": "18254360833802486461"
     },
     "user_tz": 240
    },
    "id": "5k77wj1DVwcU",
    "outputId": "8247a1ae-5c7f-49b9-dd15-1e06e192db37"
   },
   "outputs": [
    {
     "name": "stdout",
     "output_type": "stream",
     "text": [
      "1  0.0\n",
      "2  2.0781625498079292\n",
      "3  2.2082814349397655\n",
      "4  2.5505377626565764\n",
      "5  2.229592240152022\n",
      "6  2.1539094407975936\n",
      "7  2.644199093733319\n",
      "8  2.4370066172590894\n",
      "9  2.8677540554403462\n",
      "10  4.100274897978171\n",
      "11  3.9876678542326487\n",
      "12  5.570664201945241\n",
      "13  5.592554889446102\n",
      "14  6.528633770433196\n",
      "15  6.816133214173335\n",
      "16  6.796722576113817\n",
      "17  6.308158190302571\n",
      "18  7.177350207390748\n",
      "19  7.598401335862514\n",
      "20  7.184749359560738\n",
      "21  7.449161243753371\n",
      "22  10.71412270951663\n",
      "23  9.515912363872122\n",
      "24  9.522033563693387\n",
      "25  9.34676261653806\n",
      "26  9.877298956043987\n",
      "27  10.251125997621195\n",
      "28  10.149687492189326\n",
      "29  10.493131773721329\n",
      "30  10.437968035099082\n"
     ]
    }
   ],
   "source": [
    "#thankGOD! non time ave MSD:\n",
    "for t in range (1,num_frame):\n",
    "  print(t,'',Rmsd[t])"
   ]
  },
  {
   "cell_type": "code",
   "execution_count": 710,
   "metadata": {
    "id": "p6po3GePb5Aj"
   },
   "outputs": [],
   "source": [
    "df = pd.DataFrame(Rmsd)\n",
    "df.to_excel(r'C:\\vmd\\RMSDnonTimAve.xlsx')"
   ]
  },
  {
   "cell_type": "code",
   "execution_count": 711,
   "metadata": {
    "colab": {
     "base_uri": "https://localhost:8080/",
     "height": 290
    },
    "executionInfo": {
     "elapsed": 700,
     "status": "ok",
     "timestamp": 1625832561887,
     "user": {
      "displayName": "Saeed Akbari Shandiz",
      "photoUrl": "https://lh3.googleusercontent.com/a-/AOh14Gj_ltTfyzFcj-EidKK-RDh3G-RSeGnX-lq1mmA5=s64",
      "userId": "18254360833802486461"
     },
     "user_tz": 240
    },
    "id": "KM6OnaZAZAak",
    "outputId": "a35cb9f8-37aa-4175-dfea-15a3d28eb611"
   },
   "outputs": [
    {
     "data": {
      "image/png": "[encoded data removed]",
      "text/plain": [
       "<Figure size 432x288 with 1 Axes>"
      ]
     },
     "metadata": {
      "needs_background": "light"
     },
     "output_type": "display_data"
    }
   ],
   "source": [
    "import numpy as np\n",
    "from matplotlib import pyplot as plt\n",
    "import pandas as pd\n",
    "import pylab \n",
    "\n",
    "df =pd.ExcelFile(r'C:\\vmd\\RMSDnonTimAve.xlsx')# the name of execl file should start with capital word. Rdf is correct but not rdf \n",
    "Sheet1 =pd.read_excel(df,header=0)\n",
    "\n",
    "ax=Sheet1.plot(kind='line', y= 'b', color='blue', linewidth=0.5, label='MSD')\n",
    "ax.legend()\n",
    "#Sheet1.plot(kind='line',  x='a', y= 'c', color='red', linewidth=0.5, label='toluene', ax=ax)\n",
    "#Sheet1.plot(kind='line',  x='a', y= 'd', color='green', linewidth=0.5, label='interface', ax=ax)\n",
    "ax.legend()\n",
    "ax.set_xlabel('time (100ps)')\n",
    "ax.set_ylabel('Distance (0.71nm)') \n",
    "pylab.xlim([0,30])\n",
    "pylab.ylim([0,150])# define the range of y coordinate\n",
    "plt.ticklabel_format(axis=\"both\", style=\"sci\", scilimits=(0,0))#show the x and y axis in scientific mode\n",
    "plt.savefig(r'C:\\vmd\\RMSDnonTimAve.png')"
   ]
  },
  {
   "cell_type": "markdown",
   "metadata": {
    "id": "xEUqE7gzo8UM"
   },
   "source": [
    "**Zmsd only the motion in z direction**"
   ]
  },
  {
   "cell_type": "code",
   "execution_count": 44,
   "metadata": {
    "id": "t-DL6oZenehH"
   },
   "outputs": [],
   "source": [
    "df = pd.DataFrame(Zmsd)\n",
    "df.to_excel(r'C:\\vmd\\ZMSDnonTimAve.xlsx')"
   ]
  },
  {
   "cell_type": "code",
   "execution_count": 42,
   "metadata": {
    "colab": {
     "base_uri": "https://localhost:8080/",
     "height": 290
    },
    "executionInfo": {
     "elapsed": 805,
     "status": "ok",
     "timestamp": 1631287565828,
     "user": {
      "displayName": "Saeed Akbari Shandiz",
      "photoUrl": "https://lh3.googleusercontent.com/a-/AOh14Gj_ltTfyzFcj-EidKK-RDh3G-RSeGnX-lq1mmA5=s64",
      "userId": "18254360833802486461"
     },
     "user_tz": 240
    },
    "id": "bd5JL0BNUB4o",
    "outputId": "89e0edd4-6f7d-4d75-f382-f2cdfb3c8909"
   },
   "outputs": [
    {
     "ename": "FileNotFoundError",
     "evalue": "[Errno 2] No such file or directory: 'C:\\\\vmd\\\\ZMSDnonTimAve.xlsx'",
     "output_type": "error",
     "traceback": [
      "\u001b[1;31m---------------------------------------------------------------------------\u001b[0m",
      "\u001b[1;31mFileNotFoundError\u001b[0m                         Traceback (most recent call last)",
      "\u001b[1;32m<ipython-input-42-fd2d46478fd3>\u001b[0m in \u001b[0;36m<module>\u001b[1;34m\u001b[0m\n\u001b[0;32m      6\u001b[0m \u001b[1;32mimport\u001b[0m \u001b[0mpylab\u001b[0m\u001b[1;33m\u001b[0m\u001b[1;33m\u001b[0m\u001b[0m\n\u001b[0;32m      7\u001b[0m \u001b[1;33m\u001b[0m\u001b[0m\n\u001b[1;32m----> 8\u001b[1;33m \u001b[0mdf\u001b[0m \u001b[1;33m=\u001b[0m\u001b[0mpd\u001b[0m\u001b[1;33m.\u001b[0m\u001b[0mExcelFile\u001b[0m\u001b[1;33m(\u001b[0m\u001b[1;34mr'C:\\vmd\\ZMSDnonTimAve.xlsx'\u001b[0m\u001b[1;33m)\u001b[0m\u001b[1;31m# the name of execl file should start with capital word. Rdf is correct but not rdf\u001b[0m\u001b[1;33m\u001b[0m\u001b[1;33m\u001b[0m\u001b[0m\n\u001b[0m\u001b[0;32m      9\u001b[0m \u001b[0mSheet1\u001b[0m \u001b[1;33m=\u001b[0m\u001b[0mpd\u001b[0m\u001b[1;33m.\u001b[0m\u001b[0mread_excel\u001b[0m\u001b[1;33m(\u001b[0m\u001b[0mdf\u001b[0m\u001b[1;33m,\u001b[0m\u001b[0mheader\u001b[0m\u001b[1;33m=\u001b[0m\u001b[1;36m0\u001b[0m\u001b[1;33m)\u001b[0m\u001b[1;33m\u001b[0m\u001b[1;33m\u001b[0m\u001b[0m\n\u001b[0;32m     10\u001b[0m \u001b[1;33m\u001b[0m\u001b[0m\n",
      "\u001b[1;32m~\\anaconda3\\lib\\site-packages\\pandas\\io\\excel\\_base.py\u001b[0m in \u001b[0;36m__init__\u001b[1;34m(self, path_or_buffer, engine, storage_options)\u001b[0m\n\u001b[0;32m   1069\u001b[0m                 \u001b[0mext\u001b[0m \u001b[1;33m=\u001b[0m \u001b[1;34m\"xls\"\u001b[0m\u001b[1;33m\u001b[0m\u001b[1;33m\u001b[0m\u001b[0m\n\u001b[0;32m   1070\u001b[0m             \u001b[1;32melse\u001b[0m\u001b[1;33m:\u001b[0m\u001b[1;33m\u001b[0m\u001b[1;33m\u001b[0m\u001b[0m\n\u001b[1;32m-> 1071\u001b[1;33m                 ext = inspect_excel_format(\n\u001b[0m\u001b[0;32m   1072\u001b[0m                     \u001b[0mcontent\u001b[0m\u001b[1;33m=\u001b[0m\u001b[0mpath_or_buffer\u001b[0m\u001b[1;33m,\u001b[0m \u001b[0mstorage_options\u001b[0m\u001b[1;33m=\u001b[0m\u001b[0mstorage_options\u001b[0m\u001b[1;33m\u001b[0m\u001b[1;33m\u001b[0m\u001b[0m\n\u001b[0;32m   1073\u001b[0m                 )\n",
      "\u001b[1;32m~\\anaconda3\\lib\\site-packages\\pandas\\io\\excel\\_base.py\u001b[0m in \u001b[0;36minspect_excel_format\u001b[1;34m(path, content, storage_options)\u001b[0m\n\u001b[0;32m    947\u001b[0m     \u001b[1;32massert\u001b[0m \u001b[0mcontent_or_path\u001b[0m \u001b[1;32mis\u001b[0m \u001b[1;32mnot\u001b[0m \u001b[1;32mNone\u001b[0m\u001b[1;33m\u001b[0m\u001b[1;33m\u001b[0m\u001b[0m\n\u001b[0;32m    948\u001b[0m \u001b[1;33m\u001b[0m\u001b[0m\n\u001b[1;32m--> 949\u001b[1;33m     with get_handle(\n\u001b[0m\u001b[0;32m    950\u001b[0m         \u001b[0mcontent_or_path\u001b[0m\u001b[1;33m,\u001b[0m \u001b[1;34m\"rb\"\u001b[0m\u001b[1;33m,\u001b[0m \u001b[0mstorage_options\u001b[0m\u001b[1;33m=\u001b[0m\u001b[0mstorage_options\u001b[0m\u001b[1;33m,\u001b[0m \u001b[0mis_text\u001b[0m\u001b[1;33m=\u001b[0m\u001b[1;32mFalse\u001b[0m\u001b[1;33m\u001b[0m\u001b[1;33m\u001b[0m\u001b[0m\n\u001b[0;32m    951\u001b[0m     ) as handle:\n",
      "\u001b[1;32m~\\anaconda3\\lib\\site-packages\\pandas\\io\\common.py\u001b[0m in \u001b[0;36mget_handle\u001b[1;34m(path_or_buf, mode, encoding, compression, memory_map, is_text, errors, storage_options)\u001b[0m\n\u001b[0;32m    649\u001b[0m         \u001b[1;32melse\u001b[0m\u001b[1;33m:\u001b[0m\u001b[1;33m\u001b[0m\u001b[1;33m\u001b[0m\u001b[0m\n\u001b[0;32m    650\u001b[0m             \u001b[1;31m# Binary mode\u001b[0m\u001b[1;33m\u001b[0m\u001b[1;33m\u001b[0m\u001b[1;33m\u001b[0m\u001b[0m\n\u001b[1;32m--> 651\u001b[1;33m             \u001b[0mhandle\u001b[0m \u001b[1;33m=\u001b[0m \u001b[0mopen\u001b[0m\u001b[1;33m(\u001b[0m\u001b[0mhandle\u001b[0m\u001b[1;33m,\u001b[0m \u001b[0mioargs\u001b[0m\u001b[1;33m.\u001b[0m\u001b[0mmode\u001b[0m\u001b[1;33m)\u001b[0m\u001b[1;33m\u001b[0m\u001b[1;33m\u001b[0m\u001b[0m\n\u001b[0m\u001b[0;32m    652\u001b[0m         \u001b[0mhandles\u001b[0m\u001b[1;33m.\u001b[0m\u001b[0mappend\u001b[0m\u001b[1;33m(\u001b[0m\u001b[0mhandle\u001b[0m\u001b[1;33m)\u001b[0m\u001b[1;33m\u001b[0m\u001b[1;33m\u001b[0m\u001b[0m\n\u001b[0;32m    653\u001b[0m \u001b[1;33m\u001b[0m\u001b[0m\n",
      "\u001b[1;31mFileNotFoundError\u001b[0m: [Errno 2] No such file or directory: 'C:\\\\vmd\\\\ZMSDnonTimAve.xlsx'"
     ]
    }
   ],
   "source": [
    "#logaritmic scale plot\n",
    "\n",
    "import numpy as np\n",
    "from matplotlib import pyplot as plt\n",
    "import pandas as pd\n",
    "import pylab \n",
    "\n",
    "df =pd.ExcelFile(r'C:\\vmd\\ZMSDnonTimAve.xlsx')# the name of execl file should start with capital word. Rdf is correct but not rdf \n",
    "Sheet1 =pd.read_excel(df,header=0)\n",
    "\n",
    "ax=Sheet1.plot(kind='line', y= 'b', color='blue', linewidth=0.5, label='Z coordinate')\n",
    "ax.legend()\n",
    "#Sheet1.plot(kind='line',  x='a', y= 'c', color='red', linewidth=0.5, label='homo', ax=ax)\n",
    "#Sheet1.plot(kind='line',  x='a', y= 'd', color='green', linewidth=0.5, label='janus', ax=ax)\n",
    "#Sheet1.plot(kind='line',  x='a', y= 'e', color='orange', linewidth=0.5, label='random', ax=ax)\n",
    "#Sheet1.plot(kind='line',  x='a', y= 'f', color='blue', linewidth=0.5, label='janusSecPos', ax=ax)\n",
    "ax.legend()\n",
    "ax.set_xlabel('time (100ps)')\n",
    "ax.set_ylabel('Distance (0.71nm)') \n",
    "#ax.set_yscale('log') #to plot in log scale\n",
    "\n",
    "pylab.xlim([0,30])\n",
    "pylab.ylim([0,150])# define the range of y coordinate\n",
    "#plt.ticklabel_format(axis=\"x\", style=\"sci\", scilimits=(0,0))#show only the x axis in scientific mode when Y coordinate is in log scale\n",
    "plt.ticklabel_format(axis=\"both\", style=\"sci\", scilimits=(0,0))#show the x and y axis in scientific mode\n",
    "plt.savefig(r'C:\\vmd\\ZMSDnonTimAve.png')"
   ]
  },
  {
   "cell_type": "code",
   "execution_count": 75,
   "metadata": {},
   "outputs": [
    {
     "data": {
      "image/png": "[encoded data removed]",
      "text/plain": [
       "<Figure size 432x288 with 1 Axes>"
      ]
     },
     "metadata": {
      "needs_background": "light"
     },
     "output_type": "display_data"
    }
   ],
   "source": [
    "#logaritmic scale plot\n",
    "\n",
    "import numpy as np\n",
    "from matplotlib import pyplot as plt\n",
    "import pandas as pd\n",
    "import pylab \n",
    "\n",
    "df =pd.ExcelFile(r'C:\\vmd\\Zmsd_8r,12,16rcDisc.xlsx')# the name of execl file should start with capital word. Rdf is correct but not rdf \n",
    "Sheet1 =pd.read_excel(df,header=0)\n",
    "\n",
    "ax=Sheet1.plot(kind='line', y= '8rc', color='blue', linewidth=0.5, label='8rc')\n",
    "ax.legend()\n",
    "Sheet1.plot(kind='line',  y= '12rc', color='red', linewidth=0.5, label='12rc', ax=ax)\n",
    "Sheet1.plot(kind='line',  y= '16rc', color='green', linewidth=0.5, label='16rc', ax=ax)\n",
    "#Sheet1.plot(kind='line',  y= '(-)perpend', color='orange', linewidth=0.5, label='(-)perpend', ax=ax)\n",
    "#Sheet1.plot(kind='line',  y= 'parallel', color='black', linewidth=0.5, label='parallel', ax=ax)\n",
    "\n",
    "ax.legend()\n",
    "ax.set_xlabel('time (100ps)')\n",
    "ax.set_ylabel('Distance (0.71nm)') \n",
    "#ax.set_yscale('log') #to plot in log scale\n",
    "\n",
    "pylab.xlim([0,30])\n",
    "pylab.ylim([0,100])# define the range of y coordinate\n",
    "#plt.ticklabel_format(axis=\"x\", style=\"sci\", scilimits=(0,0))#show only the x axis in scientific mode when Y coordinate is in log scale\n",
    "plt.ticklabel_format(axis=\"both\", style=\"sci\", scilimits=(0,0))#show the x and y axis in scientific mode\n",
    "plt.savefig(r'C:\\vmd\\Zmsd_8r,12,16rcDisc.png')"
   ]
  },
  {
   "cell_type": "code",
   "execution_count": 73,
   "metadata": {},
   "outputs": [
    {
     "data": {
      "image/png": "[encoded data removed]",
      "text/plain": [
       "<Figure size 432x288 with 1 Axes>"
      ]
     },
     "metadata": {
      "needs_background": "light"
     },
     "output_type": "display_data"
    }
   ],
   "source": [
    "#logaritmic scale plot\n",
    "\n",
    "import numpy as np\n",
    "from matplotlib import pyplot as plt\n",
    "import pandas as pd\n",
    "import pylab \n",
    "\n",
    "df =pd.ExcelFile(r'C:\\vmd\\z_msd_perpend_parallel.xlsx')# the name of execl file should start with capital word. Rdf is correct but not rdf \n",
    "Sheet1 =pd.read_excel(df,header=0)\n",
    "\n",
    "ax=Sheet1.plot(kind='line', y= 'perpend', color='red', linewidth=0.5, label='perpendicular')\n",
    "ax.legend()\n",
    "Sheet1.plot(kind='line',  y= 'parallel', color='green', linewidth=0.5, label='parallel', ax=ax)\n",
    "#Sheet1.plot(kind='line',  y= '16rc', color='green', linewidth=0.5, label='16rc', ax=ax)\n",
    "#Sheet1.plot(kind='line',  y= '(-)perpend', color='orange', linewidth=0.5, label='(-)perpend', ax=ax)\n",
    "#Sheet1.plot(kind='line',  y= 'parallel', color='black', linewidth=0.5, label='parallel', ax=ax)\n",
    "\n",
    "ax.legend()\n",
    "ax.set_xlabel('time (100ps)')\n",
    "ax.set_ylabel('Distance (1nm)') \n",
    "#ax.set_yscale('log') #to plot in log scale\n",
    "\n",
    "pylab.xlim([0,30])\n",
    "pylab.ylim([0,100])# define the range of y coordinate\n",
    "#plt.ticklabel_format(axis=\"x\", style=\"sci\", scilimits=(0,0))#show only the x axis in scientific mode when Y coordinate is in log scale\n",
    "plt.ticklabel_format(axis=\"both\", style=\"sci\", scilimits=(0,0))#show the x and y axis in scientific mode\n",
    "plt.savefig(r'C:\\vmd\\z_msd_perpend_parallel.png')"
   ]
  },
  {
   "cell_type": "code",
   "execution_count": 46,
   "metadata": {},
   "outputs": [
    {
     "name": "stderr",
     "output_type": "stream",
     "text": [
      "<ipython-input-46-c1421bb61326>:24: UserWarning: Attempted to set non-positive bottom ylim on a log-scaled axis.\n",
      "Invalid limit will be ignored.\n",
      "  pylab.ylim([0,100])# define the range of y coordinate\n"
     ]
    },
    {
     "data": {
      "image/png": "[encoded data removed]",
      "text/plain": [
       "<Figure size 432x288 with 1 Axes>"
      ]
     },
     "metadata": {
      "needs_background": "light"
     },
     "output_type": "display_data"
    }
   ],
   "source": [
    "#logaritmic scale plot\n",
    "\n",
    "import numpy as np\n",
    "from matplotlib import pyplot as plt\n",
    "import pandas as pd\n",
    "import pylab \n",
    "\n",
    "df =pd.ExcelFile(r'C:\\vmd\\rc1.0_ZMSD_12rc_rod_disc_sphere.xlsx')# the name of execl file should start with capital word. Rdf is correct but not rdf \n",
    "Sheet1 =pd.read_excel(df,header=0)\n",
    "\n",
    "ax=Sheet1.plot(kind='line', y= 'rod', color='blue', linewidth=0.5, label='rod')\n",
    "ax.legend()\n",
    "Sheet1.plot(kind='line',  y= 'disc', color='red', linewidth=0.5, label='disc', ax=ax)\n",
    "Sheet1.plot(kind='line',  y= 'sphere', color='green', linewidth=0.5, label='sphere', ax=ax)\n",
    "#Sheet1.plot(kind='line',  y= '(-)perpend', color='orange', linewidth=0.5, label='(-)perpend', ax=ax)\n",
    "#Sheet1.plot(kind='line',  y= 'parallel', color='black', linewidth=0.5, label='parallel', ax=ax)\n",
    "\n",
    "ax.legend()\n",
    "ax.set_xlabel('time (100ps)')\n",
    "ax.set_ylabel('Distance (0.71nm)') \n",
    "ax.set_yscale('log') #to plot in log scale\n",
    "\n",
    "pylab.xlim([0,30])\n",
    "pylab.ylim([0,100])# define the range of y coordinate\n",
    "plt.ticklabel_format(axis=\"x\", style=\"sci\", scilimits=(0,0))#show only the x axis in scientific mode when Y coordinate is in log scale\n",
    "#plt.ticklabel_format(axis=\"both\", style=\"sci\", scilimits=(0,0))#show the x and y axis in scientific mode\n",
    "plt.savefig(r'C:\\vmd\\rc1.0_ZMSD_12rc_rod_disc_sphere(log).png')"
   ]
  },
  {
   "cell_type": "markdown",
   "metadata": {},
   "source": [
    "# ThankGOD correct plot units"
   ]
  },
  {
   "cell_type": "code",
   "execution_count": 13,
   "metadata": {},
   "outputs": [
    {
     "data": {
      "image/png": "[encoded data removed]",
      "text/plain": [
       "<Figure size 396x288 with 1 Axes>"
      ]
     },
     "metadata": {
      "needs_background": "light"
     },
     "output_type": "display_data"
    }
   ],
   "source": [
    "#ThankGOD correct plot units\n",
    "\n",
    "import numpy as np\n",
    "from matplotlib import pyplot as plt\n",
    "import pandas as pd\n",
    "import pylab \n",
    "from matplotlib import rcParams\n",
    "import matplotlib\n",
    "\n",
    "df =pd.ExcelFile(r'C:\\vmd\\z_msd_bare_170,340lig.xlsx')# the name of execl file should start with capital word. Rdf is correct but not rdf \n",
    "Sheet1 =pd.read_excel(df,header=0)\n",
    "\n",
    "ax=Sheet1.plot(kind='line', y= 'bare', color='blue', linewidth=1.5, label='bare')\n",
    "ax.legend()\n",
    "Sheet1.plot(kind='line',  y= '170 lig', color='red', linewidth=1.5, label='170 lig', ax=ax)\n",
    "Sheet1.plot(kind='line',  y= '340 lig', color='green', linewidth=1.5, label='340 lig', ax=ax)\n",
    "#Sheet1.plot(kind='line',  y= '(-)perpend', color='orange', linewidth=0.5, label='(-)perpend', ax=ax)\n",
    "#Sheet1.plot(kind='line',  y= 'parallel', color='black', linewidth=0.5, label='parallel', ax=ax)\n",
    "\n",
    "ax.legend()\n",
    "\n",
    "##########################################\n",
    "ax.set_xlabel('time (100ps)')\n",
    "ax.set_ylabel('distance (0.1nm)') \n",
    "\n",
    "pylab.xlim([1,30])\n",
    "plt.xticks(np.arange(10,31,10)) #the distance of units to be shown in x axis. it starts from 10 to 30 with idistance of 10.thankGOD!\n",
    "pylab.ylim([0,100])# define the range of y coordinate\n",
    "plt.yticks(np.arange(0,100.1,20))\n",
    "\n",
    "rcParams['font.family'] = 'serif'\n",
    "rcParams['font.sans-serif'] = ['Bitstream Vera Sans']\n",
    "rcParams['font.serif'] = ['Bitstream Vera Sans']\n",
    "rcParams[\"font.size\"] = \"17\"\n",
    "matplotlib.rcParams['legend.fontsize'] = 10\n",
    "\n",
    "plt.rcParams[\"figure.figsize\"] = [5.50, 4.0]\n",
    "plt.rcParams[\"figure.autolayout\"] = True\n",
    "\n",
    "plt.ticklabel_format(axis=\"y\", style=\"sci\", scilimits=(0,0))#show the x and y axis in scientific \n",
    "###########################################\n",
    "\n",
    "\n",
    "plt.savefig(r'C:\\vmd\\z_msd_bare_170,340lig2.png')"
   ]
  },
  {
   "cell_type": "code",
   "execution_count": 10,
   "metadata": {
    "colab": {
     "base_uri": "https://localhost:8080/",
     "height": 317
    },
    "executionInfo": {
     "elapsed": 17287,
     "status": "ok",
     "timestamp": 1627138754193,
     "user": {
      "displayName": "Saeed Akbari Shandiz",
      "photoUrl": "https://lh3.googleusercontent.com/a-/AOh14Gj_ltTfyzFcj-EidKK-RDh3G-RSeGnX-lq1mmA5=s64",
      "userId": "18254360833802486461"
     },
     "user_tz": 240
    },
    "id": "Cvr9O68gniFQ",
    "outputId": "f47fefed-9ecc-4186-ebf0-7d79327afa39"
   },
   "outputs": [
    {
     "data": {
      "image/png": "[encoded data removed]",
      "text/plain": [
       "<Figure size 396x288 with 1 Axes>"
      ]
     },
     "metadata": {
      "needs_background": "light"
     },
     "output_type": "display_data"
    }
   ],
   "source": [
    "#thankGOD! final plot mehtod\n",
    "\n",
    "import numpy as np\n",
    "from matplotlib import pyplot as plt\n",
    "import pandas as pd\n",
    "import pylab \n",
    "from matplotlib import rcParams\n",
    "import matplotlib\n",
    "\n",
    "df =pd.ExcelFile(r'C:\\vmd\\Z_msd_perpend_parallel.xlsx')# the name of execl file should start with capital word. Rdf is correct but not rdf \n",
    "Sheet1 =pd.read_excel(df,header=0)\n",
    "\n",
    "ax=Sheet1.plot(kind='line', y= 'perpend', color='red', linewidth=1.5, label='perpendicular')\n",
    "ax.legend()\n",
    "#Sheet1.plot(kind='line', y= '45degree', color='red', linewidth=1.5, label='45˚', ax=ax)\n",
    "#Sheet1.plot(kind='line', y= '(-)45degree', color='green', linewidth=1.5, label='135˚', ax=ax)\n",
    "#Sheet1.plot(kind='line', y= '(-)perpend', color='orange', linewidth=1.5, label='180˚', ax=ax)\n",
    "Sheet1.plot(kind='line', y= 'parallel', color='green', linewidth=1.5, label='parallel', ax=ax)\n",
    "ax.legend()\n",
    "\n",
    "\n",
    "##########################################\n",
    "ax.set_xlabel('time (100ps)')\n",
    "ax.set_ylabel('distance (0.1nm)') \n",
    "\n",
    "pylab.xlim([1,30])\n",
    "plt.xticks(np.arange(0,31,10)) #the distance of units to be shown in x axis. it starts from 10 to 30 with idistance of 10.thankGOD!\n",
    "pylab.ylim([0,100])# define the range of y coordinate\n",
    "plt.yticks(np.arange(0,100.1,20))\n",
    "\n",
    "rcParams['font.family'] = 'serif'\n",
    "rcParams['font.sans-serif'] = ['Bitstream Vera Sans']\n",
    "rcParams['font.serif'] = ['Bitstream Vera Sans']\n",
    "rcParams[\"font.size\"] = \"17\"\n",
    "matplotlib.rcParams['legend.fontsize'] = 10\n",
    "\n",
    "#plt.rcParams[\"figure.figsize\"] = [5.50, 4.0]\n",
    "plt.rcParams[\"figure.autolayout\"] = True\n",
    "\n",
    "plt.ticklabel_format(axis=\"y\", style=\"sci\", scilimits=(0,0))#show the x and y axis in scientific \n",
    "###########################################\n",
    "\n",
    "\n",
    "plt.savefig(r'C:\\vmd\\Z_msd_perpend_parallel2.png')"
   ]
  },
  {
   "cell_type": "code",
   "execution_count": 11,
   "metadata": {},
   "outputs": [
    {
     "data": {
      "image/png": "[encoded data removed]",
      "text/plain": [
       "<Figure size 396x288 with 1 Axes>"
      ]
     },
     "metadata": {
      "needs_background": "light"
     },
     "output_type": "display_data"
    }
   ],
   "source": [
    "#ThankGOD correct plot units\n",
    "#thankGOD! \n",
    "\n",
    "import numpy as np\n",
    "from matplotlib import pyplot as plt\n",
    "import pandas as pd\n",
    "import pylab \n",
    "from matplotlib import rcParams\n",
    "import matplotlib\n",
    "\n",
    "df =pd.ExcelFile(r'C:\\vmd\\z_msd_rod_disc_sphere.xlsx')# the name of execl file should start with capital word. Rdf is correct but not rdf \n",
    "Sheet1 =pd.read_excel(df,header=0)\n",
    "\n",
    "ax=Sheet1.plot(kind='line', y= 'rod', color='blue', linewidth=1.5, label='rod')\n",
    "ax.legend()\n",
    "Sheet1.plot(kind='line',  y= 'disc', color='red', linewidth=1.5, label='disc', ax=ax)\n",
    "Sheet1.plot(kind='line',  y= 'sphere', color='green', linewidth=1.5, label='sphere', ax=ax)\n",
    "#Sheet1.plot(kind='line',  y= '(-)perpend', color='orange', linewidth=0.5, label='(-)perpend', ax=ax)\n",
    "#Sheet1.plot(kind='line',  y= 'parallel', color='black', linewidth=0.5, label='parallel', ax=ax)\n",
    "ax.legend()\n",
    "\n",
    "\n",
    "##########################################\n",
    "ax.set_xlabel('time (100ps)')\n",
    "ax.set_ylabel('distance (0.1nm)') \n",
    "\n",
    "pylab.xlim([1,30])\n",
    "plt.xticks(np.arange(0,31,10)) #the distance of units to be shown in x axis. it starts from 10 to 30 with idistance of 10.thankGOD!\n",
    "pylab.ylim([0,100])# define the range of y coordinate\n",
    "plt.yticks(np.arange(0,100.1,20))\n",
    "\n",
    "rcParams['font.family'] = 'serif'\n",
    "rcParams['font.sans-serif'] = ['Bitstream Vera Sans']\n",
    "rcParams['font.serif'] = ['Bitstream Vera Sans']\n",
    "rcParams[\"font.size\"] = \"17\"\n",
    "matplotlib.rcParams['legend.fontsize'] = 10\n",
    "\n",
    "plt.rcParams[\"figure.figsize\"] = [5.50, 4.0]\n",
    "plt.rcParams[\"figure.autolayout\"] = True\n",
    "\n",
    "plt.ticklabel_format(axis=\"y\", style=\"sci\", scilimits=(0,0))#show the x and y axis in scientific \n",
    "###########################################\n",
    "\n",
    "\n",
    "plt.savefig(r'C:\\vmd\\z_msd_rod_disc_sphere2.png')"
   ]
  },
  {
   "cell_type": "code",
   "execution_count": 9,
   "metadata": {},
   "outputs": [
    {
     "data": {
      "image/png": "[encoded data removed]",
      "text/plain": [
       "<Figure size 396x288 with 1 Axes>"
      ]
     },
     "metadata": {
      "needs_background": "light"
     },
     "output_type": "display_data"
    }
   ],
   "source": [
    "#logaritmic scale plot\n",
    "\n",
    "import numpy as np\n",
    "from matplotlib import pyplot as plt\n",
    "import pandas as pd\n",
    "import pylab \n",
    "from matplotlib import rcParams\n",
    "import matplotlib\n",
    "\n",
    "df =pd.ExcelFile(r'C:\\vmd\\Zmsd_8r,12,16rcDisc.xlsx')# the name of execl file should start with capital word. Rdf is correct but not rdf \n",
    "Sheet1 =pd.read_excel(df,header=0)\n",
    "\n",
    "ax=Sheet1.plot(kind='line', y= '8rc', color='blue', linewidth=1.5, label='8rc')\n",
    "ax.legend()\n",
    "Sheet1.plot(kind='line',  y= '12rc', color='red', linewidth=1.5, label='12rc', ax=ax)\n",
    "Sheet1.plot(kind='line',  y= '16rc', color='green', linewidth=1.5, label='16rc', ax=ax)\n",
    "#Sheet1.plot(kind='line',  y= '(-)perpend', color='orange', linewidth=0.5, label='(-)perpend', ax=ax)\n",
    "#Sheet1.plot(kind='line',  y= 'parallel', color='black', linewidth=0.5, label='parallel', ax=ax)\n",
    "ax.legend()\n",
    "\n",
    "\n",
    "##########################################\n",
    "ax.set_xlabel('time (100ps)')\n",
    "ax.set_ylabel('distance (0.1nm)') \n",
    "\n",
    "pylab.xlim([1,30])\n",
    "plt.xticks(np.arange(10,31,10)) #the distance of units to be shown in x axis. it starts from 10 to 30 with idistance of 10.thankGOD!\n",
    "pylab.ylim([0,100])# define the range of y coordinate\n",
    "plt.yticks(np.arange(0,100.1,20))\n",
    "\n",
    "rcParams['font.family'] = 'serif'\n",
    "rcParams['font.sans-serif'] = ['Bitstream Vera Sans']\n",
    "rcParams['font.serif'] = ['Bitstream Vera Sans']\n",
    "rcParams[\"font.size\"] = \"17\"\n",
    "matplotlib.rcParams['legend.fontsize'] = 10\n",
    "\n",
    "plt.rcParams[\"figure.figsize\"] = [5.50, 4.0]\n",
    "plt.rcParams[\"figure.autolayout\"] = True\n",
    "\n",
    "plt.ticklabel_format(axis=\"y\", style=\"sci\", scilimits=(0,0))#show the x and y axis in scientific \n",
    "###########################################\n",
    "\n",
    "\n",
    "plt.savefig(r'C:\\vmd\\Zmsd_8r,12,16rcDisc.png')"
   ]
  },
  {
   "cell_type": "markdown",
   "metadata": {},
   "source": [
    "# Xmsd only the motion in x direction\n"
   ]
  },
  {
   "cell_type": "code",
   "execution_count": 671,
   "metadata": {
    "id": "bDKl2Uf7Z5_0"
   },
   "outputs": [],
   "source": [
    "df = pd.DataFrame(Xmsd)\n",
    "df.to_excel(r'C:\\vmd\\XMSDnonTimAve.xlsx')"
   ]
  },
  {
   "cell_type": "code",
   "execution_count": 4,
   "metadata": {
    "colab": {
     "base_uri": "https://localhost:8080/",
     "height": 417
    },
    "executionInfo": {
     "elapsed": 122,
     "status": "error",
     "timestamp": 1625494656513,
     "user": {
      "displayName": "Saeed Akbari Shandiz",
      "photoUrl": "https://lh3.googleusercontent.com/a-/AOh14Gj_ltTfyzFcj-EidKK-RDh3G-RSeGnX-lq1mmA5=s64",
      "userId": "18254360833802486461"
     },
     "user_tz": 240
    },
    "id": "2lOoMkp0Z23q",
    "outputId": "cfed4dbb-58b3-4d90-d785-116d37d003aa"
   },
   "outputs": [
    {
     "data": {
      "image/png": "[encoded data removed]",
      "text/plain": [
       "<Figure size 432x288 with 1 Axes>"
      ]
     },
     "metadata": {
      "needs_background": "light"
     },
     "output_type": "display_data"
    }
   ],
   "source": [
    "import numpy as np\n",
    "from matplotlib import pyplot as plt\n",
    "import pandas as pd\n",
    "import pylab \n",
    "\n",
    "df =pd.ExcelFile(r'C:\\vmd\\XMSDnonTimAve.xlsx')# the name of execl file should start with capital word. Rdf is correct but not rdf \n",
    "Sheet1 =pd.read_excel(df,header=0)\n",
    "\n",
    "ax=Sheet1.plot(kind='line', y= 'b', color='blue', linewidth=0.5, label='X coordinate')\n",
    "ax.legend()\n",
    "#Sheet1.plot(kind='line',  x='a', y= 'c', color='red', linewidth=0.5, label='toluene', ax=ax)\n",
    "#Sheet1.plot(kind='line',  x='a', y= 'd', color='green', linewidth=0.5, label='interface', ax=ax)\n",
    "ax.legend()\n",
    "ax.set_xlabel('time (100ps)')\n",
    "ax.set_ylabel('Distance (0.71nm)') \n",
    "pylab.xlim([0,30])\n",
    "pylab.ylim([0,2])# define the range of y coordinate\n",
    "plt.ticklabel_format(axis=\"both\", style=\"sci\", scilimits=(0,0))#show the x and y axis in scientific mode\n",
    "plt.savefig(r'C:\\vmd\\XMSDnonTimAve.png')"
   ]
  },
  {
   "cell_type": "markdown",
   "metadata": {},
   "source": [
    "# Ymsd only the motion in y direction\n"
   ]
  },
  {
   "cell_type": "code",
   "execution_count": 673,
   "metadata": {
    "id": "neDXPc8WaANx"
   },
   "outputs": [],
   "source": [
    "df = pd.DataFrame(Ymsd)\n",
    "df.to_excel(r'C:\\vmd\\YMSDnonTimAve.xlsx')"
   ]
  },
  {
   "cell_type": "code",
   "execution_count": 674,
   "metadata": {
    "colab": {
     "base_uri": "https://localhost:8080/",
     "height": 290
    },
    "executionInfo": {
     "elapsed": 876,
     "status": "ok",
     "timestamp": 1621023380496,
     "user": {
      "displayName": "Saeed Akbari Shandiz",
      "photoUrl": "https://lh3.googleusercontent.com/a-/AOh14Gj_ltTfyzFcj-EidKK-RDh3G-RSeGnX-lq1mmA5=s64",
      "userId": "18254360833802486461"
     },
     "user_tz": 240
    },
    "id": "rEY2D7iVaGfJ",
    "outputId": "ff2ce862-714e-4196-96ea-7fdd75dd17a5"
   },
   "outputs": [
    {
     "data": {
      "image/png": "[encoded data removed]",
      "text/plain": [
       "<Figure size 432x288 with 1 Axes>"
      ]
     },
     "metadata": {
      "needs_background": "light"
     },
     "output_type": "display_data"
    }
   ],
   "source": [
    "import numpy as np\n",
    "from matplotlib import pyplot as plt\n",
    "import pandas as pd\n",
    "import pylab \n",
    "\n",
    "df =pd.ExcelFile(r'C:\\vmd\\YMSDnonTimAve.xlsx')# the name of execl file should start with capital word. Rdf is correct but not rdf \n",
    "Sheet1 =pd.read_excel(df,header=0)\n",
    "\n",
    "ax=Sheet1.plot(kind='line', y= 'b', color='blue', linewidth=0.5, label='Y coordinate')\n",
    "ax.legend()\n",
    "#Sheet1.plot(kind='line',  x='a', y= 'c', color='red', linewidth=0.5, label='toluene', ax=ax)\n",
    "#Sheet1.plot(kind='line',  x='a', y= 'd', color='green', linewidth=0.5, label='interface', ax=ax)\n",
    "ax.legend()\n",
    "ax.set_xlabel('time (100ps)')\n",
    "ax.set_ylabel('Distance (0.71nm)') \n",
    "pylab.xlim([0,30])\n",
    "pylab.ylim([0,70])# define the range of y coordinate\n",
    "plt.ticklabel_format(axis=\"both\", style=\"sci\", scilimits=(0,0))#show the x and y axis in scientific mode\n",
    "plt.savefig(r'C:\\vmd\\YMSDnonTimAve.png')"
   ]
  },
  {
   "cell_type": "markdown",
   "metadata": {
    "id": "T80TyHwrpcqk"
   },
   "source": [
    "# **time ave MSD**"
   ]
  },
  {
   "cell_type": "code",
   "execution_count": 180,
   "metadata": {
    "colab": {
     "base_uri": "https://localhost:8080/"
    },
    "executionInfo": {
     "elapsed": 765,
     "status": "ok",
     "timestamp": 1620338716185,
     "user": {
      "displayName": "Saeed Akbari Shandiz",
      "photoUrl": "https://lh3.googleusercontent.com/a-/AOh14Gj_ltTfyzFcj-EidKK-RDh3G-RSeGnX-lq1mmA5=s64",
      "userId": "18254360833802486461"
     },
     "user_tz": 240
    },
    "id": "G4L28wHz4pYp",
    "outputId": "3538e314-f197-4bf7-ac66-af7c331c7749"
   },
   "outputs": [
    {
     "name": "stdout",
     "output_type": "stream",
     "text": [
      "0  0.0\n",
      "1  0.0\n",
      "2  0.30568001816138846\n",
      "3  0.42278634329114306\n",
      "4  0.6432571249757671\n",
      "5  0.6241974676246411\n",
      "6  0.6757924038165782\n",
      "7  0.8359801063510812\n",
      "8  0.7969361715039993\n",
      "9  0.8705626492780918\n",
      "10  0.8532316510235821\n",
      "11  0.8496541284945508\n",
      "12  0.9205802574304692\n",
      "13  0.9020988577808211\n",
      "14  0.8887344734054751\n",
      "15  0.9124761137152672\n",
      "16  0.9665328943945835\n",
      "17  0.9247687279441597\n",
      "18  1.0786209965560187\n",
      "19  1.0175817488590861\n",
      "20  1.0779836776637308\n",
      "21  0.9708008060071142\n",
      "22  1.0391185627324568\n",
      "23  0.9720243154389053\n",
      "24  0.9537053828620935\n",
      "25  0.99900354594921\n",
      "26  0.9605301592393641\n",
      "27  0.9673022989015996\n",
      "28  1.0166256965801792\n",
      "29  1.110917414445774\n",
      "30  1.025293524549834\n"
     ]
    }
   ],
   "source": [
    "#thankGOd! time ave MSD:\n",
    "MSD=np.zeros  (num_frame)\n",
    "\n",
    "for i in range (0,num_frame):\n",
    "  if i==0:\n",
    "    Rmsd[i]=0\n",
    "    \n",
    "  MSD[i]=Rmsd[i]/(num_frame)\n",
    "  print(i,\"\",MSD[i])"
   ]
  },
  {
   "cell_type": "code",
   "execution_count": 181,
   "metadata": {},
   "outputs": [],
   "source": [
    "df = pd.DataFrame(MSD)\n",
    "df.to_excel(r'C:\\vmd\\MSD_TimAve.xlsx')"
   ]
  },
  {
   "cell_type": "code",
   "execution_count": 182,
   "metadata": {},
   "outputs": [
    {
     "data": {
      "image/png": "[encoded data removed]",
      "text/plain": [
       "<Figure size 432x288 with 1 Axes>"
      ]
     },
     "metadata": {
      "needs_background": "light"
     },
     "output_type": "display_data"
    }
   ],
   "source": [
    "import numpy as np\n",
    "from matplotlib import pyplot as plt\n",
    "import pandas as pd\n",
    "import pylab \n",
    "\n",
    "df =pd.ExcelFile(r'C:\\vmd\\MSD_TimAve.xlsx')# the name of execl file should start with capital word. Rdf is correct but not rdf \n",
    "Sheet1 =pd.read_excel(df,header=0)\n",
    "\n",
    "ax=Sheet1.plot(kind='line', y= 'b', color='blue', linewidth=0.5, label='Y coordinate')\n",
    "ax.legend()\n",
    "#Sheet1.plot(kind='line',  x='a', y= 'c', color='red', linewidth=0.5, label='toluene', ax=ax)\n",
    "#Sheet1.plot(kind='line',  x='a', y= 'd', color='green', linewidth=0.5, label='interface', ax=ax)\n",
    "ax.legend()\n",
    "ax.set_xlabel('time (100ps)')\n",
    "ax.set_ylabel('Distance (0.71nm)') \n",
    "pylab.xlim([0,30])\n",
    "pylab.ylim([0,10])# define the range of y coordinate\n",
    "plt.ticklabel_format(axis=\"both\", style=\"sci\", scilimits=(0,0))#show the x and y axis in scientific mode\n",
    "plt.savefig(r'C:\\vmd\\MSD_TimAve.png')"
   ]
  },
  {
   "cell_type": "code",
   "execution_count": null,
   "metadata": {
    "id": "L-PQMuUE4pYr"
   },
   "outputs": [],
   "source": [
    "MSDx=np.zeros (num_frame)\n",
    "\n",
    "for i in range (0,num_frame):\n",
    " if i==0:\n",
    "    Xmsd[i]=0\n",
    "    \n",
    " MSDx[i]=Xmsd[i]/((num_frame-i)*num_atom_type)\n",
    " print(MSDx)"
   ]
  },
  {
   "cell_type": "code",
   "execution_count": null,
   "metadata": {
    "id": "UeVxwvp24pYt"
   },
   "outputs": [],
   "source": [
    "MSDy=np.zeros (num_frame)\n",
    "\n",
    "for i in range (0,num_frame):\n",
    " if i==0:\n",
    "    Ymsd[i]=0\n",
    "    \n",
    " MSDy[i]=Ymsd[i]/((num_frame-i)*num_atom_type)\n",
    " print(MSDy)"
   ]
  },
  {
   "cell_type": "code",
   "execution_count": null,
   "metadata": {
    "colab": {
     "base_uri": "https://localhost:8080/"
    },
    "executionInfo": {
     "elapsed": 526,
     "status": "ok",
     "timestamp": 1617809075232,
     "user": {
      "displayName": "Saeed Akbari Shandiz",
      "photoUrl": "https://lh3.googleusercontent.com/a-/AOh14Gj_ltTfyzFcj-EidKK-RDh3G-RSeGnX-lq1mmA5=s64",
      "userId": "18254360833802486461"
     },
     "user_tz": 240
    },
    "id": "JjD4Y5wW4pYv",
    "outputId": "ed9fc561-ece0-4789-f062-678cb895cc71"
   },
   "outputs": [
    {
     "name": "stdout",
     "output_type": "stream",
     "text": [
      "1  4.280895580579744\n",
      "2  4.15719154317714\n",
      "3  4.025338036656669\n",
      "4  3.685404200387202\n",
      "5  3.3802451773348903\n",
      "6  3.1399944862808136\n",
      "7  2.9477191067475306\n",
      "8  2.7354961736760717\n",
      "9  2.643188488990805\n",
      "10  2.5200533700890944\n",
      "11  2.3616579883652458\n",
      "12  2.308761519818239\n",
      "13  2.1831554313504156\n",
      "14  2.133800502310391\n",
      "15  2.0783965068750936\n",
      "16  2.0699968466934955\n",
      "17  2.0691958157025074\n",
      "18  2.0549980205205993\n",
      "19  2.042282818074421\n",
      "20  1.9994314316576376\n",
      "21  1.9845780347499644\n",
      "22  1.9845780347499644\n",
      "23  1.9522544740619243\n",
      "24  1.9522544740619243\n",
      "25  1.9522544740619243\n",
      "26  1.9075162501220495\n",
      "27  1.8939470716720035\n",
      "28  1.8939470716720035\n",
      "29  1.9166564354740971\n",
      "30  1.8752672657949259\n",
      "31  1.884112816323898\n",
      "32  1.884112816323898\n",
      "33  1.8824463601113688\n",
      "34  1.8475279231592152\n",
      "35  1.8475279231592152\n",
      "36  1.8092542741915816\n",
      "37  1.8034063700793592\n",
      "38  1.798792568265071\n",
      "39  1.798792568265071\n",
      "40  1.7830435270747786\n",
      "41  1.740015776923464\n",
      "42  1.7469502036063849\n",
      "43  1.7387515234859552\n",
      "44  1.7387515234859552\n",
      "45  1.7298230715919323\n",
      "46  1.6942031978531964\n",
      "47  1.6809079537701412\n",
      "48  1.678017486268304\n",
      "49  1.662385317816894\n",
      "50  1.662385317816894\n",
      "51  1.6682439159675262\n"
     ]
    }
   ],
   "source": [
    "#non time ave MSD of NP that from far distance reach to wall (at zero Z)\n",
    "MSDz=np.zeros (num_frame)\n",
    "\n",
    "for i in range (1,num_frame):\n",
    " if i==0:\n",
    "    Zmsd[i]=0\n",
    "    \n",
    " MSDz[i]=Zmsd[i]/(num_frame)\n",
    " print(i,\"\",MSDz[i])"
   ]
  }
 ],
 "metadata": {
  "colab": {
   "collapsed_sections": [],
   "name": "MSDnpDPDEachTimeFinalCorrectDirectionOfPlotThankGOD!ComparativePlot.ipynb",
   "provenance": [
    {
     "file_id": "1D-tAt_s_iH4kJv18vCXR4nbSVZGZ6Pt5",
     "timestamp": 1625398991869
    },
    {
     "file_id": "1lh37hZiIRUd4OSnAzVAa-y-fL3dZZBQV",
     "timestamp": 1620340094080
    },
    {
     "file_id": "1NgCKRs5X76dRlarMCNrHl8cFkCNAGR28",
     "timestamp": 1617376116817
    },
    {
     "file_id": "1FSFFjQchSKycVxGzh3u3LBN-ysRd_8Nb",
     "timestamp": 1617367979702
    },
    {
     "file_id": "1Q4nPGdnz3-Nro9mJOuphLdkpAvyty8ZV",
     "timestamp": 1617288048839
    },
    {
     "file_id": "1RoCPNZiqdxjjn0EiUkWkfaxT6pxKo7cN",
     "timestamp": 1617223710437
    },
    {
     "file_id": "1KtU1uGIIrVVwzJntxnUVpXZiPOibdYSb",
     "timestamp": 1615943484388
    }
   ],
   "version": ""
  },
  "kernelspec": {
   "display_name": "Python 3",
   "language": "python",
   "name": "python3"
  },
  "language_info": {
   "codemirror_mode": {
    "name": "ipython",
    "version": 3
   },
   "file_extension": ".py",
   "mimetype": "text/x-python",
   "name": "python",
   "nbconvert_exporter": "python",
   "pygments_lexer": "ipython3",
   "version": "3.8.8"
  }
 },
 "nbformat": 4,
 "nbformat_minor": 1
}
