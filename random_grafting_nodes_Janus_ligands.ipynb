{
 "cells": [
  {
   "cell_type": "markdown",
   "metadata": {
    "id": "1OWxVv38iPa-"
   },
   "source": [
    "here we find the random grafting nodes on the first outer layer of NP (for homo and random grafting). Thank GOD "
   ]
  },
  {
   "cell_type": "code",
   "execution_count": null,
   "metadata": {
    "id": "08EYEm2fdg0b"
   },
   "outputs": [],
   "source": [
    "import math\n",
    "import collections\n",
    "import sys\n",
    "import numpy as np\n",
    "import pandas as pd\n",
    "import matplotlib.pyplot as pp\n",
    "\n",
    "%matplotlib inline"
   ]
  },
  {
   "cell_type": "code",
   "execution_count": null,
   "metadata": {
    "colab": {
     "base_uri": "https://localhost:8080/"
    },
    "executionInfo": {
     "elapsed": 228525,
     "status": "ok",
     "timestamp": 1617910901359,
     "user": {
      "displayName": "Saeed Akbari Shandiz",
      "photoUrl": "https://lh3.googleusercontent.com/a-/AOh14Gj_ltTfyzFcj-EidKK-RDh3G-RSeGnX-lq1mmA5=s64",
      "userId": "18254360833802486461"
     },
     "user_tz": 240
    },
    "id": "ZXunlG8ypyQV",
    "outputId": "975bb746-7147-41b7-dd13-1cd621dad968"
   },
   "outputs": [],
   "source": [
    "#from google.colab import drive#to open the google drive in colab\n",
    "#drive.mount('/content/drive')"
   ]
  },
  {
   "cell_type": "code",
   "execution_count": null,
   "metadata": {
    "id": "Z5xiteWFdujf"
   },
   "outputs": [],
   "source": [
    "lines=[]\n",
    "#with open('/content/drive/My Drive/Case/nanoBloodProject/brushBox/NP/NPbonds/12rcNP/np12.dat', 'r') as f: \n",
    "with open(r'C:\\bloodProject\\NP\\NPbonds\\disc\\16rcDisc\\disc.dat') as fp:\n",
    "        for line in fp:\n",
    "            if 'Atoms' in line:                                         \n",
    "                for line in fp: # now you are at the lines you want\n",
    "                    if 'Velocities' in line: \n",
    "                     break \n",
    "                   \n",
    "                    line=line.rstrip()# to remove any white spaces at the end of the string                  \n",
    "                    #\n",
    "                    lines.append(line)# add the string in to the list\n",
    "                    #lines= line.split(\"space\")# for line in a pandas data frame. here it can not read our lines separetely. it reads all lines as a line so does not split it into different indexs"
   ]
  },
  {
   "cell_type": "code",
   "execution_count": null,
   "metadata": {
    "id": "cokDO_9wg3ab"
   },
   "outputs": [],
   "source": [
    "#remove empty lines from the list\n",
    "while(\"\" in lines) : \n",
    "    lines.remove(\"\") "
   ]
  },
  {
   "cell_type": "code",
   "execution_count": null,
   "metadata": {
    "colab": {
     "base_uri": "https://localhost:8080/",
     "height": 424
    },
    "executionInfo": {
     "elapsed": 341,
     "status": "ok",
     "timestamp": 1617910909701,
     "user": {
      "displayName": "Saeed Akbari Shandiz",
      "photoUrl": "https://lh3.googleusercontent.com/a-/AOh14Gj_ltTfyzFcj-EidKK-RDh3G-RSeGnX-lq1mmA5=s64",
      "userId": "18254360833802486461"
     },
     "user_tz": 240
    },
    "id": "RjFazOvyg6ph",
    "outputId": "b36c8e09-7272-42e7-a74a-b0623d6d5674"
   },
   "outputs": [],
   "source": [
    "df=pd.DataFrame(lines, columns=['atomID']) # to make a data frame of pandas from the list and put atomID name on the column\n",
    "df[['atomID','atomType','x','y','z','mx','my','mz']] = df.atomID.str.split(expand=True,) # to split one column to multiple columns and allocate name for each column\n",
    "df"
   ]
  },
  {
   "cell_type": "code",
   "execution_count": null,
   "metadata": {
    "colab": {
     "base_uri": "https://localhost:8080/"
    },
    "executionInfo": {
     "elapsed": 348,
     "status": "ok",
     "timestamp": 1617910914844,
     "user": {
      "displayName": "Saeed Akbari Shandiz",
      "photoUrl": "https://lh3.googleusercontent.com/a-/AOh14Gj_ltTfyzFcj-EidKK-RDh3G-RSeGnX-lq1mmA5=s64",
      "userId": "18254360833802486461"
     },
     "user_tz": 240
    },
    "id": "fYaedmYUjxIG",
    "outputId": "1e691af9-98b8-499b-c922-8a1f22b8788d"
   },
   "outputs": [],
   "source": [
    "atom_counter=len(df)\n",
    "atom_counter"
   ]
  },
  {
   "cell_type": "code",
   "execution_count": null,
   "metadata": {
    "id": "PU4jXe2IPg5V"
   },
   "outputs": [],
   "source": [
    "#find distance between the beads\n",
    "Xmsd=np.zeros ((atom_counter,atom_counter))# make 2D arrays\n",
    "Ymsd=np.zeros ((atom_counter,atom_counter))\n",
    "Zmsd=np.zeros ((atom_counter,atom_counter))\n",
    "#Rmsd=np.zeros ((atom_counter,atom_counter))\n",
    "Rmsd=np.zeros ((atom_counter+1,atom_counter+1)) # bc of last rmsd for second layer of outer layer\n",
    "# #double array bc we want compare distances for each i and j  with each other\n",
    "min_Rmsd=np.zeros (atom_counter)\n",
    "min_all=np.zeros (atom_counter)\n",
    "\n",
    "df.loc[:,'x'] = df.loc[:,'x'].astype(float) #convert string to foat for x , y , z \n",
    "df.loc[:,'y'] = df.loc[:,'y'].astype(float)\n",
    "df.loc[:,'z'] = df.loc[:,'z'].astype(float)\n",
    "\n",
    "#smallest = float(\"inf\") # infinity\n",
    "\n",
    "\n",
    "for i in range(0, atom_counter-1):\n",
    "  smallest = float(\"inf\") # infinity. to renew after each i to just find min of each i not min of the whole.\n",
    "  for j in range(i+1, atom_counter):\n",
    "  \n",
    "    dx=df.loc[j,'x']-df.loc[i,'x']\n",
    "    dy=df.loc[j,'y']-df.loc[i,'y']\n",
    "    dz=df.loc[j,'z']-df.loc[i,'z']\n",
    "\n",
    "    Xmsd[i,j]+=np.power(dx,2)\n",
    "    Ymsd[i,j]+=np.power(dy,2)\n",
    "    Zmsd[i,j]+=np.power(dz,2)\n",
    "        \n",
    "    #distance of all beads from each other without repeating 2-1 after calc distance of 1-2. it is distance of 3 and 4 and is not distance 3 ordistance of 4. Rmsd[3,4] and not Rmsd[3] or Rmsd[4]\n",
    "    Rmsd[i,j]=math.sqrt(Xmsd[i,j]+Ymsd[i,j]+ Zmsd[i,j]);\n",
    "    \n",
    "    #find the min of Rmsd array\n",
    "    num= float(Rmsd[i,j])    \n",
    "    smallest = min(smallest,num)\n",
    "    min_Rmsd[i]=smallest\n",
    "    #print (j,\"  \",i,\"  \",Rmsd[i,j],\"   \",min_Rmsd[i])\n",
    "    #print(i,\"  \",Rmsd[i,j])\n",
    "\n",
    "   "
   ]
  },
  {
   "cell_type": "code",
   "execution_count": null,
   "metadata": {
    "colab": {
     "base_uri": "https://localhost:8080/"
    },
    "executionInfo": {
     "elapsed": 1388,
     "status": "ok",
     "timestamp": 1617911127468,
     "user": {
      "displayName": "Saeed Akbari Shandiz",
      "photoUrl": "https://lh3.googleusercontent.com/a-/AOh14Gj_ltTfyzFcj-EidKK-RDh3G-RSeGnX-lq1mmA5=s64",
      "userId": "18254360833802486461"
     },
     "user_tz": 240
    },
    "id": "FQhSrI9VAD7v",
    "outputId": "1e50d485-4b36-4fea-e6f3-ed92e8b4b84f"
   },
   "outputs": [],
   "source": [
    "\n",
    "#print (Rmsd[0,:])\n",
    "print(min_Rmsd[:])"
   ]
  },
  {
   "cell_type": "code",
   "execution_count": null,
   "metadata": {
    "colab": {
     "base_uri": "https://localhost:8080/"
    },
    "executionInfo": {
     "elapsed": 757,
     "status": "ok",
     "timestamp": 1617911130483,
     "user": {
      "displayName": "Saeed Akbari Shandiz",
      "photoUrl": "https://lh3.googleusercontent.com/a-/AOh14Gj_ltTfyzFcj-EidKK-RDh3G-RSeGnX-lq1mmA5=s64",
      "userId": "18254360833802486461"
     },
     "user_tz": 240
    },
    "id": "wfpJkCl0zP7T",
    "outputId": "9548940f-40c7-4420-d7da-83abdb5ea7ec"
   },
   "outputs": [],
   "source": [
    "#to find min of all min_Rmsd\n",
    "smallest = float(\"inf\") # infinity\n",
    "for i in range(0, atom_counter-1): # we have five bond (distance) between 6 beads\n",
    "    num= float(min_Rmsd[i])    \n",
    "    smallest = min(smallest,num)\n",
    "    min_all[i]=smallest\n",
    "    #smallest_bead_distance= round(min_all[i],4)# round the float to 4 decimal\n",
    "    smallest_bead_distance= min_all[i]\n",
    "print (i,\"    \",smallest_bead_distance)"
   ]
  },
  {
   "cell_type": "code",
   "execution_count": null,
   "metadata": {
    "colab": {
     "base_uri": "https://localhost:8080/"
    },
    "executionInfo": {
     "elapsed": 525,
     "status": "ok",
     "timestamp": 1617911131970,
     "user": {
      "displayName": "Saeed Akbari Shandiz",
      "photoUrl": "https://lh3.googleusercontent.com/a-/AOh14Gj_ltTfyzFcj-EidKK-RDh3G-RSeGnX-lq1mmA5=s64",
      "userId": "18254360833802486461"
     },
     "user_tz": 240
    },
    "id": "hY04GdLpAfW2",
    "outputId": "74b0fd91-f087-47d4-bbf0-33595f09cee8"
   },
   "outputs": [],
   "source": [
    "print(round(smallest_bead_distance,4))"
   ]
  },
  {
   "cell_type": "markdown",
   "metadata": {
    "id": "fH_925H9khiP"
   },
   "source": [
    "**find the bond list and print it in a file. Thank GOD!**"
   ]
  },
  {
   "cell_type": "markdown",
   "metadata": {
    "id": "GZu34NCFmw0R"
   },
   "source": [
    "combine this code with double for loop above to save time"
   ]
  },
  {
   "cell_type": "code",
   "execution_count": null,
   "metadata": {
    "colab": {
     "base_uri": "https://localhost:8080/"
    },
    "executionInfo": {
     "elapsed": 28068,
     "status": "ok",
     "timestamp": 1617911168016,
     "user": {
      "displayName": "Saeed Akbari Shandiz",
      "photoUrl": "https://lh3.googleusercontent.com/a-/AOh14Gj_ltTfyzFcj-EidKK-RDh3G-RSeGnX-lq1mmA5=s64",
      "userId": "18254360833802486461"
     },
     "user_tz": 240
    },
    "id": "FV1EvJZS0NOr",
    "outputId": "1032150a-0a8c-4c9b-e2ec-dc282436f06c"
   },
   "outputs": [],
   "source": [
    "#here we combine two tasks above to make the code faster and so we do:\n",
    "#1) find beads that have the min of distances and then count number of bonds with that size( distance) each bead has \n",
    "#2)show the beads with the least distance with each bead in front of that bead and print in a file\n",
    "counter_bond=0 # to count total number of  bonds\n",
    "#bonded_beads_i=np.zeros((atom_counter,atom_counter))\n",
    "#bonded_beads_j=np.zeros((atom_counter,atom_counter))\n",
    "\n",
    "\n",
    "count_bonded=np.zeros(atom_counter)\n",
    "i=0\n",
    "j=0\n",
    "\n",
    "\n",
    "\n",
    " #for i in range(0, 9):\n",
    "for i in range(0, atom_counter-1):\n",
    "   counter=0  \n",
    "   for j in range(i+1, atom_counter):\n",
    "    #print(round(Rmsd[i,j],4))\n",
    "    if round(Rmsd[i,j],4) == round(smallest_bead_distance,4):\n",
    "       counter+=1   # thank GOD instead of making another for loop to go through the 4 bonded beads we used this counter annd it will only save bonded beads in the array\n",
    "       counter_bond+=1\n",
    "\n",
    "       count_bonded[i]+=1 # count number of bonds\n",
    "print(counter_bond)"
   ]
  },
  {
   "cell_type": "code",
   "execution_count": null,
   "metadata": {
    "colab": {
     "base_uri": "https://localhost:8080/"
    },
    "executionInfo": {
     "elapsed": 280,
     "status": "ok",
     "timestamp": 1617911177242,
     "user": {
      "displayName": "Saeed Akbari Shandiz",
      "photoUrl": "https://lh3.googleusercontent.com/a-/AOh14Gj_ltTfyzFcj-EidKK-RDh3G-RSeGnX-lq1mmA5=s64",
      "userId": "18254360833802486461"
     },
     "user_tz": 240
    },
    "id": "XB4El5Fi0qX6",
    "outputId": "8234c80c-733c-43e5-8cfa-36bf290286e0"
   },
   "outputs": [],
   "source": [
    "#to find max # of bonds a bead can have\n",
    "largest = float(\"-inf\") # infinity\n",
    "max_bond= np.zeros(atom_counter)\n",
    "i=0\n",
    "\n",
    "\n",
    "for i in range(1, atom_counter): # we have five bond (distance) between 6 beads\n",
    "    num= float(count_bonded[i])    \n",
    "    largest = max(largest,num)\n",
    "    max_bond[i]=largest\n",
    "    \n",
    "print (i,\"    \",max_bond[i])\n",
    "maximum_bond=max_bond[i].astype(int)"
   ]
  },
  {
   "cell_type": "markdown",
   "metadata": {
    "id": "a-SmE_OmR3to"
   },
   "source": [
    "here we read the bonds and for bond j which is a 3d array we convert it to 1D all in this code"
   ]
  },
  {
   "cell_type": "code",
   "execution_count": null,
   "metadata": {
    "id": "rXJyB4mWPMbX"
   },
   "outputs": [],
   "source": [
    "#here we combine 3 tasks above to make the code faster and so we do:\n",
    "#1) find beads that have the min of distances and then count number of bonds with that size( distance) each bead has \n",
    "#2)show the beads with the least distance with each bead in front of that bead and print in a file\n",
    "#3)thank GOD thank GOD read array of bounded_beads_j and put in a 1D array\n",
    "\n",
    "counter_total_bond=0 # to count total number of  bonds\n",
    "counter_j=0\n",
    "bonded_beads_arr_j=np.zeros(counter_bond)\n",
    "bonded_beads_i=np.zeros((atom_counter,maximum_bond+1))\n",
    "bonded_beads_j=np.zeros((atom_counter,atom_counter,maximum_bond+1)) # 3d array\n",
    "\n",
    "i=0\n",
    "j=0\n",
    "\n",
    "df.loc[:,\"atomID\"] = df.loc[:,\"atomID\"].astype(int) #convert string to int\n",
    "\n",
    "\n",
    "\n",
    "\n",
    "for i in range(0, atom_counter-1):\n",
    "   counter=0  \n",
    "   for j in range(i+1, atom_counter):\n",
    "\n",
    "    if round(Rmsd[i,j],4) == round(smallest_bead_distance,4):\n",
    "       counter+=1   # thank GOD instead of making another for loop to go through the 4 bonded beads we used this counter annd it will only save bonded beads in the array\n",
    "       counter_total_bond+=1\n",
    "       #print(i,'',j,'',Rmsd[i,j])\n",
    "\n",
    "       bonded_beads_i[i][counter]=df.loc[i,'atomID'] # to save the beads that have least distance with a bead in an array for that bead as i\n",
    "       bonded_beads_j[i][j][counter]=df.loc[j,'atomID'] # to save the beads that have least distance with a bead in an array for that bead as j\n",
    "          \n",
    "       if bonded_beads_j[i][j][counter] != 0: # Thank GOD! for j bond we need to put the 3D array to 1D in here otherwise I have to make a 3 for loop to read this 3D array and then put in a 1D array which is very time consuming\n",
    "             bonded_beads_arr_j[counter_j] =bonded_beads_j[i][j][counter]  #convert 3D to 1D array Thank GOD!\n",
    "             #print(i,'  ',j,'   ',counter_j,'  ',bonded_beads_arr_j[counter_j])\n",
    "             counter_j+=1\n",
    "       \n",
    "       \n",
    "       # to print in a file\n",
    "       #original_stdout = sys.stdout # Save a reference to the original standard output\n",
    "       #sys.stdout = f # Change the standard output to the file we created.\n",
    "       #print( i,\"   \",counter,\"   \",j,\"   \",int(bonded_beads_j[i][j][counter]))\n",
    "       #print( i,\"   \",j,\"   \", int(bonded_beads_i[i][counter]),\"    \",int(bonded_beads_j[j][counter]))\n",
    "       #sys.stdout = original_stdout # Reset the standard output to its original value"
   ]
  },
  {
   "cell_type": "code",
   "execution_count": null,
   "metadata": {
    "colab": {
     "base_uri": "https://localhost:8080/"
    },
    "executionInfo": {
     "elapsed": 301,
     "status": "ok",
     "timestamp": 1617911253341,
     "user": {
      "displayName": "Saeed Akbari Shandiz",
      "photoUrl": "https://lh3.googleusercontent.com/a-/AOh14Gj_ltTfyzFcj-EidKK-RDh3G-RSeGnX-lq1mmA5=s64",
      "userId": "18254360833802486461"
     },
     "user_tz": 240
    },
    "id": "Vcf2r566fzsV",
    "outputId": "9e1a1e08-523f-401c-d372-e911f965d14d"
   },
   "outputs": [],
   "source": [
    "int(bonded_beads_j[1][2][1])"
   ]
  },
  {
   "cell_type": "markdown",
   "metadata": {
    "id": "9dCH2AGeSW1i"
   },
   "source": [
    "here for i bonds we read the array and in next code we convert the 2D array of bonds i to a 1D array"
   ]
  },
  {
   "cell_type": "markdown",
   "metadata": {
    "id": "Ha-Bh9HDn4MB"
   },
   "source": [
    "combine this code with the code below it to save time"
   ]
  },
  {
   "cell_type": "code",
   "execution_count": null,
   "metadata": {
    "colab": {
     "base_uri": "https://localhost:8080/"
    },
    "executionInfo": {
     "elapsed": 5756,
     "status": "ok",
     "timestamp": 1617911267132,
     "user": {
      "displayName": "Saeed Akbari Shandiz",
      "photoUrl": "https://lh3.googleusercontent.com/a-/AOh14Gj_ltTfyzFcj-EidKK-RDh3G-RSeGnX-lq1mmA5=s64",
      "userId": "18254360833802486461"
     },
     "user_tz": 240
    },
    "id": "GUZ3v_6AWT39",
    "outputId": "74ef9433-3b1d-4911-8de1-16ea0d4d307b"
   },
   "outputs": [],
   "source": [
    "#thank GOD read the array bonded_beads_i\n",
    "i=0\n",
    "counter=0\n",
    "\n",
    "\n",
    "#for i in range(1, counter_bond):# use counter bond because we want go through all the bonds which is equal to (num_atoms * maximum bond an atom can have)\n",
    "for i in range(0, atom_counter):\n",
    "   for counter in range(1, maximum_bond+1): #since max # of bonds is 4 so our matrix has dimension of 4 in this direction\n",
    "     if bonded_beads_i[i][counter] != 0: \n",
    "       print( i,\"   \",int(bonded_beads_i[i][counter]))"
   ]
  },
  {
   "cell_type": "code",
   "execution_count": null,
   "metadata": {
    "colab": {
     "base_uri": "https://localhost:8080/"
    },
    "executionInfo": {
     "elapsed": 376,
     "status": "ok",
     "timestamp": 1617911280668,
     "user": {
      "displayName": "Saeed Akbari Shandiz",
      "photoUrl": "https://lh3.googleusercontent.com/a-/AOh14Gj_ltTfyzFcj-EidKK-RDh3G-RSeGnX-lq1mmA5=s64",
      "userId": "18254360833802486461"
     },
     "user_tz": 240
    },
    "id": "BplBaNpie45T",
    "outputId": "21907ac1-acd4-4b89-a153-d2ea2a3660cc"
   },
   "outputs": [],
   "source": [
    "bonded_beads_i.shape"
   ]
  },
  {
   "cell_type": "code",
   "execution_count": null,
   "metadata": {
    "colab": {
     "base_uri": "https://localhost:8080/"
    },
    "executionInfo": {
     "elapsed": 13542,
     "status": "ok",
     "timestamp": 1617911299372,
     "user": {
      "displayName": "Saeed Akbari Shandiz",
      "photoUrl": "https://lh3.googleusercontent.com/a-/AOh14Gj_ltTfyzFcj-EidKK-RDh3G-RSeGnX-lq1mmA5=s64",
      "userId": "18254360833802486461"
     },
     "user_tz": 240
    },
    "id": "jExgty49CiiF",
    "outputId": "a07e5717-5b66-43e1-8ea4-f4bc45b997f6"
   },
   "outputs": [],
   "source": [
    "#put bonds of i in a 1D array\n",
    "\n",
    "\n",
    "#bonded_beads_arr_i=np.zeros(29)\n",
    "#bonded_beads_arr_j=np.zeros(29)\n",
    "bonded_beads_arr_i=np.zeros(counter_bond)\n",
    "\n",
    "\n",
    "\n",
    "counter_i=0\n",
    "\n",
    "i=0\n",
    "j=0\n",
    "\n",
    "\n",
    "\n",
    "\n",
    "\n",
    "#for i in range(0, 29):\n",
    "#for i in range(1, counter_bond):\n",
    "for i in range(0, atom_counter):\n",
    "   for j in range(1, maximum_bond+1):\n",
    "\n",
    "      if bonded_beads_i[i,j] != 0: \n",
    "        bonded_beads_arr_i[counter_i] = bonded_beads_i[i,j]  #convert 2D to 1D array Thank GOD!\n",
    "        print(i,'  ',j,'   ',counter_i,'  ',bonded_beads_arr_i[counter_i])\n",
    "        counter_i+=1\n",
    "      \n",
    "    \n",
    "#print(df.loc[i,'atomID'],'   ',bonded_beads_arr) # for atomID= 4"
   ]
  },
  {
   "cell_type": "code",
   "execution_count": null,
   "metadata": {
    "colab": {
     "base_uri": "https://localhost:8080/"
    },
    "executionInfo": {
     "elapsed": 281,
     "status": "ok",
     "timestamp": 1617911311250,
     "user": {
      "displayName": "Saeed Akbari Shandiz",
      "photoUrl": "https://lh3.googleusercontent.com/a-/AOh14Gj_ltTfyzFcj-EidKK-RDh3G-RSeGnX-lq1mmA5=s64",
      "userId": "18254360833802486461"
     },
     "user_tz": 240
    },
    "id": "22juW0qjxFmX",
    "outputId": "c6c76d2d-6228-4c59-c3c7-53a51c5ed7a1"
   },
   "outputs": [],
   "source": [
    "#read number of bonds in these two arrays\n",
    "bonded_beads_arr_j.astype(int)\n",
    "#bonded_beads_arr_j.shape"
   ]
  },
  {
   "cell_type": "code",
   "execution_count": null,
   "metadata": {
    "colab": {
     "base_uri": "https://localhost:8080/"
    },
    "executionInfo": {
     "elapsed": 347,
     "status": "ok",
     "timestamp": 1617911313481,
     "user": {
      "displayName": "Saeed Akbari Shandiz",
      "photoUrl": "https://lh3.googleusercontent.com/a-/AOh14Gj_ltTfyzFcj-EidKK-RDh3G-RSeGnX-lq1mmA5=s64",
      "userId": "18254360833802486461"
     },
     "user_tz": 240
    },
    "id": "kcbQK4oyCjwK",
    "outputId": "f4bbb742-2e11-453c-9fd7-bc992133e5cd"
   },
   "outputs": [],
   "source": [
    "bonded_beads_arr_i.astype(int)\n",
    "#bonded_beads_arr_i.shape"
   ]
  },
  {
   "cell_type": "markdown",
   "metadata": {
    "id": "QGxLAnPZmNjR"
   },
   "source": [
    "**count total number of bond that each bead has**"
   ]
  },
  {
   "cell_type": "code",
   "execution_count": null,
   "metadata": {
    "colab": {
     "base_uri": "https://localhost:8080/"
    },
    "executionInfo": {
     "elapsed": 21463,
     "status": "ok",
     "timestamp": 1617911339186,
     "user": {
      "displayName": "Saeed Akbari Shandiz",
      "photoUrl": "https://lh3.googleusercontent.com/a-/AOh14Gj_ltTfyzFcj-EidKK-RDh3G-RSeGnX-lq1mmA5=s64",
      "userId": "18254360833802486461"
     },
     "user_tz": 240
    },
    "id": "sL3m7hYQINKS",
    "outputId": "d5f277ac-955c-4030-b787-a928f18b14d7"
   },
   "outputs": [],
   "source": [
    "#for j column\n",
    "i=0\n",
    "j=0\n",
    "count_bonded_j=np.zeros(atom_counter)\n",
    "#count_bonded_j=np.zeros(counter_bond)\n",
    "\n",
    "for i in range(0, atom_counter):\n",
    "#for i in range(1, counter_bond): \n",
    "#for i in range(0, 29):  #over all the beads\n",
    "\n",
    "  for j in bonded_beads_arr_j.astype(int): # over the beads in array\n",
    "\n",
    "    #if bonded_beads_arr_i[i].astype(int)==j :  # check how many of a certain bead are in the array\n",
    "    #if i==j :  # check how many of a certain bead are in the array\n",
    "    if (i+1)==j : # since the bond of j has several zero bonds so we start i from 1 to not read those zeros.\n",
    "      count_bonded_j[i]+=1\n",
    "      print(i,'  ',j,'  ',count_bonded_j[i])\n",
    "      #print(i,'', j)"
   ]
  },
  {
   "cell_type": "code",
   "execution_count": null,
   "metadata": {
    "colab": {
     "base_uri": "https://localhost:8080/"
    },
    "executionInfo": {
     "elapsed": 16550,
     "status": "ok",
     "timestamp": 1617911427823,
     "user": {
      "displayName": "Saeed Akbari Shandiz",
      "photoUrl": "https://lh3.googleusercontent.com/a-/AOh14Gj_ltTfyzFcj-EidKK-RDh3G-RSeGnX-lq1mmA5=s64",
      "userId": "18254360833802486461"
     },
     "user_tz": 240
    },
    "id": "GpxUIrWbQoIO",
    "outputId": "58f7ee29-0d30-48dd-c7ea-3196b47a8750"
   },
   "outputs": [],
   "source": [
    "#for i column\n",
    "i=0\n",
    "j=0\n",
    "count_bonded_i=np.zeros(atom_counter)\n",
    "#count_bonded_i=np.zeros(counter_bond)\n",
    "\n",
    "for i in range(0, atom_counter):\n",
    "#for i in range(1, counter_bond):\n",
    "#for i in range(0, 29):  #over all the beads\n",
    "#for i in bonded_beads_arr_i:  #over all the beads\n",
    "  for j in bonded_beads_arr_i.astype(int): # over the beads in array\n",
    "\n",
    "    #if bonded_beads_arr_i[i].astype(int)==j :  # check how many of a certain bead are in the array\n",
    "    #if i==j :  # check how many of a certain bead are in the array\n",
    "    if (i+1)==j:\n",
    "      count_bonded_i[i]+=1\n",
    "      print(i,'  ',count_bonded_i[i])\n",
    "      #print(i,'', j)"
   ]
  },
  {
   "cell_type": "code",
   "execution_count": null,
   "metadata": {
    "colab": {
     "base_uri": "https://localhost:8080/"
    },
    "executionInfo": {
     "elapsed": 2251,
     "status": "ok",
     "timestamp": 1617911453821,
     "user": {
      "displayName": "Saeed Akbari Shandiz",
      "photoUrl": "https://lh3.googleusercontent.com/a-/AOh14Gj_ltTfyzFcj-EidKK-RDh3G-RSeGnX-lq1mmA5=s64",
      "userId": "18254360833802486461"
     },
     "user_tz": 240
    },
    "id": "JqMa906BRGDH",
    "outputId": "3b966ebc-d54a-445a-8fe5-e5f9391c55fc"
   },
   "outputs": [],
   "source": [
    "#  thank GOD count total bonds for each bead\n",
    "#count_bonded_total=np.zeros(268)\n",
    "count_bonded_total=np.zeros(atom_counter)\n",
    "#count_bonded_total=np.zeros(counter_bond)\n",
    "\n",
    "for i in range(0, atom_counter):\n",
    "#for i in range(1, counter_bond):\n",
    "#for i in range(0, 29):  #over all the beads\n",
    "   count_bonded_total[i]=count_bonded_i[i]+count_bonded_j[i]\n",
    "   print(i,' ', count_bonded_total[i])"
   ]
  },
  {
   "cell_type": "code",
   "execution_count": null,
   "metadata": {
    "colab": {
     "base_uri": "https://localhost:8080/"
    },
    "executionInfo": {
     "elapsed": 269,
     "status": "ok",
     "timestamp": 1617911463433,
     "user": {
      "displayName": "Saeed Akbari Shandiz",
      "photoUrl": "https://lh3.googleusercontent.com/a-/AOh14Gj_ltTfyzFcj-EidKK-RDh3G-RSeGnX-lq1mmA5=s64",
      "userId": "18254360833802486461"
     },
     "user_tz": 240
    },
    "id": "Ihg2yb5qCi2z",
    "outputId": "5abc8ad5-d039-48c2-8354-91f72c2541e8"
   },
   "outputs": [],
   "source": [
    "#to find min # of bonds a bead has in our NP\n",
    "smallest = float(\"inf\") # infinity\n",
    "min_bond= np.zeros(atom_counter)\n",
    "i=0\n",
    "\n",
    "for i in range(1, atom_counter): # we have five bond (distance) between 6 beads\n",
    "    num= float(count_bonded_total[i])    \n",
    "    smallest = min(smallest,num)\n",
    "    min_bond[i]=smallest\n",
    "    \n",
    "print (i,\"    \",min_bond[i])"
   ]
  },
  {
   "cell_type": "code",
   "execution_count": null,
   "metadata": {
    "colab": {
     "base_uri": "https://localhost:8080/"
    },
    "executionInfo": {
     "elapsed": 305,
     "status": "ok",
     "timestamp": 1617911466906,
     "user": {
      "displayName": "Saeed Akbari Shandiz",
      "photoUrl": "https://lh3.googleusercontent.com/a-/AOh14Gj_ltTfyzFcj-EidKK-RDh3G-RSeGnX-lq1mmA5=s64",
      "userId": "18254360833802486461"
     },
     "user_tz": 240
    },
    "id": "tqMcy_zsubOt",
    "outputId": "8ef90728-f1d3-44db-9fd3-4c9b1df68871"
   },
   "outputs": [],
   "source": [
    "#to find max # of bonds a bead can have\n",
    "largest = float(\"-inf\") # infinity\n",
    "max_bond= np.zeros(atom_counter)\n",
    "i=0\n",
    "\n",
    "for i in range(1, atom_counter): # we have five bond (distance) between 6 beads\n",
    "    num= float(count_bonded_total[i])    \n",
    "    largest = max(largest,num)\n",
    "    max_bond[i]=largest\n",
    "    \n",
    "print (i,\"    \",max_bond[i])"
   ]
  },
  {
   "cell_type": "markdown",
   "metadata": {
    "id": "RhUuT_f8B8Kw"
   },
   "source": [
    "in our nanoparticle which is made with simple hexagonal lattice the center beads can have 8 bonds in general."
   ]
  },
  {
   "cell_type": "markdown",
   "metadata": {
    "id": "887ClUdDBvEq"
   },
   "source": [
    "![hexagonal_lattice.png](data:image/png;base64,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)"
   ]
  },
  {
   "cell_type": "markdown",
   "metadata": {
    "id": "X2izHc3a7ATE"
   },
   "source": [
    "**first layer of the two outer layers**\n",
    "\n"
   ]
  },
  {
   "cell_type": "code",
   "execution_count": null,
   "metadata": {
    "colab": {
     "base_uri": "https://localhost:8080/"
    },
    "executionInfo": {
     "elapsed": 561,
     "status": "ok",
     "timestamp": 1617912783328,
     "user": {
      "displayName": "Saeed Akbari Shandiz",
      "photoUrl": "https://lh3.googleusercontent.com/a-/AOh14Gj_ltTfyzFcj-EidKK-RDh3G-RSeGnX-lq1mmA5=s64",
      "userId": "18254360833802486461"
     },
     "user_tz": 240
    },
    "id": "UwTFhqbBvZr1",
    "outputId": "777b0025-b75a-4290-c614-596279583f61"
   },
   "outputs": [],
   "source": [
    "# to find beads with 3 bonds( the first outer layer of beads) and change their atom type in atom list.\n",
    "\n",
    "countType=0\n",
    "df.loc[:,\"atomID\"] = df.loc[:,\"atomID\"].astype(int) #convert string to int\n",
    "df.loc[:,\"atomType\"] = df.loc[:,\"atomType\"].astype(int) #convert string to int\n",
    "\n",
    "for index in df.index:\n",
    "  #if count_bonded_total[index] == 4 or count_bonded_total[index] == 5 or count_bonded_total[index] == 6 or count_bonded_total[index] == 7:\n",
    "  if count_bonded_total[index] == 3 or count_bonded_total[index] == 4 or count_bonded_total[index] == 5 or count_bonded_total[index] == 6 or count_bonded_total[index] == 7: #test 95 beads\n",
    "    countType+=1\n",
    "    #df.loc[index,\"atomType\"] = df.loc[index,\"atomType\"]+1\n",
    "    df.loc[index,\"atomType\"] = '4'\n",
    "    \n",
    "print (countType)\n",
    "    #df.loc[df['atomID'] >atmCounter , 'atomID'] = df.loc[index,\"atomID\"]-atmCounter    #to modify the column of atomID after deleting the atoms of toluene in atom list. it is a if condition in python\n",
    "print(df)"
   ]
  },
  {
   "cell_type": "code",
   "execution_count": null,
   "metadata": {
    "colab": {
     "base_uri": "https://localhost:8080/"
    },
    "executionInfo": {
     "elapsed": 617,
     "status": "ok",
     "timestamp": 1617912786788,
     "user": {
      "displayName": "Saeed Akbari Shandiz",
      "photoUrl": "https://lh3.googleusercontent.com/a-/AOh14Gj_ltTfyzFcj-EidKK-RDh3G-RSeGnX-lq1mmA5=s64",
      "userId": "18254360833802486461"
     },
     "user_tz": 240
    },
    "id": "2vqQRMzImVvr",
    "outputId": "aee52f41-83a3-4803-fb24-d4f7d825493e"
   },
   "outputs": [],
   "source": [
    "for index in df.index:\n",
    "  print(df.loc[index,\"atomType\"])"
   ]
  },
  {
   "cell_type": "code",
   "execution_count": null,
   "metadata": {
    "id": "vhqGRFGf4p-W"
   },
   "outputs": [],
   "source": [
    "with open('/content/drive/My Drive/Case/nanoBloodProject/brushBox/NP/NPbonds/12rcNP/atomTypeFirstOuterLayer.dat', 'w') as f: \n",
    " for index in df.index:\n",
    "  \n",
    "   original_stdout = sys.stdout # Save a reference to the original standard output\n",
    "   sys.stdout = f # Change the standard output to the file we created.\n",
    "   print(df.loc[index,\"atomType\"])\n",
    "   sys.stdout = original_stdout # Reset the standard output to its original value"
   ]
  },
  {
   "cell_type": "code",
   "execution_count": null,
   "metadata": {
    "id": "mi0FOGCg04HQ"
   },
   "outputs": [],
   "source": [
    "#to write data frame with different atomType for first outer layer to a file\n",
    "df.to_csv('/content/drive/My Drive/Case/nanoBloodProject/brushBox/NP/NPbonds/8rcNP/dataFrameFirstOutLayer.dat', mode='w',  sep=\" \", header=False)"
   ]
  },
  {
   "cell_type": "code",
   "execution_count": null,
   "metadata": {
    "colab": {
     "base_uri": "https://localhost:8080/"
    },
    "executionInfo": {
     "elapsed": 298,
     "status": "ok",
     "timestamp": 1617912831385,
     "user": {
      "displayName": "Saeed Akbari Shandiz",
      "photoUrl": "https://lh3.googleusercontent.com/a-/AOh14Gj_ltTfyzFcj-EidKK-RDh3G-RSeGnX-lq1mmA5=s64",
      "userId": "18254360833802486461"
     },
     "user_tz": 240
    },
    "id": "bzZXal6lpHDU",
    "outputId": "0ba371a0-14e9-491f-c2b0-52d90b0e53b9"
   },
   "outputs": [],
   "source": [
    "# we save the index of first layer beads and other beads in arrays \n",
    "\n",
    "\n",
    "other_atomNumber=atom_counter-countType\n",
    "\n",
    "atomID_firstLayer_arr=np.zeros (countType)# df.shape[0] count number of rows in the data frame pandas\n",
    "atomID_other_arr=np.zeros (other_atomNumber)# df.shape[0] count number of rows in the data frame pandas\n",
    "count_firstLayer=0\n",
    "count_other=0\n",
    "\n",
    "for index in df.index:\n",
    "  #if count_bonded[index] < 4:\n",
    "   #if count_bonded_total[index] == 4 or count_bonded_total[index] == 5 or count_bonded_total[index] == 6 or count_bonded_total[index] == 7:\n",
    "   if count_bonded_total[index] == 3 or count_bonded_total[index] == 4 or count_bonded_total[index] == 5 or count_bonded_total[index] == 6 or count_bonded_total[index] == 7: #test 95 beads  \n",
    "     #atomID_firstLayer_arr[count_firstLayer]= df.loc[index,'atomID']\n",
    "     atomID_firstLayer_arr[count_firstLayer]= index # we save the index instead of atomID because in next parts of code we want to find distance of beads in this array so we need their index\n",
    "     count_firstLayer+=1\n",
    "   else:\n",
    "     #atomID_other_arr[count_other]=df.loc[index,'atomID']  \n",
    "     atomID_other_arr[count_other]=index \n",
    "     count_other+=1\n",
    "    \n",
    "\n",
    "print(atomID_other_arr.astype(int))\n",
    "atomID_other_arr.shape\n",
    " "
   ]
  },
  {
   "cell_type": "code",
   "execution_count": null,
   "metadata": {
    "colab": {
     "base_uri": "https://localhost:8080/"
    },
    "executionInfo": {
     "elapsed": 334,
     "status": "ok",
     "timestamp": 1617912856769,
     "user": {
      "displayName": "Saeed Akbari Shandiz",
      "photoUrl": "https://lh3.googleusercontent.com/a-/AOh14Gj_ltTfyzFcj-EidKK-RDh3G-RSeGnX-lq1mmA5=s64",
      "userId": "18254360833802486461"
     },
     "user_tz": 240
    },
    "id": "zYr6A_JIYJ9c",
    "outputId": "6d06f5e5-7f9e-4468-a625-dfe1a69a2d4d"
   },
   "outputs": [],
   "source": [
    "print(atomID_firstLayer_arr.astype(int))\n",
    "atomID_firstLayer_arr.shape"
   ]
  },
  {
   "cell_type": "markdown",
   "metadata": {
    "id": "VT6x1EAOpHDU"
   },
   "source": [
    "find grafting nodes"
   ]
  },
  {
   "cell_type": "markdown",
   "metadata": {
    "id": "SjKCQd3epHDW"
   },
   "source": [
    "#  Random distribution:"
   ]
  },
  {
   "cell_type": "markdown",
   "metadata": {
    "id": "CP7cZQGWKSHd"
   },
   "source": [
    "# -----**Second way of finding random nodes on the first layer of NP**----\n"
   ]
  },
  {
   "cell_type": "markdown",
   "metadata": {},
   "source": [
    "# Homo ligands"
   ]
  },
  {
   "cell_type": "markdown",
   "metadata": {
    "id": "dwi46YDZK_-R"
   },
   "source": [
    "find 604 random nodes among 1442 atomIDs in the atomID_firstLayer_arr"
   ]
  },
  {
   "cell_type": "code",
   "execution_count": null,
   "metadata": {
    "colab": {
     "base_uri": "https://localhost:8080/"
    },
    "executionInfo": {
     "elapsed": 251,
     "status": "ok",
     "timestamp": 1614353387514,
     "user": {
      "displayName": "Saeed Akbari Shandiz",
      "photoUrl": "https://lh3.googleusercontent.com/a-/AOh14Gj_ltTfyzFcj-EidKK-RDh3G-RSeGnX-lq1mmA5=s64",
      "userId": "18254360833802486461"
     },
     "user_tz": 300
    },
    "id": "YVk6_RqPYe-C",
    "outputId": "2a0add44-3e76-4fc0-ead6-b9cfd3fcadfb"
   },
   "outputs": [],
   "source": [
    "#print(atomID_firstLayer_arr.astype(int))\n",
    "atomID_firstLayer_arr.shape"
   ]
  },
  {
   "cell_type": "code",
   "execution_count": null,
   "metadata": {
    "colab": {
     "base_uri": "https://localhost:8080/"
    },
    "executionInfo": {
     "elapsed": 236,
     "status": "ok",
     "timestamp": 1614353521654,
     "user": {
      "displayName": "Saeed Akbari Shandiz",
      "photoUrl": "https://lh3.googleusercontent.com/a-/AOh14Gj_ltTfyzFcj-EidKK-RDh3G-RSeGnX-lq1mmA5=s64",
      "userId": "18254360833802486461"
     },
     "user_tz": 300
    },
    "id": "zzxMSOreKQ70",
    "outputId": "7366d6aa-63da-4faa-aea2-f2ae7e3f6114"
   },
   "outputs": [],
   "source": [
    "#Random Subsample From a List\n",
    "\t\n",
    "# select a random sample without replacement\n",
    "from random import seed\n",
    "from random import sample\n",
    "# seed random number generator\n",
    "seed(1)\n",
    "atomID_firstLayer_list= atomID_firstLayer_arr.tolist()\n",
    "nodes = sample(atomID_firstLayer_list, 604)# since the sample code does just work with a list and not an array so we converted our array to a list\n",
    "#nodes_atomID = [x+1 for x in nodes] # to add 1 to the nodes indexs bc in data file atomID is 1 more than indexes\n",
    "nodes_atomID = [x for x in nodes]  \n",
    "\n",
    "print(nodes_atomID)"
   ]
  },
  {
   "cell_type": "code",
   "execution_count": null,
   "metadata": {
    "colab": {
     "base_uri": "https://localhost:8080/"
    },
    "executionInfo": {
     "elapsed": 279,
     "status": "ok",
     "timestamp": 1614353532283,
     "user": {
      "displayName": "Saeed Akbari Shandiz",
      "photoUrl": "https://lh3.googleusercontent.com/a-/AOh14Gj_ltTfyzFcj-EidKK-RDh3G-RSeGnX-lq1mmA5=s64",
      "userId": "18254360833802486461"
     },
     "user_tz": 300
    },
    "id": "4ot1oAgjL6l-",
    "outputId": "e70675a7-201c-41cb-8633-7c42e48ce87e"
   },
   "outputs": [],
   "source": [
    "len(nodes_atomID)"
   ]
  },
  {
   "cell_type": "code",
   "execution_count": null,
   "metadata": {
    "id": "MdlNzEBxMj3r"
   },
   "outputs": [],
   "source": [
    "with open(r'C:\\bloodProject\\NP\\NPbonds\\disc\\16rcDisc\\604nodesAtomID.dat' , 'w') as f: \n",
    "    \n",
    "   \n",
    " original_stdout = sys.stdout # Save a reference to the original standard output\n",
    " sys.stdout = f # Change the standard output to the file we created.\n",
    " print(nodes_atomID)\n",
    " sys.stdout = original_stdout # Reset the standard output to its original value"
   ]
  },
  {
   "cell_type": "code",
   "execution_count": null,
   "metadata": {},
   "outputs": [],
   "source": [
    "# to refresh the data frame (use it when I want to calc seccond grafting density)\n",
    "\n",
    "countType=0\n",
    "df.loc[:,\"atomID\"] = df.loc[:,\"atomID\"].astype(int) #convert string to int\n",
    "df.loc[:,\"atomType\"] = df.loc[:,\"atomType\"].astype(int) #convert string to int\n",
    "\n",
    "for index in df.index:\n",
    "  if index in atomID_firstLayer_arr:  \n",
    "    countType+=1\n",
    "    \n",
    "    df.loc[index,\"atomType\"] = '4' #atom type of 302 nodes\n",
    "    \n",
    "#print(df)\n",
    "print(countType)"
   ]
  },
  {
   "cell_type": "code",
   "execution_count": null,
   "metadata": {
    "colab": {
     "base_uri": "https://localhost:8080/"
    },
    "executionInfo": {
     "elapsed": 404,
     "status": "ok",
     "timestamp": 1614312648580,
     "user": {
      "displayName": "Saeed Akbari Shandiz",
      "photoUrl": "https://lh3.googleusercontent.com/a-/AOh14Gj_ltTfyzFcj-EidKK-RDh3G-RSeGnX-lq1mmA5=s64",
      "userId": "18254360833802486461"
     },
     "user_tz": 300
    },
    "id": "R0GIgY9ape7u",
    "outputId": "4ced354b-24f9-42f4-c3ca-605e3150de7c"
   },
   "outputs": [],
   "source": [
    "# to  change nodes atom type in atom list.\n",
    "\n",
    "countType=0\n",
    "df.loc[:,\"atomID\"] = df.loc[:,\"atomID\"].astype(int) #convert string to int\n",
    "df.loc[:,\"atomType\"] = df.loc[:,\"atomType\"].astype(int) #convert string to int\n",
    "\n",
    "for index in df.index:\n",
    "  if index in nodes_atomID:  \n",
    "    countType+=1\n",
    "    \n",
    "    df.loc[index,\"atomType\"] = '7' #atom type of 302 nodes\n",
    "    \n",
    "#print(df)\n",
    "print(countType)"
   ]
  },
  {
   "cell_type": "code",
   "execution_count": null,
   "metadata": {
    "colab": {
     "base_uri": "https://localhost:8080/"
    },
    "executionInfo": {
     "elapsed": 699,
     "status": "ok",
     "timestamp": 1614312651754,
     "user": {
      "displayName": "Saeed Akbari Shandiz",
      "photoUrl": "https://lh3.googleusercontent.com/a-/AOh14Gj_ltTfyzFcj-EidKK-RDh3G-RSeGnX-lq1mmA5=s64",
      "userId": "18254360833802486461"
     },
     "user_tz": 300
    },
    "id": "P7_RTK8VpkcY",
    "outputId": "0a253a6c-52ed-44d3-83f0-048942e6ea34"
   },
   "outputs": [],
   "source": [
    "for index in df.index:\n",
    "  print(index,'  ',df.loc[index,\"atomType\"])"
   ]
  },
  {
   "cell_type": "code",
   "execution_count": null,
   "metadata": {
    "id": "UoAdV6PepqPJ"
   },
   "outputs": [],
   "source": [
    "#print only the atom type\n",
    "with open(r'C:\\bloodProject\\NP\\NPbonds\\12rcNP\\340homoNodesAtomID.dat', 'w') as f: \n",
    " for index in df.index:\n",
    "  \n",
    "   original_stdout = sys.stdout # Save a reference to the original standard output\n",
    "   sys.stdout = f # Change the standard output to the file we created.\n",
    "   print(df.loc[index,\"atomType\"])\n",
    "   sys.stdout = original_stdout # Reset the standard output to its original value"
   ]
  },
  {
   "cell_type": "markdown",
   "metadata": {},
   "source": [
    "========================================================================================="
   ]
  },
  {
   "cell_type": "markdown",
   "metadata": {
    "id": "czgsK62J-GEZ"
   },
   "source": [
    "## random ligand \n",
    "find 302 random nodes among 604 nodes of ligands to have a random ligand (hydrophobic and hydrophilic)"
   ]
  },
  {
   "cell_type": "code",
   "execution_count": null,
   "metadata": {
    "colab": {
     "base_uri": "https://localhost:8080/"
    },
    "executionInfo": {
     "elapsed": 264,
     "status": "ok",
     "timestamp": 1614353777695,
     "user": {
      "displayName": "Saeed Akbari Shandiz",
      "photoUrl": "https://lh3.googleusercontent.com/a-/AOh14Gj_ltTfyzFcj-EidKK-RDh3G-RSeGnX-lq1mmA5=s64",
      "userId": "18254360833802486461"
     },
     "user_tz": 300
    },
    "id": "sWAWdvkZ-E92",
    "outputId": "92e4ac01-45c0-46a4-81e8-55fcca2713ab"
   },
   "outputs": [],
   "source": [
    "#Random Subsample From a List\n",
    "\t\n",
    "# select a random sample without replacement\n",
    "from random import seed\n",
    "from random import sample\n",
    "# seed random number generator\n",
    "seed(1)\n",
    "\n",
    "ligands = sample(nodes_atomID, 302)# since the sample code does just work with a list and not an array so we converted our array to a list\n",
    "#nodes_atomID = [x+1 for x in nodes] # to add 1 to the nodes indexs bc in data file atomID is 1 more than indexes\n",
    "\n",
    "print(ligands)"
   ]
  },
  {
   "cell_type": "code",
   "execution_count": null,
   "metadata": {
    "colab": {
     "base_uri": "https://localhost:8080/"
    },
    "executionInfo": {
     "elapsed": 287,
     "status": "ok",
     "timestamp": 1614353808117,
     "user": {
      "displayName": "Saeed Akbari Shandiz",
      "photoUrl": "https://lh3.googleusercontent.com/a-/AOh14Gj_ltTfyzFcj-EidKK-RDh3G-RSeGnX-lq1mmA5=s64",
      "userId": "18254360833802486461"
     },
     "user_tz": 300
    },
    "id": "3aUli8YT-99W",
    "outputId": "9ba8286a-c01d-4961-a823-2f5ae9b205e9"
   },
   "outputs": [],
   "source": [
    "len(ligands)"
   ]
  },
  {
   "cell_type": "code",
   "execution_count": null,
   "metadata": {
    "id": "c7_DV1_Q_oIt"
   },
   "outputs": [],
   "source": [
    "with open(r'C:\\bloodProject\\NP\\NPbonds\\12rcNP\\170randomLigands.txt' , 'w') as f: \n",
    "    \n",
    "   \n",
    " original_stdout = sys.stdout # Save a reference to the original standard output\n",
    " sys.stdout = f # Change the standard output to the file we created.\n",
    " print(ligands)\n",
    " sys.stdout = original_stdout # Reset the standard output to its original value"
   ]
  },
  {
   "cell_type": "code",
   "execution_count": null,
   "metadata": {},
   "outputs": [],
   "source": [
    "# to  change nodes atom type in atom list.\n",
    "\n",
    "countType=0\n",
    "df.loc[:,\"atomID\"] = df.loc[:,\"atomID\"].astype(int) #convert string to int\n",
    "df.loc[:,\"atomType\"] = df.loc[:,\"atomType\"].astype(int) #convert string to int\n",
    "\n",
    "for index in df.index:\n",
    "  if index in ligands:  \n",
    "    countType+=1\n",
    "    \n",
    "    df.loc[index,\"atomType\"] = '8' #atom type of 302 nodes\n",
    "    \n",
    "#print(df)\n",
    "print(countType)"
   ]
  },
  {
   "cell_type": "code",
   "execution_count": null,
   "metadata": {},
   "outputs": [],
   "source": [
    "for index in df.index:\n",
    "  print(index,'  ',df.loc[index,\"atomType\"])"
   ]
  },
  {
   "cell_type": "code",
   "execution_count": null,
   "metadata": {},
   "outputs": [],
   "source": [
    "#print only the atom type\n",
    "with open(r'C:\\bloodProject\\NP\\NPbonds\\12rcNP\\170randomLigandsAtomID.dat', 'w') as f: \n",
    " for index in df.index:\n",
    "  \n",
    "   original_stdout = sys.stdout # Save a reference to the original standard output\n",
    "   sys.stdout = f # Change the standard output to the file we created.\n",
    "   print(df.loc[index,\"atomType\"])\n",
    "   sys.stdout = original_stdout # Reset the standard output to its original value"
   ]
  },
  {
   "cell_type": "markdown",
   "metadata": {
    "id": "x0Y8Wvb4LUD2"
   },
   "source": [
    "# end of finding random nodes for grafting density of ligands#######"
   ]
  },
  {
   "cell_type": "markdown",
   "metadata": {},
   "source": [
    "# --------------------------------------------------------------------------------------------"
   ]
  },
  {
   "cell_type": "markdown",
   "metadata": {},
   "source": [
    "# Finding Janus nodes for grafting the ligands"
   ]
  },
  {
   "cell_type": "raw",
   "metadata": {},
   "source": [
    "devide the sphere of NP to two hemisphere (just the first outer layer of NP)\n",
    "bc for janus NP we want to have different ligand types on each side of NP"
   ]
  },
  {
   "cell_type": "code",
   "execution_count": null,
   "metadata": {},
   "outputs": [],
   "source": [
    "#atomID_firstLayer_arr.shape\n",
    "count_firstLayer"
   ]
  },
  {
   "cell_type": "code",
   "execution_count": null,
   "metadata": {},
   "outputs": [],
   "source": [
    "for index in atomID_firstLayer_arr: \n",
    "    y=df.loc[index,'y']\n",
    "    print (y)"
   ]
  },
  {
   "cell_type": "code",
   "execution_count": null,
   "metadata": {},
   "outputs": [],
   "source": [
    "hemisphereBead_number=int((count_firstLayer)/2)\n",
    "atomID_upperNodes_arr=np.zeros (hemisphereBead_number) #upper hemisphere of NP\n",
    "atomID_lowerNodes_arr=np.zeros (hemisphereBead_number) #lower hemisphere of NP \n",
    "count1=0\n",
    "count2=0\n",
    "#here since the disc sircumpherence (circlualr surface) has radius in x and y directions we choose the half of its radius in x direction\n",
    "for index in atomID_firstLayer_arr: \n",
    "    x=df.loc[index,'x']\n",
    "    if x>0: #since the middle of disc has x=0 we consider beads above x=0 and below x=0\n",
    "      atomID_upperNodes_arr[count1]=index\n",
    "      count1+=1\n",
    "    if x<0:\n",
    "      atomID_lowerNodes_arr[count2]=index\n",
    "      count2+=1\n",
    "print(count1,'',atomID_upperNodes_arr)\n",
    "#print(count2,'',atomID_lowerNodes_arr)"
   ]
  },
  {
   "cell_type": "code",
   "execution_count": null,
   "metadata": {},
   "outputs": [],
   "source": [
    "#atomID_upperNodes_arr.shape\n",
    "atomID_upperNodes_arr[atomID_upperNodes_arr != 0].shape"
   ]
  },
  {
   "cell_type": "markdown",
   "metadata": {},
   "source": [
    "## ** finding 340 random nodes on the upper nodes and lower nodes (from first layer beads in upper hemisphere) of 12rc NP**\n"
   ]
  },
  {
   "cell_type": "markdown",
   "metadata": {},
   "source": [
    "**find 170 random nodes among 363 atomIDs in the atomID_upperNodes_arr**"
   ]
  },
  {
   "cell_type": "code",
   "execution_count": null,
   "metadata": {},
   "outputs": [],
   "source": [
    "#Random Subsample From a List\n",
    "\t\n",
    "# select a random sample without replacement\n",
    "from random import seed\n",
    "from random import sample\n",
    "# seed random number generator\n",
    "seed(2)\n",
    "atomID_upperNodes_arr=atomID_upperNodes_arr[atomID_upperNodes_arr != 0] #remove extra zeros from array\n",
    "atomID_upperNodes_list= atomID_upperNodes_arr.tolist()\n",
    "upperNodes = sample(atomID_upperNodes_list, 170)# since the sample code does just work with a list and not an array so we converted our array to a list\n",
    "#nodes_atomID = [x+1 for x in nodes] # to add 1 to the nodes indexs bc in data file atomID is 1 more than indexes\n",
    "upperNodes_atomID = [x for x in upperNodes]  \n",
    "\n",
    "print(upperNodes_atomID)"
   ]
  },
  {
   "cell_type": "code",
   "execution_count": null,
   "metadata": {},
   "outputs": [],
   "source": [
    "len(upperNodes_atomID)"
   ]
  },
  {
   "cell_type": "markdown",
   "metadata": {},
   "source": [
    "# ------------------------------------------------------------------"
   ]
  },
  {
   "cell_type": "code",
   "execution_count": null,
   "metadata": {},
   "outputs": [],
   "source": [
    "atomID_lowerNodes_arr[atomID_lowerNodes_arr != 0].shape\n",
    "#print(atomID_lowerNodes_arr)"
   ]
  },
  {
   "cell_type": "markdown",
   "metadata": {},
   "source": [
    " **find 170 random nodes among 363 atomIDs in the atomID_lowerNodes_arr**"
   ]
  },
  {
   "cell_type": "code",
   "execution_count": null,
   "metadata": {},
   "outputs": [],
   "source": [
    "#Random Subsample From a List\n",
    "\t\n",
    "# select a random sample without replacement\n",
    "from random import seed\n",
    "from random import sample\n",
    "# seed random number generator\n",
    "seed(2)\n",
    "atomID_lowerNodes_arr=atomID_lowerNodes_arr[atomID_lowerNodes_arr != 0] #remove extra zeros from array\n",
    "atomID_lowerNodes_list= atomID_lowerNodes_arr.tolist()\n",
    "lowerNodes = sample(atomID_lowerNodes_list, 170)# since the sample code does just work with a list and not an array so we converted our array to a list\n",
    "#nodes_atomID = [x+1 for x in nodes] # to add 1 to the nodes indexs bc in data file atomID is 1 more than indexes\n",
    "lowerNodes_atomID = [x for x in lowerNodes]  \n",
    "\n",
    "print(lowerNodes_atomID)"
   ]
  },
  {
   "cell_type": "code",
   "execution_count": null,
   "metadata": {},
   "outputs": [],
   "source": [
    "len(lowerNodes_atomID)"
   ]
  },
  {
   "cell_type": "code",
   "execution_count": null,
   "metadata": {},
   "outputs": [],
   "source": [
    "#with open('/content/drive/My Drive/Case/nanoBloodProject/brushBox/NP/NPbonds/8rcNP/upperNodes.txt' , 'w') as f: \n",
    "with open(r'C:\\bloodProject\\NP\\NPbonds\\12rcNP\\170janusUpperNodes.txt', 'w') as f:     \n",
    "   \n",
    " original_stdout = sys.stdout # Save a reference to the original standard output\n",
    " sys.stdout = f # Change the standard output to the file we created.\n",
    " print(upperNodes_atomID)\n",
    " sys.stdout = original_stdout # Reset the standard output to its original value"
   ]
  },
  {
   "cell_type": "code",
   "execution_count": null,
   "metadata": {},
   "outputs": [],
   "source": [
    "#with open('/content/drive/My Drive/Case/nanoBloodProject/brushBox/NP/NPbonds/8rcNP/lowerNodes.txt' , 'w') as f: \n",
    "with open(r'C:\\bloodProject\\NP\\NPbonds\\12rcNP\\170janusLowerNodes.txt', 'w') as f:     \n",
    "   \n",
    " original_stdout = sys.stdout # Save a reference to the original standard output\n",
    " sys.stdout = f # Change the standard output to the file we created.\n",
    " print(lowerNodes_atomID)\n",
    " sys.stdout = original_stdout # Reset the standard output to its original value"
   ]
  },
  {
   "cell_type": "code",
   "execution_count": null,
   "metadata": {},
   "outputs": [],
   "source": [
    "# to refresh the data frame (use it when I want to calc seccond grafting density)\n",
    "\n",
    "countType=0\n",
    "df.loc[:,\"atomID\"] = df.loc[:,\"atomID\"].astype(int) #convert string to int\n",
    "df.loc[:,\"atomType\"] = df.loc[:,\"atomType\"].astype(int) #convert string to int\n",
    "\n",
    "for index in df.index:\n",
    "  if index in atomID_firstLayer_arr:  \n",
    "    countType+=1\n",
    "    \n",
    "    df.loc[index,\"atomType\"] = '4' #atom type of 302 nodes\n",
    "    \n",
    "#print(df)\n",
    "print(countType)"
   ]
  },
  {
   "cell_type": "code",
   "execution_count": null,
   "metadata": {},
   "outputs": [],
   "source": [
    "# to  change the janus nodes atom type in atom list.\n",
    "\n",
    "countType=0\n",
    "countType2=0\n",
    "df.loc[:,\"atomID\"] = df.loc[:,\"atomID\"].astype(int) #convert string to int\n",
    "df.loc[:,\"atomType\"] = df.loc[:,\"atomType\"].astype(int) #convert string to int\n",
    "\n",
    "for index in df.index:\n",
    "  if index in upperNodes_atomID:  \n",
    "    countType+=1\n",
    "    \n",
    "    df.loc[index,\"atomType\"] = '7' #atom type of 302 nodes\n",
    "    \n",
    "  if index in lowerNodes_atomID:  \n",
    "    countType2+=1\n",
    "    \n",
    "    df.loc[index,\"atomType\"] = '8' #atom type of 302 nodes\n",
    "#print(df)\n",
    "print(countType)"
   ]
  },
  {
   "cell_type": "code",
   "execution_count": null,
   "metadata": {},
   "outputs": [],
   "source": [
    "for index in df.index:\n",
    "  print(index,'  ',df.loc[index,\"atomType\"])"
   ]
  },
  {
   "cell_type": "code",
   "execution_count": null,
   "metadata": {},
   "outputs": [],
   "source": [
    "#print only the atom type\n",
    "#with open('/content/drive/My Drive/Case/nanoBloodProject/brushBox/NP/NPbonds/8rcNP/atomTypeNodes3.dat', 'w') as f: \n",
    "with open(r'C:\\bloodProject\\NP\\NPbonds\\12rcNP\\340Lig12rcNPJanusAtomType.dat', 'w') as f:  \n",
    " for index in df.index:\n",
    "  \n",
    "   original_stdout = sys.stdout # Save a reference to the original standard output\n",
    "   sys.stdout = f # Change the standard output to the file we created.\n",
    "   print(df.loc[index,\"atomType\"])\n",
    "   sys.stdout = original_stdout # Reset the standard output to its original value"
   ]
  },
  {
   "cell_type": "markdown",
   "metadata": {},
   "source": [
    "# end of finding janus nodes for grafting density of ligands#######"
   ]
  },
  {
   "cell_type": "markdown",
   "metadata": {},
   "source": [
    "# ============================================================="
   ]
  },
  {
   "cell_type": "markdown",
   "metadata": {
    "id": "q8_WnA6TM7MO"
   },
   "source": [
    "-------------------------------------------------\n",
    "## **find second outer layer**"
   ]
  },
  {
   "cell_type": "code",
   "execution_count": null,
   "metadata": {
    "colab": {
     "base_uri": "https://localhost:8080/"
    },
    "executionInfo": {
     "elapsed": 481,
     "status": "ok",
     "timestamp": 1617913517578,
     "user": {
      "displayName": "Saeed Akbari Shandiz",
      "photoUrl": "https://lh3.googleusercontent.com/a-/AOh14Gj_ltTfyzFcj-EidKK-RDh3G-RSeGnX-lq1mmA5=s64",
      "userId": "18254360833802486461"
     },
     "user_tz": 240
    },
    "id": "c4k0L9WNTOD3",
    "outputId": "edac9155-6a9b-4303-ccce-3c881bf57a30"
   },
   "outputs": [],
   "source": [
    "atomID_other_arr.shape\n",
    "atomID_firstLayer_arr.shape\n",
    "len(atomID_other_arr)\n",
    "atom_counter\n",
    "counter"
   ]
  },
  {
   "cell_type": "code",
   "execution_count": null,
   "metadata": {},
   "outputs": [],
   "source": [
    "Xmsd=np.zeros ((atom_counter,atom_counter))# make 2D arrays\n",
    "Ymsd=np.zeros ((atom_counter,atom_counter))\n",
    "Zmsd=np.zeros ((atom_counter,atom_counter))\n",
    "#Rmsd=np.zeros ((atom_counter,atom_counter))\n",
    "Rmsd=np.zeros ((atom_counter+1,atom_counter+1)) # bc of last rmsd for second layer of outer layer\n",
    "# #double array bc we want compare distances for each i and j  with each other\n",
    "\n",
    "j=0\n",
    "i=0\n",
    "bonded_beads_Second_Outer=np.zeros(counter_bond)\n",
    "counter2=0\n",
    "counter_bond2=0 # to count total number of  bonds\n",
    "\n",
    "df.loc[:,'x'] = df.loc[:,'x'].astype(float) #convert string to foat for x , y , z \n",
    "df.loc[:,'y'] = df.loc[:,'y'].astype(float)\n",
    "df.loc[:,'z'] = df.loc[:,'z'].astype(float)\n",
    "\n",
    "bondedBeads_secondLayer=np.zeros((atom_counter+1,atom_counter+1,maximum_bond+1))\n",
    "#bondedBeads_secondLayer=np.zeros((len(atomID_other_arr),len(atomID_other_arr),len(atomID_firstLayer_arr)))\n",
    "#bondedBeads_secondLayer=np.zeros((1,1,1))"
   ]
  },
  {
   "cell_type": "code",
   "execution_count": null,
   "metadata": {
    "colab": {
     "base_uri": "https://localhost:8080/",
     "height": 247
    },
    "executionInfo": {
     "elapsed": 563,
     "status": "error",
     "timestamp": 1617913626697,
     "user": {
      "displayName": "Saeed Akbari Shandiz",
      "photoUrl": "https://lh3.googleusercontent.com/a-/AOh14Gj_ltTfyzFcj-EidKK-RDh3G-RSeGnX-lq1mmA5=s64",
      "userId": "18254360833802486461"
     },
     "user_tz": 240
    },
    "id": "tyKgxUVyeJvw",
    "outputId": "0fbc403d-b8f2-4f71-8da0-3c2c7b9b6387"
   },
   "outputs": [],
   "source": [
    "#find distance between the beads of other beads and beads of first outer layer\n",
    "# if distance is equal to bond distance put the atom ID in an array\n",
    "# convert 3D array to 1D\n",
    "\n",
    "for i in atomID_other_arr[:].astype(int):\n",
    "  counter=0\n",
    "  for j in atomID_firstLayer_arr[:].astype(int): #is the number itself in the array and not the index of the numbers in the array \n",
    "      \n",
    "    dx=df.loc[j,'x']-df.loc[i,'x']\n",
    "    dy=df.loc[j,'y']-df.loc[i,'y']\n",
    "    dz=df.loc[j,'z']-df.loc[i,'z']\n",
    "\n",
    "    Xmsd[i,j]+=np.power(dx,2)\n",
    "    Ymsd[i,j]+=np.power(dy,2)\n",
    "    Zmsd[i,j]+=np.power(dz,2)\n",
    "        \n",
    "    #distance of all beads from each other without repeating 2-1 after calc distance of 1-2. it is distance of 3 and 4 and is not distance 3 ordistance of 4. Rmsd[3,4] and not Rmsd[3] or Rmsd[4]\n",
    "    Rmsd[i,j]=math.sqrt(Xmsd[i,j]+Ymsd[i,j]+ Zmsd[i,j]);\n",
    "\n",
    "\n",
    "\n",
    "    if round(Rmsd[i,j],4) == round(smallest_bead_distance,4):\n",
    "       \n",
    "       counter_bond2+=1\n",
    "       counter+=1   # thank GOD instead of making another for loop to go through the 4 bonded beads we used this counter annd it will only save bonded beads in the array              \n",
    "       bondedBeads_secondLayer[i][j][counter]= i  # here i and j are atomIDs in the arrays and not just index of array so we do not need to again find the atomID of this atomIDs\n",
    "       #print(counter,'   ',bondedBeads_secondLayer[i][j][counter])\n",
    "       \n",
    "\n",
    "       if bondedBeads_secondLayer[i][j][counter] != 0:\n",
    "      \n",
    "         bonded_beads_Second_Outer[counter2] = bondedBeads_secondLayer[i][j][counter]  #convert 2D to 1D array Thank GOD!\n",
    "         counter2+=1\n",
    "      \n",
    "       #print(counter_bond2,'   ',bonded_beads_Second_Outer) # for atomID= 4\n",
    "       print(counter2,'   ',bonded_beads_Second_Outer) # for atomID= 4"
   ]
  },
  {
   "cell_type": "code",
   "execution_count": null,
   "metadata": {
    "colab": {
     "base_uri": "https://localhost:8080/"
    },
    "executionInfo": {
     "elapsed": 477,
     "status": "ok",
     "timestamp": 1614302073166,
     "user": {
      "displayName": "Saeed Akbari Shandiz",
      "photoUrl": "https://lh3.googleusercontent.com/a-/AOh14Gj_ltTfyzFcj-EidKK-RDh3G-RSeGnX-lq1mmA5=s64",
      "userId": "18254360833802486461"
     },
     "user_tz": 300
    },
    "id": "Ip5m9WN7eRJC",
    "outputId": "e3c341ff-bd08-4349-fe4f-a8ebe3ef34c6"
   },
   "outputs": [],
   "source": [
    "bonded_beads_Second_Outer"
   ]
  },
  {
   "cell_type": "code",
   "execution_count": null,
   "metadata": {
    "colab": {
     "base_uri": "https://localhost:8080/"
    },
    "executionInfo": {
     "elapsed": 506,
     "status": "ok",
     "timestamp": 1614302126906,
     "user": {
      "displayName": "Saeed Akbari Shandiz",
      "photoUrl": "https://lh3.googleusercontent.com/a-/AOh14Gj_ltTfyzFcj-EidKK-RDh3G-RSeGnX-lq1mmA5=s64",
      "userId": "18254360833802486461"
     },
     "user_tz": 300
    },
    "id": "hKmtZoPOeY8q",
    "outputId": "50cde61c-1da1-40f1-87a7-811718fdb905"
   },
   "outputs": [],
   "source": [
    "# to find beads other than first outer layer of beads  and change their atom type in atom list.\n",
    "\n",
    "df.loc[:,\"atomType\"] = df.loc[:,\"atomType\"].astype(int) #convert string to int\n",
    "counter=0\n",
    " \n",
    "for index in atomID_other_arr.astype(int): \n",
    "    counter+=1\n",
    "    \n",
    "    df.loc[index,\"atomType\"] = '3'\n",
    "   \n",
    "print(df)\n",
    "print(counter)"
   ]
  },
  {
   "cell_type": "code",
   "execution_count": null,
   "metadata": {
    "colab": {
     "base_uri": "https://localhost:8080/"
    },
    "executionInfo": {
     "elapsed": 1207,
     "status": "ok",
     "timestamp": 1614302141649,
     "user": {
      "displayName": "Saeed Akbari Shandiz",
      "photoUrl": "https://lh3.googleusercontent.com/a-/AOh14Gj_ltTfyzFcj-EidKK-RDh3G-RSeGnX-lq1mmA5=s64",
      "userId": "18254360833802486461"
     },
     "user_tz": 300
    },
    "id": "l-7KvoLlesXA",
    "outputId": "08f51f10-6d41-4216-a184-e2a68db9c3a3"
   },
   "outputs": [],
   "source": [
    "# to find beads that have bonds with the first outer layer of beads (find the second outer layer) and change their atom type in atom list.\n",
    "\n",
    "df.loc[:,\"atomType\"] = df.loc[:,\"atomType\"].astype(int) #convert string to int\n",
    "counter=0\n",
    "\n",
    "for index in bonded_beads_Second_Outer.astype(int):  \n",
    " #if index != 0:\n",
    "    counter+=1\n",
    "    \n",
    "    df.loc[index,\"atomType\"] = '4'\n",
    "    \n",
    "print(df)\n",
    "print(counter)"
   ]
  },
  {
   "cell_type": "code",
   "execution_count": null,
   "metadata": {
    "colab": {
     "base_uri": "https://localhost:8080/"
    },
    "executionInfo": {
     "elapsed": 483,
     "status": "ok",
     "timestamp": 1614302145720,
     "user": {
      "displayName": "Saeed Akbari Shandiz",
      "photoUrl": "https://lh3.googleusercontent.com/a-/AOh14Gj_ltTfyzFcj-EidKK-RDh3G-RSeGnX-lq1mmA5=s64",
      "userId": "18254360833802486461"
     },
     "user_tz": 300
    },
    "id": "fx4wki8mYVhi",
    "outputId": "ca78f3c0-88c5-4c52-883c-fb675a69a4af"
   },
   "outputs": [],
   "source": [
    "for index in df.index:\n",
    "  print(df.loc[index,\"atomType\"])"
   ]
  },
  {
   "cell_type": "markdown",
   "metadata": {},
   "source": [
    "# here I have second method of finding second outer layer which is essential for large NP"
   ]
  },
  {
   "cell_type": "code",
   "execution_count": null,
   "metadata": {},
   "outputs": [],
   "source": [
    "#Thank GOD! here we check the distance of beads of first layer ( in the atomID_arr) with other beads and if the distance is the smallest distance it means they have bond so we could find bead that have bond with first layer beads\n",
    "# then put the beads of second layer in an array\n",
    "bonded_beads=np.zeros((atom_counter,atom_counter))\n",
    "bonded_beads_4=np.zeros((atom_counter,atom_counter))\n",
    "\n",
    "counter_bond=0 # to count total number of  bonds\n",
    "index=0\n",
    "i=0\n",
    "\n",
    "#for index in atomID_arr[:].astype(int): #is the number itself in the array and not the index of the numbers in the array\n",
    "  #counter=0\n",
    "  #for i in range(0, atom_counter-1):\n",
    "for i in range(0, atom_counter):\n",
    "  counter=0\n",
    "  for index in atomID_firstLayer_arr[:].astype(int): #is the number itself in the array and not the index of the numbers in the array     \n",
    "   \n",
    "    #if round(Rmsd[index,i],4) == smallest_bead_distance:\n",
    "    if round(Rmsd[i,index],4) == round(smallest_bead_distance,4):\n",
    "       \n",
    "       counter_bond+=1\n",
    "       counter+=1   # thank GOD instead of making another for loop to go through the 4 bonded beads we used this counter annd it will only save bonded beads in the array\n",
    "      \n",
    "       \n",
    "       #bonded_beads [index][i]= df.loc[i,'atomID']  # to save the atomID of beads that have least distance with a bead, in an array for that bead\n",
    "       #bonded_beads_4[index][counter]=bonded_beads[index][i]\n",
    "       \n",
    "       bonded_beads [i][index]= df.loc[i,'atomID']  # to save the atomID of beads that have least distance with a bead, in an array for that bead\n",
    "       bonded_beads_4[i][counter]=bonded_beads[i][index]\n",
    "       \n",
    "       \n",
    "       \n",
    "      #here index is atomID\n",
    "       #print(index)\n",
    "       #print(counter_bond,'  ',index,'  ',counter)\n",
    "       print(counter_bond,'  ',i,'  ',counter,'  ',int(bonded_beads_4[i][counter]))"
   ]
  },
  {
   "cell_type": "code",
   "execution_count": null,
   "metadata": {},
   "outputs": [],
   "source": [
    "#convert 2D to 1D array Thank GOD!\n",
    "\n",
    "#bonded_beads_Second=np.zeros((496,5))\n",
    "#bonded_beads_Second_Outer=np.zeros(495)\n",
    "bonded_beads_Second_Outer=np.zeros(counter_bond)\n",
    "counter=0\n",
    "\n",
    "for i in range (0, atom_counter):\n",
    "  for j in range (1,5):\n",
    "    if bonded_beads_4[i,j] != 0:\n",
    "      \n",
    "      #if i in bonded_beads_4:\n",
    "      #bonded_beads_Second[counter,j] = bonded_beads_4[i,j]\n",
    "      bonded_beads_Second_Outer[counter] = bonded_beads_4[i,j]  #convert 2D to 1D array Thank GOD!\n",
    "      counter+=1\n",
    "      #print(counter)\n",
    "      print(counter,'   ',bonded_beads_Second_Outer) # for atomID= 4"
   ]
  },
  {
   "cell_type": "code",
   "execution_count": null,
   "metadata": {},
   "outputs": [],
   "source": [
    "bonded_beads_Second_Outer.shape"
   ]
  },
  {
   "cell_type": "code",
   "execution_count": null,
   "metadata": {},
   "outputs": [],
   "source": [
    "# to find beads that have bonds with the last outer layer of beads (find the second outer layer) and change their atom type in atom list.\n",
    "\n",
    "df.loc[:,\"atomType\"] = df.loc[:,\"atomType\"].astype(int) #convert string to int\n",
    "\n",
    "#for index in range (1,atom_counter):\n",
    "   #if index in bonded_beads_Second_Outer:\n",
    "for index in bonded_beads_Second_Outer.astype(int):   \n",
    "  #if (index).any != 0 :\n",
    "    #print(index)\n",
    "    #df.loc[index,\"atomType\"] = df.loc[index,\"atomType\"]+1\n",
    "    df.loc[index,\"atomType\"] = '2'\n",
    "   \n",
    "print(df)"
   ]
  },
  {
   "cell_type": "code",
   "execution_count": null,
   "metadata": {
    "id": "YOHa1NheezCC"
   },
   "outputs": [],
   "source": [
    "with open('/content/drive/My Drive/Case/nanoBloodProject/brushBox/NP/NPbonds/8rcNP/atomTypeSecondOuterLayer2.dat', 'w') as f: \n",
    "  counter=0 \n",
    "  for index in df.index:\n",
    "    #if df.loc[index,\"atomType\"] =='2':\n",
    "      #counter+=1\n",
    "\n",
    "      original_stdout = sys.stdout # Save a reference to the original standard output\n",
    "      sys.stdout = f # Change the standard output to the file we created.\n",
    "      print(df.loc[index,\"atomType\"])\n",
    "      #print(counter,'  ',index,'  ',df.loc[index,\"atomType\"])\n",
    "      sys.stdout = original_stdout # Reset the standard output to its original value"
   ]
  },
  {
   "cell_type": "code",
   "execution_count": null,
   "metadata": {
    "id": "_Do51Wqve6hp"
   },
   "outputs": [],
   "source": [
    "#to write data frame to a file\n",
    "df.to_csv('/content/drive/My Drive/Case/nanoBloodProject/brushBox/NP/NPbonds/8rcNP/dataFrameSecondOuterLayer.dat', mode='w',  sep=\" \", header=False)"
   ]
  }
 ],
 "metadata": {
  "colab": {
   "collapsed_sections": [],
   "name": "ThankGODfinal!RealRandomGraftingNodes24%20712rcNPcorrectBondsCorrSecOutLayer(5).ipynb",
   "provenance": [
    {
     "file_id": "1tVyYnmW8sUOju_xx574pvsYJEYdzZA2c",
     "timestamp": 1617913853961
    },
    {
     "file_id": "1frbOlFCfLEWm2nPg-kNaByGqi3FHrWx0",
     "timestamp": 1614277129023
    },
    {
     "file_id": "1Pvq8fDJw3GON3JT8TOA-uM0wR9FzDWxl",
     "timestamp": 1614270443979
    },
    {
     "file_id": "1_G0Wn9kbEAwJCIU9IDs_6Iw5e_5d8DgA",
     "timestamp": 1614186392630
    },
    {
     "file_id": "1VGlEAQDdytHjU6P5E9408GUvHKJ2z8k6",
     "timestamp": 1613693791600
    },
    {
     "file_id": "1CGemgS0wpT5j3TUxQxQsk-0LkE5NfKMI",
     "timestamp": 1604611476863
    },
    {
     "file_id": "1R1DkBcKnU0pzi0vpRQREsttYnKPIqTlY",
     "timestamp": 1604608327338
    },
    {
     "file_id": "1Y4DlDfD85z5RuJhjaANGteebq13MFP2O",
     "timestamp": 1604585723273
    },
    {
     "file_id": "1Ue-eNAA2p7fp3SlIPQr6X_nmPOJZsUEE",
     "timestamp": 1604580561103
    },
    {
     "file_id": "1uK685688GQmMZiZIpdpBI1qtKdhyzCci",
     "timestamp": 1604508362382
    },
    {
     "file_id": "1ITWn2fMQ-XYpdG-PqKrL1xQ9O6mGtsPj",
     "timestamp": 1604504666646
    },
    {
     "file_id": "19mIDhsuk4WQ0nwEyUVfYWjov8u0r8nPL",
     "timestamp": 1604441897582
    },
    {
     "file_id": "1TjBEk_PCVtFVdNJilogHPCqPwsIi74Qc",
     "timestamp": 1604425461832
    },
    {
     "file_id": "1UQ_QaZsUMHFfD3scilljPDTFM5snJQ5e",
     "timestamp": 1604409540195
    },
    {
     "file_id": "1o30bzd0qDpIl9Qb2Uj55YDo_doW9iHa3",
     "timestamp": 1604405927270
    },
    {
     "file_id": "1vXESRFkX57HrhVX-IK2VH-I9SkdEDxHS",
     "timestamp": 1604100241356
    },
    {
     "file_id": "1hk7GPkCcZbkmcqU7-9agToFyfX-jh2Pc",
     "timestamp": 1604061875674
    },
    {
     "file_id": "18AiAochvBQtobp_94P9GzsnICRG-_4ov",
     "timestamp": 1603201962431
    },
    {
     "file_id": "1rGcKSTs3-CKZax7XBe2gjC_zN2zTmLjT",
     "timestamp": 1603196723950
    },
    {
     "file_id": "16OK61BPqUz7O6d7zzqGb39awzomrgEi4",
     "timestamp": 1602589890342
    },
    {
     "file_id": "1HeOx6-HlsO8ypYAjmHqOmnyvQRHjuGQk",
     "timestamp": 1602522748351
    },
    {
     "file_id": "1yie1W2kECkqWw5Kd6-g8QJyG0HxwP2fL",
     "timestamp": 1602277923350
    },
    {
     "file_id": "1-bCberbGCNN_3lSWehvykRFgXYE36je1",
     "timestamp": 1602258963028
    },
    {
     "file_id": "1vJbTZ8d-GpUis2ekcGOHkBWxFlJlthJv",
     "timestamp": 1602184820269
    },
    {
     "file_id": "16kxYMWh3IfwkLwaonypmdXueAIeuC1hd",
     "timestamp": 1602172102675
    },
    {
     "file_id": "1KDbaRCq9FNO7Qk8pF1oRYTPcA8QHDoen",
     "timestamp": 1602031980529
    },
    {
     "file_id": "16E-mdP9LlvTDWI3vssaR2hZRIrlTEGSl",
     "timestamp": 1601649715833
    },
    {
     "file_id": "1NHKY6N82F_SDx7EQEGXyok8QgEykJniw",
     "timestamp": 1601645834817
    },
    {
     "file_id": "1rhp4B3g57vWhXEzeEsdIofOPaCJI7s8w",
     "timestamp": 1601592019289
    },
    {
     "file_id": "1YGsKtV42WwRHpVbQvKHyEK_th6kst1LW",
     "timestamp": 1601575018109
    },
    {
     "file_id": "1eHN9afSwtksvmcefJMF5QF8OYI_hVams",
     "timestamp": 1601497309779
    }
   ]
  },
  "kernelspec": {
   "display_name": "Python 3",
   "language": "python",
   "name": "python3"
  },
  "language_info": {
   "codemirror_mode": {
    "name": "ipython",
    "version": 3
   },
   "file_extension": ".py",
   "mimetype": "text/x-python",
   "name": "python",
   "nbconvert_exporter": "python",
   "pygments_lexer": "ipython3",
   "version": "3.7.3"
  }
 },
 "nbformat": 4,
 "nbformat_minor": 1
}
