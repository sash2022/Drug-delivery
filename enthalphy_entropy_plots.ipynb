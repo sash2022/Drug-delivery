{
 "cells": [
  {
   "cell_type": "markdown",
   "metadata": {
    "id": "607b5383"
   },
   "source": [
    "this is for reading the columns of entropy and add entropy of all atoms together in each frame to have the total entropy in that frame"
   ]
  },
  {
   "cell_type": "code",
   "execution_count": null,
   "metadata": {
    "id": "a8e99a83"
   },
   "outputs": [],
   "source": [
    "import math\n",
    "import collections\n",
    "\n",
    "import numpy as np\n",
    "import pandas as pd\n",
    "import matplotlib.pyplot as pp\n",
    "\n",
    "%matplotlib inline"
   ]
  },
  {
   "cell_type": "code",
   "execution_count": null,
   "metadata": {
    "id": "a036a2d7"
   },
   "outputs": [],
   "source": [
    "#read all parameters of header\n",
    "timeSteps=[]\n",
    "boxDim=[]\n",
    "l=[]\n",
    "num_frame=0\n",
    "#with open(r'C:\\bloodProject\\NP\\5937beads\\np2.dat') as fp:   # to read lines if atomlist after \"Atoms\"\n",
    "#with open('/content/drive/My Drive/Case/nanoBloodProject/MSD/16rc/janus8rcNp/EG-lig118.1/nvt2') as fp:\n",
    "with open(r'C:\\vmd\\dumpN.lammpstrj') as fp:\n",
    "\n",
    "        for line in fp:\n",
    "            if 'ITEM: TIMESTEP' in line:                                         \n",
    "                for line in fp: # now you are at the lines you want\n",
    "                    if 'ITEM: NUMBER OF ATOMS' in line: \n",
    "                     break \n",
    "                   \n",
    "                    line=line.rstrip()# to remove any white spaces at the end of the string                  \n",
    "                    #\n",
    "                    timeSteps.append(line)# add the string in to the list\n",
    "                    num_frame+=1\n",
    "                    \n",
    "\n",
    "            if 'ITEM: NUMBER OF ATOMS' in line:                                         \n",
    "                for line in fp: # now you are at the lines you want\n",
    "                    if 'ITEM: BOX BOUNDS' in line: \n",
    "                     break \n",
    "                   \n",
    "                    line=line.rstrip()# to remove any white spaces at the end of the string                  \n",
    "                    #\n",
    "                    num_atom=int(line)  \n",
    "\n",
    "            if 'ITEM: BOX BOUNDS' in line:                                         \n",
    "                for line in fp: # now you are at the lines you want\n",
    "                    if 'ITEM: ATOMS' in line: \n",
    "                     break \n",
    "  \n",
    "                       \n",
    "                    line = line.split()\n",
    "                    boxDim.append(line[:])"
   ]
  },
  {
   "cell_type": "code",
   "execution_count": null,
   "metadata": {
    "id": "a4f6cb44"
   },
   "outputs": [],
   "source": [
    "#read coordinate part\n",
    "time_counter=0\n",
    "lines=[]\n",
    "\n",
    "#df.loc[:,'x'] = df.loc[:,'x'].astype(float)\n",
    "#with open('/content/drive/My Drive/Case/nanoBloodProject/MSD/16rc/janus8rcNp/EG-lig118.1/nvt2') as fp:\n",
    "#with open('/content/drive/My Drive/Case/nanoBloodProject/MSD/16rc/homo8rcNp/nvt') as fp:\n",
    "with open(r'C:\\vmd\\dumpN.lammpstrj') as fp:  \n",
    "       \n",
    "       for line in fp:\n",
    "            atom_counter=0\n",
    "            \n",
    "            if 'ITEM: ATOMS' in line:\n",
    "                time_counter+=1                                         \n",
    "                \n",
    "                for line in fp: # now you are at the lines you want\n",
    "                    atom_counter+=1\n",
    "\n",
    "                    #x(time_counter,atom_counter)=df.loc[line,'x'] \n",
    "                                        \n",
    "                    if 'ITEM: TIMESTEP' in line: \n",
    "                     break \n",
    "                    \n",
    "                    \n",
    "                    line=line.rstrip()# to remove any white spaces at the end of the string                  \n",
    "                    lines.append(line)# add the string in to the list\n",
    "                    #lines[time_counter][atom_counter]=line# add the string in to the list\n",
    "                    #print(line)\n",
    "                    "
   ]
  },
  {
   "cell_type": "code",
   "execution_count": null,
   "metadata": {
    "id": "d7b18c5b",
    "outputId": "b912542d-8825-468e-99da-9196687ed58e"
   },
   "outputs": [],
   "source": [
    "num_frame\n"
   ]
  },
  {
   "cell_type": "code",
   "execution_count": null,
   "metadata": {
    "id": "7281a755"
   },
   "outputs": [],
   "source": [
    "#remove empty lines from the list\n",
    "while(\"\" in lines) : \n",
    "    lines.remove(\"\") "
   ]
  },
  {
   "cell_type": "code",
   "execution_count": null,
   "metadata": {
    "id": "529f7e2e",
    "outputId": "e9afe849-ba04-404c-e8fe-37d0b7c90e9d"
   },
   "outputs": [],
   "source": [
    "#data frame for the whole dump file without separating by frame\n",
    "df=pd.DataFrame(lines, columns=['atomType']) # to make a data frame of pandas from the list and put atomID name on the column\n",
    "df[['atomType','atomID','entropy']] = df.atomType.str.split(expand=True,) # to split one column to multiple columns and allocate name for each column\n",
    "df"
   ]
  },
  {
   "cell_type": "markdown",
   "metadata": {
    "id": "33458040"
   },
   "source": [
    "# very important: to read all lines in the entire dump file( all the lines of all the frames)"
   ]
  },
  {
   "cell_type": "code",
   "execution_count": null,
   "metadata": {
    "id": "2c8f05b0"
   },
   "outputs": [],
   "source": [
    "entropy_Frame=np.zeros((num_frame,num_atom))\n",
    "\n",
    "for i in range (0, num_frame):\n",
    "   \n",
    "   entropy_Frame[i,:]=df.entropy.values[(i*num_atom):((i*num_atom)+num_atom)] #thankGOD! to read x values for each frame and put in an array"
   ]
  },
  {
   "cell_type": "code",
   "execution_count": null,
   "metadata": {
    "id": "3eda1f60"
   },
   "outputs": [],
   "source": [
    "#put the entropy of atoms in a 2D array\n",
    "entropy=np.zeros((num_frame,num_atom))\n",
    "for i in range (0, num_frame):\n",
    "    #print(\"frame\",i)\n",
    "    for j in range (0, num_atom):\n",
    "        entropy_Frame[np.isnan(entropy_Frame)] = 0 #thankGOD! to convert NaN values of entropy to 0\n",
    "        \n",
    "        if entropy_Frame[i,j] != 0:\n",
    "            entropy[i,j]=entropy_Frame[i,j]           \n",
    "            #print (i,j,entropy[i,j])"
   ]
  },
  {
   "cell_type": "code",
   "execution_count": null,
   "metadata": {
    "id": "5f70873e"
   },
   "outputs": [],
   "source": [
    "#put the entropy of atoms in a 2D array and calc sum of the entropy of all of the atoms in each frame ThankGOD!\n",
    "entropy=np.zeros((num_frame,num_atom))\n",
    "sum_entropy_final=np.zeros((num_frame+1))\n",
    "\n",
    "for i in range (0, num_frame):\n",
    "    sum_entropy=np.zeros((num_frame+1))\n",
    "    #print(\"frame\",i)\n",
    "    \n",
    "    for j in range (0, num_atom):\n",
    "        entropy_Frame[np.isnan(entropy_Frame)] = 0 #thankGOD! to convert NaN values of entropy to 0\n",
    "        \n",
    "        if entropy_Frame[i,j] != 0:\n",
    "            entropy[i,j]=entropy_Frame[i,j]           \n",
    "            #print (i,j,entropy[i,j])\n",
    "            sum_entropy[i] +=entropy[i,j]\n",
    "            \n",
    "    #print(sum_entropy[i])\n",
    "    sum_entropy_final[i] = sum_entropy[i]"
   ]
  },
  {
   "cell_type": "markdown",
   "metadata": {
    "id": "8f39e7a9"
   },
   "source": [
    "----------------------------------------------------------------------------------"
   ]
  },
  {
   "cell_type": "code",
   "execution_count": null,
   "metadata": {
    "id": "124d21dc"
   },
   "outputs": [],
   "source": [
    "#for i in range (0, num_frame):\n",
    "    #print(i,sum_entropy_final[i])\n",
    "df = pd.DataFrame(sum_entropy_final)\n",
    "df.to_excel(r'C:\\vmd\\entropy.xlsx')"
   ]
  },
  {
   "cell_type": "markdown",
   "metadata": {
    "id": "21c89106"
   },
   "source": [
    "#thankGOD! correct units "
   ]
  },
  {
   "cell_type": "markdown",
   "metadata": {
    "id": "4241d380"
   },
   "source": [
    " final correct units "
   ]
  },
  {
   "cell_type": "code",
   "execution_count": null,
   "metadata": {
    "id": "9988a5ad",
    "outputId": "f11cbe2a-8e68-4d50-9437-940a1a575bc7"
   },
   "outputs": [],
   "source": [
    "import numpy as np\n",
    "from matplotlib import pyplot as plt\n",
    "import pandas as pd\n",
    "import pylab \n",
    "from matplotlib import rcParams\n",
    "\n",
    "df =pd.ExcelFile(r'C:\\vmd\\entropyRecep_rc1.0_8,12,16rcDisc_sigma0.1.xlsx')# the name of execl file should start with capital word. Rdf is correct but not rdf \n",
    "Sheet1 =pd.read_excel(df,header=0)\n",
    "\n",
    "ax=Sheet1.plot(kind='line', y= '8rc', color='blue', linewidth=1.5, label='8rc')\n",
    "ax.legend()\n",
    "Sheet1.plot(kind='line',   y= '12rc', color='red', linewidth=1.5, label='12rc', ax=ax)\n",
    "#ax=Sheet1.plot(kind='line',   y= 'perpend', color='red', linewidth=0.9, label='perpend')\n",
    "#ax.legend()\n",
    "Sheet1.plot(kind='line',   y= '16rc', color='green', linewidth=1.5, label='16rc', ax=ax)\n",
    "ax.legend()\n",
    "\n",
    "##########################################\n",
    "ax.set_xlabel('time (100ps)')\n",
    "ax.set_ylabel('energy (k)') \n",
    "#ax.set_yscale('log') #to plot in log scale\n",
    "\n",
    "pylab.xlim([1,30])\n",
    "plt.xticks(np.arange(10,31,10)) #the distance of units to be shown in x axis. it starts from 10 to 30 with idistance of 10.thankGOD!\n",
    "pylab.ylim([-20,0.0])# define the range of y coordinate\n",
    "plt.yticks(np.arange(-20,0.1,10))\n",
    "\n",
    "rcParams['font.family'] = 'serif'\n",
    "rcParams['font.sans-serif'] = ['Bitstream Vera Sans']\n",
    "rcParams['font.serif'] = ['Bitstream Vera Sans']\n",
    "rcParams[\"font.size\"] = \"17\"\n",
    "\n",
    "ax.get_legend().remove()\n",
    "\n",
    "plt.rcParams[\"figure.figsize\"] = [5.50, 4.0]\n",
    "plt.rcParams[\"figure.autolayout\"] = True\n",
    "\n",
    "plt.ticklabel_format(axis=\"both\", style=\"plain\", scilimits=(0,0))#show the x and y axis in scientific \n",
    "###########################################\n",
    "\n",
    "plt.savefig(r'C:\\vmd\\entropyRecep_rc1.0_8,12,16rcDisc_sigma0.1(2).png')"
   ]
  },
  {
   "cell_type": "code",
   "execution_count": null,
   "metadata": {
    "id": "2ca65a0c",
    "outputId": "0c46d034-dcc2-4509-b158-4d2fbd676300"
   },
   "outputs": [],
   "source": [
    "import numpy as np\n",
    "from matplotlib import pyplot as plt\n",
    "import pandas as pd\n",
    "import pylab \n",
    "\n",
    "df =pd.ExcelFile(r'C:\\vmd\\entropyN_rc1.0_12rc_bare_rod,disc,sphere_sigma0.1.xlsx')# the name of execl file should start with capital word. Rdf is correct but not rdf \n",
    "Sheet1 =pd.read_excel(df,header=0)\n",
    "\n",
    "ax=Sheet1.plot(kind='line', y= 'rod', color='blue', linewidth=1.5, label='rod')\n",
    "ax.legend()\n",
    "Sheet1.plot(kind='line',  y= 'disc', color='red', linewidth=1.5, label='disc', ax=ax)\n",
    "Sheet1.plot(kind='line',  y= 'sphere', color='green', linewidth=1.5, label='sphere', ax=ax)\n",
    "ax.legend()\n",
    "\n",
    "\n",
    "###########################################\n",
    "ax.set_xlabel('time (100ps)')\n",
    "ax.set_ylabel('energy (k)') \n",
    "#ax.set_yscale('log') #to plot in log scale\n",
    "\n",
    "pylab.xlim([1,30])\n",
    "plt.xticks(np.arange(10,31,10)) #the distance of units to be shown in x axis. it starts from 10 to 30 with idistance of 10.thankGOD!\n",
    "pylab.ylim([-140,0.0])# define the range of y coordinate\n",
    "plt.yticks(np.arange(-140,0.1,20))\n",
    "\n",
    "rcParams['font.family'] = 'serif'\n",
    "rcParams['font.sans-serif'] = ['Bitstream Vera Sans']\n",
    "rcParams['font.serif'] = ['Bitstream Vera Sans']\n",
    "rcParams[\"font.size\"] = \"17\"\n",
    "\n",
    "ax.get_legend().remove()\n",
    "\n",
    "plt.rcParams[\"figure.figsize\"] = [5.50, 4.0]\n",
    "plt.rcParams[\"figure.autolayout\"] = True\n",
    "\n",
    "plt.ticklabel_format(axis=\"both\", style=\"plain\", scilimits=(0,0))#show the x and y axis in scientific mode\n",
    "###########################################\n",
    "\n",
    "\n",
    "plt.savefig(r'C:\\vmd\\entropyN_rc1.0_12rc_bare_rod,disc,sphere_sigma0.1(2).png')"
   ]
  },
  {
   "cell_type": "code",
   "execution_count": null,
   "metadata": {
    "id": "d1c701aa",
    "outputId": "b5f31ed6-ae7e-49e8-c05d-43220323e7f3"
   },
   "outputs": [],
   "source": [
    "import numpy as np\n",
    "from matplotlib import pyplot as plt\n",
    "import pandas as pd\n",
    "import pylab \n",
    "from matplotlib import rcParams\n",
    "import matplotlib\n",
    "\n",
    "df =pd.ExcelFile(r'C:\\vmd\\entropyN_perpend,parallel.xlsx')# the name of execl file should start with capital word. Rdf is correct but not rdf \n",
    "Sheet1 =pd.read_excel(df,header=0)\n",
    "\n",
    "ax=Sheet1.plot(kind='line', y= 'perpend', color='red', linewidth=1.5, label='perpendicular')\n",
    "ax.legend()\n",
    "#Sheet1.plot(kind='line', y= '45degree', color='red', linewidth=1.5, label='45˚', ax=ax)\n",
    "\n",
    "#ax=Sheet1.plot(kind='line', y= '45degree', color='red', linewidth=0.5, label='45degree')\n",
    "#ax.legend()\n",
    "\n",
    "#Sheet1.plot(kind='line', y= '(-)45degree', color='green', linewidth=1.5, label='135˚', ax=ax)\n",
    "#Sheet1.plot(kind='line', y= '(-)perpend', color='orange', linewidth=1.5, label='180˚', ax=ax)\n",
    "Sheet1.plot(kind='line', y= 'parallel', color='green', linewidth=1.5, label='parallel', ax=ax)\n",
    "ax.legend()\n",
    "\n",
    "##########################################\n",
    "ax.set_xlabel('time (100ps)')\n",
    "ax.set_ylabel('energy (k)') \n",
    "#ax.set_yscale('log') #to plot in log scale\n",
    "\n",
    "pylab.xlim([1,30])\n",
    "plt.xticks(np.arange(10,31,10)) #the distance of units to be shown in x axis. it starts from 10 to 30 with idistance of 10.thankGOD!\n",
    "pylab.ylim([-30,0.0])# define the range of y coordinate\n",
    "plt.yticks(np.arange(-30,0.1,10))\n",
    "\n",
    "rcParams['font.family'] = 'serif'\n",
    "rcParams['font.sans-serif'] = ['Bitstream Vera Sans']\n",
    "rcParams['font.serif'] = ['Bitstream Vera Sans']\n",
    "rcParams[\"font.size\"] = \"17\"\n",
    "\n",
    "ax.get_legend().remove()\n",
    "\n",
    "plt.rcParams[\"figure.figsize\"] = [5.50, 4.0]\n",
    "plt.rcParams[\"figure.autolayout\"] = True\n",
    "\n",
    "plt.ticklabel_format(axis=\"both\", style=\"plain\", scilimits=(0,0))#show the x and y axis in scientific \n",
    "###########################################\n",
    "\n",
    "plt.savefig(r'C:\\vmd\\entropyN_perpend,parallel(3).png')"
   ]
  },
  {
   "cell_type": "code",
   "execution_count": null,
   "metadata": {
    "id": "0a372079",
    "outputId": "90fcb1de-156d-417e-dc42-e2dce101dd63"
   },
   "outputs": [],
   "source": [
    "import numpy as np\n",
    "from matplotlib import pyplot as plt\n",
    "import pandas as pd\n",
    "import pylab \n",
    "\n",
    "df =pd.ExcelFile(r'C:\\vmd\\entropyRecep_bare_170_340lig.xlsx')# the name of execl file should start with capital word. Rdf is correct but not rdf \n",
    "Sheet1 =pd.read_excel(df,header=0)\n",
    "\n",
    "ax=Sheet1.plot(kind='line', y= 'bare', color='blue', linewidth=1.5, label='bare')\n",
    "ax.legend()\n",
    "Sheet1.plot(kind='line',  y= '170 lig', color='red', linewidth=1.5, label='170 lig', ax=ax)\n",
    "Sheet1.plot(kind='line',  y= '340 lig', color='green', linewidth=1.5, label='340 lig', ax=ax)\n",
    "ax.legend()\n",
    "\n",
    "\n",
    "###########################################\n",
    "ax.set_xlabel('time (100ps)')\n",
    "ax.set_ylabel('energy (k)') \n",
    "#ax.set_yscale('log') #to plot in log scale\n",
    "\n",
    "pylab.xlim([5,30])\n",
    "plt.xticks(np.arange(10,31,10)) #the distance of units to be shown in x axis. it starts from 10 to 30 with idistance of 10.thankGOD!\n",
    "pylab.ylim([-5,0.0])# define the range of y coordinate\n",
    "plt.yticks(np.arange(-5,0.1,1))\n",
    "\n",
    "rcParams['font.family'] = 'serif'\n",
    "rcParams['font.sans-serif'] = ['Bitstream Vera Sans']\n",
    "rcParams['font.serif'] = ['Bitstream Vera Sans']\n",
    "rcParams[\"font.size\"] = \"17\"\n",
    "\n",
    "ax.get_legend().remove()\n",
    "\n",
    "plt.rcParams[\"figure.figsize\"] = [5.50, 4.0]\n",
    "plt.rcParams[\"figure.autolayout\"] = True\n",
    "\n",
    "plt.ticklabel_format(axis=\"both\", style=\"plain\", scilimits=(0,0))#show the x and y axis in scientific mode\n",
    "###########################################\n",
    "\n",
    "\n",
    "plt.savefig(r'C:\\vmd\\entropyRecep_bare_170_340lig(2).png')"
   ]
  },
  {
   "cell_type": "code",
   "execution_count": null,
   "metadata": {
    "id": "OYU4_5Tz9gNu"
   },
   "outputs": [],
   "source": [
    "import numpy as np\n",
    "from matplotlib import pyplot as plt\n",
    "import pandas as pd\n",
    "import pylab \n",
    "\n",
    "df =pd.ExcelFile(r'C:\\vmd\\pot_energy_12rc_bare.xlsx')# the name of execl file should start with capital word. Rdf is correct but not rdf \n",
    "Sheet1 =pd.read_excel(df,header=0)\n",
    "\n",
    "ax=Sheet1.plot(kind='line', y= 'rod', color='blue', linewidth=1.5, label='rod')\n",
    "ax.legend()\n",
    "Sheet1.plot(kind='line',  y= 'disc', color='red', linewidth=1.5, label='disc', ax=ax)\n",
    "Sheet1.plot(kind='line',  y= 'sphere', color='green', linewidth=1.5, label='sphere', ax=ax)\n",
    "ax.legend()\n",
    "\n",
    "\n",
    "###########################################\n",
    "ax.set_xlabel('time (100ps)')\n",
    "ax.set_ylabel('energy (k)') \n",
    "#ax.set_yscale('log') #to plot in log scale\n",
    "\n",
    "pylab.xlim([1,30])\n",
    "plt.xticks(np.arange(10,31,10)) #the distance of units to be shown in x axis. it starts from 10 to 30 with idistance of 10.thankGOD!\n",
    "pylab.ylim([-140,0.0])# define the range of y coordinate\n",
    "plt.yticks(np.arange(-140,0.1,20))\n",
    "\n",
    "rcParams['font.family'] = 'serif'\n",
    "rcParams['font.sans-serif'] = ['Bitstream Vera Sans']\n",
    "rcParams['font.serif'] = ['Bitstream Vera Sans']\n",
    "rcParams[\"font.size\"] = \"17\"\n",
    "\n",
    "ax.get_legend().remove()\n",
    "\n",
    "plt.rcParams[\"figure.figsize\"] = [5.50, 4.0]\n",
    "plt.rcParams[\"figure.autolayout\"] = True\n",
    "\n",
    "plt.ticklabel_format(axis=\"both\", style=\"plain\", scilimits=(0,0))#show the x and y axis in scientific mode\n",
    "###########################################\n",
    "\n",
    "\n",
    "plt.savefig(r'C:\\vmd\\entropyN_rc1.0_12rc_bare_rod,disc,sphere_sigma0.1(2).png')"
   ]
  }
 ],
 "metadata": {
  "colab": {
   "provenance": []
  },
  "kernelspec": {
   "display_name": "Python 3",
   "language": "python",
   "name": "python3"
  },
  "language_info": {
   "codemirror_mode": {
    "name": "ipython",
    "version": 3
   },
   "file_extension": ".py",
   "mimetype": "text/x-python",
   "name": "python",
   "nbconvert_exporter": "python",
   "pygments_lexer": "ipython3",
   "version": "3.7.3"
  }
 },
 "nbformat": 4,
 "nbformat_minor": 5
}
